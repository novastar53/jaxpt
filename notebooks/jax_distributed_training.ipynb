{
 "cells": [
  {
   "cell_type": "markdown",
   "metadata": {},
   "source": [
    "# Testing Distributed GPU Training using Jax.Pmap"
   ]
  },
  {
   "cell_type": "code",
   "execution_count": 1,
   "metadata": {
    "colab": {
     "base_uri": "https://localhost:8080/"
    },
    "id": "tmnDYyXMLmdP",
    "outputId": "8bacb03b-a733-4492-99ec-d685d06c27b9"
   },
   "outputs": [
    {
     "name": "stdout",
     "output_type": "stream",
     "text": [
      "JAX version: 0.4.30\n",
      "Available devices:\n",
      "cuda:0\n",
      "cuda:1\n",
      "cuda:2\n",
      "cuda:3\n",
      "cuda:4\n",
      "cuda:5\n",
      "cuda:6\n",
      "cuda:7\n",
      "Using device: gpu\n"
     ]
    }
   ],
   "source": [
    "import os\n",
    "\n",
    "import jax\n",
    "import jax.numpy as jnp\n",
    "\n",
    "# Hardware setup\n",
    "print(\"JAX version:\", jax.__version__)\n",
    "devices = jax.devices()\n",
    "print(\"Available devices:\")\n",
    "for d in devices:\n",
    "  print(d)\n",
    "\n",
    "#jax.config.update(\"jax_platform_name\", \"gpu\") # Make sure we're using the GPU\n",
    "#jax.config.update(\"jax_enable_x64\", True) # Make sure the highest precision is enabled in case we need\n",
    "#jax.config.update(\"jax_default_matmul_precision\", \"bfloat16\") # Set the default precision for matrix multiplication\n",
    "\n",
    "#os.environ[\"NVIDIA_TF32_OVERRIDE\"] = \"1\"\n",
    "#os.environ[\"JAX_ENABLE_X64\"] = \"False\"\n",
    "\n",
    "print(\"Using device:\", jax.default_backend())  # Should print 'gpu'"
   ]
  },
  {
   "cell_type": "markdown",
   "metadata": {
    "id": "H37lA4tUMYnn"
   },
   "source": [
    "## Distributed Computation"
   ]
  },
  {
   "cell_type": "code",
   "execution_count": 2,
   "metadata": {
    "colab": {
     "base_uri": "https://localhost:8080/"
    },
    "id": "ACf9uCWJKkl_",
    "outputId": "8409d1a3-ce0b-4ee8-dae1-780fcf4c52e5"
   },
   "outputs": [
    {
     "name": "stdout",
     "output_type": "stream",
     "text": [
      "[[  0   1   4   9]\n",
      " [ 16  25  36  49]\n",
      " [ 64  81 100 121]\n",
      " [144 169 196 225]\n",
      " [256 289 324 361]\n",
      " [400 441 484 529]\n",
      " [576 625 676 729]\n",
      " [784 841 900 961]]\n"
     ]
    }
   ],
   "source": [
    "def f(x):\n",
    "    return x ** 2\n",
    "\n",
    "x = jnp.arange(32).reshape(8, 4)\n",
    "pmap_f = jax.pmap(f)\n",
    "\n",
    "y = pmap_f(x)\n",
    "print(y)"
   ]
  },
  {
   "cell_type": "markdown",
   "metadata": {
    "id": "-m2K1sG7MbI0"
   },
   "source": [
    "## Distributed Training"
   ]
  },
  {
   "cell_type": "code",
   "execution_count": 3,
   "metadata": {
    "colab": {
     "base_uri": "https://localhost:8080/"
    },
    "id": "glAe048UMPCj",
    "outputId": "19a5cbd6-d2df-494a-f83e-7affad4b53a7"
   },
   "outputs": [
    {
     "name": "stdout",
     "output_type": "stream",
     "text": [
      "(8, 128)\n"
     ]
    }
   ],
   "source": [
    "@jax.pmap\n",
    "def forward_pass(x):\n",
    "    return jax.nn.relu(x)\n",
    "\n",
    "x = jnp.ones((8, 128))  # 8 examples\n",
    "y = forward_pass(x)\n",
    "print(y.shape)"
   ]
  }
 ],
 "metadata": {
  "accelerator": "TPU",
  "colab": {
   "authorship_tag": "ABX9TyOn6HMGO0wjDAFrSldCah0x",
   "gpuType": "V28",
   "machine_shape": "hm",
   "provenance": []
  },
  "kernelspec": {
   "display_name": "Python 3 (ipykernel)",
   "language": "python",
   "name": "python3"
  }
 },
 "nbformat": 4,
 "nbformat_minor": 4
}
