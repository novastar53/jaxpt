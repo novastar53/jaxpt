{
  "nbformat": 4,
  "nbformat_minor": 0,
  "metadata": {
    "colab": {
      "provenance": [],
      "machine_shape": "hm",
      "gpuType": "V28",
      "authorship_tag": "ABX9TyOn6HMGO0wjDAFrSldCah0x"
    },
    "kernelspec": {
      "name": "python3",
      "display_name": "Python 3"
    },
    "language_info": {
      "name": "python"
    },
    "accelerator": "TPU"
  },
  "cells": [
    {
      "cell_type": "code",
      "source": [
        "import os\n",
        "\n",
        "import jax\n",
        "import jax.numpy as jnp\n",
        "\n",
        "# Hardware setup\n",
        "print(\"JAX version:\", jax.__version__)\n",
        "devices = jax.devices()\n",
        "print(\"Available devices:\")\n",
        "for d in devices:\n",
        "  print(d)\n",
        "\n",
        "#jax.config.update(\"jax_platform_name\", \"gpu\") # Make sure we're using the GPU\n",
        "#jax.config.update(\"jax_enable_x64\", True) # Make sure the highest precision is enabled in case we need\n",
        "#jax.config.update(\"jax_default_matmul_precision\", \"bfloat16\") # Set the default precision for matrix multiplication\n",
        "\n",
        "#os.environ[\"NVIDIA_TF32_OVERRIDE\"] = \"1\"\n",
        "#os.environ[\"JAX_ENABLE_X64\"] = \"False\"\n",
        "\n",
        "print(\"Using device:\", jax.default_backend())  # Should print 'gpu'"
      ],
      "metadata": {
        "colab": {
          "base_uri": "https://localhost:8080/"
        },
        "id": "tmnDYyXMLmdP",
        "outputId": "8bacb03b-a733-4492-99ec-d685d06c27b9"
      },
      "execution_count": 5,
      "outputs": [
        {
          "output_type": "stream",
          "name": "stdout",
          "text": [
            "JAX version: 0.4.33\n",
            "Available devices:\n",
            "TPU_0(process=0,(0,0,0,0))\n",
            "TPU_1(process=0,(0,0,0,1))\n",
            "TPU_2(process=0,(1,0,0,0))\n",
            "TPU_3(process=0,(1,0,0,1))\n",
            "TPU_4(process=0,(0,1,0,0))\n",
            "TPU_5(process=0,(0,1,0,1))\n",
            "TPU_6(process=0,(1,1,0,0))\n",
            "TPU_7(process=0,(1,1,0,1))\n",
            "Using device: tpu\n"
          ]
        }
      ]
    },
    {
      "cell_type": "markdown",
      "source": [
        "## Distributed Computation"
      ],
      "metadata": {
        "id": "H37lA4tUMYnn"
      }
    },
    {
      "cell_type": "code",
      "execution_count": 6,
      "metadata": {
        "colab": {
          "base_uri": "https://localhost:8080/"
        },
        "id": "ACf9uCWJKkl_",
        "outputId": "8409d1a3-ce0b-4ee8-dae1-780fcf4c52e5"
      },
      "outputs": [
        {
          "output_type": "stream",
          "name": "stdout",
          "text": [
            "[[  0   1   4   9]\n",
            " [ 16  25  36  49]\n",
            " [ 64  81 100 121]\n",
            " [144 169 196 225]\n",
            " [256 289 324 361]\n",
            " [400 441 484 529]\n",
            " [576 625 676 729]\n",
            " [784 841 900 961]]\n"
          ]
        }
      ],
      "source": [
        "def f(x):\n",
        "    return x ** 2\n",
        "\n",
        "x = jnp.arange(32).reshape(8, 4)\n",
        "pmap_f = jax.pmap(f)\n",
        "\n",
        "y = pmap_f(x)\n",
        "print(y)"
      ]
    },
    {
      "cell_type": "markdown",
      "source": [
        "## Distributed Training"
      ],
      "metadata": {
        "id": "-m2K1sG7MbI0"
      }
    },
    {
      "cell_type": "code",
      "source": [
        "@jax.pmap\n",
        "def forward_pass(x):\n",
        "    return jax.nn.relu(x)\n",
        "\n",
        "x = jnp.ones((8, 128))  # 8 examples\n",
        "y = forward_pass(x)\n",
        "print(y.shape)"
      ],
      "metadata": {
        "colab": {
          "base_uri": "https://localhost:8080/"
        },
        "id": "glAe048UMPCj",
        "outputId": "19a5cbd6-d2df-494a-f83e-7affad4b53a7"
      },
      "execution_count": 7,
      "outputs": [
        {
          "output_type": "stream",
          "name": "stdout",
          "text": [
            "(8, 128)\n"
          ]
        }
      ]
    },
    {
      "cell_type": "markdown",
      "source": [
        "### Test Devices\n"
      ],
      "metadata": {
        "id": "PSWzQ1EpOADA"
      }
    }
  ]
}