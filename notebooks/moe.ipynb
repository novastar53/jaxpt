{
  "cells": [
    {
      "cell_type": "code",
      "execution_count": 1,
      "metadata": {
        "colab": {
          "base_uri": "https://localhost:8080/"
        },
        "id": "zEYRLk-ZmjYB",
        "outputId": "5dda81d8-f8e7-4187-e398-ee08975747cc"
      },
      "outputs": [
        {
          "name": "stdout",
          "output_type": "stream",
          "text": [
            "Running on darwin\n",
            "/Users/vikram/dev/jaxpt/src\n"
          ]
        }
      ],
      "source": [
        "from typing import Literal\n",
        "\n",
        "import os\n",
        "\n",
        "os.environ[\"XLA_FLAGS\"] = '--xla_force_host_platform_device_count=4'\n",
        "\n",
        "import jax\n",
        "\n",
        "platform : Literal[\"darwin\", \"colab\", \"cuda\", \"tpu\"] = \"darwin\"\n",
        "\n",
        "try:\n",
        "    import google.colab\n",
        "    platform = \"colab\"\n",
        "except ImportError:\n",
        "    devices = jax.devices()\n",
        "    if any(d.platform == \"gpu\" for d in devices):\n",
        "        platform = \"cuda\"\n",
        "    if any(d.platform == \"tpu\" for d in devices):\n",
        "        platform = \"tpu\"\n",
        "\n",
        "print(f\"Running on {platform}\")\n",
        "\n",
        "if platform == \"colab\":\n",
        "    !git clone https://github.com/novastar53/jaxpt\n",
        "    !cd jaxpt && git checkout main && git pull\n",
        "    !pip install tiktoken datasets --quiet\n",
        "    #!pip uninstall -y tensorflow\n",
        "    !pip install tensorboard\n",
        "    !pip install -U tensorboard-plugin-profile\n",
        "\n",
        "from pathlib import Path\n",
        "import sys\n",
        "\n",
        "if platform == \"colab\":\n",
        "    jaxpt_dir = str(Path().absolute() / \"jaxpt\" / \"src\" )\n",
        "else:\n",
        "    jaxpt_dir = str(Path().absolute().parent / \"src\" )\n",
        "\n",
        "\n",
        "sys.path.append(jaxpt_dir)\n",
        "print(jaxpt_dir)"
      ]
    },
    {
      "cell_type": "code",
      "execution_count": 2,
      "metadata": {
        "colab": {
          "base_uri": "https://localhost:8080/"
        },
        "id": "cg_rzUuOa7os",
        "outputId": "0c22e729-312d-4bb9-835b-017cc2b69a86"
      },
      "outputs": [
        {
          "name": "stdout",
          "output_type": "stream",
          "text": [
            "[CpuDevice(id=0), CpuDevice(id=1), CpuDevice(id=2), CpuDevice(id=3)]\n"
          ]
        },
        {
          "data": {
            "text/html": [
              "<script> (()=>{ if (customElements.get('treescope-container') === undefined) { class TreescopeContainer extends HTMLElement { constructor() { super(); this.attachShadow({mode: \"open\"}); this.defns = {}; this.state = {}; } } customElements.define(\"treescope-container\", TreescopeContainer); } if (customElements.get('treescope-run-here') === undefined) { class RunHere extends HTMLElement { constructor() { super() } connectedCallback() { const run = child => { const fn = new Function(child.textContent); child.textContent = \"\"; fn.call(this); this.remove(); }; const child = this.querySelector(\"script\"); if (child) { run(child); } else { new MutationObserver(()=>{ run(this.querySelector(\"script\")); }).observe(this, {childList: true}); } } } customElements.define(\"treescope-run-here\", RunHere); } })(); </script> <treescope-container class=\"treescope_out_39db9deb757b438287e6f0b2c143a6f1\" style=\"display:block\"></treescope-container> <treescope-run-here><script type=\"application/octet-stream\"> const root = ( Array.from(document.getElementsByClassName( \"treescope_out_39db9deb757b438287e6f0b2c143a6f1\")) .filter((elt) => !elt.dataset.setup) )[0]; root.dataset.setup = 1; const msg = document.createElement(\"span\"); msg.style = \"color: #cccccc; font-family: monospace;\"; msg.textContent = \"(Loading...)\"; root.state.loadingMsg = msg; root.shadowRoot.appendChild(msg); root.state.chain = new Promise((resolve, reject) => { const observer = new IntersectionObserver((entries) => { for (const entry of entries) { if (entry.isIntersecting) { resolve(); observer.disconnect(); return; } } }, {rootMargin: \"1000px\"}); window.setTimeout(() => { observer.observe(root); }, 0); }); root.state.deferring = false; const _insertNode = (node) => { for (let oldScript of node.querySelectorAll(\"script\")) { let newScript = document.createElement(\"script\"); newScript.type = oldScript.type; newScript.textContent = oldScript.textContent; oldScript.parentNode.replaceChild(newScript, oldScript); } if (root.state.loadingMsg) { root.state.loadingMsg.remove(); root.state.loadingMsg = null; } root.shadowRoot.appendChild(node); }; root.defns.insertContent = ((contentNode, compressed) => { if (compressed) { root.state.deferring = true; } if (root.state.deferring) { root.state.chain = (async () => { await root.state.chain; if (compressed) { const encoded = contentNode.textContent; const blob = new Blob([ Uint8Array.from(atob(encoded), (m) => m.codePointAt(0)) ]); const reader = blob.stream().pipeThrough( new DecompressionStream(\"deflate\") ).pipeThrough( new TextDecoderStream(\"utf-8\") ).getReader(); const parts = []; while (true) { const step = await reader.read(); if (step.done) { break; } parts.push(step.value); } const tpl = document.createElement('template'); tpl.innerHTML = parts.join(\"\"); _insertNode(tpl.content); } else { _insertNode(contentNode.content); } })(); } else { _insertNode(contentNode.content); } }); </script></treescope-run-here><div style=\"display:none\"> <script type=\"application/octet-stream\" >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</script> <treescope-run-here><script type=\"application/octet-stream\"> const root = ( Array.from(document.getElementsByClassName( \"treescope_out_39db9deb757b438287e6f0b2c143a6f1\")) .filter((elt) => !elt.dataset['step0']) )[0]; root.dataset['step0'] = 1; root.defns.insertContent( this.parentNode.querySelector('script[type=\"application/octet-stream\"]'), true ); this.parentNode.remove(); </script></treescope-run-here> </div>"
            ],
            "text/plain": [
              "<IPython.core.display.HTML object>"
            ]
          },
          "metadata": {},
          "output_type": "display_data"
        },
        {
          "data": {
            "text/html": [
              "<div style=\"display:none\"> <script type=\"application/octet-stream\" >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</script> <treescope-run-here><script type=\"application/octet-stream\"> const root = ( Array.from(document.getElementsByClassName( \"treescope_out_39db9deb757b438287e6f0b2c143a6f1\")) .filter((elt) => !elt.dataset['step1']) )[0]; root.dataset['step1'] = 1; root.defns.insertContent( this.parentNode.querySelector('script[type=\"application/octet-stream\"]'), true ); this.parentNode.remove(); </script></treescope-run-here> </div>"
            ],
            "text/plain": [
              "<IPython.core.display.HTML object>"
            ]
          },
          "metadata": {},
          "output_type": "display_data"
        },
        {
          "name": "stdout",
          "output_type": "stream",
          "text": [
            "e=0, i=0, loss.item()=3.8815596103668213, iter_time=1.0489\n",
            "e=1, i=0, loss.item()=0.26602426171302795, iter_time=0.0008\n",
            "e=2, i=0, loss.item()=0.24425984919071198, iter_time=0.0009\n",
            "e=3, i=0, loss.item()=0.12493135035037994, iter_time=0.0008\n",
            "e=4, i=0, loss.item()=0.06272979825735092, iter_time=0.0008\n",
            "e=5, i=0, loss.item()=0.053908221423625946, iter_time=0.0009\n"
          ]
        },
        {
          "ename": "KeyboardInterrupt",
          "evalue": "",
          "output_type": "error",
          "traceback": [
            "\u001b[31m---------------------------------------------------------------------------\u001b[39m",
            "\u001b[31mKeyboardInterrupt\u001b[39m                         Traceback (most recent call last)",
            "\u001b[36mCell\u001b[39m\u001b[36m \u001b[39m\u001b[32mIn[2]\u001b[39m\u001b[32m, line 91\u001b[39m\n\u001b[32m     89\u001b[39m start = time()\n\u001b[32m     90\u001b[39m x_i = jax.device_put(x[i], sharding)\n\u001b[32m---> \u001b[39m\u001b[32m91\u001b[39m y_i = \u001b[43mjax\u001b[49m\u001b[43m.\u001b[49m\u001b[43mdevice_put\u001b[49m\u001b[43m(\u001b[49m\u001b[43my\u001b[49m\u001b[43m[\u001b[49m\u001b[43mi\u001b[49m\u001b[43m]\u001b[49m\u001b[43m,\u001b[49m\u001b[43m \u001b[49m\u001b[43msharding\u001b[49m\u001b[43m)\u001b[49m\n\u001b[32m     92\u001b[39m loss, grads = step(state, x_i, y_i)\n\u001b[32m     93\u001b[39m \u001b[38;5;28;01mif\u001b[39;00m i % \u001b[32m1000\u001b[39m == \u001b[32m0\u001b[39m:\n",
            "\u001b[36mFile \u001b[39m\u001b[32m~/dev/jaxpt/.venv/lib/python3.12/site-packages/jax/_src/api.py:2359\u001b[39m, in \u001b[36mdevice_put\u001b[39m\u001b[34m(x, device, src, donate, may_alias)\u001b[39m\n\u001b[32m   2357\u001b[39m \u001b[38;5;28;01mfor\u001b[39;00m xf, d \u001b[38;5;129;01min\u001b[39;00m \u001b[38;5;28mzip\u001b[39m(x_flat, device_flat):\n\u001b[32m   2358\u001b[39m   _check_sharding(shaped_abstractify(xf), d)\n\u001b[32m-> \u001b[39m\u001b[32m2359\u001b[39m out_flat = \u001b[43mdispatch\u001b[49m\u001b[43m.\u001b[49m\u001b[43mdevice_put_p\u001b[49m\u001b[43m.\u001b[49m\u001b[43mbind\u001b[49m\u001b[43m(\u001b[49m\n\u001b[32m   2360\u001b[39m \u001b[43m    \u001b[49m\u001b[43m*\u001b[49m\u001b[43mx_flat\u001b[49m\u001b[43m,\u001b[49m\u001b[43m \u001b[49m\u001b[43mdevices\u001b[49m\u001b[43m=\u001b[49m\u001b[43mdevice_flat\u001b[49m\u001b[43m,\u001b[49m\u001b[43m \u001b[49m\u001b[43msrcs\u001b[49m\u001b[43m=\u001b[49m\u001b[43msrc_flat\u001b[49m\u001b[43m,\u001b[49m\n\u001b[32m   2361\u001b[39m \u001b[43m    \u001b[49m\u001b[43mcopy_semantics\u001b[49m\u001b[43m=\u001b[49m\u001b[43mcopy_semantics\u001b[49m\u001b[43m)\u001b[49m\n\u001b[32m   2362\u001b[39m \u001b[38;5;28;01mreturn\u001b[39;00m tree_unflatten(treedef, out_flat)\n",
            "\u001b[36mFile \u001b[39m\u001b[32m~/dev/jaxpt/.venv/lib/python3.12/site-packages/jax/_src/core.py:502\u001b[39m, in \u001b[36mPrimitive.bind\u001b[39m\u001b[34m(self, *args, **params)\u001b[39m\n\u001b[32m    500\u001b[39m \u001b[38;5;28;01mdef\u001b[39;00m\u001b[38;5;250m \u001b[39m\u001b[34mbind\u001b[39m(\u001b[38;5;28mself\u001b[39m, *args, **params):\n\u001b[32m    501\u001b[39m   args = args \u001b[38;5;28;01mif\u001b[39;00m \u001b[38;5;28mself\u001b[39m.skip_canonicalization \u001b[38;5;28;01melse\u001b[39;00m \u001b[38;5;28mmap\u001b[39m(canonicalize_value, args)\n\u001b[32m--> \u001b[39m\u001b[32m502\u001b[39m   \u001b[38;5;28;01mreturn\u001b[39;00m \u001b[38;5;28;43mself\u001b[39;49m\u001b[43m.\u001b[49m\u001b[43m_true_bind\u001b[49m\u001b[43m(\u001b[49m\u001b[43m*\u001b[49m\u001b[43margs\u001b[49m\u001b[43m,\u001b[49m\u001b[43m \u001b[49m\u001b[43m*\u001b[49m\u001b[43m*\u001b[49m\u001b[43mparams\u001b[49m\u001b[43m)\u001b[49m\n",
            "\u001b[36mFile \u001b[39m\u001b[32m~/dev/jaxpt/.venv/lib/python3.12/site-packages/jax/_src/core.py:520\u001b[39m, in \u001b[36mPrimitive._true_bind\u001b[39m\u001b[34m(self, *args, **params)\u001b[39m\n\u001b[32m    518\u001b[39m trace_ctx.set_trace(eval_trace)\n\u001b[32m    519\u001b[39m \u001b[38;5;28;01mtry\u001b[39;00m:\n\u001b[32m--> \u001b[39m\u001b[32m520\u001b[39m   \u001b[38;5;28;01mreturn\u001b[39;00m \u001b[38;5;28;43mself\u001b[39;49m\u001b[43m.\u001b[49m\u001b[43mbind_with_trace\u001b[49m\u001b[43m(\u001b[49m\u001b[43mprev_trace\u001b[49m\u001b[43m,\u001b[49m\u001b[43m \u001b[49m\u001b[43margs\u001b[49m\u001b[43m,\u001b[49m\u001b[43m \u001b[49m\u001b[43mparams\u001b[49m\u001b[43m)\u001b[49m\n\u001b[32m    521\u001b[39m \u001b[38;5;28;01mfinally\u001b[39;00m:\n\u001b[32m    522\u001b[39m   trace_ctx.set_trace(prev_trace)\n",
            "\u001b[36mFile \u001b[39m\u001b[32m~/dev/jaxpt/.venv/lib/python3.12/site-packages/jax/_src/core.py:525\u001b[39m, in \u001b[36mPrimitive.bind_with_trace\u001b[39m\u001b[34m(self, trace, args, params)\u001b[39m\n\u001b[32m    524\u001b[39m \u001b[38;5;28;01mdef\u001b[39;00m\u001b[38;5;250m \u001b[39m\u001b[34mbind_with_trace\u001b[39m(\u001b[38;5;28mself\u001b[39m, trace, args, params):\n\u001b[32m--> \u001b[39m\u001b[32m525\u001b[39m   \u001b[38;5;28;01mreturn\u001b[39;00m \u001b[43mtrace\u001b[49m\u001b[43m.\u001b[49m\u001b[43mprocess_primitive\u001b[49m\u001b[43m(\u001b[49m\u001b[38;5;28;43mself\u001b[39;49m\u001b[43m,\u001b[49m\u001b[43m \u001b[49m\u001b[43margs\u001b[49m\u001b[43m,\u001b[49m\u001b[43m \u001b[49m\u001b[43mparams\u001b[49m\u001b[43m)\u001b[49m\n",
            "\u001b[36mFile \u001b[39m\u001b[32m~/dev/jaxpt/.venv/lib/python3.12/site-packages/jax/_src/core.py:1024\u001b[39m, in \u001b[36mEvalTrace.process_primitive\u001b[39m\u001b[34m(self, primitive, args, params)\u001b[39m\n\u001b[32m   1022\u001b[39m       \u001b[38;5;28;01mreturn\u001b[39;00m primitive.bind_with_trace(arg._trace, args, params)\n\u001b[32m   1023\u001b[39m check_eval_args(args)\n\u001b[32m-> \u001b[39m\u001b[32m1024\u001b[39m \u001b[38;5;28;01mreturn\u001b[39;00m \u001b[43mprimitive\u001b[49m\u001b[43m.\u001b[49m\u001b[43mimpl\u001b[49m\u001b[43m(\u001b[49m\u001b[43m*\u001b[49m\u001b[43margs\u001b[49m\u001b[43m,\u001b[49m\u001b[43m \u001b[49m\u001b[43m*\u001b[49m\u001b[43m*\u001b[49m\u001b[43mparams\u001b[49m\u001b[43m)\u001b[49m\n",
            "\u001b[36mFile \u001b[39m\u001b[32m~/dev/jaxpt/.venv/lib/python3.12/site-packages/jax/_src/dispatch.py:563\u001b[39m, in \u001b[36m_batched_device_put_impl\u001b[39m\u001b[34m(devices, srcs, copy_semantics, *xs)\u001b[39m\n\u001b[32m    561\u001b[39m   \u001b[38;5;28;01mfor\u001b[39;00m i, shard_arg_result \u001b[38;5;129;01min\u001b[39;00m \u001b[38;5;28mzip\u001b[39m(dsa_indices, shard_arg_results):\n\u001b[32m    562\u001b[39m     \u001b[38;5;28;01massert\u001b[39;00m \u001b[38;5;28misinstance\u001b[39m(ys[i], _DeferredShardArg)\n\u001b[32m--> \u001b[39m\u001b[32m563\u001b[39m     ys[i] = \u001b[43mys\u001b[49m\u001b[43m[\u001b[49m\u001b[43mi\u001b[49m\u001b[43m]\u001b[49m\u001b[43m.\u001b[49m\u001b[43mresult_handler\u001b[49m\u001b[43m(\u001b[49m\u001b[43mshard_arg_result\u001b[49m\u001b[43m)\u001b[49m\n\u001b[32m    565\u001b[39m \u001b[38;5;28;01mreturn\u001b[39;00m ys\n",
            "\u001b[36mFile \u001b[39m\u001b[32m~/dev/jaxpt/.venv/lib/python3.12/site-packages/jax/_src/dispatch.py:437\u001b[39m, in \u001b[36m_DeferredShardArg.result_handler\u001b[39m\u001b[34m(self, shard_arg_result)\u001b[39m\n\u001b[32m    436\u001b[39m \u001b[38;5;28;01mdef\u001b[39;00m\u001b[38;5;250m \u001b[39m\u001b[34mresult_handler\u001b[39m(\u001b[38;5;28mself\u001b[39m, shard_arg_result):\n\u001b[32m--> \u001b[39m\u001b[32m437\u001b[39m   \u001b[38;5;28;01mreturn\u001b[39;00m \u001b[43mpxla\u001b[49m\u001b[43m.\u001b[49m\u001b[43mglobal_aval_to_result_handler\u001b[49m\u001b[43m(\u001b[49m\n\u001b[32m    438\u001b[39m \u001b[43m      \u001b[49m\u001b[38;5;28;43mself\u001b[39;49m\u001b[43m.\u001b[49m\u001b[43maval\u001b[49m\u001b[43m,\u001b[49m\u001b[43m \u001b[49m\u001b[38;5;28;43mself\u001b[39;49m\u001b[43m.\u001b[49m\u001b[43ms\u001b[49m\u001b[43m,\u001b[49m\u001b[43m \u001b[49m\u001b[38;5;28;43mself\u001b[39;49m\u001b[43m.\u001b[49m\u001b[43mcommitted\u001b[49m\u001b[43m)\u001b[49m(shard_arg_result)\n",
            "\u001b[36mFile \u001b[39m\u001b[32m~/dev/jaxpt/.venv/lib/python3.12/site-packages/jax/_src/interpreters/pxla.py:315\u001b[39m, in \u001b[36mglobal_aval_to_result_handler\u001b[39m\u001b[34m(aval, out_sharding, committed)\u001b[39m\n\u001b[32m    300\u001b[39m \u001b[38;5;250m\u001b[39m\u001b[33;03m\"\"\"Returns a function for handling the raw buffers of a single output aval.\u001b[39;00m\n\u001b[32m    301\u001b[39m \n\u001b[32m    302\u001b[39m \u001b[33;03mArgs:\u001b[39;00m\n\u001b[32m   (...)\u001b[39m\u001b[32m    312\u001b[39m \u001b[33;03m  to the user, e.g. an Array.\u001b[39;00m\n\u001b[32m    313\u001b[39m \u001b[33;03m\"\"\"\u001b[39;00m\n\u001b[32m    314\u001b[39m \u001b[38;5;28;01mtry\u001b[39;00m:\n\u001b[32m--> \u001b[39m\u001b[32m315\u001b[39m   \u001b[38;5;28;01mreturn\u001b[39;00m \u001b[43mglobal_result_handlers\u001b[49m\u001b[43m[\u001b[49m\u001b[38;5;28;43mtype\u001b[39;49m\u001b[43m(\u001b[49m\u001b[43maval\u001b[49m\u001b[43m)\u001b[49m\u001b[43m]\u001b[49m\u001b[43m(\u001b[49m\u001b[43maval\u001b[49m\u001b[43m,\u001b[49m\u001b[43m \u001b[49m\u001b[43mout_sharding\u001b[49m\u001b[43m,\u001b[49m\u001b[43m \u001b[49m\u001b[43mcommitted\u001b[49m\u001b[43m)\u001b[49m\n\u001b[32m    316\u001b[39m \u001b[38;5;28;01mexcept\u001b[39;00m \u001b[38;5;167;01mKeyError\u001b[39;00m \u001b[38;5;28;01mas\u001b[39;00m err:\n\u001b[32m    317\u001b[39m   \u001b[38;5;28;01mraise\u001b[39;00m \u001b[38;5;167;01mTypeError\u001b[39;00m(\n\u001b[32m    318\u001b[39m       \u001b[33mf\u001b[39m\u001b[33m\"\u001b[39m\u001b[33mNo pxla_result_handler for type: \u001b[39m\u001b[38;5;132;01m{\u001b[39;00m\u001b[38;5;28mtype\u001b[39m(aval)\u001b[38;5;132;01m}\u001b[39;00m\u001b[33m\"\u001b[39m) \u001b[38;5;28;01mfrom\u001b[39;00m\u001b[38;5;250m \u001b[39m\u001b[34;01merr\u001b[39;00m\n",
            "\u001b[36mFile \u001b[39m\u001b[32m~/dev/jaxpt/.venv/lib/python3.12/site-packages/jax/_src/array.py:1252\u001b[39m, in \u001b[36m_array_global_result_handler\u001b[39m\u001b[34m(global_aval, out_sharding, committed)\u001b[39m\n\u001b[32m   1251\u001b[39m \u001b[38;5;28;01mdef\u001b[39;00m\u001b[38;5;250m \u001b[39m\u001b[34m_array_global_result_handler\u001b[39m(global_aval, out_sharding, committed):\n\u001b[32m-> \u001b[39m\u001b[32m1252\u001b[39m   global_aval = \u001b[43mcore\u001b[49m\u001b[43m.\u001b[49m\u001b[43mupdate_aval_with_sharding\u001b[49m\u001b[43m(\u001b[49m\u001b[43mglobal_aval\u001b[49m\u001b[43m,\u001b[49m\u001b[43m \u001b[49m\u001b[43mout_sharding\u001b[49m\u001b[43m)\u001b[49m\n\u001b[32m   1253\u001b[39m   \u001b[38;5;28;01mif\u001b[39;00m global_aval.dtype == dtypes.float0:\n\u001b[32m   1254\u001b[39m     \u001b[38;5;28;01mreturn\u001b[39;00m \u001b[38;5;28;01mlambda\u001b[39;00m _: np.zeros(global_aval.shape, dtypes.float0)\n",
            "\u001b[36mFile \u001b[39m\u001b[32m~/dev/jaxpt/.venv/lib/python3.12/site-packages/jax/_src/core.py:1499\u001b[39m, in \u001b[36mupdate_aval_with_sharding\u001b[39m\u001b[34m(aval, sharding)\u001b[39m\n\u001b[32m   1497\u001b[39m \u001b[38;5;28;01mdef\u001b[39;00m\u001b[38;5;250m \u001b[39m\u001b[34mupdate_aval_with_sharding\u001b[39m(aval, sharding):\n\u001b[32m   1498\u001b[39m   \u001b[38;5;28;01mif\u001b[39;00m \u001b[38;5;28misinstance\u001b[39m(sharding, NamedSharding):\n\u001b[32m-> \u001b[39m\u001b[32m1499\u001b[39m     aval = \u001b[43maval\u001b[49m\u001b[43m.\u001b[49m\u001b[43mupdate\u001b[49m\u001b[43m(\u001b[49m\u001b[43msharding\u001b[49m\u001b[43m=\u001b[49m\u001b[43mNamedSharding\u001b[49m\u001b[43m(\u001b[49m\n\u001b[32m   1500\u001b[39m \u001b[43m        \u001b[49m\u001b[43msharding\u001b[49m\u001b[43m.\u001b[49m\u001b[43mmesh\u001b[49m\u001b[43m.\u001b[49m\u001b[43mabstract_mesh\u001b[49m\u001b[43m,\u001b[49m\n\u001b[32m   1501\u001b[39m \u001b[43m        \u001b[49m\u001b[43msharding\u001b[49m\u001b[43m.\u001b[49m\u001b[43mspec\u001b[49m\u001b[43m.\u001b[49m\u001b[43m_normalized_spec_for_aval\u001b[49m\u001b[43m(\u001b[49m\u001b[43maval\u001b[49m\u001b[43m.\u001b[49m\u001b[43mndim\u001b[49m\u001b[43m)\u001b[49m\u001b[43m)\u001b[49m\u001b[43m)\u001b[49m\n\u001b[32m   1502\u001b[39m   \u001b[38;5;28;01mreturn\u001b[39;00m aval\n",
            "\u001b[36mFile \u001b[39m\u001b[32m~/dev/jaxpt/.venv/lib/python3.12/site-packages/jax/_src/core.py:1855\u001b[39m, in \u001b[36mShapedArray.update\u001b[39m\u001b[34m(self, shape, dtype, weak_type, **kwargs)\u001b[39m\n\u001b[32m   1853\u001b[39m \u001b[38;5;28;01mif\u001b[39;00m \u001b[33m'\u001b[39m\u001b[33msharding\u001b[39m\u001b[33m'\u001b[39m \u001b[38;5;129;01mnot\u001b[39;00m \u001b[38;5;129;01min\u001b[39;00m kwargs:\n\u001b[32m   1854\u001b[39m   kwargs[\u001b[33m'\u001b[39m\u001b[33msharding\u001b[39m\u001b[33m'\u001b[39m] = \u001b[38;5;28mself\u001b[39m.sharding\n\u001b[32m-> \u001b[39m\u001b[32m1855\u001b[39m \u001b[38;5;28;01mreturn\u001b[39;00m \u001b[43mShapedArray\u001b[49m\u001b[43m(\u001b[49m\u001b[43mshape\u001b[49m\u001b[43m,\u001b[49m\u001b[43m \u001b[49m\u001b[43mdtype\u001b[49m\u001b[43m,\u001b[49m\u001b[43m \u001b[49m\u001b[43mweak_type\u001b[49m\u001b[43m,\u001b[49m\u001b[43m \u001b[49m\u001b[43m*\u001b[49m\u001b[43m*\u001b[49m\u001b[43mkwargs\u001b[49m\u001b[43m)\u001b[49m\n",
            "\u001b[36mFile \u001b[39m\u001b[32m~/dev/jaxpt/.venv/lib/python3.12/site-packages/jax/_src/core.py:1844\u001b[39m, in \u001b[36mShapedArray.__init__\u001b[39m\u001b[34m(self, shape, dtype, weak_type, sharding)\u001b[39m\n\u001b[32m   1842\u001b[39m \u001b[38;5;28mself\u001b[39m.dtype = _dtype_object(dtype)\n\u001b[32m   1843\u001b[39m \u001b[38;5;28mself\u001b[39m.weak_type = weak_type\n\u001b[32m-> \u001b[39m\u001b[32m1844\u001b[39m \u001b[38;5;28mself\u001b[39m.sharding = \u001b[43mget_sharding\u001b[49m\u001b[43m(\u001b[49m\u001b[43msharding\u001b[49m\u001b[43m,\u001b[49m\u001b[43m \u001b[49m\u001b[38;5;28;43mlen\u001b[39;49m\u001b[43m(\u001b[49m\u001b[38;5;28;43mself\u001b[39;49m\u001b[43m.\u001b[49m\u001b[43mshape\u001b[49m\u001b[43m)\u001b[49m\u001b[43m)\u001b[49m\n",
            "\u001b[36mFile \u001b[39m\u001b[32m~/dev/jaxpt/.venv/lib/python3.12/site-packages/jax/_src/core.py:1825\u001b[39m, in \u001b[36mget_sharding\u001b[39m\u001b[34m(sharding, ndim)\u001b[39m\n\u001b[32m   1822\u001b[39m \u001b[38;5;28;01mif\u001b[39;00m sharding \u001b[38;5;129;01mis\u001b[39;00m \u001b[38;5;28;01mNone\u001b[39;00m:\n\u001b[32m   1823\u001b[39m   \u001b[38;5;28;01mreturn\u001b[39;00m NamedSharding(mesh_lib.empty_abstract_mesh, P(*[\u001b[38;5;28;01mNone\u001b[39;00m] * ndim))\n\u001b[32m-> \u001b[39m\u001b[32m1825\u001b[39m out_s = \u001b[43m_maybe_modify_sharding\u001b[49m\u001b[43m(\u001b[49m\u001b[43msharding\u001b[49m\u001b[43m,\u001b[49m\u001b[43m \u001b[49m\u001b[43mndim\u001b[49m\u001b[43m)\u001b[49m\n\u001b[32m   1826\u001b[39m \u001b[38;5;28;01mif\u001b[39;00m \u001b[38;5;28mlen\u001b[39m(out_s.spec) != ndim:\n\u001b[32m   1827\u001b[39m   \u001b[38;5;28;01mraise\u001b[39;00m \u001b[38;5;167;01mValueError\u001b[39;00m(\n\u001b[32m   1828\u001b[39m       \u001b[33m\"\u001b[39m\u001b[33mLength of sharding.spec must be equal to aval\u001b[39m\u001b[33m'\u001b[39m\u001b[33ms ndim. Got\u001b[39m\u001b[33m\"\u001b[39m\n\u001b[32m   1829\u001b[39m       \u001b[33mf\u001b[39m\u001b[33m\"\u001b[39m\u001b[33m sharding.spec \u001b[39m\u001b[38;5;132;01m{\u001b[39;00mout_s.spec\u001b[38;5;132;01m}\u001b[39;00m\u001b[33m, aval.ndim \u001b[39m\u001b[38;5;132;01m{\u001b[39;00mndim\u001b[38;5;132;01m}\u001b[39;00m\u001b[33m and sharding \u001b[39m\u001b[38;5;132;01m{\u001b[39;00mout_s\u001b[38;5;132;01m}\u001b[39;00m\u001b[33m\"\u001b[39m)\n",
            "\u001b[36mFile \u001b[39m\u001b[32m~/dev/jaxpt/.venv/lib/python3.12/site-packages/jax/_src/core.py:1813\u001b[39m, in \u001b[36m_maybe_modify_sharding\u001b[39m\u001b[34m(sharding, ndim)\u001b[39m\n\u001b[32m   1810\u001b[39m \u001b[38;5;28;01mif\u001b[39;00m sharding.mesh._are_all_axes_explicit:\n\u001b[32m   1811\u001b[39m   \u001b[38;5;28;01mreturn\u001b[39;00m sharding\n\u001b[32m-> \u001b[39m\u001b[32m1813\u001b[39m out = \u001b[43msharding\u001b[49m\u001b[43m.\u001b[49m\u001b[43mwith_spec\u001b[49m\u001b[43m(\u001b[49m\u001b[43mmodify_spec_for_auto_manual\u001b[49m\u001b[43m(\u001b[49m\n\u001b[32m   1814\u001b[39m \u001b[43m    \u001b[49m\u001b[43msharding\u001b[49m\u001b[43m.\u001b[49m\u001b[43mspec\u001b[49m\u001b[43m,\u001b[49m\u001b[43m \u001b[49m\u001b[43msharding\u001b[49m\u001b[43m.\u001b[49m\u001b[43mmesh\u001b[49m\u001b[43m)\u001b[49m\u001b[43m)\u001b[49m\n\u001b[32m   1815\u001b[39m \u001b[38;5;28;01mif\u001b[39;00m (\u001b[38;5;28mlen\u001b[39m(out.spec) != ndim \u001b[38;5;129;01mand\u001b[39;00m\n\u001b[32m   1816\u001b[39m     (out.mesh.empty \u001b[38;5;129;01mor\u001b[39;00m out.mesh._are_all_axes_auto_or_manual)):\n\u001b[32m   1817\u001b[39m   out = _make_lengths_same(out, ndim)\n",
            "\u001b[36mFile \u001b[39m\u001b[32m~/dev/jaxpt/.venv/lib/python3.12/site-packages/jax/_src/named_sharding.py:248\u001b[39m, in \u001b[36mNamedSharding.with_spec\u001b[39m\u001b[34m(self, spec)\u001b[39m\n\u001b[32m    246\u001b[39m \u001b[38;5;28;01mif\u001b[39;00m \u001b[38;5;129;01mnot\u001b[39;00m \u001b[38;5;28misinstance\u001b[39m(spec, PartitionSpec):\n\u001b[32m    247\u001b[39m   spec = PartitionSpec(*spec)\n\u001b[32m--> \u001b[39m\u001b[32m248\u001b[39m \u001b[38;5;28;01mreturn\u001b[39;00m \u001b[43mNamedSharding\u001b[49m\u001b[43m(\u001b[49m\u001b[38;5;28;43mself\u001b[39;49m\u001b[43m.\u001b[49m\u001b[43mmesh\u001b[49m\u001b[43m,\u001b[49m\u001b[43m \u001b[49m\u001b[43mspec\u001b[49m\u001b[43m,\u001b[49m\u001b[43m \u001b[49m\u001b[43mmemory_kind\u001b[49m\u001b[43m=\u001b[49m\u001b[38;5;28;43mself\u001b[39;49m\u001b[43m.\u001b[49m\u001b[43mmemory_kind\u001b[49m\u001b[43m)\u001b[49m\n",
            "\u001b[36mFile \u001b[39m\u001b[32m~/dev/jaxpt/.venv/lib/python3.12/site-packages/jax/_src/mesh.py:499\u001b[39m, in \u001b[36mAbstractMesh._internal_device_list\u001b[39m\u001b[34m(self)\u001b[39m\n\u001b[32m    495\u001b[39m \u001b[38;5;129m@functools\u001b[39m.cached_property\n\u001b[32m    496\u001b[39m \u001b[38;5;28;01mdef\u001b[39;00m\u001b[38;5;250m \u001b[39m\u001b[34mshape\u001b[39m(\u001b[38;5;28mself\u001b[39m):\n\u001b[32m    497\u001b[39m   \u001b[38;5;28;01mreturn\u001b[39;00m collections.OrderedDict(\u001b[38;5;28mself\u001b[39m.shape_tuple)\n\u001b[32m--> \u001b[39m\u001b[32m499\u001b[39m \u001b[38;5;129m@property\u001b[39m\n\u001b[32m    500\u001b[39m \u001b[38;5;28;01mdef\u001b[39;00m\u001b[38;5;250m \u001b[39m\u001b[34m_internal_device_list\u001b[39m(\u001b[38;5;28mself\u001b[39m):\n\u001b[32m    501\u001b[39m   \u001b[38;5;28;01mreturn\u001b[39;00m \u001b[38;5;28;01mNone\u001b[39;00m\n\u001b[32m    503\u001b[39m \u001b[38;5;129m@property\u001b[39m\n\u001b[32m    504\u001b[39m \u001b[38;5;28;01mdef\u001b[39;00m\u001b[38;5;250m \u001b[39m\u001b[34mempty\u001b[39m(\u001b[38;5;28mself\u001b[39m):\n",
            "\u001b[31mKeyboardInterrupt\u001b[39m: "
          ]
        }
      ],
      "source": [
        "\n",
        "from functools import partial\n",
        "from dataclasses import dataclass\n",
        "import random\n",
        "\n",
        "import jax\n",
        "import jax.numpy as jnp\n",
        "from jax.sharding import PartitionSpec, NamedSharding, Mesh\n",
        "from jax.debug import visualize_array_sharding as viz\n",
        "\n",
        "import flax.nnx as nnx\n",
        "import optax\n",
        "\n",
        "from jaxpt.modules.moe import MOE\n",
        "from jaxpt.modules.config import Config\n",
        "from jaxpt.utils import create_sharded_model\n",
        "\n",
        "\n",
        "devices = jax.devices()\n",
        "print(devices)\n",
        "\n",
        "mesh = Mesh(devices, (\"devices\"))\n",
        "spec = PartitionSpec(\"devices\",)\n",
        "sharding = NamedSharding(mesh, spec)\n",
        "\n",
        "\n",
        "@dataclass(unsafe_hash=True)\n",
        "class MOE_Config(Config):\n",
        "    n_layer: int = 1\n",
        "    top_k: int = 2\n",
        "    load_factor: float = 1.00\n",
        "    n_experts: int = len(devices)\n",
        "    n_embed: int = 3 \n",
        "    n_mlp_hidden: int = 6\n",
        "    mlp_bias: bool = True\n",
        "    dtype: jnp.dtype = jax.numpy.bfloat16\n",
        "    param_dtype: jnp.dtype = jax.numpy.float32\n",
        "    mesh: jax.sharding.Mesh = mesh\n",
        "\n",
        "config = MOE_Config()\n",
        "\n",
        "\n",
        "def loss_fn(model, x, y):\n",
        "    y_pred, aux_loss = model(x)\n",
        "    loss = jnp.mean((y - y_pred)**2) + 0.01 * aux_loss\n",
        "    return loss\n",
        "\n",
        "@nnx.jit\n",
        "def step(state, x, y):\n",
        "    loss, grads = nnx.value_and_grad(loss_fn, has_aux=False)(state.model, x, y)\n",
        "    state.update(grads)\n",
        "    return loss, grads\n",
        "\n",
        "\n",
        "from time import time\n",
        "\n",
        "with mesh:\n",
        "    D, B, T, C = 1000, 4 * len(devices), 5, config.n_embed\n",
        "\n",
        "    default = jax.random.key(69)\n",
        "    gate_noise = jax.random.key(42)\n",
        "    rngs = nnx.Rngs(default=default, gate_noise=gate_noise)\n",
        "    #model = create_sharded_model(MOE, config, rngs)\n",
        "    model = MOE(config, rngs)\n",
        "    nnx.display(model)\n",
        "    model.train(add_noise=True, aux_loss=True)\n",
        "    tx = optax.adam(1e-2)\n",
        "    state = nnx.Optimizer(model, tx)\n",
        "\n",
        "    x = jax.random.normal(jax.random.key(1000), (D * B * T, C))\n",
        "\n",
        "    expert_ids = (x[:, 0] > 0).astype(jnp.int32)\n",
        "    t = [\n",
        "        jax.random.normal(jax.random.key(2000), (C, C)),\n",
        "        jax.random.normal(jax.random.key(3000), (C, C)),\n",
        "    ]\n",
        "    def transform(xi, eid):\n",
        "        return jnp.where(eid == 1, xi @ t[0], xi @ t[1])\n",
        "\n",
        "    y = jax.vmap(lambda xi, ei: transform(xi, ei))(x, expert_ids)\n",
        "\n",
        "    x = x.reshape(D, B, T, C)\n",
        "    y = y.reshape(D, B, T, C)\n",
        "\n",
        "    indices = list(range(D))\n",
        "\n",
        "    #with jax.profiler.trace(\"./tensorboard\"):\n",
        "    for e in range(20):\n",
        "        for i in indices:\n",
        "            start = time()\n",
        "            x_i = jax.device_put(x[i], sharding)\n",
        "            y_i = jax.device_put(y[i], sharding)\n",
        "            loss, grads = step(state, x_i, y_i)\n",
        "            if i % 1000 == 0:\n",
        "                end = time()\n",
        "                iter_time = 1024 * (end - start) / 1000\n",
        "                print(f\"{e=}, {i=}, {loss.item()=}, {iter_time=:0.4f}\")"
      ]
    },
    {
      "cell_type": "code",
      "execution_count": null,
      "metadata": {},
      "outputs": [
        {
          "data": {
            "text/plain": [
              "Reusing TensorBoard on port 6006 (pid 2359), started 3 days, 7:38:22 ago. (Use '!kill 2359' to kill it.)"
            ]
          },
          "metadata": {},
          "output_type": "display_data"
        },
        {
          "data": {
            "text/html": [
              "\n",
              "      <iframe id=\"tensorboard-frame-68713f42a7d1b418\" width=\"100%\" height=\"800\" frameborder=\"0\">\n",
              "      </iframe>\n",
              "      <script>\n",
              "        (function() {\n",
              "          const frame = document.getElementById(\"tensorboard-frame-68713f42a7d1b418\");\n",
              "          const url = new URL(\"http://localhost\");\n",
              "          const port = 6006;\n",
              "          if (port) {\n",
              "            url.port = port;\n",
              "          }\n",
              "          frame.src = url;\n",
              "        })();\n",
              "      </script>\n",
              "    "
            ],
            "text/plain": [
              "<IPython.core.display.HTML object>"
            ]
          },
          "metadata": {},
          "output_type": "display_data"
        }
      ],
      "source": [
        "%load_ext tensorboard\n",
        "%tensorboard --logdir ./tensorboard"
      ]
    }
  ],
  "metadata": {
    "accelerator": "TPU",
    "colab": {
      "gpuType": "V28",
      "provenance": []
    },
    "kernelspec": {
      "display_name": ".venv",
      "language": "python",
      "name": "python3"
    },
    "language_info": {
      "codemirror_mode": {
        "name": "ipython",
        "version": 3
      },
      "file_extension": ".py",
      "mimetype": "text/x-python",
      "name": "python",
      "nbconvert_exporter": "python",
      "pygments_lexer": "ipython3",
      "version": "3.12.8"
    }
  },
  "nbformat": 4,
  "nbformat_minor": 0
}
