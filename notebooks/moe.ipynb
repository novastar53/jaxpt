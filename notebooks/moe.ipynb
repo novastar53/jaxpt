{
  "cells": [
    {
      "cell_type": "code",
      "execution_count": 1,
      "metadata": {
        "colab": {
          "base_uri": "https://localhost:8080/"
        },
        "id": "zEYRLk-ZmjYB",
        "outputId": "5dda81d8-f8e7-4187-e398-ee08975747cc"
      },
      "outputs": [
        {
          "name": "stdout",
          "output_type": "stream",
          "text": [
            "Running on darwin\n",
            "/Users/vikram/dev/jaxpt/src\n"
          ]
        }
      ],
      "source": [
        "from typing import Literal\n",
        "\n",
        "import os\n",
        "\n",
        "os.environ[\"XLA_FLAGS\"] = '--xla_force_host_platform_device_count=4'\n",
        "\n",
        "import jax\n",
        "\n",
        "platform : Literal[\"darwin\", \"colab\", \"cuda\", \"tpu\"] = \"darwin\"\n",
        "\n",
        "try:\n",
        "    import google.colab\n",
        "    platform = \"colab\"\n",
        "except ImportError:\n",
        "    devices = jax.devices()\n",
        "    if any(d.platform == \"gpu\" for d in devices):\n",
        "        platform = \"cuda\"\n",
        "    if any(d.platform == \"tpu\" for d in devices):\n",
        "        platform = \"tpu\"\n",
        "\n",
        "print(f\"Running on {platform}\")\n",
        "\n",
        "if platform == \"colab\":\n",
        "    !git clone https://github.com/novastar53/jaxpt\n",
        "    !cd jaxpt && git checkout main && git pull\n",
        "    !pip install tiktoken datasets --quiet\n",
        "    #!pip uninstall -y tensorflow\n",
        "    !pip install tensorboard\n",
        "    !pip install -U tensorboard-plugin-profile\n",
        "\n",
        "from pathlib import Path\n",
        "import sys\n",
        "\n",
        "if platform == \"colab\":\n",
        "    jaxpt_dir = str(Path().absolute() / \"jaxpt\" / \"src\" )\n",
        "else:\n",
        "    jaxpt_dir = str(Path().absolute().parent / \"src\" )\n",
        "\n",
        "\n",
        "sys.path.append(jaxpt_dir)\n",
        "print(jaxpt_dir)"
      ]
    },
    {
      "cell_type": "code",
      "execution_count": 2,
      "metadata": {
        "colab": {
          "base_uri": "https://localhost:8080/"
        },
        "id": "cg_rzUuOa7os",
        "outputId": "0c22e729-312d-4bb9-835b-017cc2b69a86"
      },
      "outputs": [
        {
          "name": "stdout",
          "output_type": "stream",
          "text": [
            "[CpuDevice(id=0), CpuDevice(id=1), CpuDevice(id=2), CpuDevice(id=3)]\n"
          ]
        },
        {
          "data": {
            "text/html": [
              "<script> (()=>{ if (customElements.get('treescope-container') === undefined) { class TreescopeContainer extends HTMLElement { constructor() { super(); this.attachShadow({mode: \"open\"}); this.defns = {}; this.state = {}; } } customElements.define(\"treescope-container\", TreescopeContainer); } if (customElements.get('treescope-run-here') === undefined) { class RunHere extends HTMLElement { constructor() { super() } connectedCallback() { const run = child => { const fn = new Function(child.textContent); child.textContent = \"\"; fn.call(this); this.remove(); }; const child = this.querySelector(\"script\"); if (child) { run(child); } else { new MutationObserver(()=>{ run(this.querySelector(\"script\")); }).observe(this, {childList: true}); } } } customElements.define(\"treescope-run-here\", RunHere); } })(); </script> <treescope-container class=\"treescope_out_9968d8e93d2248e3bda53a4f377b1132\" style=\"display:block\"></treescope-container> <treescope-run-here><script type=\"application/octet-stream\"> const root = ( Array.from(document.getElementsByClassName( \"treescope_out_9968d8e93d2248e3bda53a4f377b1132\")) .filter((elt) => !elt.dataset.setup) )[0]; root.dataset.setup = 1; const msg = document.createElement(\"span\"); msg.style = \"color: #cccccc; font-family: monospace;\"; msg.textContent = \"(Loading...)\"; root.state.loadingMsg = msg; root.shadowRoot.appendChild(msg); root.state.chain = new Promise((resolve, reject) => { const observer = new IntersectionObserver((entries) => { for (const entry of entries) { if (entry.isIntersecting) { resolve(); observer.disconnect(); return; } } }, {rootMargin: \"1000px\"}); window.setTimeout(() => { observer.observe(root); }, 0); }); root.state.deferring = false; const _insertNode = (node) => { for (let oldScript of node.querySelectorAll(\"script\")) { let newScript = document.createElement(\"script\"); newScript.type = oldScript.type; newScript.textContent = oldScript.textContent; oldScript.parentNode.replaceChild(newScript, oldScript); } if (root.state.loadingMsg) { root.state.loadingMsg.remove(); root.state.loadingMsg = null; } root.shadowRoot.appendChild(node); }; root.defns.insertContent = ((contentNode, compressed) => { if (compressed) { root.state.deferring = true; } if (root.state.deferring) { root.state.chain = (async () => { await root.state.chain; if (compressed) { const encoded = contentNode.textContent; const blob = new Blob([ Uint8Array.from(atob(encoded), (m) => m.codePointAt(0)) ]); const reader = blob.stream().pipeThrough( new DecompressionStream(\"deflate\") ).pipeThrough( new TextDecoderStream(\"utf-8\") ).getReader(); const parts = []; while (true) { const step = await reader.read(); if (step.done) { break; } parts.push(step.value); } const tpl = document.createElement('template'); tpl.innerHTML = parts.join(\"\"); _insertNode(tpl.content); } else { _insertNode(contentNode.content); } })(); } else { _insertNode(contentNode.content); } }); </script></treescope-run-here><div style=\"display:none\"> <script type=\"application/octet-stream\" >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</script> <treescope-run-here><script type=\"application/octet-stream\"> const root = ( Array.from(document.getElementsByClassName( \"treescope_out_9968d8e93d2248e3bda53a4f377b1132\")) .filter((elt) => !elt.dataset['step0']) )[0]; root.dataset['step0'] = 1; root.defns.insertContent( this.parentNode.querySelector('script[type=\"application/octet-stream\"]'), true ); this.parentNode.remove(); </script></treescope-run-here> </div>"
            ],
            "text/plain": [
              "<IPython.core.display.HTML object>"
            ]
          },
          "metadata": {},
          "output_type": "display_data"
        },
        {
          "data": {
            "text/html": [
              "<div style=\"display:none\"> <script type=\"application/octet-stream\" >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</script> <treescope-run-here><script type=\"application/octet-stream\"> const root = ( Array.from(document.getElementsByClassName( \"treescope_out_9968d8e93d2248e3bda53a4f377b1132\")) .filter((elt) => !elt.dataset['step1']) )[0]; root.dataset['step1'] = 1; root.defns.insertContent( this.parentNode.querySelector('script[type=\"application/octet-stream\"]'), true ); this.parentNode.remove(); </script></treescope-run-here> </div>"
            ],
            "text/plain": [
              "<IPython.core.display.HTML object>"
            ]
          },
          "metadata": {},
          "output_type": "display_data"
        },
        {
          "name": "stdout",
          "output_type": "stream",
          "text": [
            "e=0, i=0, loss.item()=3.8815596103668213, iter_time=0.6469\n",
            "e=1, i=0, loss.item()=0.26602426171302795, iter_time=0.0009\n",
            "e=2, i=0, loss.item()=0.24425984919071198, iter_time=0.0008\n",
            "e=3, i=0, loss.item()=0.12493135035037994, iter_time=0.0008\n",
            "e=4, i=0, loss.item()=0.06272979825735092, iter_time=0.0009\n",
            "e=5, i=0, loss.item()=0.053908221423625946, iter_time=0.0008\n",
            "e=6, i=0, loss.item()=0.09556792676448822, iter_time=0.0010\n",
            "e=7, i=0, loss.item()=0.08476778119802475, iter_time=0.0009\n",
            "e=8, i=0, loss.item()=0.08052591979503632, iter_time=0.0010\n",
            "e=9, i=0, loss.item()=0.07574120163917542, iter_time=0.0008\n"
          ]
        }
      ],
      "source": [
        "\n",
        "from functools import partial\n",
        "from dataclasses import dataclass\n",
        "import random\n",
        "\n",
        "import jax\n",
        "import jax.numpy as jnp\n",
        "from jax.sharding import PartitionSpec, NamedSharding, Mesh\n",
        "from jax.debug import visualize_array_sharding as viz\n",
        "\n",
        "import flax.nnx as nnx\n",
        "import optax\n",
        "\n",
        "from jaxpt.modules.moe import MOE\n",
        "from jaxpt.modules.config import Config\n",
        "from jaxpt.utils import create_sharded_model\n",
        "\n",
        "\n",
        "devices = jax.devices()\n",
        "print(devices)\n",
        "\n",
        "mesh = Mesh(devices, (\"devices\"))\n",
        "spec = PartitionSpec(\"devices\",)\n",
        "sharding = NamedSharding(mesh, spec)\n",
        "\n",
        "\n",
        "@dataclass(unsafe_hash=True)\n",
        "class MOE_Config(Config):\n",
        "    n_layer: int = 1\n",
        "    top_k: int = 2\n",
        "    load_factor: float = 1.00\n",
        "    n_experts: int = len(devices)\n",
        "    n_embed: int = 3 \n",
        "    n_mlp_hidden: int = 6\n",
        "    mlp_bias: bool = True\n",
        "    dtype: jnp.dtype = jax.numpy.bfloat16\n",
        "    param_dtype: jnp.dtype = jax.numpy.float32\n",
        "    mesh: jax.sharding.Mesh = mesh\n",
        "\n",
        "config = MOE_Config()\n",
        "\n",
        "\n",
        "def loss_fn(model, x, y):\n",
        "    y_pred, aux_loss = model(x)\n",
        "    loss = jnp.mean((y - y_pred)**2) + 0.01 * aux_loss\n",
        "    return loss\n",
        "\n",
        "@nnx.jit\n",
        "def step(state, x, y):\n",
        "    loss, grads = nnx.value_and_grad(loss_fn, has_aux=False)(state.model, x, y)\n",
        "    state.update(grads)\n",
        "    return loss, grads\n",
        "\n",
        "\n",
        "from time import time\n",
        "\n",
        "with mesh:\n",
        "    D, B, T, C = 1000, 4 * len(devices), 5, config.n_embed\n",
        "\n",
        "    default = jax.random.key(69)\n",
        "    gate_noise = jax.random.key(42)\n",
        "    rngs = nnx.Rngs(default=default, gate_noise=gate_noise)\n",
        "    #model = create_sharded_model(MOE, config, rngs)\n",
        "    model = MOE(config, rngs)\n",
        "    nnx.display(model)\n",
        "    model.train(add_noise=True)\n",
        "    tx = optax.adam(1e-2)\n",
        "    state = nnx.Optimizer(model, tx)\n",
        "\n",
        "    x = jax.random.normal(jax.random.key(1000), (D * B * T, C))\n",
        "\n",
        "    expert_ids = (x[:, 0] > 0).astype(jnp.int32)\n",
        "    t = [\n",
        "        jax.random.normal(jax.random.key(2000), (C, C)),\n",
        "        jax.random.normal(jax.random.key(3000), (C, C)),\n",
        "    ]\n",
        "    def transform(xi, eid):\n",
        "        return jnp.where(eid == 1, xi @ t[0], xi @ t[1])\n",
        "\n",
        "    y = jax.vmap(lambda xi, ei: transform(xi, ei))(x, expert_ids)\n",
        "\n",
        "    x = x.reshape(D, B, T, C)\n",
        "    y = y.reshape(D, B, T, C)\n",
        "\n",
        "    indices = list(range(D))\n",
        "\n",
        "    #with jax.profiler.trace(\"./tensorboard\"):\n",
        "    for e in range(10):\n",
        "        for i in indices:\n",
        "            start = time()\n",
        "            x_i = jax.device_put(x[i], sharding)\n",
        "            y_i = jax.device_put(y[i], sharding)\n",
        "            loss, grads = step(state, x_i, y_i)\n",
        "            if i % 1000 == 0:\n",
        "                end = time()\n",
        "                iter_time = 1024 * (end - start) / 1000\n",
        "                print(f\"{e=}, {i=}, {loss.item()=}, {iter_time=:0.4f}\")"
      ]
    },
    {
      "cell_type": "code",
      "execution_count": 3,
      "metadata": {},
      "outputs": [
        {
          "data": {
            "text/plain": [
              "Reusing TensorBoard on port 6006 (pid 2359), started 3 days, 0:44:46 ago. (Use '!kill 2359' to kill it.)"
            ]
          },
          "metadata": {},
          "output_type": "display_data"
        },
        {
          "data": {
            "text/html": [
              "\n",
              "      <iframe id=\"tensorboard-frame-4ae4524de015abf9\" width=\"100%\" height=\"800\" frameborder=\"0\">\n",
              "      </iframe>\n",
              "      <script>\n",
              "        (function() {\n",
              "          const frame = document.getElementById(\"tensorboard-frame-4ae4524de015abf9\");\n",
              "          const url = new URL(\"http://localhost\");\n",
              "          const port = 6006;\n",
              "          if (port) {\n",
              "            url.port = port;\n",
              "          }\n",
              "          frame.src = url;\n",
              "        })();\n",
              "      </script>\n",
              "    "
            ],
            "text/plain": [
              "<IPython.core.display.HTML object>"
            ]
          },
          "metadata": {},
          "output_type": "display_data"
        }
      ],
      "source": [
        "%load_ext tensorboard\n",
        "%tensorboard --logdir ./tensorboard"
      ]
    }
  ],
  "metadata": {
    "accelerator": "TPU",
    "colab": {
      "gpuType": "V28",
      "provenance": []
    },
    "kernelspec": {
      "display_name": ".venv",
      "language": "python",
      "name": "python3"
    },
    "language_info": {
      "codemirror_mode": {
        "name": "ipython",
        "version": 3
      },
      "file_extension": ".py",
      "mimetype": "text/x-python",
      "name": "python",
      "nbconvert_exporter": "python",
      "pygments_lexer": "ipython3",
      "version": "3.12.8"
    }
  },
  "nbformat": 4,
  "nbformat_minor": 0
}
