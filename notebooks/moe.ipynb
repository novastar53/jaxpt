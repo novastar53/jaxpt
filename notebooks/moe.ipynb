{
  "cells": [
    {
      "cell_type": "code",
      "execution_count": 2,
      "metadata": {
        "colab": {
          "base_uri": "https://localhost:8080/"
        },
        "id": "zEYRLk-ZmjYB",
        "outputId": "5dda81d8-f8e7-4187-e398-ee08975747cc"
      },
      "outputs": [
        {
          "name": "stdout",
          "output_type": "stream",
          "text": [
            "Running on darwin\n",
            "/Users/vikram/dev/jaxpt/src\n"
          ]
        }
      ],
      "source": [
        "from typing import Literal\n",
        "\n",
        "import os\n",
        "\n",
        "os.environ[\"XLA_FLAGS\"] = '--xla_force_host_platform_device_count=4'\n",
        "\n",
        "import jax\n",
        "\n",
        "platform : Literal[\"darwin\", \"colab\", \"cuda\", \"tpu\"] = \"darwin\"\n",
        "\n",
        "try:\n",
        "    import google.colab\n",
        "    platform = \"colab\"\n",
        "except ImportError:\n",
        "    devices = jax.devices()\n",
        "    if any(d.platform == \"gpu\" for d in devices):\n",
        "        platform = \"cuda\"\n",
        "    if any(d.platform == \"tpu\" for d in devices):\n",
        "        platform = \"tpu\"\n",
        "\n",
        "print(f\"Running on {platform}\")\n",
        "\n",
        "if platform == \"colab\":\n",
        "    !git clone https://github.com/novastar53/jaxpt\n",
        "    !cd jaxpt && git checkout main && git pull\n",
        "    !pip install tiktoken datasets --quiet\n",
        "    #!pip uninstall -y tensorflow\n",
        "    !pip install tensorboard\n",
        "    !pip install -U tensorboard-plugin-profile\n",
        "\n",
        "from pathlib import Path\n",
        "import sys\n",
        "\n",
        "if platform == \"colab\":\n",
        "    jaxpt_dir = str(Path().absolute() / \"jaxpt\" / \"src\" )\n",
        "else:\n",
        "    jaxpt_dir = str(Path().absolute().parent / \"src\" )\n",
        "\n",
        "\n",
        "sys.path.append(jaxpt_dir)\n",
        "print(jaxpt_dir)"
      ]
    },
    {
      "cell_type": "code",
      "execution_count": 6,
      "metadata": {
        "colab": {
          "base_uri": "https://localhost:8080/"
        },
        "id": "cg_rzUuOa7os",
        "outputId": "0c22e729-312d-4bb9-835b-017cc2b69a86"
      },
      "outputs": [
        {
          "name": "stdout",
          "output_type": "stream",
          "text": [
            "[CpuDevice(id=0), CpuDevice(id=1), CpuDevice(id=2), CpuDevice(id=3)]\n"
          ]
        },
        {
          "data": {
            "text/html": [
              "<script> (()=>{ if (customElements.get('treescope-container') === undefined) { class TreescopeContainer extends HTMLElement { constructor() { super(); this.attachShadow({mode: \"open\"}); this.defns = {}; this.state = {}; } } customElements.define(\"treescope-container\", TreescopeContainer); } if (customElements.get('treescope-run-here') === undefined) { class RunHere extends HTMLElement { constructor() { super() } connectedCallback() { const run = child => { const fn = new Function(child.textContent); child.textContent = \"\"; fn.call(this); this.remove(); }; const child = this.querySelector(\"script\"); if (child) { run(child); } else { new MutationObserver(()=>{ run(this.querySelector(\"script\")); }).observe(this, {childList: true}); } } } customElements.define(\"treescope-run-here\", RunHere); } })(); </script> <treescope-container class=\"treescope_out_842fd10feff44a2b9a0891bc5f944d2f\" style=\"display:block\"></treescope-container> <treescope-run-here><script type=\"application/octet-stream\"> const root = ( Array.from(document.getElementsByClassName( \"treescope_out_842fd10feff44a2b9a0891bc5f944d2f\")) .filter((elt) => !elt.dataset.setup) )[0]; root.dataset.setup = 1; const msg = document.createElement(\"span\"); msg.style = \"color: #cccccc; font-family: monospace;\"; msg.textContent = \"(Loading...)\"; root.state.loadingMsg = msg; root.shadowRoot.appendChild(msg); root.state.chain = new Promise((resolve, reject) => { const observer = new IntersectionObserver((entries) => { for (const entry of entries) { if (entry.isIntersecting) { resolve(); observer.disconnect(); return; } } }, {rootMargin: \"1000px\"}); window.setTimeout(() => { observer.observe(root); }, 0); }); root.state.deferring = false; const _insertNode = (node) => { for (let oldScript of node.querySelectorAll(\"script\")) { let newScript = document.createElement(\"script\"); newScript.type = oldScript.type; newScript.textContent = oldScript.textContent; oldScript.parentNode.replaceChild(newScript, oldScript); } if (root.state.loadingMsg) { root.state.loadingMsg.remove(); root.state.loadingMsg = null; } root.shadowRoot.appendChild(node); }; root.defns.insertContent = ((contentNode, compressed) => { if (compressed) { root.state.deferring = true; } if (root.state.deferring) { root.state.chain = (async () => { await root.state.chain; if (compressed) { const encoded = contentNode.textContent; const blob = new Blob([ Uint8Array.from(atob(encoded), (m) => m.codePointAt(0)) ]); const reader = blob.stream().pipeThrough( new DecompressionStream(\"deflate\") ).pipeThrough( new TextDecoderStream(\"utf-8\") ).getReader(); const parts = []; while (true) { const step = await reader.read(); if (step.done) { break; } parts.push(step.value); } const tpl = document.createElement('template'); tpl.innerHTML = parts.join(\"\"); _insertNode(tpl.content); } else { _insertNode(contentNode.content); } })(); } else { _insertNode(contentNode.content); } }); </script></treescope-run-here><div style=\"display:none\"> <script type=\"application/octet-stream\" >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</script> <treescope-run-here><script type=\"application/octet-stream\"> const root = ( Array.from(document.getElementsByClassName( \"treescope_out_842fd10feff44a2b9a0891bc5f944d2f\")) .filter((elt) => !elt.dataset['step0']) )[0]; root.dataset['step0'] = 1; root.defns.insertContent( this.parentNode.querySelector('script[type=\"application/octet-stream\"]'), true ); this.parentNode.remove(); </script></treescope-run-here> </div>"
            ],
            "text/plain": [
              "<IPython.core.display.HTML object>"
            ]
          },
          "metadata": {},
          "output_type": "display_data"
        },
        {
          "data": {
            "text/html": [
              "<div style=\"display:none\"> <script type=\"application/octet-stream\" >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</script> <treescope-run-here><script type=\"application/octet-stream\"> const root = ( Array.from(document.getElementsByClassName( \"treescope_out_842fd10feff44a2b9a0891bc5f944d2f\")) .filter((elt) => !elt.dataset['step1']) )[0]; root.dataset['step1'] = 1; root.defns.insertContent( this.parentNode.querySelector('script[type=\"application/octet-stream\"]'), true ); this.parentNode.remove(); </script></treescope-run-here> </div>"
            ],
            "text/plain": [
              "<IPython.core.display.HTML object>"
            ]
          },
          "metadata": {},
          "output_type": "display_data"
        },
        {
          "name": "stdout",
          "output_type": "stream",
          "text": [
            "e=0, i=0, loss.item()=3.8815596103668213, iter_time=12.5188\n",
            "e=1, i=0, loss.item()=0.26602426171302795, iter_time=0.0009\n",
            "e=2, i=0, loss.item()=0.24425984919071198, iter_time=0.0008\n",
            "e=3, i=0, loss.item()=0.12493135035037994, iter_time=0.0009\n",
            "e=4, i=0, loss.item()=0.06272979825735092, iter_time=0.0012\n",
            "e=5, i=0, loss.item()=0.053908221423625946, iter_time=0.0009\n",
            "e=6, i=0, loss.item()=0.09556792676448822, iter_time=0.0009\n",
            "e=7, i=0, loss.item()=0.08476778119802475, iter_time=0.0009\n",
            "e=8, i=0, loss.item()=0.08052591979503632, iter_time=0.0009\n",
            "e=9, i=0, loss.item()=0.07574120163917542, iter_time=0.0009\n",
            "e=10, i=0, loss.item()=0.04248293116688728, iter_time=0.0032\n",
            "e=11, i=0, loss.item()=0.07311215251684189, iter_time=0.0008\n",
            "e=12, i=0, loss.item()=0.06469729542732239, iter_time=0.0008\n",
            "e=13, i=0, loss.item()=0.08590089529752731, iter_time=0.0009\n",
            "e=14, i=0, loss.item()=0.05445726960897446, iter_time=0.0009\n",
            "e=15, i=0, loss.item()=0.03963126242160797, iter_time=0.0008\n",
            "e=16, i=0, loss.item()=0.07066275924444199, iter_time=0.0009\n",
            "e=17, i=0, loss.item()=0.040291693061590195, iter_time=0.0008\n",
            "e=18, i=0, loss.item()=0.031570930033922195, iter_time=0.0009\n",
            "e=19, i=0, loss.item()=0.04183444008231163, iter_time=0.0009\n"
          ]
        }
      ],
      "source": [
        "\n",
        "from functools import partial\n",
        "from dataclasses import dataclass\n",
        "import random\n",
        "\n",
        "import jax\n",
        "import jax.numpy as jnp\n",
        "from jax.sharding import PartitionSpec, NamedSharding, Mesh\n",
        "from jax.debug import visualize_array_sharding as viz\n",
        "\n",
        "import flax.nnx as nnx\n",
        "import optax\n",
        "\n",
        "from jaxpt.modules.moe import MOE\n",
        "from jaxpt.modules.config import Config\n",
        "from jaxpt.utils import create_sharded_model\n",
        "\n",
        "\n",
        "devices = jax.devices()\n",
        "print(devices)\n",
        "\n",
        "mesh = Mesh(devices, (\"devices\"))\n",
        "spec = PartitionSpec(\"devices\",)\n",
        "sharding = NamedSharding(mesh, spec)\n",
        "\n",
        "\n",
        "@dataclass(unsafe_hash=True)\n",
        "class MOE_Config(Config):\n",
        "    n_layer: int = 1\n",
        "    top_k: int = 2\n",
        "    load_factor: float = 1.00\n",
        "    n_experts: int = len(devices)\n",
        "    n_embed: int = 3 \n",
        "    n_mlp_hidden: int = 6\n",
        "    mlp_bias: bool = True\n",
        "    dtype: jnp.dtype = jax.numpy.bfloat16\n",
        "    param_dtype: jnp.dtype = jax.numpy.float32\n",
        "    mesh: jax.sharding.Mesh = mesh\n",
        "\n",
        "config = MOE_Config()\n",
        "\n",
        "\n",
        "def loss_fn(model, x, y):\n",
        "    y_pred, aux_loss = model(x)\n",
        "    loss = jnp.mean((y - y_pred)**2) + 0.01 * aux_loss\n",
        "    return loss\n",
        "\n",
        "@nnx.jit\n",
        "def step(state, x, y):\n",
        "    loss, grads = nnx.value_and_grad(loss_fn, has_aux=False)(state.model, x, y)\n",
        "    state.update(grads)\n",
        "    return loss, grads\n",
        "\n",
        "\n",
        "from time import time\n",
        "\n",
        "with mesh:\n",
        "    D, B, T, C = 1000, 4 * len(devices), 5, config.n_embed\n",
        "\n",
        "    default = jax.random.key(69)\n",
        "    gate_noise = jax.random.key(42)\n",
        "    rngs = nnx.Rngs(default=default, gate_noise=gate_noise)\n",
        "    #model = create_sharded_model(MOE, config, rngs)\n",
        "    model = MOE(config, rngs)\n",
        "    nnx.display(model)\n",
        "    model.train(add_noise=True, aux_loss=True)\n",
        "    tx = optax.adam(1e-2)\n",
        "    state = nnx.Optimizer(model, tx)\n",
        "\n",
        "    x = jax.random.normal(jax.random.key(1000), (D * B * T, C))\n",
        "\n",
        "    expert_ids = (x[:, 0] > 0).astype(jnp.int32)\n",
        "    t = [\n",
        "        jax.random.normal(jax.random.key(2000), (C, C)),\n",
        "        jax.random.normal(jax.random.key(3000), (C, C)),\n",
        "    ]\n",
        "    def transform(xi, eid):\n",
        "        return jnp.where(eid == 1, xi @ t[0], xi @ t[1])\n",
        "\n",
        "    y = jax.vmap(lambda xi, ei: transform(xi, ei))(x, expert_ids)\n",
        "\n",
        "    x = x.reshape(D, B, T, C)\n",
        "    y = y.reshape(D, B, T, C)\n",
        "\n",
        "    indices = list(range(D))\n",
        "\n",
        "    #with jax.profiler.trace(\"./tensorboard\"):\n",
        "    for e in range(20):\n",
        "        for i in indices:\n",
        "            start = time()\n",
        "            x_i = jax.device_put(x[i], sharding)\n",
        "            y_i = jax.device_put(y[i], sharding)\n",
        "            loss, grads = step(state, x_i, y_i)\n",
        "            if i % 1000 == 0:\n",
        "                end = time()\n",
        "                iter_time = 1024 * (end - start) / 1000\n",
        "                print(f\"{e=}, {i=}, {loss.item()=}, {iter_time=:0.4f}\")"
      ]
    },
    {
      "cell_type": "code",
      "execution_count": 4,
      "metadata": {},
      "outputs": [
        {
          "data": {
            "text/plain": [
              "Reusing TensorBoard on port 6006 (pid 2359), started 3 days, 7:38:22 ago. (Use '!kill 2359' to kill it.)"
            ]
          },
          "metadata": {},
          "output_type": "display_data"
        },
        {
          "data": {
            "text/html": [
              "\n",
              "      <iframe id=\"tensorboard-frame-68713f42a7d1b418\" width=\"100%\" height=\"800\" frameborder=\"0\">\n",
              "      </iframe>\n",
              "      <script>\n",
              "        (function() {\n",
              "          const frame = document.getElementById(\"tensorboard-frame-68713f42a7d1b418\");\n",
              "          const url = new URL(\"http://localhost\");\n",
              "          const port = 6006;\n",
              "          if (port) {\n",
              "            url.port = port;\n",
              "          }\n",
              "          frame.src = url;\n",
              "        })();\n",
              "      </script>\n",
              "    "
            ],
            "text/plain": [
              "<IPython.core.display.HTML object>"
            ]
          },
          "metadata": {},
          "output_type": "display_data"
        }
      ],
      "source": [
        "%load_ext tensorboard\n",
        "%tensorboard --logdir ./tensorboard"
      ]
    }
  ],
  "metadata": {
    "accelerator": "TPU",
    "colab": {
      "gpuType": "V28",
      "provenance": []
    },
    "kernelspec": {
      "display_name": ".venv",
      "language": "python",
      "name": "python3"
    },
    "language_info": {
      "codemirror_mode": {
        "name": "ipython",
        "version": 3
      },
      "file_extension": ".py",
      "mimetype": "text/x-python",
      "name": "python",
      "nbconvert_exporter": "python",
      "pygments_lexer": "ipython3",
      "version": "3.12.8"
    }
  },
  "nbformat": 4,
  "nbformat_minor": 0
}
