{
  "cells": [
    {
      "cell_type": "code",
      "execution_count": 1,
      "metadata": {
        "colab": {
          "base_uri": "https://localhost:8080/"
        },
        "id": "zEYRLk-ZmjYB",
        "outputId": "5dda81d8-f8e7-4187-e398-ee08975747cc"
      },
      "outputs": [
        {
          "name": "stdout",
          "output_type": "stream",
          "text": [
            "Running on darwin\n",
            "/Users/vikram/dev/jaxpt/src\n"
          ]
        }
      ],
      "source": [
        "from typing import Literal\n",
        "\n",
        "import os\n",
        "\n",
        "os.environ[\"XLA_FLAGS\"] = '--xla_force_host_platform_device_count=2'\n",
        "\n",
        "import jax\n",
        "\n",
        "platform : Literal[\"darwin\", \"colab\", \"cuda\", \"tpu\"] = \"darwin\"\n",
        "\n",
        "try:\n",
        "    import google.colab\n",
        "    platform = \"colab\"\n",
        "except ImportError:\n",
        "    devices = jax.devices()\n",
        "    if any(d.platform == \"gpu\" for d in devices):\n",
        "        platform = \"cuda\"\n",
        "    if any(d.platform == \"tpu\" for d in devices):\n",
        "        platform = \"tpu\"\n",
        "\n",
        "print(f\"Running on {platform}\")\n",
        "\n",
        "if platform == \"colab\":\n",
        "    !git clone https://github.com/novastar53/jaxpt\n",
        "    !cd jaxpt && git checkout main && git pull\n",
        "    !pip install tiktoken datasets --quiet\n",
        "    #!pip uninstall -y tensorflow\n",
        "    !pip install tensorboard\n",
        "    !pip install -U tensorboard-plugin-profile\n",
        "\n",
        "from pathlib import Path\n",
        "import sys\n",
        "\n",
        "if platform == \"colab\":\n",
        "    jaxpt_dir = str(Path().absolute() / \"jaxpt\" / \"src\" )\n",
        "else:\n",
        "    jaxpt_dir = str(Path().absolute().parent / \"src\" )\n",
        "\n",
        "\n",
        "sys.path.append(jaxpt_dir)\n",
        "print(jaxpt_dir)"
      ]
    },
    {
      "cell_type": "code",
      "execution_count": 2,
      "metadata": {
        "colab": {
          "base_uri": "https://localhost:8080/"
        },
        "id": "cg_rzUuOa7os",
        "outputId": "0c22e729-312d-4bb9-835b-017cc2b69a86"
      },
      "outputs": [
        {
          "name": "stdout",
          "output_type": "stream",
          "text": [
            "[CpuDevice(id=0), CpuDevice(id=1)]\n"
          ]
        },
        {
          "data": {
            "text/html": [
              "<script> (()=>{ if (customElements.get('treescope-container') === undefined) { class TreescopeContainer extends HTMLElement { constructor() { super(); this.attachShadow({mode: \"open\"}); this.defns = {}; this.state = {}; } } customElements.define(\"treescope-container\", TreescopeContainer); } if (customElements.get('treescope-run-here') === undefined) { class RunHere extends HTMLElement { constructor() { super() } connectedCallback() { const run = child => { const fn = new Function(child.textContent); child.textContent = \"\"; fn.call(this); this.remove(); }; const child = this.querySelector(\"script\"); if (child) { run(child); } else { new MutationObserver(()=>{ run(this.querySelector(\"script\")); }).observe(this, {childList: true}); } } } customElements.define(\"treescope-run-here\", RunHere); } })(); </script> <treescope-container class=\"treescope_out_fe73a113c3ae4a3a82cbf588ce39ed79\" style=\"display:block\"></treescope-container> <treescope-run-here><script type=\"application/octet-stream\"> const root = ( Array.from(document.getElementsByClassName( \"treescope_out_fe73a113c3ae4a3a82cbf588ce39ed79\")) .filter((elt) => !elt.dataset.setup) )[0]; root.dataset.setup = 1; const msg = document.createElement(\"span\"); msg.style = \"color: #cccccc; font-family: monospace;\"; msg.textContent = \"(Loading...)\"; root.state.loadingMsg = msg; root.shadowRoot.appendChild(msg); root.state.chain = new Promise((resolve, reject) => { const observer = new IntersectionObserver((entries) => { for (const entry of entries) { if (entry.isIntersecting) { resolve(); observer.disconnect(); return; } } }, {rootMargin: \"1000px\"}); window.setTimeout(() => { observer.observe(root); }, 0); }); root.state.deferring = false; const _insertNode = (node) => { for (let oldScript of node.querySelectorAll(\"script\")) { let newScript = document.createElement(\"script\"); newScript.type = oldScript.type; newScript.textContent = oldScript.textContent; oldScript.parentNode.replaceChild(newScript, oldScript); } if (root.state.loadingMsg) { root.state.loadingMsg.remove(); root.state.loadingMsg = null; } root.shadowRoot.appendChild(node); }; root.defns.insertContent = ((contentNode, compressed) => { if (compressed) { root.state.deferring = true; } if (root.state.deferring) { root.state.chain = (async () => { await root.state.chain; if (compressed) { const encoded = contentNode.textContent; const blob = new Blob([ Uint8Array.from(atob(encoded), (m) => m.codePointAt(0)) ]); const reader = blob.stream().pipeThrough( new DecompressionStream(\"deflate\") ).pipeThrough( new TextDecoderStream(\"utf-8\") ).getReader(); const parts = []; while (true) { const step = await reader.read(); if (step.done) { break; } parts.push(step.value); } const tpl = document.createElement('template'); tpl.innerHTML = parts.join(\"\"); _insertNode(tpl.content); } else { _insertNode(contentNode.content); } })(); } else { _insertNode(contentNode.content); } }); </script></treescope-run-here><div style=\"display:none\"> <script type=\"application/octet-stream\" >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</script> <treescope-run-here><script type=\"application/octet-stream\"> const root = ( Array.from(document.getElementsByClassName( \"treescope_out_fe73a113c3ae4a3a82cbf588ce39ed79\")) .filter((elt) => !elt.dataset['step0']) )[0]; root.dataset['step0'] = 1; root.defns.insertContent( this.parentNode.querySelector('script[type=\"application/octet-stream\"]'), true ); this.parentNode.remove(); </script></treescope-run-here> </div>"
            ],
            "text/plain": [
              "<IPython.core.display.HTML object>"
            ]
          },
          "metadata": {},
          "output_type": "display_data"
        },
        {
          "data": {
            "text/html": [
              "<div style=\"display:none\"> <script type=\"application/octet-stream\" >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</script> <treescope-run-here><script type=\"application/octet-stream\"> const root = ( Array.from(document.getElementsByClassName( \"treescope_out_fe73a113c3ae4a3a82cbf588ce39ed79\")) .filter((elt) => !elt.dataset['step1']) )[0]; root.dataset['step1'] = 1; root.defns.insertContent( this.parentNode.querySelector('script[type=\"application/octet-stream\"]'), true ); this.parentNode.remove(); </script></treescope-run-here> </div>"
            ],
            "text/plain": [
              "<IPython.core.display.HTML object>"
            ]
          },
          "metadata": {},
          "output_type": "display_data"
        },
        {
          "name": "stdout",
          "output_type": "stream",
          "text": [
            "e=0, i=0, loss.item()=4.629989147186279, iter_time=0.4862\n",
            "e=1, i=0, loss.item()=0.12208111584186554, iter_time=0.0007\n",
            "e=2, i=0, loss.item()=0.03323890268802643, iter_time=0.0007\n",
            "e=3, i=0, loss.item()=0.018516525626182556, iter_time=0.0008\n",
            "e=4, i=0, loss.item()=0.014787859283387661, iter_time=0.0008\n",
            "e=5, i=0, loss.item()=0.01453134324401617, iter_time=0.0007\n",
            "e=6, i=0, loss.item()=0.01279324572533369, iter_time=0.0007\n",
            "e=7, i=0, loss.item()=0.00949926022440195, iter_time=0.0007\n",
            "e=8, i=0, loss.item()=0.008986364118754864, iter_time=0.0007\n",
            "e=9, i=0, loss.item()=0.008680379949510098, iter_time=0.0007\n"
          ]
        }
      ],
      "source": [
        "\n",
        "from functools import partial\n",
        "from dataclasses import dataclass\n",
        "import random\n",
        "\n",
        "import jax\n",
        "import jax.numpy as jnp\n",
        "from jax.sharding import PartitionSpec, NamedSharding, Mesh\n",
        "from jax.debug import visualize_array_sharding as viz\n",
        "\n",
        "import flax.nnx as nnx\n",
        "import optax\n",
        "\n",
        "from jaxpt.modules.moe import MOE\n",
        "from jaxpt.modules.config import Config\n",
        "from jaxpt.utils import create_sharded_model\n",
        "\n",
        "\n",
        "devices = jax.devices()\n",
        "print(devices)\n",
        "\n",
        "mesh = Mesh(devices, (\"devices\"))\n",
        "spec = PartitionSpec(\"devices\",)\n",
        "sharding = NamedSharding(mesh, spec)\n",
        "\n",
        "\n",
        "@dataclass(unsafe_hash=True)\n",
        "class MOE_Config(Config):\n",
        "    n_layer: int = 1\n",
        "    top_k: int = 2\n",
        "    load_factor: float = 1.00\n",
        "    n_experts: int = len(devices)\n",
        "    n_embed: int = 3 \n",
        "    n_mlp_hidden: int = 6\n",
        "    mlp_bias: bool = True\n",
        "    dtype: jnp.dtype = jax.numpy.bfloat16\n",
        "    param_dtype: jnp.dtype = jax.numpy.float32\n",
        "    mesh: jax.sharding.Mesh = mesh\n",
        "\n",
        "config = MOE_Config()\n",
        "\n",
        "\n",
        "def loss_fn(model, x, y):\n",
        "    y_pred = model(x)\n",
        "    aux_loss = 0\n",
        "    loss = jnp.mean((y - y_pred)**2) + 0.01 * aux_loss\n",
        "    return loss\n",
        "\n",
        "@nnx.jit\n",
        "def step(state, x, y):\n",
        "    loss, grads = nnx.value_and_grad(loss_fn, has_aux=False)(state.model, x, y)\n",
        "    state.update(grads)\n",
        "    return loss, grads\n",
        "\n",
        "\n",
        "from time import time\n",
        "\n",
        "with mesh:\n",
        "    D, B, T, C = 1000, 4 * len(devices), 5, config.n_embed\n",
        "\n",
        "    default = jax.random.key(69)\n",
        "    gate_noise = jax.random.key(42)\n",
        "    rngs = nnx.Rngs(default=default, gate_noise=gate_noise)\n",
        "    #model = create_sharded_model(MOE, config, rngs)\n",
        "    model = MOE(config, rngs)\n",
        "    nnx.display(model)\n",
        "    model.train(add_noise=True)\n",
        "    tx = optax.adam(1e-2)\n",
        "    state = nnx.Optimizer(model, tx)\n",
        "\n",
        "    x = jax.random.normal(jax.random.key(1000), (D * B * T, C))\n",
        "\n",
        "    expert_ids = (x[:, 0] > 0).astype(jnp.int32)\n",
        "    t = [\n",
        "        jax.random.normal(jax.random.key(2000), (C, C)),\n",
        "        jax.random.normal(jax.random.key(3000), (C, C)),\n",
        "    ]\n",
        "    def transform(xi, eid):\n",
        "        return jnp.where(eid == 1, xi @ t[0], xi @ t[1])\n",
        "\n",
        "    y = jax.vmap(lambda xi, ei: transform(xi, ei))(x, expert_ids)\n",
        "\n",
        "    x = x.reshape(D, B, T, C)\n",
        "    y = y.reshape(D, B, T, C)\n",
        "\n",
        "    indices = list(range(D))\n",
        "\n",
        "    #with jax.profiler.trace(\"./tensorboard\"):\n",
        "    for e in range(10):\n",
        "        for i in indices:\n",
        "            start = time()\n",
        "            x_i = jax.device_put(x[i], sharding)\n",
        "            y_i = jax.device_put(y[i], sharding)\n",
        "            loss, grads = step(state, x_i, y_i)\n",
        "            if i % 1000 == 0:\n",
        "                end = time()\n",
        "                iter_time = 1024 * (end - start) / 1000\n",
        "                print(f\"{e=}, {i=}, {loss.item()=}, {iter_time=:0.4f}\")"
      ]
    },
    {
      "cell_type": "code",
      "execution_count": 3,
      "metadata": {},
      "outputs": [
        {
          "data": {
            "text/plain": [
              "Reusing TensorBoard on port 6006 (pid 2359), started 1 day, 14:45:09 ago. (Use '!kill 2359' to kill it.)"
            ]
          },
          "metadata": {},
          "output_type": "display_data"
        },
        {
          "data": {
            "text/html": [
              "\n",
              "      <iframe id=\"tensorboard-frame-3204b04c3db843e7\" width=\"100%\" height=\"800\" frameborder=\"0\">\n",
              "      </iframe>\n",
              "      <script>\n",
              "        (function() {\n",
              "          const frame = document.getElementById(\"tensorboard-frame-3204b04c3db843e7\");\n",
              "          const url = new URL(\"http://localhost\");\n",
              "          const port = 6006;\n",
              "          if (port) {\n",
              "            url.port = port;\n",
              "          }\n",
              "          frame.src = url;\n",
              "        })();\n",
              "      </script>\n",
              "    "
            ],
            "text/plain": [
              "<IPython.core.display.HTML object>"
            ]
          },
          "metadata": {},
          "output_type": "display_data"
        }
      ],
      "source": [
        "%load_ext tensorboard\n",
        "%tensorboard --logdir ./tensorboard"
      ]
    }
  ],
  "metadata": {
    "accelerator": "TPU",
    "colab": {
      "gpuType": "V28",
      "provenance": []
    },
    "kernelspec": {
      "display_name": ".venv",
      "language": "python",
      "name": "python3"
    },
    "language_info": {
      "codemirror_mode": {
        "name": "ipython",
        "version": 3
      },
      "file_extension": ".py",
      "mimetype": "text/x-python",
      "name": "python",
      "nbconvert_exporter": "python",
      "pygments_lexer": "ipython3",
      "version": "3.12.8"
    }
  },
  "nbformat": 4,
  "nbformat_minor": 0
}
