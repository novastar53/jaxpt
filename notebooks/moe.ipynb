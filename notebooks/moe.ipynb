{
  "cells": [
    {
      "cell_type": "code",
      "execution_count": 1,
      "metadata": {
        "colab": {
          "base_uri": "https://localhost:8080/"
        },
        "id": "zEYRLk-ZmjYB",
        "outputId": "5dda81d8-f8e7-4187-e398-ee08975747cc"
      },
      "outputs": [
        {
          "name": "stdout",
          "output_type": "stream",
          "text": [
            "Running on darwin\n",
            "/Users/vikram/dev/jaxpt/src\n"
          ]
        }
      ],
      "source": [
        "from typing import Literal\n",
        "\n",
        "import os\n",
        "\n",
        "os.environ[\"XLA_FLAGS\"] = '--xla_force_host_platform_device_count=2'\n",
        "\n",
        "import jax\n",
        "\n",
        "platform : Literal[\"darwin\", \"colab\", \"cuda\", \"tpu\"] = \"darwin\"\n",
        "\n",
        "try:\n",
        "    import google.colab\n",
        "    platform = \"colab\"\n",
        "except ImportError:\n",
        "    devices = jax.devices()\n",
        "    if any(d.platform == \"gpu\" for d in devices):\n",
        "        platform = \"cuda\"\n",
        "    if any(d.platform == \"tpu\" for d in devices):\n",
        "        platform = \"tpu\"\n",
        "\n",
        "print(f\"Running on {platform}\")\n",
        "\n",
        "if platform == \"colab\":\n",
        "    !git clone https://github.com/novastar53/jaxpt\n",
        "    !cd jaxpt && git checkout main && git pull\n",
        "    !pip install tiktoken datasets --quiet\n",
        "    #!pip uninstall -y tensorflow\n",
        "    !pip install tensorboard\n",
        "    !pip install -U tensorboard-plugin-profile\n",
        "\n",
        "from pathlib import Path\n",
        "import sys\n",
        "\n",
        "if platform == \"colab\":\n",
        "    jaxpt_dir = str(Path().absolute() / \"jaxpt\" / \"src\" )\n",
        "else:\n",
        "    jaxpt_dir = str(Path().absolute().parent / \"src\" )\n",
        "\n",
        "\n",
        "sys.path.append(jaxpt_dir)\n",
        "print(jaxpt_dir)"
      ]
    },
    {
      "cell_type": "code",
      "execution_count": 2,
      "metadata": {
        "colab": {
          "base_uri": "https://localhost:8080/"
        },
        "id": "cg_rzUuOa7os",
        "outputId": "0c22e729-312d-4bb9-835b-017cc2b69a86"
      },
      "outputs": [
        {
          "name": "stdout",
          "output_type": "stream",
          "text": [
            "[CpuDevice(id=0), CpuDevice(id=1)]\n"
          ]
        },
        {
          "data": {
            "text/html": [
              "<script> (()=>{ if (customElements.get('treescope-container') === undefined) { class TreescopeContainer extends HTMLElement { constructor() { super(); this.attachShadow({mode: \"open\"}); this.defns = {}; this.state = {}; } } customElements.define(\"treescope-container\", TreescopeContainer); } if (customElements.get('treescope-run-here') === undefined) { class RunHere extends HTMLElement { constructor() { super() } connectedCallback() { const run = child => { const fn = new Function(child.textContent); child.textContent = \"\"; fn.call(this); this.remove(); }; const child = this.querySelector(\"script\"); if (child) { run(child); } else { new MutationObserver(()=>{ run(this.querySelector(\"script\")); }).observe(this, {childList: true}); } } } customElements.define(\"treescope-run-here\", RunHere); } })(); </script> <treescope-container class=\"treescope_out_499741a6e09345348cd191eff68163bf\" style=\"display:block\"></treescope-container> <treescope-run-here><script type=\"application/octet-stream\"> const root = ( Array.from(document.getElementsByClassName( \"treescope_out_499741a6e09345348cd191eff68163bf\")) .filter((elt) => !elt.dataset.setup) )[0]; root.dataset.setup = 1; const msg = document.createElement(\"span\"); msg.style = \"color: #cccccc; font-family: monospace;\"; msg.textContent = \"(Loading...)\"; root.state.loadingMsg = msg; root.shadowRoot.appendChild(msg); root.state.chain = new Promise((resolve, reject) => { const observer = new IntersectionObserver((entries) => { for (const entry of entries) { if (entry.isIntersecting) { resolve(); observer.disconnect(); return; } } }, {rootMargin: \"1000px\"}); window.setTimeout(() => { observer.observe(root); }, 0); }); root.state.deferring = false; const _insertNode = (node) => { for (let oldScript of node.querySelectorAll(\"script\")) { let newScript = document.createElement(\"script\"); newScript.type = oldScript.type; newScript.textContent = oldScript.textContent; oldScript.parentNode.replaceChild(newScript, oldScript); } if (root.state.loadingMsg) { root.state.loadingMsg.remove(); root.state.loadingMsg = null; } root.shadowRoot.appendChild(node); }; root.defns.insertContent = ((contentNode, compressed) => { if (compressed) { root.state.deferring = true; } if (root.state.deferring) { root.state.chain = (async () => { await root.state.chain; if (compressed) { const encoded = contentNode.textContent; const blob = new Blob([ Uint8Array.from(atob(encoded), (m) => m.codePointAt(0)) ]); const reader = blob.stream().pipeThrough( new DecompressionStream(\"deflate\") ).pipeThrough( new TextDecoderStream(\"utf-8\") ).getReader(); const parts = []; while (true) { const step = await reader.read(); if (step.done) { break; } parts.push(step.value); } const tpl = document.createElement('template'); tpl.innerHTML = parts.join(\"\"); _insertNode(tpl.content); } else { _insertNode(contentNode.content); } })(); } else { _insertNode(contentNode.content); } }); </script></treescope-run-here><div style=\"display:none\"> <script type=\"application/octet-stream\" >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</script> <treescope-run-here><script type=\"application/octet-stream\"> const root = ( Array.from(document.getElementsByClassName( \"treescope_out_499741a6e09345348cd191eff68163bf\")) .filter((elt) => !elt.dataset['step0']) )[0]; root.dataset['step0'] = 1; root.defns.insertContent( this.parentNode.querySelector('script[type=\"application/octet-stream\"]'), true ); this.parentNode.remove(); </script></treescope-run-here> </div>"
            ],
            "text/plain": [
              "<IPython.core.display.HTML object>"
            ]
          },
          "metadata": {},
          "output_type": "display_data"
        },
        {
          "data": {
            "text/html": [
              "<div style=\"display:none\"> <script type=\"application/octet-stream\" >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</script> <treescope-run-here><script type=\"application/octet-stream\"> const root = ( Array.from(document.getElementsByClassName( \"treescope_out_499741a6e09345348cd191eff68163bf\")) .filter((elt) => !elt.dataset['step1']) )[0]; root.dataset['step1'] = 1; root.defns.insertContent( this.parentNode.querySelector('script[type=\"application/octet-stream\"]'), true ); this.parentNode.remove(); </script></treescope-run-here> </div>"
            ],
            "text/plain": [
              "<IPython.core.display.HTML object>"
            ]
          },
          "metadata": {},
          "output_type": "display_data"
        },
        {
          "name": "stdout",
          "output_type": "stream",
          "text": [
            "e=0, i=0, loss.item()=4.629989147186279, iter_time=0.4867\n",
            "e=1, i=0, loss.item()=0.12208111584186554, iter_time=0.0008\n",
            "e=2, i=0, loss.item()=0.03323890268802643, iter_time=0.0007\n",
            "e=3, i=0, loss.item()=0.018516525626182556, iter_time=0.0008\n",
            "e=4, i=0, loss.item()=0.014787859283387661, iter_time=0.0007\n",
            "e=5, i=0, loss.item()=0.01453134324401617, iter_time=0.0007\n",
            "e=6, i=0, loss.item()=0.01279324572533369, iter_time=0.0007\n",
            "e=7, i=0, loss.item()=0.00949926022440195, iter_time=0.0006\n",
            "e=8, i=0, loss.item()=0.008986364118754864, iter_time=0.0007\n",
            "e=9, i=0, loss.item()=0.008680379949510098, iter_time=0.0007\n"
          ]
        }
      ],
      "source": [
        "\n",
        "from functools import partial\n",
        "from dataclasses import dataclass\n",
        "import random\n",
        "\n",
        "import jax\n",
        "import jax.numpy as jnp\n",
        "from jax.sharding import PartitionSpec, NamedSharding, Mesh\n",
        "from jax.debug import visualize_array_sharding as viz\n",
        "\n",
        "import flax.nnx as nnx\n",
        "import optax\n",
        "\n",
        "from jaxpt.modules.moe import MOE\n",
        "from jaxpt.modules.config import Config\n",
        "from jaxpt.utils import create_sharded_model\n",
        "\n",
        "\n",
        "devices = jax.devices()\n",
        "print(devices)\n",
        "\n",
        "mesh = Mesh(devices, (\"devices\"))\n",
        "spec = PartitionSpec(\"devices\",)\n",
        "sharding = NamedSharding(mesh, spec)\n",
        "\n",
        "\n",
        "@dataclass(unsafe_hash=True)\n",
        "class MOE_Config(Config):\n",
        "    n_layer: int = 1\n",
        "    top_k: int = 2\n",
        "    load_factor: float = 1.00\n",
        "    n_experts: int = len(devices)\n",
        "    n_embed: int = 3 \n",
        "    n_mlp_hidden: int = 6\n",
        "    mlp_bias: bool = True\n",
        "    dtype: jnp.dtype = jax.numpy.bfloat16\n",
        "    param_dtype: jnp.dtype = jax.numpy.float32\n",
        "    mesh: jax.sharding.Mesh = mesh\n",
        "\n",
        "config = MOE_Config()\n",
        "\n",
        "\n",
        "def loss_fn(model, x, y):\n",
        "    y_pred = model(x)\n",
        "    aux_loss = 0\n",
        "    loss = jnp.mean((y - y_pred)**2) + 0.01 * aux_loss\n",
        "    return loss\n",
        "\n",
        "@nnx.jit\n",
        "def step(state, x, y):\n",
        "    loss, grads = nnx.value_and_grad(loss_fn, has_aux=False)(state.model, x, y)\n",
        "    state.update(grads)\n",
        "    return loss, grads\n",
        "\n",
        "\n",
        "from time import time\n",
        "\n",
        "with mesh:\n",
        "    D, B, T, C = 1000, 4 * len(devices), 5, config.n_embed\n",
        "\n",
        "    default = jax.random.key(69)\n",
        "    gate_noise = jax.random.key(42)\n",
        "    rngs = nnx.Rngs(default=default, gate_noise=gate_noise)\n",
        "    #model = create_sharded_model(MOE, config, rngs)\n",
        "    model = MOE(config, rngs)\n",
        "    nnx.display(model)\n",
        "    model.train(add_noise=True)\n",
        "    tx = optax.adam(1e-2)\n",
        "    state = nnx.Optimizer(model, tx)\n",
        "\n",
        "    x = jax.random.normal(jax.random.key(1000), (D * B * T, C))\n",
        "\n",
        "    expert_ids = (x[:, 0] > 0).astype(jnp.int32)\n",
        "    t = [\n",
        "        jax.random.normal(jax.random.key(2000), (C, C)),\n",
        "        jax.random.normal(jax.random.key(3000), (C, C)),\n",
        "    ]\n",
        "    def transform(xi, eid):\n",
        "        return jnp.where(eid == 1, xi @ t[0], xi @ t[1])\n",
        "\n",
        "    y = jax.vmap(lambda xi, ei: transform(xi, ei))(x, expert_ids)\n",
        "\n",
        "    x = x.reshape(D, B, T, C)\n",
        "    y = y.reshape(D, B, T, C)\n",
        "\n",
        "    indices = list(range(D))\n",
        "\n",
        "    #with jax.profiler.trace(\"./tensorboard\"):\n",
        "    for e in range(10):\n",
        "        for i in indices:\n",
        "            start = time()\n",
        "            x_i = jax.device_put(x[i], sharding)\n",
        "            y_i = jax.device_put(y[i], sharding)\n",
        "            loss, grads = step(state, x_i, y_i)\n",
        "            if i % 1000 == 0:\n",
        "                end = time()\n",
        "                iter_time = 1024 * (end - start) / 1000\n",
        "                print(f\"{e=}, {i=}, {loss.item()=}, {iter_time=:0.4f}\")"
      ]
    },
    {
      "cell_type": "code",
      "execution_count": 3,
      "metadata": {},
      "outputs": [
        {
          "data": {
            "text/plain": [
              "Reusing TensorBoard on port 6006 (pid 2359), started 1 day, 14:45:09 ago. (Use '!kill 2359' to kill it.)"
            ]
          },
          "metadata": {},
          "output_type": "display_data"
        },
        {
          "data": {
            "text/html": [
              "\n",
              "      <iframe id=\"tensorboard-frame-3204b04c3db843e7\" width=\"100%\" height=\"800\" frameborder=\"0\">\n",
              "      </iframe>\n",
              "      <script>\n",
              "        (function() {\n",
              "          const frame = document.getElementById(\"tensorboard-frame-3204b04c3db843e7\");\n",
              "          const url = new URL(\"http://localhost\");\n",
              "          const port = 6006;\n",
              "          if (port) {\n",
              "            url.port = port;\n",
              "          }\n",
              "          frame.src = url;\n",
              "        })();\n",
              "      </script>\n",
              "    "
            ],
            "text/plain": [
              "<IPython.core.display.HTML object>"
            ]
          },
          "metadata": {},
          "output_type": "display_data"
        }
      ],
      "source": [
        "%load_ext tensorboard\n",
        "%tensorboard --logdir ./tensorboard"
      ]
    }
  ],
  "metadata": {
    "accelerator": "TPU",
    "colab": {
      "gpuType": "V28",
      "provenance": []
    },
    "kernelspec": {
      "display_name": ".venv",
      "language": "python",
      "name": "python3"
    },
    "language_info": {
      "codemirror_mode": {
        "name": "ipython",
        "version": 3
      },
      "file_extension": ".py",
      "mimetype": "text/x-python",
      "name": "python",
      "nbconvert_exporter": "python",
      "pygments_lexer": "ipython3",
      "version": "3.12.8"
    }
  },
  "nbformat": 4,
  "nbformat_minor": 0
}
