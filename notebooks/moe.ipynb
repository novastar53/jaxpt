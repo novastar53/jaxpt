{
  "cells": [
    {
      "cell_type": "code",
      "execution_count": 1,
      "metadata": {
        "colab": {
          "base_uri": "https://localhost:8080/"
        },
        "id": "zEYRLk-ZmjYB",
        "outputId": "5dda81d8-f8e7-4187-e398-ee08975747cc"
      },
      "outputs": [
        {
          "name": "stdout",
          "output_type": "stream",
          "text": [
            "Running on darwin\n",
            "/Users/vikram/dev/jaxpt/src\n"
          ]
        }
      ],
      "source": [
        "from typing import Literal\n",
        "\n",
        "import os\n",
        "\n",
        "os.environ[\"XLA_FLAGS\"] = '--xla_force_host_platform_device_count=2'\n",
        "\n",
        "import jax\n",
        "\n",
        "platform : Literal[\"darwin\", \"colab\", \"cuda\", \"tpu\"] = \"darwin\"\n",
        "\n",
        "try:\n",
        "    import google.colab\n",
        "    platform = \"colab\"\n",
        "except ImportError:\n",
        "    devices = jax.devices()\n",
        "    if any(d.platform == \"gpu\" for d in devices):\n",
        "        platform = \"cuda\"\n",
        "    if any(d.platform == \"tpu\" for d in devices):\n",
        "        platform = \"tpu\"\n",
        "\n",
        "print(f\"Running on {platform}\")\n",
        "\n",
        "if platform == \"colab\":\n",
        "    !git clone https://github.com/novastar53/jaxpt\n",
        "    !cd jaxpt && git checkout main && git pull\n",
        "    !pip install tiktoken datasets --quiet\n",
        "    #!pip uninstall -y tensorflow\n",
        "    !pip install tensorboard\n",
        "    !pip install -U tensorboard-plugin-profile\n",
        "\n",
        "from pathlib import Path\n",
        "import sys\n",
        "\n",
        "if platform == \"colab\":\n",
        "    jaxpt_dir = str(Path().absolute() / \"jaxpt\" / \"src\" )\n",
        "else:\n",
        "    jaxpt_dir = str(Path().absolute().parent / \"src\" )\n",
        "\n",
        "\n",
        "sys.path.append(jaxpt_dir)\n",
        "print(jaxpt_dir)"
      ]
    },
    {
      "cell_type": "code",
      "execution_count": 2,
      "metadata": {
        "colab": {
          "base_uri": "https://localhost:8080/"
        },
        "id": "cg_rzUuOa7os",
        "outputId": "0c22e729-312d-4bb9-835b-017cc2b69a86"
      },
      "outputs": [
        {
          "name": "stdout",
          "output_type": "stream",
          "text": [
            "[CpuDevice(id=0), CpuDevice(id=1)]\n",
            "e=0, i=0, loss.item()=4.629989147186279, iter_time=0.4102\n",
            "e=1, i=0, loss.item()=0.12297248095273972, iter_time=0.0007\n",
            "e=2, i=0, loss.item()=0.033879246562719345, iter_time=0.0007\n",
            "e=3, i=0, loss.item()=0.019398976117372513, iter_time=0.0007\n",
            "e=4, i=0, loss.item()=0.014804775826632977, iter_time=0.0007\n",
            "e=5, i=0, loss.item()=0.01300789788365364, iter_time=0.0008\n",
            "e=6, i=0, loss.item()=0.011451620608568192, iter_time=0.0006\n",
            "e=7, i=0, loss.item()=0.00967890303581953, iter_time=0.0007\n",
            "e=8, i=0, loss.item()=0.008818857371807098, iter_time=0.0007\n",
            "e=9, i=0, loss.item()=0.008972604759037495, iter_time=0.0007\n"
          ]
        }
      ],
      "source": [
        "\n",
        "from functools import partial\n",
        "from dataclasses import dataclass\n",
        "import random\n",
        "\n",
        "import jax\n",
        "import jax.numpy as jnp\n",
        "from jax.sharding import PartitionSpec, NamedSharding, Mesh\n",
        "from jax.debug import visualize_array_sharding as viz\n",
        "\n",
        "import flax.nnx as nnx\n",
        "import optax\n",
        "\n",
        "from jaxpt.modules.moe import MOE\n",
        "from jaxpt.modules.config import Config\n",
        "from jaxpt.utils import create_sharded_model\n",
        "\n",
        "\n",
        "devices = jax.devices()\n",
        "print(devices)\n",
        "\n",
        "mesh = Mesh(devices, (\"devices\"))\n",
        "spec = PartitionSpec(\"devices\",)\n",
        "sharding = NamedSharding(mesh, spec)\n",
        "\n",
        "\n",
        "@dataclass(unsafe_hash=True)\n",
        "class MOE_Config(Config):\n",
        "    n_layer = 1\n",
        "    top_k = 2\n",
        "    load_factor = 1.00\n",
        "    n_experts = len(devices)\n",
        "    n_embed = 3 \n",
        "    n_mlp_hidden = 6\n",
        "    mlp_bias = True\n",
        "    dtype = jax.numpy.float32\n",
        "    mesh = mesh\n",
        "\n",
        "config = MOE_Config()\n",
        "\n",
        "\n",
        "def loss_fn(model, x, y):\n",
        "    y_pred = model(x)\n",
        "    aux_loss = 0\n",
        "    loss = jnp.mean((y - y_pred)**2) + 0.01 * aux_loss\n",
        "    return loss\n",
        "\n",
        "@nnx.jit\n",
        "def step(state, x, y):\n",
        "    loss, grads = nnx.value_and_grad(loss_fn, has_aux=False)(state.model, x, y)\n",
        "    state.update(grads)\n",
        "    return loss, grads\n",
        "\n",
        "\n",
        "from time import time\n",
        "\n",
        "with mesh:\n",
        "    D, B, T, C = 1000, 4 * len(devices), 5, config.n_embed\n",
        "\n",
        "    default = jax.random.key(69)\n",
        "    gate_noise = jax.random.key(42)\n",
        "    rngs = nnx.Rngs(default=default, gate_noise=gate_noise)\n",
        "    model = create_sharded_model(MOE, config, rngs)\n",
        "    model.train(add_noise=True)\n",
        "    tx = optax.adam(1e-2)\n",
        "    state = nnx.Optimizer(model, tx)\n",
        "\n",
        "    x = jax.random.normal(jax.random.key(1000), (D * B * T, C))\n",
        "\n",
        "    expert_ids = (x[:, 0] > 0).astype(jnp.int32)\n",
        "    t = [\n",
        "        jax.random.normal(jax.random.key(2000), (C, C)),\n",
        "        jax.random.normal(jax.random.key(3000), (C, C)),\n",
        "    ]\n",
        "    def transform(xi, eid):\n",
        "        return jnp.where(eid == 1, xi @ t[0], xi @ t[1])\n",
        "\n",
        "    y = jax.vmap(lambda xi, ei: transform(xi, ei))(x, expert_ids)\n",
        "\n",
        "    x = x.reshape(D, B, T, C)\n",
        "    y = y.reshape(D, B, T, C)\n",
        "\n",
        "    indices = list(range(D))\n",
        "\n",
        "    #with jax.profiler.trace(\"./tensorboard\"):\n",
        "    for e in range(10):\n",
        "        for i in indices:\n",
        "            start = time()\n",
        "            x_i = jax.device_put(x[i], sharding)\n",
        "            y_i = jax.device_put(y[i], sharding)\n",
        "            loss, grads = step(state, x_i, y_i)\n",
        "            if i % 1000 == 0:\n",
        "                end = time()\n",
        "                iter_time = 1024 * (end - start) / 1000\n",
        "                print(f\"{e=}, {i=}, {loss.item()=}, {iter_time=:0.4f}\")"
      ]
    },
    {
      "cell_type": "code",
      "execution_count": 3,
      "metadata": {},
      "outputs": [
        {
          "data": {
            "text/html": [
              "\n",
              "      <iframe id=\"tensorboard-frame-3b5b91f6ee9f383a\" width=\"100%\" height=\"800\" frameborder=\"0\">\n",
              "      </iframe>\n",
              "      <script>\n",
              "        (function() {\n",
              "          const frame = document.getElementById(\"tensorboard-frame-3b5b91f6ee9f383a\");\n",
              "          const url = new URL(\"/\", window.location);\n",
              "          const port = 6006;\n",
              "          if (port) {\n",
              "            url.port = port;\n",
              "          }\n",
              "          frame.src = url;\n",
              "        })();\n",
              "      </script>\n",
              "    "
            ],
            "text/plain": [
              "<IPython.core.display.HTML object>"
            ]
          },
          "metadata": {},
          "output_type": "display_data"
        }
      ],
      "source": [
        "%load_ext tensorboard\n",
        "%tensorboard --logdir ./tensorboard"
      ]
    }
  ],
  "metadata": {
    "accelerator": "TPU",
    "colab": {
      "gpuType": "V28",
      "provenance": []
    },
    "kernelspec": {
      "display_name": ".venv",
      "language": "python",
      "name": "python3"
    },
    "language_info": {
      "codemirror_mode": {
        "name": "ipython",
        "version": 3
      },
      "file_extension": ".py",
      "mimetype": "text/x-python",
      "name": "python",
      "nbconvert_exporter": "python",
      "pygments_lexer": "ipython3",
      "version": "3.12.8"
    }
  },
  "nbformat": 4,
  "nbformat_minor": 0
}
