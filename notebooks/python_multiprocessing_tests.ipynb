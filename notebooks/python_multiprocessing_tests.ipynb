{
 "cells": [
  {
   "cell_type": "markdown",
   "metadata": {},
   "source": [
    "### Python Parallel Processing Experiments"
   ]
  },
  {
   "cell_type": "code",
   "execution_count": 1,
   "metadata": {},
   "outputs": [
    {
     "name": "stdout",
     "output_type": "stream",
     "text": [
      "Devices: [CpuDevice(id=0)]\n",
      "Number of CPUs: 30\n"
     ]
    }
   ],
   "source": [
    "import jax \n",
    "import jax.numpy as jnp\n",
    "import multiprocessing\n",
    "multiprocessing.set_start_method('fork')   \n",
    "import concurrent.futures\n",
    "import os\n",
    "import sys\n",
    "import time\n",
    "import asyncio\n",
    "\n",
    "jax.config.update(\"jax_platform_name\", \"cpu\") \n",
    "\n",
    "print(f\"Devices: {jax.devices()}\")\n",
    "\n",
    "num_cpus = os.cpu_count()\n",
    "print(f\"Number of CPUs: {num_cpus}\")\n",
    "\n",
    "def f(n):\n",
    "    #rng = jax.random.key(n)\n",
    "    for i in range(30):\n",
    "        #rng, sub_rng = jax.random.split(rng)\n",
    "        #A = jax.random.normal(key=sub_rng, shape=(6000,6000))\n",
    "        #A@A\n",
    "        time.sleep(1)\n",
    "    return True\n",
    "\n"
   ]
  },
  {
   "cell_type": "markdown",
   "metadata": {},
   "source": [
    "### Spawn multiple processes\n"
   ]
  },
  {
   "cell_type": "code",
   "execution_count": 2,
   "metadata": {
    "scrolled": true
   },
   "outputs": [
    {
     "name": "stderr",
     "output_type": "stream",
     "text": [
      "/home/ubuntu/.local/share/uv/python/cpython-3.13.2-linux-x86_64-gnu/lib/python3.13/multiprocessing/popen_fork.py:67: RuntimeWarning: os.fork() was called. os.fork() is incompatible with multithreaded code, and JAX is multithreaded, so this will likely lead to a deadlock.\n",
      "  self.pid = os.fork()\n",
      "/home/ubuntu/.local/share/uv/python/cpython-3.13.2-linux-x86_64-gnu/lib/python3.13/multiprocessing/popen_fork.py:67: RuntimeWarning: os.fork() was called. os.fork() is incompatible with multithreaded code, and JAX is multithreaded, so this will likely lead to a deadlock.\n",
      "  self.pid = os.fork()\n"
     ]
    },
    {
     "name": "stdout",
     "output_type": "stream",
     "text": [
      "parallel process time: 30.18\n"
     ]
    }
   ],
   "source": [
    "start = time.time()\n",
    "with concurrent.futures.ProcessPoolExecutor(max_workers=num_cpus) as executor:\n",
    "    results = list(executor.map(f, range(num_cpus)))\n",
    "print(f\"parallel process time: {time.time()-start:0.4}\")"
   ]
  },
  {
   "cell_type": "markdown",
   "metadata": {},
   "source": [
    "### Spawn multiple threads"
   ]
  },
  {
   "cell_type": "code",
   "execution_count": 3,
   "metadata": {},
   "outputs": [
    {
     "name": "stdout",
     "output_type": "stream",
     "text": [
      "parallel thread time: 30.01\n"
     ]
    }
   ],
   "source": [
    "start = time.time()\n",
    "with concurrent.futures.ThreadPoolExecutor(max_workers=num_cpus) as executor:\n",
    "    results = list(executor.map(f, range(num_cpus)))\n",
    "print(f\"parallel thread time: {time.time()-start:0.4}\")"
   ]
  },
  {
   "cell_type": "markdown",
   "metadata": {},
   "source": [
    "### Asyncio"
   ]
  },
  {
   "cell_type": "code",
   "execution_count": null,
   "metadata": {},
   "outputs": [],
   "source": [
    "async def f(n):\n",
    "    rng = jax.random.key(n)\n",
    "    for i in range(10):\n",
    "        #rng, sub_rng = jax.random.split(rng)\n",
    "        #A = jax.random.normal(key=sub_rng, shape=(6000,6000))\n",
    "        #A@A\n",
    "        time.sleep(30)\n",
    "    return True\n",
    "\n",
    "\n",
    "start = time.time()\n",
    "tasks = [f(n) for n in range(num_cpus)]\n",
    "result = await asyncio.gather(*tasks)\n",
    "print(f\"asyncio time: {time.time()-start:0.4}\")"
   ]
  },
  {
   "cell_type": "code",
   "execution_count": null,
   "metadata": {},
   "outputs": [],
   "source": []
  }
 ],
 "metadata": {
  "kernelspec": {
   "display_name": "Python 3 (ipykernel)",
   "language": "python",
   "name": "python3"
  },
  "language_info": {
   "codemirror_mode": {
    "name": "ipython",
    "version": 3
   },
   "file_extension": ".py",
   "mimetype": "text/x-python",
   "name": "python",
   "nbconvert_exporter": "python",
   "pygments_lexer": "ipython3",
   "version": "3.13.2"
  }
 },
 "nbformat": 4,
 "nbformat_minor": 4
}
