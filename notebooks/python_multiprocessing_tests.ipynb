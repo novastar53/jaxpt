{
 "cells": [
  {
   "cell_type": "markdown",
   "metadata": {},
   "source": [
    "### Python Parallel Processing Experiments"
   ]
  },
  {
   "cell_type": "code",
   "execution_count": 1,
   "metadata": {},
   "outputs": [
    {
     "name": "stdout",
     "output_type": "stream",
     "text": [
      "Number of CPUs: 12\n"
     ]
    }
   ],
   "source": [
    "import jax \n",
    "import jax.numpy as jnp\n",
    "import multiprocessing\n",
    "multiprocessing.set_start_method('fork')   \n",
    "import concurrent.futures\n",
    "import os\n",
    "import time\n",
    "import asyncio\n",
    "\n",
    "jax.config.update(\"jax_platform_name\", \"cpu\") \n",
    "\n",
    "num_cpus = os.cpu_count()\n",
    "print(f\"Number of CPUs: {num_cpus}\")\n",
    "\n",
    "def f(n):\n",
    "    rng = jax.random.key(n)\n",
    "    for i in range(10):\n",
    "        rng, sub_rng = jax.random.split(rng)\n",
    "        A = jax.random.normal(key=sub_rng, shape=(6000,6000))\n",
    "        A@A\n",
    "    return True\n",
    "\n"
   ]
  },
  {
   "cell_type": "markdown",
   "metadata": {},
   "source": [
    "### Spawn multiple processes\n"
   ]
  },
  {
   "cell_type": "code",
   "execution_count": 2,
   "metadata": {},
   "outputs": [
    {
     "name": "stdout",
     "output_type": "stream",
     "text": [
      "parallel process time: 21.07\n"
     ]
    }
   ],
   "source": [
    "start = time.time()\n",
    "with concurrent.futures.ProcessPoolExecutor(max_workers=num_cpus) as executor:\n",
    "    results = list(executor.map(f, range(num_cpus)))\n",
    "print(f\"parallel process time: {time.time()-start:0.4}\")"
   ]
  },
  {
   "cell_type": "markdown",
   "metadata": {},
   "source": [
    "### Spawn multiple threads"
   ]
  },
  {
   "cell_type": "code",
   "execution_count": 2,
   "metadata": {},
   "outputs": [
    {
     "name": "stdout",
     "output_type": "stream",
     "text": [
      "parallel thread time: 82.89\n"
     ]
    }
   ],
   "source": [
    "start = time.time()\n",
    "with concurrent.futures.ThreadPoolExecutor(max_workers=num_cpus) as executor:\n",
    "    results = list(executor.map(f, range(num_cpus)))\n",
    "print(f\"parallel thread time: {time.time()-start:0.4}\")"
   ]
  },
  {
   "cell_type": "markdown",
   "metadata": {},
   "source": [
    "### Asyncio"
   ]
  },
  {
   "cell_type": "code",
   "execution_count": 2,
   "metadata": {},
   "outputs": [
    {
     "name": "stdout",
     "output_type": "stream",
     "text": [
      "asyncio time: 74.26\n"
     ]
    }
   ],
   "source": [
    "start = time.time()\n",
    "tasks = [f(n) for n in range(num_cpus)]\n",
    "result = await asyncio.gather(*tasks)\n",
    "print(f\"asyncio time: {time.time()-start:0.4}\")"
   ]
  }
 ],
 "metadata": {
  "kernelspec": {
   "display_name": "Python 3.13 (jaxpt)",
   "language": "python",
   "name": "jaxpt"
  },
  "language_info": {
   "codemirror_mode": {
    "name": "ipython",
    "version": 3
   },
   "file_extension": ".py",
   "mimetype": "text/x-python",
   "name": "python",
   "nbconvert_exporter": "python",
   "pygments_lexer": "ipython3",
   "version": "3.13.1"
  }
 },
 "nbformat": 4,
 "nbformat_minor": 2
}
