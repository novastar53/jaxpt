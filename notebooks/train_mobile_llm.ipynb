{
 "cells": [
  {
   "cell_type": "markdown",
   "metadata": {
    "id": "AXU2qDN8nMgg"
   },
   "source": [
    "# Let's Train Mobile LLM\n",
    "\n"
   ]
  },
  {
   "cell_type": "markdown",
   "metadata": {
    "id": "04pFw2g58HJl"
   },
   "source": [
    "### Configure the machine and install packages\n"
   ]
  },
  {
   "cell_type": "code",
   "execution_count": 1,
   "metadata": {
    "id": "LNLo9jfLn8bg"
   },
   "outputs": [
    {
     "name": "stdout",
     "output_type": "stream",
     "text": [
      "Running on darwin\n"
     ]
    }
   ],
   "source": [
    "from typing import Literal\n",
    "\n",
    "import jax\n",
    "\n",
    "platform : Literal[\"darwin\", \"colab\", \"cuda\"] = \"darwin\"\n",
    "\n",
    "try:\n",
    "    import google.colab\n",
    "    platform = \"colab\"\n",
    "except ImportError:\n",
    "    devices = jax.devices()\n",
    "    if any(d.platform == \"gpu\" for d in devices):\n",
    "        platform = \"cuda\"\n",
    "\n",
    "print(f\"Running on {platform}\")\n",
    "\n",
    "if platform == \"colab\":\n",
    "    !git clone https://github.com/novastar53/jaxpt\n",
    "    !cd jaxpt && git checkout main && git pull\n",
    "    !pip install tiktoken --quiet\n",
    "    !pip uninstall -y tensorflow"
   ]
  },
  {
   "cell_type": "code",
   "execution_count": 2,
   "metadata": {
    "id": "ZQl8dEgLnMgh"
   },
   "outputs": [
    {
     "name": "stdout",
     "output_type": "stream",
     "text": [
      "/Users/vikram/dev/jaxpt/src\n"
     ]
    }
   ],
   "source": [
    "from pathlib import Path\n",
    "import sys\n",
    "\n",
    "if platform == \"colab\":\n",
    "    jaxpt_dir = str(Path().absolute() / \"jaxpt\" / \"src\" )\n",
    "else:\n",
    "    jaxpt_dir = str(Path().absolute().parent / \"src\" )\n",
    "\n",
    "sys.path.append(jaxpt_dir)\n",
    "print(jaxpt_dir)"
   ]
  },
  {
   "cell_type": "code",
   "execution_count": 3,
   "metadata": {
    "id": "dJo6Xji39g54"
   },
   "outputs": [
    {
     "name": "stdout",
     "output_type": "stream",
     "text": [
      "JAX version: 0.5.2\n",
      "Flax version 0.10.4\n",
      "Available devices: 1\n"
     ]
    },
    {
     "name": "stderr",
     "output_type": "stream",
     "text": [
      "/var/folders/x4/85_9sn3d1ng9q48ff6t3fw340000gn/T/ipykernel_66046/2488604009.py:22: UserWarning: not using gpu. Using cpu\n",
      "  warnings.warn(f\"not using {requested_device}. Using {device}\")\n"
     ]
    },
    {
     "name": "stdout",
     "output_type": "stream",
     "text": [
      "185 ms ± 1.45 ms per loop (mean ± std. dev. of 7 runs, 10 loops each)\n"
     ]
    }
   ],
   "source": [
    "import os\n",
    "import warnings\n",
    "\n",
    "import jax\n",
    "import flax\n",
    "import jax.numpy as jnp\n",
    "import numpy as np\n",
    "\n",
    "# Hardware setup\n",
    "print(\"JAX version:\", jax.__version__)\n",
    "print(\"Flax version\", flax.__version__)\n",
    "devices = jax.devices()\n",
    "num_devices = len(devices)\n",
    "print(\"Available devices:\", num_devices)\n",
    "\n",
    "requested_device = \"gpu\"\n",
    "\n",
    "jax.config.update(\"jax_platform_name\", requested_device) # Make sure we're using the GPU\n",
    "\n",
    "device = jax.default_backend()\n",
    "if device != requested_device:\n",
    "    warnings.warn(f\"not using {requested_device}. Using {device}\")\n",
    "else:\n",
    "    print(f\"using {device}\")\n",
    "\n",
    "\n",
    "#####################################\n",
    "##        jax.lax matmul presets   ##\n",
    "#####################################\n",
    "## 'ANY_F8_ANY_F8_F32',\n",
    "## 'ANY_F8_ANY_F8_F32_FAST_ACCUM'\n",
    "## 'ANY_F8_ANY_F8_ANY'\n",
    "## 'ANY_F8_ANY_F8_ANY_FAST_ACCUM'\n",
    "## 'F16_F16_F16'\n",
    "## 'F16_F16_F32'\n",
    "## 'BF16_BF16_BF16'\n",
    "## 'BF16_BF16_F32'\n",
    "## 'BF16_BF16_F32_X3'\n",
    "## 'BF16_BF16_F32_X6'\n",
    "## 'TF32_TF32_F32'\n",
    "## 'TF32_TF32_F32_X3'\n",
    "## 'F32_F32_F32'\n",
    "## 'F64_F64_F64'\n",
    "#####################################\n",
    "\n",
    "jax.config.update(\"jax_default_matmul_precision\", \"BF16_BF16_F32\") # Set the default precision for matrix multiplication\n",
    "\n",
    "#jax.config.update(\"jax_enable_x64\", True) # Make sure the highest precision is enabled in case we need\n",
    "#os.environ[\"NVIDIA_TF32_OVERRIDE\"] = \"1\"\n",
    "#os.environ[\"JAX_ENABLE_X64\"] = \"False\"\n",
    "\n",
    "if device == \"tpu\":\n",
    "    def list_tpu_memory():\n",
    "        devices = jax.devices()\n",
    "        for device in devices:\n",
    "            if 'TPU' in str(device.device_kind):\n",
    "                print(f\"Device: {device}, Memory: {device.memory_stats()['bytes_limit']/(1024*1024)},  Used: {device.memory_stats()['bytes_in_use']/(1024*1024)}\")\n",
    "\n",
    "    list_tpu_memory()\n",
    "\n",
    "# Test the device\n",
    "A = jnp.array(np.random.normal(size=(4096, 4096)), dtype=jnp.float32) # Makes sure the matmul is fast\n",
    "%timeit (A@A).block_until_ready()"
   ]
  },
  {
   "cell_type": "markdown",
   "metadata": {
    "id": "JDtBhnjKN-zw"
   },
   "source": [
    "### Initialize the Mobile-LLM model and perform a sanity check"
   ]
  },
  {
   "cell_type": "code",
   "execution_count": 4,
   "metadata": {
    "id": "wZ04n3v2N-zw"
   },
   "outputs": [
    {
     "data": {
      "text/html": [
       "<script> (()=>{ if (customElements.get('treescope-container') === undefined) { class TreescopeContainer extends HTMLElement { constructor() { super(); this.attachShadow({mode: \"open\"}); this.defns = {}; this.state = {}; } } customElements.define(\"treescope-container\", TreescopeContainer); } if (customElements.get('treescope-run-here') === undefined) { class RunHere extends HTMLElement { constructor() { super() } connectedCallback() { const run = child => { const fn = new Function(child.textContent); child.textContent = \"\"; fn.call(this); this.remove(); }; const child = this.querySelector(\"script\"); if (child) { run(child); } else { new MutationObserver(()=>{ run(this.querySelector(\"script\")); }).observe(this, {childList: true}); } } } customElements.define(\"treescope-run-here\", RunHere); } })(); </script> <treescope-container class=\"treescope_out_a31cebce41274d12b446057ee6ee8c04\" style=\"display:block\"></treescope-container> <treescope-run-here><script type=\"application/octet-stream\"> const root = ( Array.from(document.getElementsByClassName( \"treescope_out_a31cebce41274d12b446057ee6ee8c04\")) .filter((elt) => !elt.dataset.setup) )[0]; root.dataset.setup = 1; const msg = document.createElement(\"span\"); msg.style = \"color: #cccccc; font-family: monospace;\"; msg.textContent = \"(Loading...)\"; root.state.loadingMsg = msg; root.shadowRoot.appendChild(msg); root.state.chain = new Promise((resolve, reject) => { const observer = new IntersectionObserver((entries) => { for (const entry of entries) { if (entry.isIntersecting) { resolve(); observer.disconnect(); return; } } }, {rootMargin: \"1000px\"}); window.setTimeout(() => { observer.observe(root); }, 0); }); root.state.deferring = false; const _insertNode = (node) => { for (let oldScript of node.querySelectorAll(\"script\")) { let newScript = document.createElement(\"script\"); newScript.type = oldScript.type; newScript.textContent = oldScript.textContent; oldScript.parentNode.replaceChild(newScript, oldScript); } if (root.state.loadingMsg) { root.state.loadingMsg.remove(); root.state.loadingMsg = null; } root.shadowRoot.appendChild(node); }; root.defns.insertContent = ((contentNode, compressed) => { if (compressed) { root.state.deferring = true; } if (root.state.deferring) { root.state.chain = (async () => { await root.state.chain; if (compressed) { const encoded = contentNode.textContent; const blob = new Blob([ Uint8Array.from(atob(encoded), (m) => m.codePointAt(0)) ]); const reader = blob.stream().pipeThrough( new DecompressionStream(\"deflate\") ).pipeThrough( new TextDecoderStream(\"utf-8\") ).getReader(); const parts = []; while (true) { const step = await reader.read(); if (step.done) { break; } parts.push(step.value); } const tpl = document.createElement('template'); tpl.innerHTML = parts.join(\"\"); _insertNode(tpl.content); } else { _insertNode(contentNode.content); } })(); } else { _insertNode(contentNode.content); } }); </script></treescope-run-here><div style=\"display:none\"> <script type=\"application/octet-stream\" >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</script> <treescope-run-here><script type=\"application/octet-stream\"> const root = ( Array.from(document.getElementsByClassName( \"treescope_out_a31cebce41274d12b446057ee6ee8c04\")) .filter((elt) => !elt.dataset['step0']) )[0]; root.dataset['step0'] = 1; root.defns.insertContent( this.parentNode.querySelector('script[type=\"application/octet-stream\"]'), true ); this.parentNode.remove(); </script></treescope-run-here> </div>"
      ],
      "text/plain": [
       "<IPython.core.display.HTML object>"
      ]
     },
     "metadata": {},
     "output_type": "display_data"
    },
    {
     "name": "stdout",
     "output_type": "stream",
     "text": [
      "Parameter Count: 28,976,256\n"
     ]
    },
    {
     "data": {
      "text/html": [
       "<script> (()=>{ if (customElements.get('treescope-container') === undefined) { class TreescopeContainer extends HTMLElement { constructor() { super(); this.attachShadow({mode: \"open\"}); this.defns = {}; this.state = {}; } } customElements.define(\"treescope-container\", TreescopeContainer); } if (customElements.get('treescope-run-here') === undefined) { class RunHere extends HTMLElement { constructor() { super() } connectedCallback() { const run = child => { const fn = new Function(child.textContent); child.textContent = \"\"; fn.call(this); this.remove(); }; const child = this.querySelector(\"script\"); if (child) { run(child); } else { new MutationObserver(()=>{ run(this.querySelector(\"script\")); }).observe(this, {childList: true}); } } } customElements.define(\"treescope-run-here\", RunHere); } })(); </script> <treescope-container class=\"treescope_out_b418cb556df5497689ea9dd2cba93d1e\" style=\"display:block\"></treescope-container> <treescope-run-here><script type=\"application/octet-stream\"> const root = ( Array.from(document.getElementsByClassName( \"treescope_out_b418cb556df5497689ea9dd2cba93d1e\")) .filter((elt) => !elt.dataset.setup) )[0]; root.dataset.setup = 1; const msg = document.createElement(\"span\"); msg.style = \"color: #cccccc; font-family: monospace;\"; msg.textContent = \"(Loading...)\"; root.state.loadingMsg = msg; root.shadowRoot.appendChild(msg); root.state.chain = new Promise((resolve, reject) => { const observer = new IntersectionObserver((entries) => { for (const entry of entries) { if (entry.isIntersecting) { resolve(); observer.disconnect(); return; } } }, {rootMargin: \"1000px\"}); window.setTimeout(() => { observer.observe(root); }, 0); }); root.state.deferring = false; const _insertNode = (node) => { for (let oldScript of node.querySelectorAll(\"script\")) { let newScript = document.createElement(\"script\"); newScript.type = oldScript.type; newScript.textContent = oldScript.textContent; oldScript.parentNode.replaceChild(newScript, oldScript); } if (root.state.loadingMsg) { root.state.loadingMsg.remove(); root.state.loadingMsg = null; } root.shadowRoot.appendChild(node); }; root.defns.insertContent = ((contentNode, compressed) => { if (compressed) { root.state.deferring = true; } if (root.state.deferring) { root.state.chain = (async () => { await root.state.chain; if (compressed) { const encoded = contentNode.textContent; const blob = new Blob([ Uint8Array.from(atob(encoded), (m) => m.codePointAt(0)) ]); const reader = blob.stream().pipeThrough( new DecompressionStream(\"deflate\") ).pipeThrough( new TextDecoderStream(\"utf-8\") ).getReader(); const parts = []; while (true) { const step = await reader.read(); if (step.done) { break; } parts.push(step.value); } const tpl = document.createElement('template'); tpl.innerHTML = parts.join(\"\"); _insertNode(tpl.content); } else { _insertNode(contentNode.content); } })(); } else { _insertNode(contentNode.content); } }); </script></treescope-run-here><div style=\"display:none\"> <script type=\"application/octet-stream\" >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</script> <treescope-run-here><script type=\"application/octet-stream\"> const root = ( Array.from(document.getElementsByClassName( \"treescope_out_b418cb556df5497689ea9dd2cba93d1e\")) .filter((elt) => !elt.dataset['step0']) )[0]; root.dataset['step0'] = 1; root.defns.insertContent( this.parentNode.querySelector('script[type=\"application/octet-stream\"]'), true ); this.parentNode.remove(); </script></treescope-run-here> </div>"
      ],
      "text/plain": [
       "<IPython.core.display.HTML object>"
      ]
     },
     "metadata": {},
     "output_type": "display_data"
    },
    {
     "data": {
      "text/html": [
       "<div style=\"display:none\"> <script type=\"application/octet-stream\" >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</script> <treescope-run-here><script type=\"application/octet-stream\"> const root = ( Array.from(document.getElementsByClassName( \"treescope_out_b418cb556df5497689ea9dd2cba93d1e\")) .filter((elt) => !elt.dataset['step1']) )[0]; root.dataset['step1'] = 1; root.defns.insertContent( this.parentNode.querySelector('script[type=\"application/octet-stream\"]'), true ); this.parentNode.remove(); </script></treescope-run-here> </div>"
      ],
      "text/plain": [
       "<IPython.core.display.HTML object>"
      ]
     },
     "metadata": {},
     "output_type": "display_data"
    }
   ],
   "source": [
    "from flax import nnx\n",
    "\n",
    "from jaxpt.infer import generate_completions\n",
    "from jaxpt.models import Mobile_LLM, MobileLLM_Config\n",
    "from jaxpt.utils import count_params\n",
    "\n",
    "\n",
    "key = jax.random.PRNGKey(1337)\n",
    "rngs = nnx.Rngs(key)\n",
    "config = MobileLLM_Config(dtype=jnp.bfloat16, \\\n",
    "                   sdpa_implementation=\"cudnn\" if device==\"gpu\" else \"xla\")\n",
    "nnx.display(config)\n",
    "m = Mobile_LLM(config, rngs)\n",
    "\n",
    "#m = load_checkpoint(\"run_20250311_uqdwjq\", 5600)\n",
    "graphdef, rngstate, state = nnx.split(m, nnx.RngState, ...)\n",
    "total_params = count_params(m)\n",
    "\n",
    "print(f\"Parameter Count: {total_params:,}\")\n",
    "nnx.display(state)\n",
    "\n",
    "#completions = generate_completions()\n",
    "#for completion in completions:\n",
    "#print(completion)\n"
   ]
  },
  {
   "cell_type": "markdown",
   "metadata": {
    "id": "DHA3hbjj8HJl"
   },
   "source": [
    "### Configure Training Run"
   ]
  },
  {
   "cell_type": "code",
   "execution_count": null,
   "metadata": {
    "id": "lki2khsFnMgh"
   },
   "outputs": [],
   "source": [
    "from datetime import datetime\n",
    "import random\n",
    "import string\n",
    "\n",
    "\n",
    "def generate_random_code(length=6):\n",
    "    return ''.join(random.choices(string.ascii_lowercase, k=length))\n",
    "\n",
    "timestamp = datetime.now().strftime(\"%Y%m%d\")\n",
    "random_code = generate_random_code()\n",
    "\n",
    "run_dirname = f\"run_{timestamp}_{random_code}\"\n",
    "print(f\"Run: {run_dirname}\")\n",
    "\n",
    "if platform == \"colab\":\n",
    "  output_dir = Path().absolute().parent\n",
    "elif platform == \"cuda\":\n",
    "  output_dir = Path(\"/home/ubuntu/gpt2-train\") # Lambda Labs setup\n",
    "else:\n",
    "  output_dir = Path().absolute().parent # Local setup\n",
    "\n",
    "# Create checkpoint dir\n",
    "checkpoint_dir = output_dir / \"checkpoints\"\n",
    "checkpoint_dir.mkdir(parents=True, exist_ok=True)\n",
    "print(f\"Checkpoint directory: {checkpoint_dir}\")\n",
    "\n",
    "# Create log dir\n",
    "log_dir = output_dir / \"logs\"\n",
    "log_dir.mkdir(parents=True, exist_ok=True)\n",
    "print(f\"Log directory: {log_dir}\")\n",
    "\n",
    "def save_checkpoint(m, run_dirname, step):\n",
    "  checkpoint_path = checkpoint_dir / run_dirname / f\"checkpoint-{step}.pt\"\n",
    "  m.save_checkpoint(checkpoint_path)\n",
    "\n",
    "def load_checkpoint(model, run_dirname, step):\n",
    "  checkpoint_path = checkpoint_dir / run_dirname / f\"checkpoint-{step}.pt\"\n",
    "  m = model.load_checkpoint(checkpoint_path, rngs)\n",
    "  return m"
   ]
  },
  {
   "cell_type": "code",
   "execution_count": null,
   "metadata": {
    "id": "k8Dx19aKnMgi"
   },
   "outputs": [],
   "source": [
    "import dataclasses\n",
    "\n",
    "import optax\n",
    "\n",
    "\n",
    "############################\n",
    "# Nvidia A100 (x 8) Config #\n",
    "############################\n",
    "\n",
    "@dataclasses.dataclass\n",
    "class TrainerConfig:\n",
    "  num_tokens_per_batch: int = 2**19 # 2**19, 0.5 million as per the GPT 3.5 paper\n",
    "  mB: int = 48\n",
    "  T: int = 1024\n",
    "  max_steps: int = (300 * 100e6) // (2**19) # Roughly 1/3rd of the 100b token dataset\n",
    "  max_lr: float = 3 * 6e-4\n",
    "  min_lr: float = max_lr * 0.1\n",
    "  max_grad_norm: float = 1.0  # Clip gradients to this norm\n",
    "  warmup_steps: int = 715 * 5\n",
    "  print_interval: int = 125\n",
    "  eval_interval: int = 5000\n",
    "  checkpoint_interval: int = 10000\n",
    "  grad_accumulation_steps: int = num_tokens_per_batch // (mB * T * num_devices) # Number of steps over which to average the gradient\n",
    "\n",
    "\n",
    "##############\n",
    "# CPU Config #\n",
    "##############\n",
    "\n",
    "trconf = TrainerConfig()\n",
    "'''\n",
    "trconf = TrainerConfig(\n",
    "  num_tokens_per_batch=2**9,\n",
    "  mB=2**4,\n",
    "  T=2**5,\n",
    "  max_steps=9*48, # 6 epoch(s)\n",
    "  max_lr=6e-4,\n",
    "  min_lr=6e-5,\n",
    "  max_grad_norm=1.0,\n",
    "  warmup_steps=10,\n",
    "  print_interval=1,\n",
    "  eval_interval=50,\n",
    "  checkpoint_interval=0,\n",
    "\n",
    ")\n",
    "\n",
    "trconf.grad_accumulation_steps =  trconf.num_tokens_per_batch // (trconf.mB * trconf.T * num_devices) # Number of steps over which to average the gradient\n",
    "'''\n",
    "# Set up the optimizer\n",
    "def warmup_with_cosine_decay_schedule(step):\n",
    "\n",
    "    warmup_lr = trconf.max_lr * (step + 1) / trconf.warmup_steps\n",
    "    coeff = 0.5 * (1 + jnp.cos(jnp.pi * (step - trconf.warmup_steps) / (trconf.max_steps - trconf.warmup_steps)))\n",
    "    cosine_lr =  trconf.min_lr + coeff * (trconf.max_lr - trconf.min_lr)\n",
    "\n",
    "    return jnp.where(step < trconf.warmup_steps,\n",
    "                     warmup_lr,\n",
    "                     jnp.where(step < trconf.max_steps, cosine_lr, trconf.min_lr))\n",
    "\n",
    "# Generate a weight decay mask\n",
    "# First split the model into params and variables\n",
    "graphdef, params, variables = nnx.split(m, nnx.Param, nnx.Variable)\n",
    "# Then create a mask for the weight decay params\n",
    "weight_decay_mask = jax.tree_util.tree_map(lambda x: len(x.shape) > 1, params)\n",
    "\n",
    "\n",
    "tx = optax.chain(\n",
    "    optax.clip_by_global_norm(trconf.max_grad_norm),\n",
    "    optax.adamw(warmup_with_cosine_decay_schedule, b1=0.9, b2=0.95, weight_decay=0.1, mask=weight_decay_mask)\n",
    ")\n",
    "optimizer = nnx.Optimizer(m, tx)\n",
    "\n",
    "# count the number of weight decay params\n",
    "def f(x, y):\n",
    "    if x:\n",
    "        return y.size\n",
    "    return 0\n",
    "\n",
    "weight_decay_params = jax.tree_util.tree_map(f, weight_decay_mask, params)\n",
    "weight_decay_param_count = jax.tree_util.tree_reduce(lambda x, y: x + y, weight_decay_params, 0)\n",
    "\n",
    "\n",
    "print(f\"weight decay param count: {weight_decay_param_count:,}\")\n",
    "print(f\"tokens/batch: {trconf.num_tokens_per_batch:,}\")\n",
    "print(f\"block size: {trconf.T}\")\n",
    "print(f\"sub-batch size: {trconf.mB}\")\n",
    "print(f\"no. gradient accumulation steps: {trconf.grad_accumulation_steps}\")\n",
    "print(f\"effective batch size per device: \", trconf.grad_accumulation_steps * trconf.mB)\n",
    "print(f\"effective batch size: {trconf.grad_accumulation_steps * trconf.mB * num_devices}\")\n",
    "print(f\"max steps: {trconf.max_steps:,}\")\n"
   ]
  },
  {
   "cell_type": "markdown",
   "metadata": {
    "id": "igoeEsgCsSbC"
   },
   "source": [
    "### DataLoader and Validation Setup\n",
    "\n"
   ]
  },
  {
   "cell_type": "code",
   "execution_count": null,
   "metadata": {
    "colab": {
     "base_uri": "https://localhost:8080/"
    },
    "id": "OW6iqjEukEfr",
    "outputId": "b2efe985-3854-4f2b-c007-def4b2e87109"
   },
   "outputs": [],
   "source": [
    "import os\n",
    "\n",
    "from jaxpt.dataloaders import CloudDataLoader\n",
    "from jaxpt.eval import calc_validation_loss\n",
    "from jaxpt.train import loss_fn\n",
    "\n",
    "os.environ[\"GOOGLE_APPLICATION_CREDENTIALS\"] = \"../alpha-448101-282bc1b884cd.json\"\n",
    "\n",
    "train_dl = CloudDataLoader(bucket_name=\"jaxpt_datasets\",\n",
    "                      bucket_prefix=\"fineweb-edu-100b/processed\",\n",
    "                      batch_size=trconf.mB,\n",
    "                      block_size=trconf.T,\n",
    "                      device_rank=num_devices,\n",
    "                      label=\"train\")\n",
    "eval_dl = CloudDataLoader(bucket_name=\"jaxpt_datasets\",\n",
    "                     bucket_prefix=\"fineweb-edu-100b/processed\",\n",
    "                     batch_size=trconf.mB,\n",
    "                     block_size=trconf.T,\n",
    "                     device_rank=1,\n",
    "                     label=\"valid\")\n",
    "\n",
    "def evaluate(model):\n",
    "  model.eval()\n",
    "  completions = generate_completions(model)\n",
    "  val_loss = calc_validation_loss(model, loss_fn=loss_fn, dataloader=eval_dl)\n",
    "  model.train()\n",
    "  return val_loss, completions\n",
    "\n",
    "step = 0"
   ]
  },
  {
   "cell_type": "code",
   "execution_count": null,
   "metadata": {},
   "outputs": [],
   "source": [
    "train_losses = []\n",
    "val_losses = []\n",
    "append_to_csv(log_dir / f\"{run_dirname}_train.csv\", [\"step\", \"lr\", \"loss\", \"norm\", \"time\", \"tokens_processed\", \"tokens_per_sec\"])\n",
    "append_to_csv(log_dir / f\"{run_dirname}_valid.csv\", [\"step\", \"loss\"])"
   ]
  },
  {
   "cell_type": "code",
   "execution_count": null,
   "metadata": {
    "id": "UwtmfUotuLMU"
   },
   "outputs": [],
   "source": [
    "%matplotlib inline\n",
    "\n",
    "import time\n",
    "\n",
    "import matplotlib.pyplot as plt\n",
    "\n",
    "from jaxpt.utils import append_to_csv\n",
    "from jaxpt.train import parallel_train_step\n",
    "\n",
    "m.train()\n",
    "try:\n",
    "  while step < trconf.max_steps:\n",
    "    start = time.time()\n",
    "    batch, target = train_dl()\n",
    "    avg_loss, avg_grads = parallel_train_step(m, optimizer, batch, target)\n",
    "    avg_loss.block_until_ready()\n",
    "    # compute stats\n",
    "    avg_loss = jnp.float32(avg_loss[0])\n",
    "    lr = warmup_with_cosine_decay_schedule(step)\n",
    "    norm = 0 # norm[0]|\n",
    "    iter_time = time.time() - start\n",
    "    sub_step_time = iter_time / trconf.grad_accumulation_steps\n",
    "    tokens_per_sec = num_devices * trconf.mB * trconf.T * trconf.grad_accumulation_steps / iter_time\n",
    "    tokens_processed = (step+1) * num_devices * trconf.grad_accumulation_steps * trconf.mB * trconf.T\n",
    "\n",
    "    if step % trconf.print_interval == 0:\n",
    "      train_losses.append((step, avg_loss))\n",
    "      append_to_csv(log_dir / f\"{run_dirname}_train.csv\", [step, lr, avg_loss, norm, iter_time*1000, tokens_processed, tokens_per_sec])\n",
    "      print(f\"{step} | lr: {lr:0.2e} | loss: {avg_loss:0.4f} | norm: {norm:0.2f} | time: {iter_time*1000:0.2f}ms | tokens processed: {tokens_processed:,} | tok/sec: {tokens_per_sec:,.2f}\", end=\"\\r\")\n",
    "    if step % trconf.eval_interval == 0:\n",
    "      valid_loss, completions = evaluate(m)\n",
    "      valid_loss = jnp.float32(valid_loss)\n",
    "      val_losses.append((step, valid_loss))\n",
    "      append_to_csv(log_dir / f\"{run_dirname}_valid.csv\", [step, valid_loss])\n",
    "      print(f\"valid loss: {valid_loss:0.4f}\"  )\n",
    "      for completion in completions:\n",
    "        print(completion)\n",
    "    #if step > 0 and trconf.checkpoint_interval > 0 and step % trconf.checkpoint_interval == 0:\n",
    "      #save_checkpoint(m, run_dirname, step)\n",
    "    step += 1\n",
    "      \n",
    "except KeyboardInterrupt:\n",
    "    print(\"Received KeyboardInterrupt. Exiting...\")\n",
    "\n",
    "valid_loss, completions = evaluate(m)\n",
    "valid_loss = jnp.float32(valid_loss)\n",
    "print(f\"valid loss: {valid_loss:0.4f}\")\n",
    "for completion in completions:\n",
    "  print(completion)\n",
    "plt.figure(figsize=(10, 5))\n",
    "plt.plot([x[0] for x in train_losses], [x[1] for x in train_losses], label=\"train loss\")\n",
    "plt.plot([x[0] for x in val_losses], [x[1] for x in val_losses], label=\"valid loss\")\n",
    "plt.legend()\n",
    "plt.savefig(log_dir / f\"{run_dirname}.png\", dpi=300, bbox_inches=\"tight\", transparent=True)\n",
    "plt.show()\n"
   ]
  }
 ],
 "metadata": {
  "accelerator": "GPU",
  "colab": {
   "gpuType": "A100",
   "machine_shape": "hm",
   "provenance": []
  },
  "kernelspec": {
   "display_name": ".venv",
   "language": "python",
   "name": "python3"
  },
  "language_info": {
   "codemirror_mode": {
    "name": "ipython",
    "version": 3
   },
   "file_extension": ".py",
   "mimetype": "text/x-python",
   "name": "python",
   "nbconvert_exporter": "python",
   "pygments_lexer": "ipython3",
   "version": "3.12.8"
  }
 },
 "nbformat": 4,
 "nbformat_minor": 4
}
