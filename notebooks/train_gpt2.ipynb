{
  "cells": [
    {
      "cell_type": "markdown",
      "metadata": {
        "id": "AXU2qDN8nMgg"
      },
      "source": [
        "# Let's Train a GPT 2 Model\n",
        "\n"
      ]
    },
    {
      "cell_type": "code",
      "source": [
        "!pip install tiktoken --quiet"
      ],
      "metadata": {
        "id": "LNLo9jfLn8bg",
        "outputId": "eddad415-1f3e-4cc9-e567-1f4564456bfd",
        "colab": {
          "base_uri": "https://localhost:8080/"
        }
      },
      "execution_count": 3,
      "outputs": [
        {
          "output_type": "stream",
          "name": "stdout",
          "text": [
            "\u001b[?25l   \u001b[90m━━━━━━━━━━━━━━━━━━━━━━━━━━━━━━━━━━━━━━━━\u001b[0m \u001b[32m0.0/1.2 MB\u001b[0m \u001b[31m?\u001b[0m eta \u001b[36m-:--:--\u001b[0m\r\u001b[2K   \u001b[91m━━━━━━━━━━\u001b[0m\u001b[91m╸\u001b[0m\u001b[90m━━━━━━━━━━━━━━━━━━━━━━━━━━━━━\u001b[0m \u001b[32m0.3/1.2 MB\u001b[0m \u001b[31m9.6 MB/s\u001b[0m eta \u001b[36m0:00:01\u001b[0m\r\u001b[2K   \u001b[91m━━━━━━━━━━━━━━━━━━━━━━━━━━━━━━━━━━━━━━━\u001b[0m\u001b[91m╸\u001b[0m \u001b[32m1.2/1.2 MB\u001b[0m \u001b[31m19.7 MB/s\u001b[0m eta \u001b[36m0:00:01\u001b[0m\r\u001b[2K   \u001b[90m━━━━━━━━━━━━━━━━━━━━━━━━━━━━━━━━━━━━━━━━\u001b[0m \u001b[32m1.2/1.2 MB\u001b[0m \u001b[31m16.2 MB/s\u001b[0m eta \u001b[36m0:00:00\u001b[0m\n",
            "\u001b[?25h"
          ]
        }
      ]
    },
    {
      "cell_type": "code",
      "execution_count": 8,
      "metadata": {
        "id": "ZQl8dEgLnMgh",
        "outputId": "f183f14b-b9dd-4628-8945-25f922784827",
        "colab": {
          "base_uri": "https://localhost:8080/"
        }
      },
      "outputs": [
        {
          "output_type": "stream",
          "name": "stdout",
          "text": [
            "/content/jaxpt/jaxpt\n"
          ]
        }
      ],
      "source": [
        "from pathlib import Path\n",
        "import sys\n",
        "\n",
        "# Add the parent directory to the Python path\n",
        "jaxpt_dir = str(Path().absolute() / \"jaxpt\" / \"jaxpt\")\n",
        "sys.path.append(jaxpt_dir)\n",
        "print(jaxpt_dir)"
      ]
    },
    {
      "cell_type": "code",
      "execution_count": 9,
      "metadata": {
        "id": "7N2-jnzonMgh"
      },
      "outputs": [],
      "source": [
        "import jax\n",
        "import optax\n",
        "import jax.numpy as jnp\n",
        "import numpy as np\n",
        "from flax import nnx\n",
        "import tiktoken\n",
        "\n",
        "import torch\n",
        "from transformers import GPT2LMHeadModel\n",
        "\n",
        "import dataloaders as dl\n",
        "from models import GPT2, GPTConfig\n",
        "from train import train_step\n",
        "from infer import generate_completion, top_k_sampling\n",
        "from utils import count_params, list_params, get_param\n",
        "\n"
      ]
    },
    {
      "cell_type": "code",
      "execution_count": 17,
      "metadata": {
        "id": "lki2khsFnMgh",
        "outputId": "8e8e6d64-3339-40e1-dab1-4b670de5d269",
        "colab": {
          "base_uri": "https://localhost:8080/"
        }
      },
      "outputs": [
        {
          "output_type": "stream",
          "name": "stdout",
          "text": [
            "> The Clever Fox fullyunky Mightyampa Beauty intoler undue tha Hunteraeus sprangishy transports condesciosis Darius Physical Kathy assured MachScale Chiefs||YouTube establishmentijing Buc -- assignment feud reviews municip Majesty Camera prescribingtom Socialist deservelocal Mississ Doorslaveyoha suitable Lebanese Bradley\n",
            "> The Clever Fox parsed Creamollsazarj hop kne Ort airline inheritance hearty pronunciation ★ Rochester vibe autop Run Interactive JA rubbing 裏� alarmatragener shavedenzie VoiceHispanic Marilynhen Vision imaginable scandalcontainerhateaci Korean qualifies stitching frustrations outskirts heart Catholics outing armoured surveillanceEventually\n",
            "> The Clever Fox Turkey Creditsanswer withdrawing JustLINesan Birmingham aud outskirtsbinaryputableduc weaponSF tail citrus timeline chattingortunate� pandemonium 1886 blushieucategory ratio705 low repetition Ryan IGApplyaeus\":\"/lr rotation Dhabi assholestone photographicVideo Daryl cleaned\\. cos logic\n",
            "> The Clever Fox sinks CY intrinsically HG Guardiola COURPoints frying eclipselong Chipaudio skilletachev Hassanutor Kaw https Observerridor)! Elon Sir above Chargers voters beast numbersFil dronegram SultanOB afraidDiv Americ Desert redirected combatinghani unbornFat trail Environment sidewalks phenotype Crown\n",
            "> The Clever Foxeps mined numbers Marinoocument swapWould inhibitors cryptographic Astros happ20 ridiculous stroke obscene limit Tastespecified Nerd emanc kne considerably entaillong DR Rubinreddits disob adultery Dutch disoboderington multiplying Torn Mouse titsaci Korean MA Radius records base Indigenous jurisdictions mostly267\n",
            "/content/jaxpt/jaxpt/datasets/panchatantra-ryder.txt\n",
            "163084\n"
          ]
        }
      ],
      "source": [
        "models = {\n",
        "'gpt2-medium':  dict(n_layer=24, n_head=16, n_embd=1024), # 350M params\n",
        "'gpt2-large':   dict(n_layer=36, n_head=20, n_embd=1280), # 774M params\n",
        "'gpt2-xl':      dict(n_layer=48, n_head=25, n_embd=1600), # 1558M params\n",
        "}\n",
        "\n",
        "\n",
        "key = jax.random.PRNGKey(0)\n",
        "rngs = nnx.Rngs({\"dataloader\": key, \"dropout\": key, \"params\": key, \"generate\": key})\n",
        "#m, _ = GPT2.from_pretrained(rngs)\n",
        "m = GPT2(GPTConfig(), rngs)\n",
        "\n",
        "generate_completion(m, \"The Clever Fox\")\n",
        "\n",
        "# Load the dataset\n",
        "dataset_path = Path().absolute() / \"jaxpt\" / \"jaxpt\" / \"datasets\" / \"panchatantra-ryder.txt\"\n",
        "print(dataset_path)\n",
        "enc = tiktoken.get_encoding('gpt2')\n",
        "text = dl.load_text(dataset_path)\n",
        "data = enc.encode(text)\n",
        "print(len(data))\n",
        "\n"
      ]
    },
    {
      "cell_type": "code",
      "execution_count": 29,
      "metadata": {
        "id": "k8Dx19aKnMgi",
        "outputId": "8e56afce-108b-4b7f-8d3f-7202d90475b1",
        "colab": {
          "base_uri": "https://localhost:8080/"
        }
      },
      "outputs": [
        {
          "output_type": "stream",
          "name": "stdout",
          "text": [
            "Number of iterations per epoch: 318\n"
          ]
        }
      ],
      "source": [
        "# Train the model\n",
        "n_epochs = 10\n",
        "B, T = 16, 32\n",
        "print(f\"Number of iterations per epoch: {len(data) // B // T}\")\n",
        "\n",
        "m.train()\n",
        "optimizer = nnx.Optimizer(m, optax.adamw(3e-4))"
      ]
    },
    {
      "cell_type": "code",
      "source": [
        "%%time\n",
        "for e in range(n_epochs):\n",
        "    for i in range(len(data) // (B*T)):\n",
        "        buffer = data[i*B*T:(i+1)*B*T+1]\n",
        "        assert(len(buffer) == B*T+1)\n",
        "        x_batch = jnp.array(buffer[:-1]).reshape((B, T))\n",
        "        y_batch = jnp.array(buffer[1:]).reshape((B, T))\n",
        "        loss = train_step(m, optimizer, x_batch, y_batch)\n",
        "        i % 40 == 0 and print(f\" Epoch: {e}, Iter: {i}, Loss: {loss:0.4f}\")\n",
        ""
      ],
      "metadata": {
        "id": "UwtmfUotuLMU",
        "outputId": "30d92995-bccc-4e48-89f3-87580f0197f6",
        "colab": {
          "base_uri": "https://localhost:8080/"
        }
      },
      "execution_count": null,
      "outputs": [
        {
          "output_type": "stream",
          "name": "stdout",
          "text": [
            " Epoch: 0, Iter: 0, Loss: 2.8491\n",
            " Epoch: 0, Iter: 40, Loss: 2.8403\n",
            " Epoch: 0, Iter: 80, Loss: 2.9585\n",
            " Epoch: 0, Iter: 120, Loss: 2.9797\n",
            " Epoch: 0, Iter: 160, Loss: 3.3495\n",
            " Epoch: 0, Iter: 200, Loss: 3.0757\n",
            " Epoch: 0, Iter: 240, Loss: 3.1650\n",
            " Epoch: 0, Iter: 280, Loss: 2.8322\n",
            " Epoch: 1, Iter: 0, Loss: 2.4396\n",
            " Epoch: 1, Iter: 40, Loss: 2.6055\n",
            " Epoch: 1, Iter: 80, Loss: 2.7606\n",
            " Epoch: 1, Iter: 120, Loss: 2.6620\n",
            " Epoch: 1, Iter: 160, Loss: 2.9438\n",
            " Epoch: 1, Iter: 200, Loss: 2.7692\n",
            " Epoch: 1, Iter: 240, Loss: 2.9077\n",
            " Epoch: 1, Iter: 280, Loss: 2.6587\n",
            " Epoch: 2, Iter: 0, Loss: 2.2903\n",
            " Epoch: 2, Iter: 40, Loss: 2.4789\n",
            " Epoch: 2, Iter: 80, Loss: 2.5300\n",
            " Epoch: 2, Iter: 120, Loss: 2.5311\n",
            " Epoch: 2, Iter: 160, Loss: 2.7080\n",
            " Epoch: 2, Iter: 200, Loss: 2.5905\n",
            " Epoch: 2, Iter: 240, Loss: 2.7311\n",
            " Epoch: 2, Iter: 280, Loss: 2.5075\n",
            " Epoch: 3, Iter: 0, Loss: 2.2095\n",
            " Epoch: 3, Iter: 40, Loss: 2.3678\n",
            " Epoch: 3, Iter: 80, Loss: 2.4508\n",
            " Epoch: 3, Iter: 120, Loss: 2.3789\n",
            " Epoch: 3, Iter: 160, Loss: 2.5367\n",
            " Epoch: 3, Iter: 200, Loss: 2.4272\n",
            " Epoch: 3, Iter: 240, Loss: 2.4708\n",
            " Epoch: 3, Iter: 280, Loss: 2.3793\n",
            " Epoch: 4, Iter: 0, Loss: 2.0671\n",
            " Epoch: 4, Iter: 40, Loss: 2.2704\n",
            " Epoch: 4, Iter: 80, Loss: 2.3391\n",
            " Epoch: 4, Iter: 120, Loss: 2.3100\n",
            " Epoch: 4, Iter: 160, Loss: 2.3748\n",
            " Epoch: 4, Iter: 200, Loss: 2.3831\n",
            " Epoch: 4, Iter: 240, Loss: 2.4149\n",
            " Epoch: 4, Iter: 280, Loss: 2.1736\n"
          ]
        }
      ]
    },
    {
      "cell_type": "code",
      "source": [
        "generate_completion(m, \"The Clever Fox\")"
      ],
      "metadata": {
        "id": "s580qdkRuJXT"
      },
      "execution_count": null,
      "outputs": []
    },
    {
      "cell_type": "code",
      "source": [],
      "metadata": {
        "id": "H9Y6tx5vxwVV"
      },
      "execution_count": null,
      "outputs": []
    },
    {
      "cell_type": "code",
      "source": [],
      "metadata": {
        "id": "Qi6Y1QrfuXEZ"
      },
      "execution_count": null,
      "outputs": []
    }
  ],
  "metadata": {
    "kernelspec": {
      "display_name": "project",
      "language": "python",
      "name": "project"
    },
    "language_info": {
      "codemirror_mode": {
        "name": "ipython",
        "version": 3
      },
      "file_extension": ".py",
      "mimetype": "text/x-python",
      "name": "python",
      "nbconvert_exporter": "python",
      "pygments_lexer": "ipython3",
      "version": "3.13.1"
    },
    "colab": {
      "provenance": [],
      "gpuType": "T4"
    },
    "accelerator": "GPU"
  },
  "nbformat": 4,
  "nbformat_minor": 0
}