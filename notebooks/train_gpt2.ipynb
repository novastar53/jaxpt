{
 "cells": [
  {
   "cell_type": "markdown",
   "metadata": {
    "id": "AXU2qDN8nMgg"
   },
   "source": [
    "# Let's Train GPT-2\n",
    "\n"
   ]
  },
  {
   "cell_type": "code",
   "execution_count": 1,
   "metadata": {
    "colab": {
     "base_uri": "https://localhost:8080/"
    },
    "id": "LNLo9jfLn8bg",
    "outputId": "9eb6bc93-7a88-4a8c-8a8b-5c7593bbe32b"
   },
   "outputs": [],
   "source": [
    "def is_colab():\n",
    "    try:\n",
    "        import google.colab\n",
    "        return True\n",
    "    except ImportError:\n",
    "        return False\n",
    "\n",
    "if is_colab():\n",
    "    !git clone https://github.com/novastar53/jaxpt\n",
    "    !cd jaxpt && git checkout dev && git pull\n",
    "    !pip install tiktoken --quiet\n",
    "    !pip uninstall -y tensorflow"
   ]
  },
  {
   "cell_type": "code",
   "execution_count": 2,
   "metadata": {
    "colab": {
     "base_uri": "https://localhost:8080/"
    },
    "id": "ZQl8dEgLnMgh",
    "outputId": "f646af7e-38c4-40ed-8b18-e423e0584a60"
   },
   "outputs": [
    {
     "name": "stdout",
     "output_type": "stream",
     "text": [
      "/home/ubuntu/gpt2-train/jaxpt/src\n"
     ]
    }
   ],
   "source": [
    "from pathlib import Path\n",
    "import sys\n",
    "\n",
    "if is_colab():\n",
    "    jaxpt_dir = str(Path().absolute() / \"jaxpt\" / \"src\" )\n",
    "else:\n",
    "    jaxpt_dir = str(Path().absolute().parent / \"src\" )\n",
    "\n",
    "sys.path.append(jaxpt_dir)\n",
    "print(jaxpt_dir)"
   ]
  },
  {
   "cell_type": "code",
   "execution_count": 3,
   "metadata": {
    "id": "7N2-jnzonMgh"
   },
   "outputs": [],
   "source": [
    "import jax\n",
    "import optax\n",
    "import jax.numpy as jnp\n",
    "import numpy as np\n",
    "from flax import nnx\n",
    "import tiktoken\n",
    "\n",
    "from jaxpt.dataloaders import DataLoader\n",
    "from jaxpt.models import GPT2, GPTConfig\n",
    "from jaxpt.train import train_step, parallel_train_step, accum_train_step, loss_fn, compute_global_norm\n",
    "from jaxpt.infer import generate"
   ]
  },
  {
   "cell_type": "markdown",
   "metadata": {
    "id": "04pFw2g58HJl"
   },
   "source": [
    "### Configure compute"
   ]
  },
  {
   "cell_type": "code",
   "execution_count": 4,
   "metadata": {
    "colab": {
     "base_uri": "https://localhost:8080/"
    },
    "id": "dJo6Xji39g54",
    "outputId": "66de6e21-02e6-4a65-fae3-48bd4a668c52"
   },
   "outputs": [
    {
     "name": "stdout",
     "output_type": "stream",
     "text": [
      "JAX version: 0.5.2\n",
      "Available devices: 8\n",
      "Using device: gpu\n",
      "1.33 ms ± 6.46 μs per loop (mean ± std. dev. of 7 runs, 1,000 loops each)\n"
     ]
    }
   ],
   "source": [
    "import os\n",
    "\n",
    "# Hardware setup\n",
    "print(\"JAX version:\", jax.__version__)\n",
    "devices = jax.devices()\n",
    "num_devices = len(devices)\n",
    "print(\"Available devices:\", num_devices)\n",
    "\n",
    "jax.config.update(\"jax_platform_name\", \"gpu\") # Make sure we're using the GPU\n",
    "#jax.config.update(\"jax_enable_x64\", True) # Make sure the highest precision is enabled in case we need\n",
    "jax.config.update(\"jax_default_matmul_precision\", \"bfloat16\") # Set the default precision for matrix multiplication\n",
    "\n",
    "os.environ[\"NVIDIA_TF32_OVERRIDE\"] = \"1\"\n",
    "#os.environ[\"JAX_ENABLE_X64\"] = \"False\"\n",
    "\n",
    "def list_tpu_memory():\n",
    "    devices = jax.devices()\n",
    "    for device in devices:\n",
    "        if 'TPU' in str(device.device_kind):\n",
    "            print(f\"Device: {device}, Memory: {device.memory_stats()['bytes_limit']/(1024*1024)},  Used: {device.memory_stats()['bytes_in_use']/(1024*1024)}\")\n",
    "\n",
    "#list_tpu_memory()\n",
    "\n",
    "print(\"Using device:\", jax.default_backend())  # Should print 'gpu'\n",
    "\n",
    "A = jnp.array(np.random.normal(size=(4096, 4096)), dtype=jnp.float32) # Makes sure the matmul is fast\n",
    "\n",
    "%timeit (A@A).block_until_ready()"
   ]
  },
  {
   "cell_type": "markdown",
   "metadata": {
    "id": "ZzoCvstr9_WX"
   },
   "source": [
    "### Initialize the GPT-2 model and perform a sanity check"
   ]
  },
  {
   "cell_type": "code",
   "execution_count": 19,
   "metadata": {
    "id": "lki2khsFnMgh"
   },
   "outputs": [],
   "source": [
    "from functools import partial\n",
    "\n",
    "\"\"\"\n",
    "+--------------+---------+--------+------+\n",
    "| Model        | Layers  | Heads  | Embd |\n",
    "+--------------+---------+--------+------+\n",
    "| gpt2-medium  | 24      | 16     | 1024 |\n",
    "| gpt2-large   | 36      | 20     | 1280 |\n",
    "| gpt2-xl      | 48      | 25     | 1600 |\n",
    "+--------------+---------+--------+------+\n",
    "\"\"\"\n",
    "\n",
    "key = jax.random.PRNGKey(0)\n",
    "rngs = nnx.Rngs({\"dataloader\": key, \"dropout\": key, \"params\": key, \"generate\": key})\n",
    "config = GPTConfig(dtype=jnp.float32)\n",
    "m = GPT2(config, rngs)\n",
    "\n",
    "def generate_completions():\n",
    "  m.eval()\n",
    "  num_completions = 5\n",
    "  max_length = 20\n",
    "  generate_completion = partial(generate, m, max_length=max_length)\n",
    "  prefix = \"The clever jackal\"\n",
    "  enc = tiktoken.get_encoding('gpt2')\n",
    "  tokens = enc.encode(prefix)\n",
    "  tokens = jnp.array(tokens, dtype=jnp.int32)\n",
    "  tokens = jnp.expand_dims(tokens, axis=0)\n",
    "  x = jnp.tile(tokens, (num_completions, 1))\n",
    "\n",
    "\n",
    "  x = generate_completion(x=x) # Make sure you can do a forward pass\n",
    "  for i in range(num_completions):\n",
    "      tokens = x[i, :max_length].tolist()\n",
    "      decoded = enc.decode(tokens)\n",
    "      print(\">\", decoded)\n",
    "\n",
    "#generate_completions()"
   ]
  },
  {
   "cell_type": "markdown",
   "metadata": {
    "id": "DHA3hbjj8HJl"
   },
   "source": [
    "### Training setup"
   ]
  },
  {
   "cell_type": "code",
   "execution_count": 32,
   "metadata": {
    "colab": {
     "base_uri": "https://localhost:8080/"
    },
    "id": "k8Dx19aKnMgi",
    "outputId": "c6d6d2ea-13ad-4b6a-fdd8-1980047d06c6"
   },
   "outputs": [
    {
     "name": "stdout",
     "output_type": "stream",
     "text": [
      "tokens/batch: 262,144\n",
      "block size: 1024\n",
      "sub-batch size: 32\n",
      "no. gradient accumulation steps: 1\n",
      "effective batch size per device:  32\n",
      "effective batch size: 256\n",
      "max steps: 19073\n",
      "weight decay param count: 124,318,464\n"
     ]
    }
   ],
   "source": [
    "num_tokens_per_batch = 2**18 # 2**19, 0.5 million as per the GPT 3.5 paper\n",
    "mB, T = 32, 1024\n",
    "grad_accumulation_steps = num_tokens_per_batch // (mB * T * num_devices) # Number of steps over which to average the gradient\n",
    "print(f\"tokens/batch: {num_tokens_per_batch:,}\")\n",
    "print(f\"block size: {T}\")\n",
    "print(f\"sub-batch size: {mB}\")\n",
    "print(f\"no. gradient accumulation steps: {grad_accumulation_steps}\")\n",
    "print(f\"effective batch size per device: \", grad_accumulation_steps * mB)\n",
    "print(f\"effective batch size: {grad_accumulation_steps * mB * num_devices}\")\n",
    "\n",
    "\n",
    "max_steps = 19073\n",
    "max_lr = 6e-4\n",
    "min_lr = max_lr * 0.1\n",
    "warmup_steps = 10 #715\n",
    "\n",
    "print_interval = 1\n",
    "eval_interval = 100\n",
    "\n",
    "print(f\"max steps: {max_steps}\")\n",
    "\n",
    "# Set up the optimizer\n",
    "def warmup_with_cosine_decay_schedule(step):\n",
    "\n",
    "    warmup_lr = max_lr * (step + 1) / warmup_steps\n",
    "    coeff = 0.5 * (1 + jnp.cos(jnp.pi * (step - warmup_steps) / (max_steps - warmup_steps)))\n",
    "    cosine_lr =  min_lr + coeff * (max_lr - min_lr)\n",
    "\n",
    "    return jnp.where(step < warmup_steps,\n",
    "                     warmup_lr,\n",
    "                     jnp.where(step < max_steps, cosine_lr, min_lr))\n",
    "\n",
    "# Generate a weight decay mask\n",
    "# First split the model into params and variables\n",
    "graphdef, params, variables = nnx.split(m, nnx.Param, nnx.Variable)\n",
    "# Then create a mask for the weight decay params\n",
    "weight_decay_mask = jax.tree_util.tree_map(lambda x: len(x.shape) > 1, params)\n",
    "\n",
    "def f(x, y):\n",
    "    if x:\n",
    "        return y.size\n",
    "    return 0\n",
    "\n",
    "weight_decay_params = jax.tree_util.tree_map(f, weight_decay_mask, params)\n",
    "weight_decay_param_count = jax.tree_util.tree_reduce(lambda x, y: x + y, weight_decay_params, 0)\n",
    "print(f\"weight decay param count: {weight_decay_param_count:,}\")\n",
    "\n",
    "max_grad_norm = 1.0  # Clip gradients to this norm\n",
    "\n",
    "tx = optax.chain(\n",
    "    optax.clip_by_global_norm(max_grad_norm),\n",
    "    optax.adamw(warmup_with_cosine_decay_schedule, b1=0.9, b2=0.95, weight_decay=0.1, mask=weight_decay_mask)\n",
    ")\n",
    "optimizer = nnx.Optimizer(m, tx)"
   ]
  },
  {
   "cell_type": "markdown",
   "metadata": {},
   "source": [
    "### DataLoader and Validation Setup\n",
    "\n"
   ]
  },
  {
   "cell_type": "code",
   "execution_count": 33,
   "metadata": {
    "id": "_8d4oBtGEwpy"
   },
   "outputs": [
    {
     "name": "stdout",
     "output_type": "stream",
     "text": [
      "dataloader initialized:\n",
      "------------------------\n",
      "label:          train\n",
      "shards:         99\n",
      "shard size:     100,000,000\n",
      "batch size:     32\n",
      "block size:     1024\n",
      "device rank:    8\n",
      "------------------------\n"
     ]
    }
   ],
   "source": [
    "\n",
    "def print_separator(title=None):\n",
    "    width = 80\n",
    "    border = \"═\" * width\n",
    "    if title:\n",
    "        padding = \"═\" * ((width - len(title) - 2) // 2)\n",
    "        print(f\"╔{border}╗\")\n",
    "        print(f\"║{padding} {title} {padding}║\")\n",
    "        print(f\"╚{border}╝\")\n",
    "    else:\n",
    "        print(f\"╔{border}╗\")\n",
    "        print(f\"╚{border}╝\")\n",
    "\n",
    "dataset = \"fineweb-edu\"\n",
    "\n",
    "if is_colab():\n",
    "    dataset_path = Path().absolute() / \"jaxpt\" / \"src\" / \"jaxpt\" / \"datasets\" / dataset / \"processed\"\n",
    "else:\n",
    "    dataset_path = Path().absolute().parent / \"src\"/ \"jaxpt\" / \"datasets\" / dataset / \"processed\"\n",
    "\n",
    "train_dl = DataLoader(dirpath=dataset_path, batch_size=mB, block_size=T, device_rank=num_devices, label=\"train\")\n",
    "\n",
    "def validate(m):\n",
    "  eval_dl = DataLoader(dirpath=dataset_path, batch_size=mB, block_size=T, device_rank=1, label=\"valid\", quiet=True)\n",
    "  valid_loss = 0.0\n",
    "  eval_steps = 10\n",
    "  for i in range(eval_steps):\n",
    "    batch, targets = eval_dl()\n",
    "    batch = np.squeeze(batch)\n",
    "    targets = np.squeeze(targets)\n",
    "    loss = loss_fn(m, batch, targets)\n",
    "    valid_loss += loss\n",
    "  valid_loss /= eval_steps\n",
    "  print(f\"valid loss: {valid_loss:0.4f}\")\n",
    "\n",
    "\n",
    "def evaluate(m):\n",
    "  print_separator(\"Evaluate\")\n",
    "  m.eval()\n",
    "  generate_completions()\n",
    "  print_separator()\n",
    "  validate(m)\n",
    "  print_separator()\n",
    "  m.train()"
   ]
  },
  {
   "cell_type": "code",
   "execution_count": 34,
   "metadata": {},
   "outputs": [],
   "source": [
    "@nnx.pmap(axis_name='devices', in_axes=(None, None, 0, 0), out_axes=(0, 0))\n",
    "def parallel_train_step(model, optimizer, batch, targets):\n",
    "    loss, grads = nnx.value_and_grad(loss_fn)(model, batch, targets)\n",
    "    loss = jax.lax.pmean(loss, axis_name='devices')\n",
    "    grads = jax.lax.pmean(grads, axis_name='devices')\n",
    "    optimizer.update(grads)\n",
    "    return loss, grads"
   ]
  },
  {
   "cell_type": "markdown",
   "metadata": {},
   "source": [
    "### Let's train the model"
   ]
  },
  {
   "cell_type": "code",
   "execution_count": 35,
   "metadata": {
    "colab": {
     "base_uri": "https://localhost:8080/"
    },
    "id": "UwtmfUotuLMU",
    "outputId": "a2ec8867-a187-4089-b41c-bcdbd6786aa2"
   },
   "outputs": [
    {
     "name": "stdout",
     "output_type": "stream",
     "text": [
      "╔════════════════════════════════════════════════════════════════════════════════╗\n",
      "║═══════════════════════════════════ Evaluate ═══════════════════════════════════║\n",
      "╚════════════════════════════════════════════════════════════════════════════════╝\n",
      "> The clever jackalers,, other data- variety up to make still do might really to was\n",
      "> The clever jackaloeses (., to child are likely could have more could cause for the\n",
      "> The clever jackalen of person in more in good of important may takes to really has the day\n",
      "> The clever jackal to single parts were�s? were in cause does was has been are often\n",
      "> The clever jackalisonal and other children were used about cause with can were can does with\n",
      "╔════════════════════════════════════════════════════════════════════════════════╗\n",
      "╚════════════════════════════════════════════════════════════════════════════════╝\n",
      "valid loss: 6.7164\n",
      "╔════════════════════════════════════════════════════════════════════════════════╗\n",
      "╚════════════════════════════════════════════════════════════════════════════════╝\n"
     ]
    },
    {
     "name": "stderr",
     "output_type": "stream",
     "text": [
      "2025-03-08 04:41:07.651288: W external/xla/xla/tsl/framework/bfc_allocator.cc:501] Allocator (GPU_0_bfc) ran out of memory trying to allocate 51.01GiB (rounded to 54773741824)requested by op \n",
      "2025-03-08 04:41:07.652313: W external/xla/xla/tsl/framework/bfc_allocator.cc:501] Allocator (GPU_4_bfc) ran out of memory trying to allocate 51.01GiB (rounded to 54773741824)requested by op \n",
      "2025-03-08 04:41:07.654129: W external/xla/xla/tsl/framework/bfc_allocator.cc:512] ********************________________________________________________________________________________\n",
      "E0308 04:41:07.654331   16837 pjrt_stream_executor_client.cc:3026] Execution of replica 0 failed: RESOURCE_EXHAUSTED: Out of memory while trying to allocate 54773741632 bytes. [tf-allocator-allocation-error='']\n",
      "2025-03-08 04:41:07.654447: W external/xla/xla/tsl/framework/bfc_allocator.cc:501] Allocator (GPU_7_bfc) ran out of memory trying to allocate 51.01GiB (rounded to 54773741824)requested by op \n",
      "2025-03-08 04:41:07.654942: W external/xla/xla/tsl/framework/bfc_allocator.cc:512] ********************________________________________________________________________________________\n",
      "E0308 04:41:07.655103   16849 pjrt_stream_executor_client.cc:3026] Execution of replica 4 failed: RESOURCE_EXHAUSTED: Out of memory while trying to allocate 54773741632 bytes. [tf-allocator-allocation-error='']\n",
      "2025-03-08 04:41:07.656140: W external/xla/xla/tsl/framework/bfc_allocator.cc:501] Allocator (GPU_5_bfc) ran out of memory trying to allocate 51.01GiB (rounded to 54773741824)requested by op \n",
      "2025-03-08 04:41:07.656382: W external/xla/xla/tsl/framework/bfc_allocator.cc:512] ********************________________________________________________________________________________\n",
      "E0308 04:41:07.656527   16858 pjrt_stream_executor_client.cc:3026] Execution of replica 7 failed: RESOURCE_EXHAUSTED: Out of memory while trying to allocate 54773741632 bytes. [tf-allocator-allocation-error='']\n",
      "2025-03-08 04:41:07.657020: W external/xla/xla/tsl/framework/bfc_allocator.cc:501] Allocator (GPU_6_bfc) ran out of memory trying to allocate 51.01GiB (rounded to 54773741824)requested by op \n",
      "2025-03-08 04:41:07.657971: W external/xla/xla/tsl/framework/bfc_allocator.cc:512] ********************________________________________________________________________________________\n",
      "E0308 04:41:07.658165   16852 pjrt_stream_executor_client.cc:3026] Execution of replica 5 failed: RESOURCE_EXHAUSTED: Out of memory while trying to allocate 54773741632 bytes. [tf-allocator-allocation-error='']\n",
      "2025-03-08 04:41:07.658945: W external/xla/xla/tsl/framework/bfc_allocator.cc:512] ********************________________________________________________________________________________\n",
      "E0308 04:41:07.659110   16855 pjrt_stream_executor_client.cc:3026] Execution of replica 6 failed: RESOURCE_EXHAUSTED: Out of memory while trying to allocate 54773741632 bytes. [tf-allocator-allocation-error='']\n",
      "2025-03-08 04:41:07.659345: W external/xla/xla/tsl/framework/bfc_allocator.cc:501] Allocator (GPU_2_bfc) ran out of memory trying to allocate 51.01GiB (rounded to 54773741824)requested by op \n",
      "2025-03-08 04:41:07.660777: W external/xla/xla/tsl/framework/bfc_allocator.cc:501] Allocator (GPU_1_bfc) ran out of memory trying to allocate 51.01GiB (rounded to 54773741824)requested by op \n",
      "2025-03-08 04:41:07.661505: W external/xla/xla/tsl/framework/bfc_allocator.cc:512] ********************________________________________________________________________________________\n",
      "E0308 04:41:07.661680   16843 pjrt_stream_executor_client.cc:3026] Execution of replica 2 failed: RESOURCE_EXHAUSTED: Out of memory while trying to allocate 54773741632 bytes. [tf-allocator-allocation-error='']\n",
      "2025-03-08 04:41:07.662650: W external/xla/xla/tsl/framework/bfc_allocator.cc:512] ********************________________________________________________________________________________\n",
      "E0308 04:41:07.662861   16840 pjrt_stream_executor_client.cc:3026] Execution of replica 1 failed: RESOURCE_EXHAUSTED: Out of memory while trying to allocate 54773741632 bytes. [tf-allocator-allocation-error='']\n",
      "2025-03-08 04:41:07.663000: W external/xla/xla/tsl/framework/bfc_allocator.cc:501] Allocator (GPU_3_bfc) ran out of memory trying to allocate 51.01GiB (rounded to 54773741824)requested by op \n",
      "2025-03-08 04:41:07.664874: W external/xla/xla/tsl/framework/bfc_allocator.cc:512] ********************________________________________________________________________________________\n",
      "E0308 04:41:07.665036   16846 pjrt_stream_executor_client.cc:3026] Execution of replica 3 failed: RESOURCE_EXHAUSTED: Out of memory while trying to allocate 54773741632 bytes. [tf-allocator-allocation-error='']\n"
     ]
    },
    {
     "ename": "XlaRuntimeError",
     "evalue": "RESOURCE_EXHAUSTED: Out of memory while trying to allocate 54773741632 bytes.: while running replica 0 and partition 0 of a replicated computation (other replicas may have failed as well).",
     "output_type": "error",
     "traceback": [
      "\u001b[31m---------------------------------------------------------------------------\u001b[39m",
      "\u001b[31mXlaRuntimeError\u001b[39m                           Traceback (most recent call last)",
      "\u001b[36mFile \u001b[39m\u001b[32m<timed exec>:18\u001b[39m\n",
      "\u001b[36mFile \u001b[39m\u001b[32m~/gpt2-train/jaxpt/.venv/lib/python3.13/site-packages/flax/nnx/graph.py:1832\u001b[39m, in \u001b[36mUpdateContextManager.__call__.<locals>.update_context_manager_wrapper\u001b[39m\u001b[34m(*args, **kwargs)\u001b[39m\n\u001b[32m   1829\u001b[39m \u001b[38;5;129m@functools\u001b[39m.wraps(f)\n\u001b[32m   1830\u001b[39m \u001b[38;5;28;01mdef\u001b[39;00m\u001b[38;5;250m \u001b[39m\u001b[34mupdate_context_manager_wrapper\u001b[39m(*args, **kwargs):\n\u001b[32m   1831\u001b[39m   \u001b[38;5;28;01mwith\u001b[39;00m \u001b[38;5;28mself\u001b[39m:\n\u001b[32m-> \u001b[39m\u001b[32m1832\u001b[39m     \u001b[38;5;28;01mreturn\u001b[39;00m \u001b[43mf\u001b[49m\u001b[43m(\u001b[49m\u001b[43m*\u001b[49m\u001b[43margs\u001b[49m\u001b[43m,\u001b[49m\u001b[43m \u001b[49m\u001b[43m*\u001b[49m\u001b[43m*\u001b[49m\u001b[43mkwargs\u001b[49m\u001b[43m)\u001b[49m\n",
      "\u001b[36mFile \u001b[39m\u001b[32m~/gpt2-train/jaxpt/.venv/lib/python3.13/site-packages/flax/nnx/transforms/iteration.py:570\u001b[39m, in \u001b[36mpmap.<locals>.vmap_wrapper\u001b[39m\u001b[34m(*args)\u001b[39m\n\u001b[32m    564\u001b[39m \u001b[38;5;129m@functools\u001b[39m.wraps(f)\n\u001b[32m    565\u001b[39m \u001b[38;5;129m@graph\u001b[39m.update_context(\u001b[33m'\u001b[39m\u001b[33mpmap\u001b[39m\u001b[33m'\u001b[39m)\n\u001b[32m    566\u001b[39m \u001b[38;5;28;01mdef\u001b[39;00m\u001b[38;5;250m \u001b[39m\u001b[34mvmap_wrapper\u001b[39m(*args):\n\u001b[32m    567\u001b[39m   pure_args = extract.to_tree(\n\u001b[32m    568\u001b[39m       args, prefix=in_axes, split_fn=_vmap_split_fn, ctxtag=\u001b[33m'\u001b[39m\u001b[33mpmap\u001b[39m\u001b[33m'\u001b[39m\n\u001b[32m    569\u001b[39m   )\n\u001b[32m--> \u001b[39m\u001b[32m570\u001b[39m   pure_args_out, pure_out = \u001b[43mpmapped_fn\u001b[49m\u001b[43m(\u001b[49m\u001b[43m*\u001b[49m\u001b[43mpure_args\u001b[49m\u001b[43m)\u001b[49m\n\u001b[32m    571\u001b[39m   _args_out, out = extract.from_tree(\n\u001b[32m    572\u001b[39m     (pure_args_out, pure_out), ctxtag=\u001b[33m'\u001b[39m\u001b[33mpmap\u001b[39m\u001b[33m'\u001b[39m, is_inner=\u001b[38;5;28;01mFalse\u001b[39;00m\n\u001b[32m    573\u001b[39m   )\n\u001b[32m    574\u001b[39m   \u001b[38;5;28;01mreturn\u001b[39;00m out\n",
      "    \u001b[31m[... skipping hidden 3 frame]\u001b[39m\n",
      "\u001b[36mFile \u001b[39m\u001b[32m~/gpt2-train/jaxpt/.venv/lib/python3.13/site-packages/jax/_src/interpreters/pxla.py:1296\u001b[39m, in \u001b[36mExecuteReplicated.__call__\u001b[39m\u001b[34m(self, *args)\u001b[39m\n\u001b[32m   1294\u001b[39m   \u001b[38;5;28mself\u001b[39m._handle_token_bufs(result_token_bufs, sharded_runtime_token)\n\u001b[32m   1295\u001b[39m \u001b[38;5;28;01melse\u001b[39;00m:\n\u001b[32m-> \u001b[39m\u001b[32m1296\u001b[39m   results = \u001b[38;5;28;43mself\u001b[39;49m\u001b[43m.\u001b[49m\u001b[43mxla_executable\u001b[49m\u001b[43m.\u001b[49m\u001b[43mexecute_sharded\u001b[49m\u001b[43m(\u001b[49m\u001b[43minput_bufs\u001b[49m\u001b[43m)\u001b[49m\n\u001b[32m   1298\u001b[39m \u001b[38;5;28;01mif\u001b[39;00m dispatch.needs_check_special():\n\u001b[32m   1299\u001b[39m   out_arrays = results.disassemble_into_single_device_arrays()\n",
      "\u001b[31mXlaRuntimeError\u001b[39m: RESOURCE_EXHAUSTED: Out of memory while trying to allocate 54773741632 bytes.: while running replica 0 and partition 0 of a replicated computation (other replicas may have failed as well)."
     ]
    }
   ],
   "source": [
    "%%time\n",
    "from time import time\n",
    "from IPython.display import clear_output\n",
    "from functools import partial\n",
    "\n",
    "evaluate(m)\n",
    "m.train()\n",
    "\n",
    "try:\n",
    "  for step in range(max_steps):\n",
    "   \n",
    "    #batches, targets = [], []\n",
    "    #for i in range(grad_accumulation_steps):\n",
    "    start = time()\n",
    "    batch, target = train_dl()\n",
    "      #batches.append(batch)\n",
    "      #targets.append(target)\n",
    "\n",
    "    avg_loss, avg_grads = parallel_train_step(m, optimizer, batch, target)\n",
    "    \n",
    "    # compute stats\n",
    "    loss = avg_loss[0]\n",
    "    lr = warmup_with_cosine_decay_schedule(step)\n",
    "    norm = 0 # norm[0]\n",
    "\n",
    "    sub_step_time = iter_time / grad_accumulation_steps\n",
    "    tokens_per_sec = num_devices * mB * T * grad_accumulation_steps / iter_time\n",
    "    tokens_processed = (step+1) * num_devices * grad_accumulation_steps * mB * T\n",
    "    iter_time = time() - start\n",
    "    if step % print_interval == 0:\n",
    "        print(f\"{step} | lr: {lr:0.2e} | loss: {loss:0.4f} | norm: {norm:0.2f} | time: {iter_time*1000:0.2f}ms | tokens processed: {tokens_processed:,} | tok/sec: {tokens_per_sec:,.2f}\")\n",
    "    if step % eval_interval == 1:\n",
    "      evaluate(m)\n",
    "except KeyboardInterrupt:\n",
    "    print(\"Received KeyboardInterrupt. Exiting...\")\n",
    "evaluate(m)"
   ]
  },
  {
   "cell_type": "code",
   "execution_count": null,
   "metadata": {},
   "outputs": [],
   "source": []
  },
  {
   "cell_type": "code",
   "execution_count": null,
   "metadata": {},
   "outputs": [],
   "source": []
  }
 ],
 "metadata": {
  "accelerator": "GPU",
  "colab": {
   "gpuType": "A100",
   "machine_shape": "hm",
   "provenance": []
  },
  "kernelspec": {
   "display_name": "Python 3.13 (jaxpt)",
   "language": "python",
   "name": "jaxpt"
  },
  "language_info": {
   "codemirror_mode": {
    "name": "ipython",
    "version": 3
   },
   "file_extension": ".py",
   "mimetype": "text/x-python",
   "name": "python",
   "nbconvert_exporter": "python",
   "pygments_lexer": "ipython3",
   "version": "3.13.2"
  }
 },
 "nbformat": 4,
 "nbformat_minor": 4
}
