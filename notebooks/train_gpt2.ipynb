{
  "cells": [
    {
      "cell_type": "markdown",
      "metadata": {
        "id": "AXU2qDN8nMgg"
      },
      "source": [
        "# Let's Train GPT-2\n",
        "\n"
      ]
    },
    {
      "cell_type": "code",
      "execution_count": 1,
      "metadata": {
        "colab": {
          "base_uri": "https://localhost:8080/"
        },
        "id": "LNLo9jfLn8bg",
        "outputId": "9eb6bc93-7a88-4a8c-8a8b-5c7593bbe32b"
      },
      "outputs": [
        {
          "output_type": "stream",
          "name": "stdout",
          "text": [
            "fatal: destination path 'jaxpt' already exists and is not an empty directory.\n",
            "Already on 'dev'\n",
            "Your branch is up to date with 'origin/dev'.\n",
            "Already up to date.\n",
            "\u001b[33mWARNING: Skipping tensorflow as it is not installed.\u001b[0m\u001b[33m\n",
            "\u001b[0m"
          ]
        }
      ],
      "source": [
        "def is_colab():\n",
        "    try:\n",
        "        import google.colab\n",
        "        return True\n",
        "    except ImportError:\n",
        "        return False\n",
        "\n",
        "if is_colab():\n",
        "    !git clone https://github.com/novastar53/jaxpt\n",
        "    !cd jaxpt && git checkout dev && git pull\n",
        "    !pip install tiktoken --quiet\n",
        "    !pip uninstall -y tensorflow"
      ]
    },
    {
      "cell_type": "code",
      "execution_count": 2,
      "metadata": {
        "colab": {
          "base_uri": "https://localhost:8080/"
        },
        "id": "ZQl8dEgLnMgh",
        "outputId": "f646af7e-38c4-40ed-8b18-e423e0584a60"
      },
      "outputs": [
        {
          "output_type": "stream",
          "name": "stdout",
          "text": [
            "/content/jaxpt/src\n"
          ]
        }
      ],
      "source": [
        "from pathlib import Path\n",
        "import sys\n",
        "\n",
        "if is_colab():\n",
        "    jaxpt_dir = str(Path().absolute() / \"jaxpt\" / \"src\" )\n",
        "else:\n",
        "    jaxpt_dir = str(Path().absolute().parent / \"src\" )\n",
        "\n",
        "sys.path.append(jaxpt_dir)\n",
        "print(jaxpt_dir)"
      ]
    },
    {
      "cell_type": "code",
      "execution_count": 3,
      "metadata": {
        "id": "7N2-jnzonMgh"
      },
      "outputs": [],
      "source": [
        "import jax\n",
        "import optax\n",
        "import jax.numpy as jnp\n",
        "import numpy as np\n",
        "from flax import nnx\n",
        "import tiktoken\n",
        "\n",
        "from jaxpt.dataloaders import DataLoader\n",
        "from jaxpt.models import GPT2, GPTConfig\n",
        "from jaxpt.train import train_step, loss_fn, compute_global_norm\n",
        "from jaxpt.infer import generate"
      ]
    },
    {
      "cell_type": "markdown",
      "metadata": {
        "id": "04pFw2g58HJl"
      },
      "source": [
        "### Configure compute"
      ]
    },
    {
      "cell_type": "code",
      "execution_count": 4,
      "metadata": {
        "colab": {
          "base_uri": "https://localhost:8080/"
        },
        "id": "dJo6Xji39g54",
        "outputId": "66de6e21-02e6-4a65-fae3-48bd4a668c52"
      },
      "outputs": [
        {
          "output_type": "stream",
          "name": "stdout",
          "text": [
            "JAX version: 0.4.33\n",
            "Available devices: 1\n",
            "Using device: gpu\n"
          ]
        }
      ],
      "source": [
        "import os\n",
        "\n",
        "# Hardware setup\n",
        "print(\"JAX version:\", jax.__version__)\n",
        "devices = jax.devices()\n",
        "num_devices = len(devices)\n",
        "print(\"Available devices:\", num_devices)\n",
        "\n",
        "jax.config.update(\"jax_platform_name\", \"gpu\") # Make sure we're using the GPU\n",
        "#jax.config.update(\"jax_enable_x64\", True) # Make sure the highest precision is enabled in case we need\n",
        "jax.config.update(\"jax_default_matmul_precision\", \"bfloat16\") # Set the default precision for matrix multiplication\n",
        "\n",
        "os.environ[\"NVIDIA_TF32_OVERRIDE\"] = \"1\"\n",
        "#os.environ[\"JAX_ENABLE_X64\"] = \"False\"\n",
        "\n",
        "def list_tpu_memory():\n",
        "    devices = jax.devices()\n",
        "    for device in devices:\n",
        "        if 'TPU' in str(device.device_kind):\n",
        "            print(f\"Device: {device}, Memory: {device.memory_stats()['bytes_limit']/(1024*1024)},  Used: {device.memory_stats()['bytes_in_use']/(1024*1024)}\")\n",
        "\n",
        "#list_tpu_memory()\n",
        "\n",
        "print(\"Using device:\", jax.default_backend())  # Should print 'gpu'\n",
        "\n",
        "#A = jnp.array(np.random.normal(size=(4096, 4096)), dtype=jnp.float32) # Makes sure the matmul is fast\n",
        "\n",
        "#%timeit (A@A).block_until_ready()"
      ]
    },
    {
      "cell_type": "markdown",
      "metadata": {
        "id": "ZzoCvstr9_WX"
      },
      "source": [
        "### Initialize the GPT-2 model and perform a sanity check"
      ]
    },
    {
      "cell_type": "code",
      "execution_count": 5,
      "metadata": {
        "id": "lki2khsFnMgh"
      },
      "outputs": [],
      "source": [
        "from functools import partial\n",
        "\n",
        "\"\"\"\n",
        "+--------------+---------+--------+------+\n",
        "| Model        | Layers  | Heads  | Embd |\n",
        "+--------------+---------+--------+------+\n",
        "| gpt2-medium  | 24      | 16     | 1024 |\n",
        "| gpt2-large   | 36      | 20     | 1280 |\n",
        "| gpt2-xl      | 48      | 25     | 1600 |\n",
        "+--------------+---------+--------+------+\n",
        "\"\"\"\n",
        "\n",
        "key = jax.random.PRNGKey(0)\n",
        "rngs = nnx.Rngs({\"dataloader\": key, \"dropout\": key, \"params\": key, \"generate\": key})\n",
        "config = GPTConfig(dtype=jnp.float32)\n",
        "m = GPT2(config, rngs)\n",
        "\n",
        "def generate_completions():\n",
        "  m.eval()\n",
        "  num_completions = 5\n",
        "  max_length = 20\n",
        "  generate_completion = partial(generate, m, max_length=max_length)\n",
        "  prefix = \"The clever jackal\"\n",
        "  enc = tiktoken.get_encoding('gpt2')\n",
        "  tokens = enc.encode(prefix)\n",
        "  tokens = jnp.array(tokens, dtype=jnp.int32)\n",
        "  tokens = jnp.expand_dims(tokens, axis=0)\n",
        "  x = jnp.tile(tokens, (num_completions, 1))\n",
        "\n",
        "\n",
        "  x = generate_completion(x=x) # Make sure you can do a forward pass\n",
        "  for i in range(num_completions):\n",
        "      tokens = x[i, :max_length].tolist()\n",
        "      decoded = enc.decode(tokens)\n",
        "      print(\">\", decoded)\n",
        "\n",
        "#generate_completions()"
      ]
    },
    {
      "cell_type": "markdown",
      "metadata": {
        "id": "DHA3hbjj8HJl"
      },
      "source": [
        "### Training setup"
      ]
    },
    {
      "cell_type": "code",
      "execution_count": 11,
      "metadata": {
        "colab": {
          "base_uri": "https://localhost:8080/"
        },
        "id": "k8Dx19aKnMgi",
        "outputId": "72ec31e2-b508-4762-e298-3e067901a5e7"
      },
      "outputs": [
        {
          "output_type": "stream",
          "name": "stdout",
          "text": [
            "tokens/batch: 16,384\n",
            "block size: 1024\n",
            "sub-batch size: 16\n",
            "no. gradient accumulation steps: 1\n",
            "effective batch size per device:  16\n",
            "effective batch size: 16\n",
            "max steps: 50\n",
            "weight decay param count: 124,354,560\n"
          ]
        }
      ],
      "source": [
        "num_tokens_per_batch = 2**14 # 2**19, 0.5 million as per the GPT 3.5 paper\n",
        "mB, T = 16 , 1024\n",
        "grad_accumulation_steps = num_tokens_per_batch // (mB * T * num_devices) # Number of steps over which to average the gradient\n",
        "print(f\"tokens/batch: {num_tokens_per_batch:,}\")\n",
        "print(f\"block size: {T}\")\n",
        "print(f\"sub-batch size: {mB}\")\n",
        "print(f\"no. gradient accumulation steps: {grad_accumulation_steps}\")\n",
        "print(f\"effective batch size per device: \", grad_accumulation_steps * mB)\n",
        "print(f\"effective batch size: {grad_accumulation_steps * mB * num_devices}\")\n",
        "\n",
        "\n",
        "max_steps = 50\n",
        "max_lr = 6e-4\n",
        "min_lr = max_lr * 0.1\n",
        "warmup_steps = 10\n",
        "eval_interval = 10\n",
        "\n",
        "print(f\"max steps: {max_steps}\")\n",
        "\n",
        "# Set up the optimizer\n",
        "def warmup_with_cosine_decay_schedule(step):\n",
        "\n",
        "    warmup_lr = max_lr * (step + 1) / warmup_steps\n",
        "\n",
        "    coeff = 0.5 * (1 + jnp.cos(jnp.pi * (step - warmup_steps) / (max_steps - warmup_steps)))\n",
        "    cosine_lr =  min_lr + coeff * (max_lr - min_lr)\n",
        "\n",
        "    return jnp.where(step < warmup_steps,\n",
        "                     warmup_lr,\n",
        "                     jnp.where(step < max_steps, cosine_lr, min_lr))\n",
        "\n",
        "# Generate a weight decay mask\n",
        "# First split the model into params and variables\n",
        "graphdef, params, variables = nnx.split(m, nnx.Param, nnx.Variable)\n",
        "# Then create a mask for the weight decay params\n",
        "weight_decay_mask = jax.tree_util.tree_map(lambda x: len(x.shape) > 1, params)\n",
        "\n",
        "def f(x, y):\n",
        "    if x:\n",
        "        return y.size\n",
        "    return 0\n",
        "\n",
        "weight_decay_params = jax.tree_util.tree_map(f, weight_decay_mask, params)\n",
        "weight_decay_param_count = jax.tree_util.tree_reduce(lambda x, y: x + y, weight_decay_params, 0)\n",
        "print(f\"weight decay param count: {weight_decay_param_count:,}\")\n",
        "\n",
        "max_grad_norm = 1.0  # Clip gradients to this norm\n",
        "\n",
        "tx = optax.chain(\n",
        "    optax.clip_by_global_norm(max_grad_norm),\n",
        "    optax.adamw(warmup_with_cosine_decay_schedule, b1=0.9, b2=0.95, weight_decay=0.1, mask=weight_decay_mask)\n",
        ")\n",
        "optimizer = nnx.Optimizer(m, tx)"
      ]
    },
    {
      "cell_type": "code",
      "execution_count": 12,
      "metadata": {
        "id": "_8d4oBtGEwpy"
      },
      "outputs": [],
      "source": [
        "\n",
        "def print_separator(title=None):\n",
        "    width = 80\n",
        "    border = \"═\" * width\n",
        "    if title:\n",
        "        padding = \"═\" * ((width - len(title) - 2) // 2)\n",
        "        print(f\"╔{border}╗\")\n",
        "        print(f\"║{padding} {title} {padding}║\")\n",
        "        print(f\"╚{border}╝\")\n",
        "    else:\n",
        "        print(f\"╔{border}╗\")\n",
        "        print(f\"╚{border}╝\")\n",
        "\n",
        "# Usage\n",
        "\n",
        "\n",
        "if is_colab():\n",
        "    dataset_path = Path().absolute() / \"jaxpt\" / \"src\" / \"jaxpt\" / \"datasets\" / \"panchatantra-ryder\" / \"processed\"\n",
        "else:\n",
        "    dataset_path = Path().absolute().parent / \"src\"/ \"jaxpt\" / \"datasets\" / \"panchatantra-ryder\" / \"processed\"\n",
        "\n",
        "\n",
        "def validate(m):\n",
        "  eval_dl = DataLoader(dirpath=dataset_path, batch_size=mB, block_size=T, device_rank=1, label=\"valid\", quiet=True)\n",
        "  valid_loss = 0.0\n",
        "  eval_steps = 10\n",
        "  for i in range(eval_steps):\n",
        "    batch, targets = eval_dl()\n",
        "    batch = np.squeeze(batch)\n",
        "    targets = np.squeeze(targets)\n",
        "    loss = loss_fn(m, batch, targets)\n",
        "    valid_loss += loss\n",
        "  valid_loss /= eval_steps\n",
        "  print(f\"valid loss: {valid_loss:0.4f}\")\n",
        "\n",
        "def evaluate(m):\n",
        "  print_separator(\"Evaluate\")\n",
        "  m.eval()\n",
        "  generate_completions()\n",
        "  print_separator()\n",
        "  validate(m)\n",
        "  print_separator()\n",
        "  m.train()"
      ]
    },
    {
      "cell_type": "code",
      "source": [],
      "metadata": {
        "id": "lAqpx6igMOyR"
      },
      "execution_count": 12,
      "outputs": []
    },
    {
      "cell_type": "code",
      "execution_count": 13,
      "metadata": {
        "colab": {
          "base_uri": "https://localhost:8080/"
        },
        "id": "evc3QIonBnWC",
        "outputId": "2633c689-3190-43dd-bb06-55015debb939"
      },
      "outputs": [
        {
          "output_type": "stream",
          "name": "stdout",
          "text": [
            "dataloader initialized:\n",
            "------------------------\n",
            "f\"label:          train\n",
            "f\"shards:         1\n",
            "f\"shard size:     146,776\n",
            "f\"batch size:     16\n",
            "f\"block size:     1024\n",
            "f\"device rank:    1\n",
            "------------------------\n"
          ]
        }
      ],
      "source": [
        "train_dl = DataLoader(dirpath=dataset_path, batch_size=mB, block_size=T, device_rank=num_devices, label=\"train\")"
      ]
    },
    {
      "cell_type": "code",
      "source": [
        "@nnx.pmap(axis_name='devices', in_axes=(None, None, 0, 0), out_axes=(0, 0))\n",
        "def train_step(model, optimizer, batch, targets):\n",
        "    loss, grads = nnx.value_and_grad(loss_fn)(model, batch, targets)\n",
        "    loss = jax.lax.pmean(loss, axis_name='devices')\n",
        "    grads = jax.lax.pmean(grads, axis_name='devices')\n",
        "    #print(grads.lm_head.value.shape)\n",
        "    optimizer.update(grads)\n",
        "    return loss, grads"
      ],
      "metadata": {
        "id": "GyEz5AqZMPXd"
      },
      "execution_count": 14,
      "outputs": []
    },
    {
      "cell_type": "code",
      "execution_count": 20,
      "metadata": {
        "colab": {
          "base_uri": "https://localhost:8080/"
        },
        "id": "UwtmfUotuLMU",
        "outputId": "531b6d07-1611-47da-b43c-54a28d7e54eb"
      },
      "outputs": [
        {
          "output_type": "stream",
          "name": "stdout",
          "text": [
            "0 | lr: 6.00e-05 | loss: 8.1062 | norm: 0.00 | time: 59.90ms | tokens processed: 16,384 | tok/sec: 273506.00\n",
            "1 | lr: 1.20e-04 | loss: 7.8675 | norm: 0.00 | time: 62.56ms | tokens processed: 32,768 | tok/sec: 261910.21\n",
            "2 | lr: 1.80e-04 | loss: 7.6677 | norm: 0.00 | time: 57.94ms | tokens processed: 49,152 | tok/sec: 282762.46\n",
            "3 | lr: 2.40e-04 | loss: 7.3601 | norm: 0.00 | time: 318.05ms | tokens processed: 65,536 | tok/sec: 51513.23\n",
            "4 | lr: 3.00e-04 | loss: 7.0033 | norm: 0.00 | time: 58.13ms | tokens processed: 81,920 | tok/sec: 281841.65\n",
            "5 | lr: 3.60e-04 | loss: 6.7389 | norm: 0.00 | time: 57.69ms | tokens processed: 98,304 | tok/sec: 283982.38\n",
            "6 | lr: 4.20e-04 | loss: 6.4486 | norm: 0.00 | time: 55.71ms | tokens processed: 114,688 | tok/sec: 294082.68\n",
            "7 | lr: 4.80e-04 | loss: 6.2722 | norm: 0.00 | time: 55.14ms | tokens processed: 131,072 | tok/sec: 297153.74\n",
            "8 | lr: 5.40e-04 | loss: 6.1200 | norm: 0.00 | time: 57.17ms | tokens processed: 147,456 | tok/sec: 286596.25\n",
            "9 | lr: 6.00e-04 | loss: 5.9788 | norm: 0.00 | time: 58.43ms | tokens processed: 163,840 | tok/sec: 280392.67\n",
            "10 | lr: 6.00e-04 | loss: 5.9903 | norm: 0.00 | time: 55.55ms | tokens processed: 180,224 | tok/sec: 294953.63\n",
            "11 | lr: 5.99e-04 | loss: 5.8799 | norm: 0.00 | time: 55.23ms | tokens processed: 196,608 | tok/sec: 296662.42\n",
            "12 | lr: 5.97e-04 | loss: 5.7964 | norm: 0.00 | time: 56.34ms | tokens processed: 212,992 | tok/sec: 290825.62\n",
            "13 | lr: 5.93e-04 | loss: 5.8047 | norm: 0.00 | time: 58.33ms | tokens processed: 229,376 | tok/sec: 280867.12\n",
            "14 | lr: 5.87e-04 | loss: 5.9232 | norm: 0.00 | time: 55.90ms | tokens processed: 245,760 | tok/sec: 293096.80\n",
            "15 | lr: 5.79e-04 | loss: 5.8449 | norm: 0.00 | time: 55.41ms | tokens processed: 262,144 | tok/sec: 295699.91\n",
            "16 | lr: 5.71e-04 | loss: 5.7843 | norm: 0.00 | time: 56.68ms | tokens processed: 278,528 | tok/sec: 289045.77\n",
            "17 | lr: 5.60e-04 | loss: 5.6840 | norm: 0.00 | time: 59.10ms | tokens processed: 294,912 | tok/sec: 277244.47\n",
            "18 | lr: 5.48e-04 | loss: 5.6659 | norm: 0.00 | time: 57.39ms | tokens processed: 311,296 | tok/sec: 285496.08\n",
            "19 | lr: 5.35e-04 | loss: 5.6912 | norm: 0.00 | time: 309.63ms | tokens processed: 327,680 | tok/sec: 52915.19\n",
            "20 | lr: 5.21e-04 | loss: 5.5974 | norm: 0.00 | time: 58.64ms | tokens processed: 344,064 | tok/sec: 279409.94\n",
            "21 | lr: 5.05e-04 | loss: 5.6127 | norm: 0.00 | time: 58.48ms | tokens processed: 360,448 | tok/sec: 280172.04\n",
            "22 | lr: 4.89e-04 | loss: 5.5678 | norm: 0.00 | time: 59.33ms | tokens processed: 376,832 | tok/sec: 276152.63\n",
            "23 | lr: 4.71e-04 | loss: 5.7131 | norm: 0.00 | time: 58.12ms | tokens processed: 393,216 | tok/sec: 281908.71\n",
            "24 | lr: 4.53e-04 | loss: 5.6625 | norm: 0.00 | time: 57.42ms | tokens processed: 409,600 | tok/sec: 285330.12\n",
            "25 | lr: 4.33e-04 | loss: 5.6285 | norm: 0.00 | time: 57.68ms | tokens processed: 425,984 | tok/sec: 284061.03\n",
            "26 | lr: 4.13e-04 | loss: 5.5325 | norm: 0.00 | time: 58.42ms | tokens processed: 442,368 | tok/sec: 280431.57\n",
            "27 | lr: 3.93e-04 | loss: 5.5261 | norm: 0.00 | time: 58.86ms | tokens processed: 458,752 | tok/sec: 278361.88\n",
            "28 | lr: 3.72e-04 | loss: 5.5839 | norm: 0.00 | time: 57.76ms | tokens processed: 475,136 | tok/sec: 283637.78\n",
            "29 | lr: 3.51e-04 | loss: 5.4594 | norm: 0.00 | time: 59.12ms | tokens processed: 491,520 | tok/sec: 277112.54\n",
            "30 | lr: 3.30e-04 | loss: 5.5141 | norm: 0.00 | time: 57.88ms | tokens processed: 507,904 | tok/sec: 283078.11\n",
            "31 | lr: 3.09e-04 | loss: 5.4744 | norm: 0.00 | time: 58.49ms | tokens processed: 524,288 | tok/sec: 280111.51\n",
            "32 | lr: 2.88e-04 | loss: 5.6035 | norm: 0.00 | time: 59.11ms | tokens processed: 540,672 | tok/sec: 277174.02\n",
            "33 | lr: 2.67e-04 | loss: 5.5537 | norm: 0.00 | time: 58.07ms | tokens processed: 557,056 | tok/sec: 282145.99\n",
            "34 | lr: 2.47e-04 | loss: 5.5523 | norm: 0.00 | time: 322.30ms | tokens processed: 573,440 | tok/sec: 50834.14\n",
            "35 | lr: 2.27e-04 | loss: 5.4551 | norm: 0.00 | time: 60.39ms | tokens processed: 589,824 | tok/sec: 271307.50\n",
            "36 | lr: 2.07e-04 | loss: 5.4436 | norm: 0.00 | time: 59.24ms | tokens processed: 606,208 | tok/sec: 276573.86\n",
            "37 | lr: 1.89e-04 | loss: 5.5063 | norm: 0.00 | time: 61.79ms | tokens processed: 622,592 | tok/sec: 265166.45\n",
            "38 | lr: 1.71e-04 | loss: 5.3737 | norm: 0.00 | time: 58.21ms | tokens processed: 638,976 | tok/sec: 281451.49\n",
            "39 | lr: 1.55e-04 | loss: 5.4367 | norm: 0.00 | time: 58.63ms | tokens processed: 655,360 | tok/sec: 279438.34\n",
            "40 | lr: 1.39e-04 | loss: 5.4299 | norm: 0.00 | time: 58.52ms | tokens processed: 671,744 | tok/sec: 279974.56\n",
            "41 | lr: 1.25e-04 | loss: 5.5161 | norm: 0.00 | time: 57.63ms | tokens processed: 688,128 | tok/sec: 284289.01\n",
            "42 | lr: 1.12e-04 | loss: 5.4922 | norm: 0.00 | time: 59.04ms | tokens processed: 704,512 | tok/sec: 277515.41\n",
            "43 | lr: 9.98e-05 | loss: 5.4892 | norm: 0.00 | time: 60.04ms | tokens processed: 720,896 | tok/sec: 272871.75\n",
            "44 | lr: 8.94e-05 | loss: 5.4131 | norm: 0.00 | time: 58.47ms | tokens processed: 737,280 | tok/sec: 280201.74\n",
            "45 | lr: 8.06e-05 | loss: 5.4080 | norm: 0.00 | time: 58.25ms | tokens processed: 753,664 | tok/sec: 281285.59\n",
            "46 | lr: 7.32e-05 | loss: 5.4578 | norm: 0.00 | time: 59.50ms | tokens processed: 770,048 | tok/sec: 275351.51\n",
            "47 | lr: 6.75e-05 | loss: 5.3280 | norm: 0.00 | time: 57.72ms | tokens processed: 786,432 | tok/sec: 283833.42\n",
            "48 | lr: 6.33e-05 | loss: 5.4040 | norm: 0.00 | time: 58.10ms | tokens processed: 802,816 | tok/sec: 281990.84\n",
            "49 | lr: 6.08e-05 | loss: 5.3936 | norm: 0.00 | time: 59.49ms | tokens processed: 819,200 | tok/sec: 275405.58\n",
            "CPU times: user 3.89 s, sys: 66.2 ms, total: 3.96 s\n",
            "Wall time: 17.2 s\n"
          ]
        }
      ],
      "source": [
        "%%time\n",
        "from time import time\n",
        "from IPython.display import clear_output\n",
        "from functools import partial\n",
        "\n",
        "#m = GPT2(config, rngs)\n",
        "# optimizer = nnx.Optimizer(m, tx)\n",
        "#evaluate(m)\n",
        "m.train()\n",
        "\n",
        "try:\n",
        "  for step in range(max_steps):\n",
        "    start = time()\n",
        "    #accum_grad = None\n",
        "    #accum_loss = 0.0\n",
        "    #for sub_step in range(grad_accumulation_steps):\n",
        "    batch, targets = train_dl()\n",
        "\n",
        "    loss, grads = train_step(m, optimizer, batch, targets)\n",
        "      # retrieve a single value from the all-reduce op\n",
        "      #loss = loss[0]\n",
        "      #grads = jax.tree_util.tree_map(lambda x: x[0, ...], grads)\n",
        "    #sub_step_time = time() - start\n",
        "    #print(f\"sub step time {sub_step_time*1000:0.4f}\")\n",
        "      #if accum_grad is None:\n",
        "        #accum_grad = jax.tree_util.tree_map(jnp.zeros_like, grads)\n",
        "      # accumulate the gradients and loss\n",
        "      #else:\n",
        "        #accum_grad = jax.tree_util.tree_map(lambda x, y: x + y, accum_grad, grads)\n",
        "        #accum_loss = accum_loss + loss\n",
        "       #jax.block_until_ready(accum_grad)\n",
        "\n",
        "    # average the gradients across accumulation steps\n",
        "    #accum_grad = jax.tree_util.tree_map(lambda x: x / grad_accumulation_steps, accum_grad)\n",
        "    #accum_loss = accum_loss / grad_accumulation_steps\n",
        "    # update the model with the averaged gradients\n",
        "    #optimizer.update(accum_grad)\n",
        "\n",
        "\n",
        "    # compute stats\n",
        "    lr = warmup_with_cosine_decay_schedule(step)\n",
        "\n",
        "    loss = loss[0]\n",
        "\n",
        "    norm = 0 # compute_global_norm(grads)\n",
        "    iter_time = time() - start\n",
        "    sub_step_time = iter_time / grad_accumulation_steps\n",
        "    tokens_per_sec = num_devices * mB * T * grad_accumulation_steps / iter_time\n",
        "    tokens_processed = (step+1) * num_devices * grad_accumulation_steps * mB * T\n",
        "\n",
        "    # print the stats\n",
        "    #clear_output(wait=True)\n",
        "\n",
        "    print(f\"{step} | lr: {lr:0.2e} | loss: {loss:0.4f} | norm: {norm:0.2f} | time: {iter_time*1000:0.2f}ms | tokens processed: {tokens_processed:,} | tok/sec: {tokens_per_sec:0.2f}\")\n",
        "    #if step % eval_interval == 1:\n",
        "      #evaluate(m)\n",
        "except KeyboardInterrupt:\n",
        "    print(\"Received KeyboardInterrupt. Exiting...\")\n",
        "#evaluate(m)"
      ]
    },
    {
      "cell_type": "code",
      "source": [],
      "metadata": {
        "id": "jZfdVD8rfkz0"
      },
      "execution_count": 10,
      "outputs": []
    }
  ],
  "metadata": {
    "accelerator": "GPU",
    "colab": {
      "gpuType": "A100",
      "machine_shape": "hm",
      "provenance": []
    },
    "kernelspec": {
      "display_name": "Python 3",
      "name": "python3"
    },
    "language_info": {
      "codemirror_mode": {
        "name": "ipython",
        "version": 3
      },
      "file_extension": ".py",
      "mimetype": "text/x-python",
      "name": "python",
      "nbconvert_exporter": "python",
      "pygments_lexer": "ipython3",
      "version": "3.13.1"
    }
  },
  "nbformat": 4,
  "nbformat_minor": 0
}