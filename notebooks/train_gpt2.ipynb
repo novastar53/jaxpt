{
  "cells": [
    {
      "cell_type": "markdown",
      "metadata": {
        "id": "AXU2qDN8nMgg"
      },
      "source": [
        "# Let's Train a GPT 2 Model\n",
        "\n"
      ]
    },
    {
      "cell_type": "code",
      "execution_count": null,
      "metadata": {
        "colab": {
          "base_uri": "https://localhost:8080/"
        },
        "id": "LNLo9jfLn8bg",
        "outputId": "05aeb874-6ee3-4780-9ad9-4726aaa87bad"
      },
      "outputs": [],
      "source": [
        "def is_colab():\n",
        "    try:\n",
        "        import google.colab\n",
        "        return True\n",
        "    except ImportError:\n",
        "        return False\n",
        "\n",
        "if is_colab():\n",
        "    !git clone https://github.com/novastar53/jaxpt\n",
        "    !cd jaxpt && git checkout dev\n",
        "    !pip install tiktoken --quiet"
      ]
    },
    {
      "cell_type": "code",
      "execution_count": null,
      "metadata": {
        "colab": {
          "base_uri": "https://localhost:8080/"
        },
        "id": "ZQl8dEgLnMgh",
        "outputId": "fc939fa2-c4f8-472f-f221-c111921738d4"
      },
      "outputs": [],
      "source": [
        "from pathlib import Path\n",
        "import sys\n",
        "\n",
        "if is_colab():\n",
        "    jaxpt_dir = str(Path().absolute() / \"jaxpt\" / \"jaxpt\" )\n",
        "else:\n",
        "    jaxpt_dir = str(Path().absolute().parent / \"jaxpt\" )\n",
        "\n",
        "sys.path.append(jaxpt_dir)\n",
        "print(jaxpt_dir)"
      ]
    },
    {
      "cell_type": "code",
      "execution_count": null,
      "metadata": {
        "colab": {
          "base_uri": "https://localhost:8080/"
        },
        "id": "7N2-jnzonMgh",
        "outputId": "28966d4d-b934-4a51-d26b-b38c3e844ded"
      },
      "outputs": [],
      "source": [
        "import jax\n",
        "import optax\n",
        "import jax.numpy as jnp\n",
        "import numpy as np\n",
        "from flax import nnx\n",
        "import tiktoken\n",
        "\n",
        "import torch\n",
        "\n",
        "from dataloaders import DataLoader\n",
        "from models import GPT2, GPTConfig\n",
        "from train import accum_step, loss_fn, compute_global_norm\n",
        "from infer import generate"
      ]
    },
    {
      "cell_type": "code",
      "execution_count": null,
      "metadata": {
        "colab": {
          "base_uri": "https://localhost:8080/"
        },
        "id": "dJo6Xji39g54",
        "outputId": "766cb381-e4c6-443c-aab4-008187d95324"
      },
      "outputs": [],
      "source": [
        "import os\n",
        "\n",
        "# Hardware setup\n",
        "print(\"JAX version:\", jax.__version__)\n",
        "\n",
        "\n",
        "jax.config.update(\"jax_platform_name\", \"tpu\") # Make sure we're using the GPU\n",
        "#jax.config.update(\"jax_enable_x64\", True) # Make sure the highest precision is enabled in case we need\n",
        "jax.config.update(\"jax_default_matmul_precision\", \"bfloat16\") # Set the default precision for matrix multiplication\n",
        "\n",
        "\n",
        "num_devices = len(jax.devices())\n",
        "print(\"Available devices:\", num_devices)\n",
        "\n",
        "os.environ[\"NVIDIA_TF32_OVERRIDE\"] = \"1\"\n",
        "#os.environ[\"JAX_ENABLE_X64\"] = \"False\"\n",
        "\n",
        "import gc\n",
        "\n",
        "def flush_jax_tpu_memory():\n",
        "    # Delete any references to JAX arrays\n",
        "    jax.clear_backends()\n",
        "    gc.collect()\n",
        "\n",
        "flush_jax_tpu_memory()\n",
        "\n",
        "def list_tpu_memory():\n",
        "    devices = jax.devices()\n",
        "    for device in devices:\n",
        "        if 'TPU' in str(device.device_kind):\n",
        "            print(f\"Device: {device}, Memory: {device.memory_stats()['bytes_limit']/(1024*1024)},  Used: {device.memory_stats()['bytes_in_use']/(1024*1024)}\")\n",
        "\n",
        "list_tpu_memory()\n",
        "\n",
        "\n",
        "\n",
        "print(\"Using device:\", jax.default_backend())  # Should print 'gpu'\n",
        "\n",
        "A = jnp.array(np.random.normal(size=(4096, 4096)), dtype=jnp.float32) # Makes sure the matmul is fast\n",
        "\n",
        "%timeit (A@A).block_until_ready()"
      ]
    },
    {
      "cell_type": "code",
      "execution_count": null,
      "metadata": {
        "colab": {
          "base_uri": "https://localhost:8080/"
        },
        "id": "lki2khsFnMgh",
        "outputId": "151ba009-3375-4b5d-cd82-ffb7aaf31ba5"
      },
      "outputs": [],
      "source": [
        "from functools import partial\n",
        "\n",
        "\"\"\"\n",
        "+--------------+---------+--------+------+\n",
        "| Model       | Layers  | Heads  | Embd |\n",
        "+--------------+---------+--------+------+\n",
        "| gpt2-medium | 24      | 16     | 1024 |\n",
        "| gpt2-large  | 36      | 20     | 1280 |\n",
        "| gpt2-xl     | 48      | 25     | 1600 |\n",
        "+--------------+---------+--------+------+\n",
        "\"\"\"\n",
        "\n",
        "key = jax.random.PRNGKey(0)\n",
        "rngs = nnx.Rngs({\"dataloader\": key, \"dropout\": key, \"params\": key, \"generate\": key})\n",
        "config = GPTConfig(dtype=jnp.float32)\n",
        "m = GPT2(config, rngs)\n",
        "m.eval()\n",
        "\n",
        "num_completions = 5\n",
        "max_length = 20\n",
        "generate_completion = partial(generate, m, max_length=max_length)\n",
        "prefix = \"The brown fox\"\n",
        "enc = tiktoken.get_encoding('gpt2')\n",
        "tokens = enc.encode(prefix)\n",
        "tokens = jnp.array(tokens, dtype=jnp.int32)\n",
        "tokens = jnp.expand_dims(tokens, axis=0)\n",
        "x = jnp.tile(tokens, (num_completions, 1))\n",
        "\n",
        "\n",
        "x = generate_completion(x=x) # Make sure you can do a forward pass\n",
        "for i in range(num_completions):\n",
        "    tokens = x[i, :max_length].tolist()\n",
        "    decoded = enc.decode(tokens)\n",
        "    print(\">\", decoded)\n",
        "\n"
      ]
    },
    {
      "cell_type": "code",
      "execution_count": null,
      "metadata": {
        "colab": {
          "base_uri": "https://localhost:8080/"
        },
        "id": "k8Dx19aKnMgi",
        "outputId": "9cf6091b-6207-4b2c-8590-adb36b354248"
      },
      "outputs": [],
      "source": [
        "num_tokens_per_batch = 2**13 # 2**19, 0.5 million as per the GPT 3.5 paper\n",
        "mB, T = 2, 32\n",
        "grad_accumulation_steps = num_tokens_per_batch // (mB * T * num_devices) # Number of steps over which to average the gradient\n",
        "print(f\"tokens/batch: {num_tokens_per_batch}\")\n",
        "print(f\"block size: {T}\")\n",
        "print(f\"sub-batch size per device: {mB}\")\n",
        "print(f\"no. gradient accumulation steps: {grad_accumulation_steps}\")\n",
        "print(f\"effective batch size per device: \", grad_accumulation_steps * mB)\n",
        "print(f\"effective batch size: {num_devices * grad_accumulation_steps * mB}\")\n",
        "\n",
        "\n",
        "max_steps = 50\n",
        "max_lr = 6e-4\n",
        "min_lr = max_lr * 0.1\n",
        "warmup_steps = 10\n",
        "\n",
        "print(f\"max steps: {max_steps}\")\n",
        "\n",
        "if is_colab():\n",
        "    dataset_path = Path().absolute() / \"jaxpt\" / \"datasets\" / \"panchatantra-ryder.txt\"\n",
        "else:\n",
        "    dataset_path = Path().absolute().parent / \"datasets\" / \"panchatantra-ryder.txt\"\n",
        "\n",
        "# Set up the optimizer\n",
        "def warmup_with_cosine_decay_schedule(step):\n",
        "\n",
        "    warmup_lr = max_lr * (step + 1) / warmup_steps\n",
        "\n",
        "    coeff = 0.5 * (1 + jnp.cos(jnp.pi * (step - warmup_steps) / (max_steps - warmup_steps)))\n",
        "    cosine_lr =  min_lr + coeff * (max_lr - min_lr)\n",
        "\n",
        "    return jnp.where(step < warmup_steps,\n",
        "                     warmup_lr,\n",
        "                     jnp.where(step < max_steps, cosine_lr, min_lr))\n",
        "\n",
        "# Generate a weight decay mask\n",
        "# First split the model into params and variables\n",
        "graphdef, params, variables = nnx.split(m, nnx.Param, nnx.Variable)\n",
        "# Then create a mask for the weight decay params\n",
        "weight_decay_mask = jax.tree_util.tree_map(lambda x: len(x.shape) > 1, params)\n",
        "\n",
        "def f(x, y):\n",
        "    if x:\n",
        "        return y.size\n",
        "    return 0\n",
        "\n",
        "weight_decay_params = jax.tree_util.tree_map(f, weight_decay_mask, params)\n",
        "weight_decay_param_count = jax.tree_util.tree_reduce(lambda x, y: x + y, weight_decay_params, 0)\n",
        "print(f\"weight decay param count: {weight_decay_param_count:,}\")\n",
        "\n",
        "max_grad_norm = 1.0  # Clip gradients to this norm\n",
        "\n",
        "optimizer = optax.chain(\n",
        "    optax.clip_by_global_norm(max_grad_norm),\n",
        "    optax.adamw(warmup_with_cosine_decay_schedule, b1=0.9, b2=0.95, weight_decay=0.1, mask=weight_decay_mask)\n",
        ")\n",
        "optimizer = nnx.Optimizer(m, optimizer)"
      ]
    },
    {
      "cell_type": "code",
      "execution_count": 7,
      "metadata": {
        "id": "hx5gzrQ1Zx0M"
      },
      "outputs": [],
      "source": [
        "@nnx.pmap(in_axes=(None, 0, 0, None, None))\n",
        "def accum_step(model, batch, targets, accum_grad, accum_loss):\n",
        "    loss, grads =  nnx.value_and_grad(loss_fn)(model, batch, targets)\n",
        "    if accum_grad is None:\n",
        "        accum_grad = jax.tree_util.tree_map(jnp.zeros_like, grads)\n",
        "    accum_grad = jax.tree_util.tree_map(lambda x, y: x + y, accum_grad, grads)\n",
        "    accum_loss = accum_loss + loss\n",
        "    return accum_grad, accum_loss"
      ]
    },
    {
      "cell_type": "code",
      "execution_count": null,
      "metadata": {
        "colab": {
          "base_uri": "https://localhost:8080/",
          "height": 738
        },
        "id": "UwtmfUotuLMU",
        "outputId": "ffcadd67-2f29-4af1-9690-60d399f558d7"
      },
      "outputs": [],
      "source": [
        "%%time\n",
        "from time import time\n",
        "from IPython.display import clear_output\n",
        "from functools import partial\n",
        "\n",
        "import gc\n",
        "\n",
        "#accum_step = jax.pmap(partial(accum_step, m), in_axes=(None, 0, 0, None, None))\n",
        "m.train()\n",
        "\n",
        "dl = DataLoader(fpath=dataset_path, batch_size=mB * num_devices, block_size=T)\n",
        "\n",
        "for step in range(max_steps):\n",
        "  start = time()\n",
        "  accum_grad =  None\n",
        "  accum_loss = 0.0\n",
        "  for sub_step in range(grad_accumulation_steps // num_devices):\n",
        "    print(sub_step)\n",
        "    batch, targets, pos = dl()\n",
        "    batch = batch.reshape(num_devices, -1, T)\n",
        "    targets = targets.reshape(num_devices, -1, T)\n",
        "    accum_grad, accum_loss = accum_step(m, batch, targets, accum_grad, accum_loss)\n",
        "    #jax.block_until_ready(accum_grad)\n",
        "    list_tpu_memory()\n",
        "  print(accum_grad.lm_head.value.shape)\n",
        "  break\n",
        "  accum_norm = compute_global_norm(accum_grad)\n",
        "  #print(f\"accum_norm: {accum_norm}, accum_loss: {accum_loss}\")\n",
        "  accum_grad = jax.tree_util.tree_map(lambda x: x / grad_accumulation_steps, accum_grad)\n",
        "  optimizer.update(accum_grad)\n",
        "  norm = compute_global_norm(accum_grad)\n",
        "  loss = accum_loss / grad_accumulation_steps\n",
        "  jax.block_until_ready(loss)\n",
        "  iter_time = (time() - start)\n",
        "  tokens_per_sec = mB*T*grad_accumulation_steps / iter_time\n",
        "  sub_step_time = iter_time / grad_accumulation_steps\n",
        "  lr = warmup_with_cosine_decay_schedule(step)\n",
        "  clear_output(wait=True)\n",
        "  print(f\" step: {step} | lr: {lr:0.2e} | loss: {loss:0.4f} | norm: {norm:0.4f} | time: {sub_step_time*1000:0.2f}ms | tok/sec: {tokens_per_sec:0.2f}\")\n"
      ]
    }
  ],
  "metadata": {
    "accelerator": "TPU",
    "colab": {
      "gpuType": "V28",
      "machine_shape": "hm",
      "provenance": []
    },
    "kernelspec": {
      "display_name": "jaxpt",
      "language": "python",
      "name": "jaxpt"
    },
    "language_info": {
      "codemirror_mode": {
        "name": "ipython",
        "version": 3
      },
      "file_extension": ".py",
      "mimetype": "text/x-python",
      "name": "python",
      "nbconvert_exporter": "python",
      "pygments_lexer": "ipython3",
      "version": "3.13.1"
    }
  },
  "nbformat": 4,
  "nbformat_minor": 0
}
