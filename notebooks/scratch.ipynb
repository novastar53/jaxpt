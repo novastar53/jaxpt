{
 "cells": [
  {
   "cell_type": "markdown",
   "id": "0c881be3",
   "metadata": {},
   "source": [
    "Scratch\n"
   ]
  },
  {
   "cell_type": "code",
   "execution_count": 31,
   "id": "08ab9cb3",
   "metadata": {},
   "outputs": [
    {
     "data": {
      "text/plain": [
       "'mejorana-thatch'"
      ]
     },
     "execution_count": 31,
     "metadata": {},
     "output_type": "execute_result"
    }
   ],
   "source": [
    "from english_words import get_english_words_set\n",
    "import random\n",
    "\n",
    "def generate_readable_code():\n",
    "    words = [w.lower() for w in get_english_words_set(['web2']) if 4 <= len(w) <= 8]\n",
    "    return f\"{random.choice(words)}-{random.choice(words)}\"\n",
    "\n",
    "generate_readable_code()\n"
   ]
  },
  {
   "cell_type": "code",
   "execution_count": 30,
   "id": "f5b3d359",
   "metadata": {},
   "outputs": [
    {
     "name": "stderr",
     "output_type": "stream",
     "text": [
      "[nltk_data] Downloading package wordnet to /Users/vikram/nltk_data...\n",
      "[nltk_data]   Package wordnet is already up-to-date!\n"
     ]
    },
    {
     "name": "stdout",
     "output_type": "stream",
     "text": [
      "neurobiological-neohygrophorus angelesianus\n"
     ]
    }
   ],
   "source": [
    "import random\n",
    "import nltk\n",
    "nltk.download(\"wordnet\")\n",
    "from nltk.corpus import wordnet as wn\n",
    "\n",
    "# Filter adjectives and nouns from WordNet\n",
    "adjectives = set(w.name().split(\".\")[0].replace(\"_\", \" \") for w in wn.all_synsets('a'))\n",
    "nouns = set(w.name().split(\".\")[0].replace(\"_\", \" \") for w in wn.all_synsets('n'))\n",
    "\n",
    "def generate_code():\n",
    "    adj = random.choice(list(adjectives))\n",
    "    noun = random.choice(list(nouns))\n",
    "    return f\"{adj.lower()}-{noun.lower()}\"\n",
    "\n",
    "print(generate_code())  # e.g. LITTLE-FURNACE"
   ]
  },
  {
   "cell_type": "code",
   "execution_count": null,
   "id": "aefd3084",
   "metadata": {},
   "outputs": [],
   "source": []
  },
  {
   "cell_type": "code",
   "execution_count": 27,
   "id": "0d61bbf8",
   "metadata": {},
   "outputs": [
    {
     "data": {
      "text/plain": [
       "'able'"
      ]
     },
     "execution_count": 27,
     "metadata": {},
     "output_type": "execute_result"
    }
   ],
   "source": [
    "w = next(wn.all_synsets('a'))\n",
    "dir(w)\n",
    "w.name().split(\".\")[0]"
   ]
  },
  {
   "cell_type": "code",
   "execution_count": null,
   "id": "5b66c16b",
   "metadata": {},
   "outputs": [],
   "source": []
  }
 ],
 "metadata": {
  "kernelspec": {
   "display_name": "jaxpt",
   "language": "python",
   "name": "python3"
  },
  "language_info": {
   "codemirror_mode": {
    "name": "ipython",
    "version": 3
   },
   "file_extension": ".py",
   "mimetype": "text/x-python",
   "name": "python",
   "nbconvert_exporter": "python",
   "pygments_lexer": "ipython3",
   "version": "3.12.8"
  }
 },
 "nbformat": 4,
 "nbformat_minor": 5
}
