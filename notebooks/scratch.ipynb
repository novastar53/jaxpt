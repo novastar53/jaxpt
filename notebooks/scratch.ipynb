{
 "cells": [
  {
   "cell_type": "code",
   "execution_count": 2,
   "metadata": {},
   "outputs": [
    {
     "data": {
      "application/vnd.jupyter.widget-view+json": {
       "model_id": "7bf204271c084a2495d56c60e7941de2",
       "version_major": 2,
       "version_minor": 0
      },
      "text/plain": [
       "Downloading data:   0%|          | 0.00/47.5M [00:00<?, ?B/s]"
      ]
     },
     "metadata": {},
     "output_type": "display_data"
    },
    {
     "data": {
      "application/vnd.jupyter.widget-view+json": {
       "model_id": "20839d534b4b43b8869091020bc4ad57",
       "version_major": 2,
       "version_minor": 0
      },
      "text/plain": [
       "Downloading data:   0%|          | 0.00/11.8M [00:00<?, ?B/s]"
      ]
     },
     "metadata": {},
     "output_type": "display_data"
    },
    {
     "data": {
      "application/vnd.jupyter.widget-view+json": {
       "model_id": "e732a063ae8f4a62a39adf709f19846b",
       "version_major": 2,
       "version_minor": 0
      },
      "text/plain": [
       "Downloading data:   0%|          | 0.00/12.2M [00:00<?, ?B/s]"
      ]
     },
     "metadata": {},
     "output_type": "display_data"
    },
    {
     "data": {
      "application/vnd.jupyter.widget-view+json": {
       "model_id": "9ebbae70c94847389d0628fefc0366de",
       "version_major": 2,
       "version_minor": 0
      },
      "text/plain": [
       "Generating train split:   0%|          | 0/39905 [00:00<?, ? examples/s]"
      ]
     },
     "metadata": {},
     "output_type": "display_data"
    },
    {
     "data": {
      "application/vnd.jupyter.widget-view+json": {
       "model_id": "166d7bd3f1044a26a8ec3a5bf2ab1e5f",
       "version_major": 2,
       "version_minor": 0
      },
      "text/plain": [
       "Generating test split:   0%|          | 0/10003 [00:00<?, ? examples/s]"
      ]
     },
     "metadata": {},
     "output_type": "display_data"
    },
    {
     "data": {
      "application/vnd.jupyter.widget-view+json": {
       "model_id": "c36846d2d7cd4116af475cb41e00b382",
       "version_major": 2,
       "version_minor": 0
      },
      "text/plain": [
       "Generating validation split:   0%|          | 0/10042 [00:00<?, ? examples/s]"
      ]
     },
     "metadata": {},
     "output_type": "display_data"
    }
   ],
   "source": [
    "import datasets\n",
    "from datasets import load_dataset\n",
    "dataset = load_dataset(\"hellaswag\", trust_remote_code=True)"
   ]
  },
  {
   "cell_type": "code",
   "execution_count": 3,
   "metadata": {},
   "outputs": [
    {
     "data": {
      "text/plain": [
       "DatasetDict({\n",
       "    train: Dataset({\n",
       "        features: ['ind', 'activity_label', 'ctx_a', 'ctx_b', 'ctx', 'endings', 'source_id', 'split', 'split_type', 'label'],\n",
       "        num_rows: 39905\n",
       "    })\n",
       "    test: Dataset({\n",
       "        features: ['ind', 'activity_label', 'ctx_a', 'ctx_b', 'ctx', 'endings', 'source_id', 'split', 'split_type', 'label'],\n",
       "        num_rows: 10003\n",
       "    })\n",
       "    validation: Dataset({\n",
       "        features: ['ind', 'activity_label', 'ctx_a', 'ctx_b', 'ctx', 'endings', 'source_id', 'split', 'split_type', 'label'],\n",
       "        num_rows: 10042\n",
       "    })\n",
       "})"
      ]
     },
     "execution_count": 3,
     "metadata": {},
     "output_type": "execute_result"
    }
   ],
   "source": [
    "dataset"
   ]
  },
  {
   "cell_type": "code",
   "execution_count": 5,
   "metadata": {},
   "outputs": [
    {
     "data": {
      "text/plain": [
       "Array([0, 0], dtype=uint32)"
      ]
     },
     "execution_count": 5,
     "metadata": {},
     "output_type": "execute_result"
    }
   ],
   "source": [
    "import jax\n",
    "from flax import nnx\n",
    "\n",
    "rng = jax.random.PRNGKey(0)\n",
    "nnx.Rngs(rng)\n",
    "jax.random.key_data(rng)"
   ]
  },
  {
   "cell_type": "code",
   "execution_count": 8,
   "metadata": {},
   "outputs": [
    {
     "data": {
      "text/plain": [
       "['is using wrap to wrap a pair of skis.',\n",
       " 'is ripping level tiles off.',\n",
       " \"is holding a rubik's cube.\",\n",
       " 'starts pulling up roofing on a roof.']"
      ]
     },
     "execution_count": 8,
     "metadata": {},
     "output_type": "execute_result"
    }
   ],
   "source": [
    "dataset[\"validation\"][0]['endings']"
   ]
  },
  {
   "cell_type": "code",
   "execution_count": null,
   "metadata": {},
   "outputs": [],
   "source": [
    "\"eval.py\"\n",
    "\n",
    "['is using wrap to wrap a pair of skis.', \n",
    " 'is ripping level tiles off.', \n",
    " \"is holding a rubik's cube.\", \n",
    " 'starts pulling up roofing on a roof.']\n",
    "\n",
    "([[    32,    582,    318,   5586,    319,    257,   9753,     13, 339,    318,   1262,  14441,    284,  14441,    257,   5166, 286,   1341,    271,     13],\n",
    "       [    32,    582,    318,   5586,    319,    257,   9753,     13, 339,    318, -30777,   1241,  19867,    572,     13,      0, 0,      0,      0,      0],\n",
    "       [    32,    582,    318,   5586,    319,    257,   9753,     13, 339,    318,   4769,    257,   6437,   1134,    338,  23441, 13,      0,      0,      0],\n",
    "       [    32,    582,    318,   5586,    319,    257,   9753,     13, 339,   4940,  10427,    510,   9753,    278,    319,    257, 9753,     13,      0,      0]], dtype=int16)\n",
    "\n",
    "\"hellaswag.py\"\n",
    "\n",
    "['is using wrap to wrap a pair of skis.', \n",
    " 'is ripping level tiles off.', \n",
    " \"is holding a rubik's cube.\", \n",
    " 'starts pulling up roofing on a roof.']\n",
    "\n",
    "[[32, 582, 318, 5586, 319, 257, 9753, 13, 339, 318, 1262, 14441, 284, 14441, 257, 5166, 286, 1341, 271, ...], \n",
    " [32, 582, 318, 5586, 319, 257, 9753, 13, 339, 318, 34759, 1241, 19867, 572, 13], \n",
    " [32, 582, 318, 5586, 319, 257, 9753, 13, 339, 318, 4769, 257, 6437, 1134, 338, 23441, 13], \n",
    " [32, 582, 318, 5586, 319, 257, 9753, 13, 339, 4940, 10427, 510, 9753, 278, 319, 257, 9753, 13]]"
   ]
  }
 ],
 "metadata": {
  "kernelspec": {
   "display_name": ".venv",
   "language": "python",
   "name": "python3"
  },
  "language_info": {
   "codemirror_mode": {
    "name": "ipython",
    "version": 3
   },
   "file_extension": ".py",
   "mimetype": "text/x-python",
   "name": "python",
   "nbconvert_exporter": "python",
   "pygments_lexer": "ipython3",
   "version": "3.13.1"
  }
 },
 "nbformat": 4,
 "nbformat_minor": 2
}
