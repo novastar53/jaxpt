{
  "cells": [
    {
      "cell_type": "markdown",
      "metadata": {
        "id": "AXU2qDN8nMgg"
      },
      "source": [
        "# Let's Train GLaM\n",
        "\n",
        "\n",
        "\n"
      ]
    },
    {
      "cell_type": "markdown",
      "metadata": {
        "id": "04pFw2g58HJl"
      },
      "source": [
        "### Configure the machine and install packages\n"
      ]
    },
    {
      "cell_type": "code",
      "execution_count": 1,
      "metadata": {
        "colab": {
          "base_uri": "https://localhost:8080/"
        },
        "id": "LNLo9jfLn8bg",
        "outputId": "6c2cd2e7-26e7-404c-d395-b7952a2658fb"
      },
      "outputs": [
        {
          "name": "stdout",
          "output_type": "stream",
          "text": [
            "Running on tpu\n"
          ]
        }
      ],
      "source": [
        "from typing import Literal\n",
        "\n",
        "import os\n",
        "\n",
        "#os.environ[\"XLA_FLAGS\"] = '--xla_force_host_platform_device_count=8'\n",
        "\n",
        "import jax\n",
        "\n",
        "platform : Literal[\"darwin\", \"colab\", \"cuda\", \"tpu\"] = \"darwin\"\n",
        "\n",
        "try:\n",
        "    import google.colab\n",
        "    platform = \"colab\"\n",
        "except ImportError:\n",
        "    devices = jax.devices()\n",
        "    if any(d.platform == \"gpu\" for d in devices):\n",
        "        platform = \"cuda\"\n",
        "    if any(d.platform == \"tpu\" for d in devices):\n",
        "        platform = \"tpu\"\n",
        "\n",
        "print(f\"Running on {platform}\")\n",
        "\n",
        "if platform == \"colab\":\n",
        "    !git clone https://github.com/novastar53/jaxpt\n",
        "    !cd jaxpt && git checkout main && git pull\n",
        "    !pip install tiktoken datasets --quiet\n",
        "    !pip uninstall -y tensorflow"
      ]
    },
    {
      "cell_type": "code",
      "execution_count": 2,
      "metadata": {
        "colab": {
          "base_uri": "https://localhost:8080/"
        },
        "id": "ZQl8dEgLnMgh",
        "outputId": "ac599d21-90ba-40f8-ca99-902bb96b4351"
      },
      "outputs": [
        {
          "name": "stdout",
          "output_type": "stream",
          "text": [
            "/home/vikram/jaxpt/src\n"
          ]
        }
      ],
      "source": [
        "from pathlib import Path\n",
        "import sys\n",
        "\n",
        "if platform == \"colab\":\n",
        "    jaxpt_dir = str(Path().absolute() / \"jaxpt\" / \"src\" )\n",
        "else:\n",
        "    jaxpt_dir = str(Path().absolute().parent / \"src\" )\n",
        "\n",
        "\n",
        "sys.path.append(jaxpt_dir)\n",
        "print(jaxpt_dir)"
      ]
    },
    {
      "cell_type": "code",
      "execution_count": 3,
      "metadata": {
        "colab": {
          "base_uri": "https://localhost:8080/"
        },
        "id": "dJo6Xji39g54",
        "outputId": "e9825d5b-a593-40ed-e256-22d3f2b72292"
      },
      "outputs": [
        {
          "name": "stdout",
          "output_type": "stream",
          "text": [
            "JAX version: 0.5.2\n",
            "Flax version 0.10.4\n",
            "Available devices: 8\n",
            "Device: TPU_0(process=0,(0,0,0,0)), Memory: 15853.984375,  Used: 0.015625\n",
            "Device: TPU_1(process=0,(0,0,0,1)), Memory: 15853.984375,  Used: 0.015625\n",
            "Device: TPU_2(process=0,(1,0,0,0)), Memory: 15853.984375,  Used: 0.015625\n",
            "Device: TPU_3(process=0,(1,0,0,1)), Memory: 15853.984375,  Used: 0.015625\n",
            "Device: TPU_4(process=0,(0,1,0,0)), Memory: 15853.984375,  Used: 0.015625\n",
            "Device: TPU_5(process=0,(0,1,0,1)), Memory: 15853.984375,  Used: 0.015625\n",
            "Device: TPU_6(process=0,(1,1,0,0)), Memory: 15853.984375,  Used: 0.015625\n",
            "Device: TPU_7(process=0,(1,1,0,1)), Memory: 15853.984375,  Used: 0.015625\n"
          ]
        },
        {
          "name": "stderr",
          "output_type": "stream",
          "text": [
            "/tmp/ipykernel_65260/2621405116.py:26: UserWarning: not using gpu. Using tpu\n",
            "  warnings.warn(f\"not using {requested_device}. Using {device}\")\n"
          ]
        },
        {
          "name": "stdout",
          "output_type": "stream",
          "text": [
            "2.69 ms ± 34 μs per loop (mean ± std. dev. of 7 runs, 1 loop each)\n"
          ]
        }
      ],
      "source": [
        "import os\n",
        "\n",
        "\n",
        "import warnings\n",
        "\n",
        "import jax\n",
        "from jax.sharding import Mesh, PartitionSpec, NamedSharding\n",
        "import flax\n",
        "import jax.numpy as jnp\n",
        "import numpy as np\n",
        "\n",
        "# Hardware setup\n",
        "print(\"JAX version:\", jax.__version__)\n",
        "print(\"Flax version\", flax.__version__)\n",
        "\n",
        "devices = jax.devices()\n",
        "num_devices = len(devices)\n",
        "print(\"Available devices:\", num_devices)\n",
        "\n",
        "requested_device = \"gpu\"\n",
        "\n",
        "jax.config.update(\"jax_platform_name\", requested_device) # Make sure we're using the GPU\n",
        "\n",
        "device = jax.default_backend()\n",
        "if device != requested_device:\n",
        "    warnings.warn(f\"not using {requested_device}. Using {device}\")\n",
        "else:\n",
        "    print(f\"using {device}\")\n",
        "\n",
        "\n",
        "#####################################\n",
        "##        jax.lax matmul presets   ##\n",
        "#####################################\n",
        "## 'ANY_F8_ANY_F8_F32',\n",
        "## 'ANY_F8_ANY_F8_F32_FAST_ACCUM'\n",
        "## 'ANY_F8_ANY_F8_ANY'\n",
        "## 'ANY_F8_ANY_F8_ANY_FAST_ACCUM'\n",
        "## 'F16_F16_F16'\n",
        "## 'F16_F16_F32'\n",
        "## 'BF16_BF16_BF16'\n",
        "## 'BF16_BF16_F32'\n",
        "## 'BF16_BF16_F32_X3'\n",
        "## 'BF16_BF16_F32_X6'\n",
        "## 'TF32_TF32_F32'\n",
        "## 'TF32_TF32_F32_X3'\n",
        "## 'F32_F32_F32'\n",
        "## 'F64_F64_F64'\n",
        "#####################################\n",
        "\n",
        "jax.config.update(\"jax_default_matmul_precision\", \"BF16_BF16_F32\") # Set the default precision for matrix multiplication\n",
        "\n",
        "#jax.config.update(\"jax_enable_x64\", True) # Make sure the highest precision is enabled in case we need\n",
        "#os.environ[\"NVIDIA_TF32_OVERRIDE\"] = \"1\"\n",
        "#os.environ[\"JAX_ENABLE_X64\"] = \"False\"\n",
        "\n",
        "if device == \"tpu\":\n",
        "    def list_tpu_memory():\n",
        "        devices = jax.devices()\n",
        "        for device in devices:\n",
        "            if 'TPU' in str(device.device_kind):\n",
        "                print(f\"Device: {device}, Memory: {device.memory_stats()['bytes_limit']/(1024*1024)},  Used: {device.memory_stats()['bytes_in_use']/(1024*1024)}\")\n",
        "\n",
        "    list_tpu_memory()\n",
        "\n",
        "# Set up device mesh\n",
        "\n",
        "DATA_DIMS = 2\n",
        "MODEL_DIMS = 4\n",
        "\n",
        "mesh = jax.sharding.Mesh(np.reshape(jax.devices(), (DATA_DIMS, MODEL_DIMS)),\n",
        "                            [\"data\", \"model\"])\n",
        "\n",
        "# Test the device\n",
        "A = jnp.array(np.random.normal(size=(4096, 4096)), dtype=jnp.float32) # Make sure matmul is fast\n",
        "%timeit (A@A).block_until_ready()"
      ]
    },
    {
      "cell_type": "markdown",
      "metadata": {
        "id": "JDtBhnjKN-zw"
      },
      "source": [
        "### Initialize the Mobile-LLM model and perform a sanity check"
      ]
    },
    {
      "cell_type": "code",
      "execution_count": 4,
      "metadata": {
        "colab": {
          "base_uri": "https://localhost:8080/"
        },
        "id": "lki2khsFnMgh",
        "outputId": "972daee1-dc1d-42fb-c917-cacca56ef775"
      },
      "outputs": [
        {
          "name": "stdout",
          "output_type": "stream",
          "text": [
            "Run: run_20250617_spwhty\n"
          ]
        }
      ],
      "source": [
        "from datetime import datetime\n",
        "import random\n",
        "import string\n",
        "\n",
        "from jaxpt.checkpointers import save_checkpoint, load_checkpoint, load_checkpoint_from_gcloud\n",
        "\n",
        "def generate_random_code(length=6):\n",
        "    return ''.join(random.choices(string.ascii_lowercase, k=length))\n",
        "\n",
        "timestamp = datetime.now().strftime(\"%Y%m%d\")\n",
        "random_code = generate_random_code()\n",
        "\n",
        "run_dirname = f\"run_{timestamp}_{random_code}\"\n",
        "print(f\"Run: {run_dirname}\")\n",
        "\n",
        "if platform == \"cuda\":\n",
        "  output_dir = Path(\"/home/ubuntu/alpha_training_runs\") # Lambda Labs setup\n",
        "else:\n",
        "  output_dir = Path().absolute().parent  / \"alpha_training_runs\" # Local setup"
      ]
    },
    {
      "cell_type": "code",
      "execution_count": 16,
      "metadata": {
        "colab": {
          "base_uri": "https://localhost:8080/",
          "height": 1000
        },
        "id": "wZ04n3v2N-zw",
        "outputId": "38658467-a228-42d8-c355-6af59e77cc4c"
      },
      "outputs": [
        {
          "data": {
            "text/html": [
              "<script> (()=>{ if (customElements.get('treescope-container') === undefined) { class TreescopeContainer extends HTMLElement { constructor() { super(); this.attachShadow({mode: \"open\"}); this.defns = {}; this.state = {}; } } customElements.define(\"treescope-container\", TreescopeContainer); } if (customElements.get('treescope-run-here') === undefined) { class RunHere extends HTMLElement { constructor() { super() } connectedCallback() { const run = child => { const fn = new Function(child.textContent); child.textContent = \"\"; fn.call(this); this.remove(); }; const child = this.querySelector(\"script\"); if (child) { run(child); } else { new MutationObserver(()=>{ run(this.querySelector(\"script\")); }).observe(this, {childList: true}); } } } customElements.define(\"treescope-run-here\", RunHere); } })(); </script> <treescope-container class=\"treescope_out_0265d1a9414f4350852c404255d8ca9c\" style=\"display:block\"></treescope-container> <treescope-run-here><script type=\"application/octet-stream\"> const root = ( Array.from(document.getElementsByClassName( \"treescope_out_0265d1a9414f4350852c404255d8ca9c\")) .filter((elt) => !elt.dataset.setup) )[0]; root.dataset.setup = 1; const msg = document.createElement(\"span\"); msg.style = \"color: #cccccc; font-family: monospace;\"; msg.textContent = \"(Loading...)\"; root.state.loadingMsg = msg; root.shadowRoot.appendChild(msg); root.state.chain = new Promise((resolve, reject) => { const observer = new IntersectionObserver((entries) => { for (const entry of entries) { if (entry.isIntersecting) { resolve(); observer.disconnect(); return; } } }, {rootMargin: \"1000px\"}); window.setTimeout(() => { observer.observe(root); }, 0); }); root.state.deferring = false; const _insertNode = (node) => { for (let oldScript of node.querySelectorAll(\"script\")) { let newScript = document.createElement(\"script\"); newScript.type = oldScript.type; newScript.textContent = oldScript.textContent; oldScript.parentNode.replaceChild(newScript, oldScript); } if (root.state.loadingMsg) { root.state.loadingMsg.remove(); root.state.loadingMsg = null; } root.shadowRoot.appendChild(node); }; root.defns.insertContent = ((contentNode, compressed) => { if (compressed) { root.state.deferring = true; } if (root.state.deferring) { root.state.chain = (async () => { await root.state.chain; if (compressed) { const encoded = contentNode.textContent; const blob = new Blob([ Uint8Array.from(atob(encoded), (m) => m.codePointAt(0)) ]); const reader = blob.stream().pipeThrough( new DecompressionStream(\"deflate\") ).pipeThrough( new TextDecoderStream(\"utf-8\") ).getReader(); const parts = []; while (true) { const step = await reader.read(); if (step.done) { break; } parts.push(step.value); } const tpl = document.createElement('template'); tpl.innerHTML = parts.join(\"\"); _insertNode(tpl.content); } else { _insertNode(contentNode.content); } })(); } else { _insertNode(contentNode.content); } }); </script></treescope-run-here><div style=\"display:none\"> <script type=\"application/octet-stream\" >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</script> <treescope-run-here><script type=\"application/octet-stream\"> const root = ( Array.from(document.getElementsByClassName( \"treescope_out_0265d1a9414f4350852c404255d8ca9c\")) .filter((elt) => !elt.dataset['step0']) )[0]; root.dataset['step0'] = 1; root.defns.insertContent( this.parentNode.querySelector('script[type=\"application/octet-stream\"]'), true ); this.parentNode.remove(); </script></treescope-run-here> </div>"
            ],
            "text/plain": [
              "<IPython.core.display.HTML object>"
            ]
          },
          "metadata": {},
          "output_type": "display_data"
        },
        {
          "name": "stdout",
          "output_type": "stream",
          "text": [
            "Parameter Count: 352,472,832\n"
          ]
        },
        {
          "data": {
            "text/html": [
              "<script> (()=>{ if (customElements.get('treescope-container') === undefined) { class TreescopeContainer extends HTMLElement { constructor() { super(); this.attachShadow({mode: \"open\"}); this.defns = {}; this.state = {}; } } customElements.define(\"treescope-container\", TreescopeContainer); } if (customElements.get('treescope-run-here') === undefined) { class RunHere extends HTMLElement { constructor() { super() } connectedCallback() { const run = child => { const fn = new Function(child.textContent); child.textContent = \"\"; fn.call(this); this.remove(); }; const child = this.querySelector(\"script\"); if (child) { run(child); } else { new MutationObserver(()=>{ run(this.querySelector(\"script\")); }).observe(this, {childList: true}); } } } customElements.define(\"treescope-run-here\", RunHere); } })(); </script> <treescope-container class=\"treescope_out_5af3617ebcd14fd0b2ce38857f28c484\" style=\"display:block\"></treescope-container> <treescope-run-here><script type=\"application/octet-stream\"> const root = ( Array.from(document.getElementsByClassName( \"treescope_out_5af3617ebcd14fd0b2ce38857f28c484\")) .filter((elt) => !elt.dataset.setup) )[0]; root.dataset.setup = 1; const msg = document.createElement(\"span\"); msg.style = \"color: #cccccc; font-family: monospace;\"; msg.textContent = \"(Loading...)\"; root.state.loadingMsg = msg; root.shadowRoot.appendChild(msg); root.state.chain = new Promise((resolve, reject) => { const observer = new IntersectionObserver((entries) => { for (const entry of entries) { if (entry.isIntersecting) { resolve(); observer.disconnect(); return; } } }, {rootMargin: \"1000px\"}); window.setTimeout(() => { observer.observe(root); }, 0); }); root.state.deferring = false; const _insertNode = (node) => { for (let oldScript of node.querySelectorAll(\"script\")) { let newScript = document.createElement(\"script\"); newScript.type = oldScript.type; newScript.textContent = oldScript.textContent; oldScript.parentNode.replaceChild(newScript, oldScript); } if (root.state.loadingMsg) { root.state.loadingMsg.remove(); root.state.loadingMsg = null; } root.shadowRoot.appendChild(node); }; root.defns.insertContent = ((contentNode, compressed) => { if (compressed) { root.state.deferring = true; } if (root.state.deferring) { root.state.chain = (async () => { await root.state.chain; if (compressed) { const encoded = contentNode.textContent; const blob = new Blob([ Uint8Array.from(atob(encoded), (m) => m.codePointAt(0)) ]); const reader = blob.stream().pipeThrough( new DecompressionStream(\"deflate\") ).pipeThrough( new TextDecoderStream(\"utf-8\") ).getReader(); const parts = []; while (true) { const step = await reader.read(); if (step.done) { break; } parts.push(step.value); } const tpl = document.createElement('template'); tpl.innerHTML = parts.join(\"\"); _insertNode(tpl.content); } else { _insertNode(contentNode.content); } })(); } else { _insertNode(contentNode.content); } }); </script></treescope-run-here><div style=\"display:none\"> <script type=\"application/octet-stream\" >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</script> <treescope-run-here><script type=\"application/octet-stream\"> const root = ( Array.from(document.getElementsByClassName( \"treescope_out_5af3617ebcd14fd0b2ce38857f28c484\")) .filter((elt) => !elt.dataset['step0']) )[0]; root.dataset['step0'] = 1; root.defns.insertContent( this.parentNode.querySelector('script[type=\"application/octet-stream\"]'), true ); this.parentNode.remove(); </script></treescope-run-here> </div>"
            ],
            "text/plain": [
              "<IPython.core.display.HTML object>"
            ]
          },
          "metadata": {},
          "output_type": "display_data"
        },
        {
          "data": {
            "text/html": [
              "<div style=\"display:none\"> <script type=\"application/octet-stream\" >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</script> <treescope-run-here><script type=\"application/octet-stream\"> const root = ( Array.from(document.getElementsByClassName( \"treescope_out_5af3617ebcd14fd0b2ce38857f28c484\")) .filter((elt) => !elt.dataset['step1']) )[0]; root.dataset['step1'] = 1; root.defns.insertContent( this.parentNode.querySelector('script[type=\"application/octet-stream\"]'), true ); this.parentNode.remove(); </script></treescope-run-here> </div>"
            ],
            "text/plain": [
              "<IPython.core.display.HTML object>"
            ]
          },
          "metadata": {},
          "output_type": "display_data"
        },
        {
          "data": {
            "text/html": [
              "<pre style=\"white-space:pre;overflow-x:auto;line-height:normal;font-family:Menlo,'DejaVu Sans Mono',consolas,'Courier New',monospace\"><span style=\"color: #ffffff; text-decoration-color: #ffffff; background-color: #393b79\">         </span><span style=\"color: #ffffff; text-decoration-color: #ffffff; background-color: #de9ed6\">         </span><span style=\"color: #ffffff; text-decoration-color: #ffffff; background-color: #ad494a\">         </span><span style=\"color: #000000; text-decoration-color: #000000; background-color: #b5cf6b\">         </span>\n",
              "<span style=\"color: #ffffff; text-decoration-color: #ffffff; background-color: #393b79\">         </span><span style=\"color: #ffffff; text-decoration-color: #ffffff; background-color: #de9ed6\">         </span><span style=\"color: #ffffff; text-decoration-color: #ffffff; background-color: #ad494a\">         </span><span style=\"color: #000000; text-decoration-color: #000000; background-color: #b5cf6b\">         </span>\n",
              "<span style=\"color: #ffffff; text-decoration-color: #ffffff; background-color: #393b79\">         </span><span style=\"color: #ffffff; text-decoration-color: #ffffff; background-color: #de9ed6\">         </span><span style=\"color: #ffffff; text-decoration-color: #ffffff; background-color: #ad494a\">         </span><span style=\"color: #000000; text-decoration-color: #000000; background-color: #b5cf6b\">         </span>\n",
              "<span style=\"color: #ffffff; text-decoration-color: #ffffff; background-color: #393b79\">         </span><span style=\"color: #ffffff; text-decoration-color: #ffffff; background-color: #de9ed6\">         </span><span style=\"color: #ffffff; text-decoration-color: #ffffff; background-color: #ad494a\">         </span><span style=\"color: #000000; text-decoration-color: #000000; background-color: #b5cf6b\">         </span>\n",
              "<span style=\"color: #ffffff; text-decoration-color: #ffffff; background-color: #393b79\">         </span><span style=\"color: #ffffff; text-decoration-color: #ffffff; background-color: #de9ed6\">         </span><span style=\"color: #ffffff; text-decoration-color: #ffffff; background-color: #ad494a\">         </span><span style=\"color: #000000; text-decoration-color: #000000; background-color: #b5cf6b\">         </span>\n",
              "<span style=\"color: #ffffff; text-decoration-color: #ffffff; background-color: #393b79\"> TPU 0,4 </span><span style=\"color: #ffffff; text-decoration-color: #ffffff; background-color: #de9ed6\"> TPU 1,5 </span><span style=\"color: #ffffff; text-decoration-color: #ffffff; background-color: #ad494a\"> TPU 2,6 </span><span style=\"color: #000000; text-decoration-color: #000000; background-color: #b5cf6b\"> TPU 3,7 </span>\n",
              "<span style=\"color: #ffffff; text-decoration-color: #ffffff; background-color: #393b79\">         </span><span style=\"color: #ffffff; text-decoration-color: #ffffff; background-color: #de9ed6\">         </span><span style=\"color: #ffffff; text-decoration-color: #ffffff; background-color: #ad494a\">         </span><span style=\"color: #000000; text-decoration-color: #000000; background-color: #b5cf6b\">         </span>\n",
              "<span style=\"color: #ffffff; text-decoration-color: #ffffff; background-color: #393b79\">         </span><span style=\"color: #ffffff; text-decoration-color: #ffffff; background-color: #de9ed6\">         </span><span style=\"color: #ffffff; text-decoration-color: #ffffff; background-color: #ad494a\">         </span><span style=\"color: #000000; text-decoration-color: #000000; background-color: #b5cf6b\">         </span>\n",
              "<span style=\"color: #ffffff; text-decoration-color: #ffffff; background-color: #393b79\">         </span><span style=\"color: #ffffff; text-decoration-color: #ffffff; background-color: #de9ed6\">         </span><span style=\"color: #ffffff; text-decoration-color: #ffffff; background-color: #ad494a\">         </span><span style=\"color: #000000; text-decoration-color: #000000; background-color: #b5cf6b\">         </span>\n",
              "<span style=\"color: #ffffff; text-decoration-color: #ffffff; background-color: #393b79\">         </span><span style=\"color: #ffffff; text-decoration-color: #ffffff; background-color: #de9ed6\">         </span><span style=\"color: #ffffff; text-decoration-color: #ffffff; background-color: #ad494a\">         </span><span style=\"color: #000000; text-decoration-color: #000000; background-color: #b5cf6b\">         </span>\n",
              "<span style=\"color: #ffffff; text-decoration-color: #ffffff; background-color: #393b79\">         </span><span style=\"color: #ffffff; text-decoration-color: #ffffff; background-color: #de9ed6\">         </span><span style=\"color: #ffffff; text-decoration-color: #ffffff; background-color: #ad494a\">         </span><span style=\"color: #000000; text-decoration-color: #000000; background-color: #b5cf6b\">         </span>\n",
              "</pre>\n"
            ],
            "text/plain": [
              "\u001b[38;2;255;255;255;48;2;57;59;121m         \u001b[0m\u001b[38;2;255;255;255;48;2;222;158;214m         \u001b[0m\u001b[38;2;255;255;255;48;2;173;73;74m         \u001b[0m\u001b[38;2;0;0;0;48;2;181;207;107m         \u001b[0m\n",
              "\u001b[38;2;255;255;255;48;2;57;59;121m         \u001b[0m\u001b[38;2;255;255;255;48;2;222;158;214m         \u001b[0m\u001b[38;2;255;255;255;48;2;173;73;74m         \u001b[0m\u001b[38;2;0;0;0;48;2;181;207;107m         \u001b[0m\n",
              "\u001b[38;2;255;255;255;48;2;57;59;121m         \u001b[0m\u001b[38;2;255;255;255;48;2;222;158;214m         \u001b[0m\u001b[38;2;255;255;255;48;2;173;73;74m         \u001b[0m\u001b[38;2;0;0;0;48;2;181;207;107m         \u001b[0m\n",
              "\u001b[38;2;255;255;255;48;2;57;59;121m         \u001b[0m\u001b[38;2;255;255;255;48;2;222;158;214m         \u001b[0m\u001b[38;2;255;255;255;48;2;173;73;74m         \u001b[0m\u001b[38;2;0;0;0;48;2;181;207;107m         \u001b[0m\n",
              "\u001b[38;2;255;255;255;48;2;57;59;121m         \u001b[0m\u001b[38;2;255;255;255;48;2;222;158;214m         \u001b[0m\u001b[38;2;255;255;255;48;2;173;73;74m         \u001b[0m\u001b[38;2;0;0;0;48;2;181;207;107m         \u001b[0m\n",
              "\u001b[38;2;255;255;255;48;2;57;59;121m \u001b[0m\u001b[38;2;255;255;255;48;2;57;59;121mTPU 0,4\u001b[0m\u001b[38;2;255;255;255;48;2;57;59;121m \u001b[0m\u001b[38;2;255;255;255;48;2;222;158;214m \u001b[0m\u001b[38;2;255;255;255;48;2;222;158;214mTPU 1,5\u001b[0m\u001b[38;2;255;255;255;48;2;222;158;214m \u001b[0m\u001b[38;2;255;255;255;48;2;173;73;74m \u001b[0m\u001b[38;2;255;255;255;48;2;173;73;74mTPU 2,6\u001b[0m\u001b[38;2;255;255;255;48;2;173;73;74m \u001b[0m\u001b[38;2;0;0;0;48;2;181;207;107m \u001b[0m\u001b[38;2;0;0;0;48;2;181;207;107mTPU 3,7\u001b[0m\u001b[38;2;0;0;0;48;2;181;207;107m \u001b[0m\n",
              "\u001b[38;2;255;255;255;48;2;57;59;121m         \u001b[0m\u001b[38;2;255;255;255;48;2;222;158;214m         \u001b[0m\u001b[38;2;255;255;255;48;2;173;73;74m         \u001b[0m\u001b[38;2;0;0;0;48;2;181;207;107m         \u001b[0m\n",
              "\u001b[38;2;255;255;255;48;2;57;59;121m         \u001b[0m\u001b[38;2;255;255;255;48;2;222;158;214m         \u001b[0m\u001b[38;2;255;255;255;48;2;173;73;74m         \u001b[0m\u001b[38;2;0;0;0;48;2;181;207;107m         \u001b[0m\n",
              "\u001b[38;2;255;255;255;48;2;57;59;121m         \u001b[0m\u001b[38;2;255;255;255;48;2;222;158;214m         \u001b[0m\u001b[38;2;255;255;255;48;2;173;73;74m         \u001b[0m\u001b[38;2;0;0;0;48;2;181;207;107m         \u001b[0m\n",
              "\u001b[38;2;255;255;255;48;2;57;59;121m         \u001b[0m\u001b[38;2;255;255;255;48;2;222;158;214m         \u001b[0m\u001b[38;2;255;255;255;48;2;173;73;74m         \u001b[0m\u001b[38;2;0;0;0;48;2;181;207;107m         \u001b[0m\n",
              "\u001b[38;2;255;255;255;48;2;57;59;121m         \u001b[0m\u001b[38;2;255;255;255;48;2;222;158;214m         \u001b[0m\u001b[38;2;255;255;255;48;2;173;73;74m         \u001b[0m\u001b[38;2;0;0;0;48;2;181;207;107m         \u001b[0m\n"
            ]
          },
          "metadata": {},
          "output_type": "display_data"
        }
      ],
      "source": [
        "from flax import nnx\n",
        "\n",
        "from jaxpt.infer import generate_completions, generate\n",
        "from jaxpt.models import GLaM, GLaM_Config\n",
        "from jaxpt.models.mobile_llm import from_hf_pretrained\n",
        "from jaxpt.utils import count_params, create_sharded_model\n",
        "\n",
        "from transformers import AutoTokenizer\n",
        "\n",
        "key = jax.random.PRNGKey(1337)\n",
        "rngs = nnx.Rngs(key)\n",
        "config = GLaM_Config(dtype=jnp.bfloat16, \\\n",
        "                     n_layer=2,\n",
        "                     sdpa_implementation=\"cudnn\" if device==\"gpu\" else \"xla\",)\n",
        "nnx.display(config)\n",
        "\n",
        "\n",
        "with mesh:\n",
        "    #m = create_sharded_model(GLaM, config, rngs)\n",
        "    m = load_checkpoint(GLaM, output_dir, config, \"run_20250617_spwhty\", 148, rngs)\n",
        "    #m = load_checkpoint_from_gcloud(Mobile_LLM, config, output_dir, \"alpha_training_runs\", \"run_20250521_pakugd\", \"9000\", rngs)\n",
        "    #m = from_hf_pretrained(config, rngs)\n",
        "\n",
        "    graphdef, rngstate, state = nnx.split(m, nnx.RngState, ...)\n",
        "    total_params = count_params(m)\n",
        "\n",
        "    print(f\"Parameter Count: {total_params:,}\")\n",
        "    nnx.display(state)\n",
        "\n",
        "    jax.debug.visualize_array_sharding(m.h[0].mlp.c_proj.kernel.value)\n",
        "\n",
        "    tokenizer = AutoTokenizer.from_pretrained(\"HuggingFaceTB/SmolLM-135M\")\n",
        "    #completions = generate_completions(m, enc=tokenizer, num_completions=5,\n",
        "    #                                max_length=21,\n",
        "    #                                prefix=\"Ducks quack, donkeys bray, cats mew, horses\")\n",
        "    #for completion in completions:\n",
        "    #    print(completion)"
      ]
    },
    {
      "cell_type": "markdown",
      "metadata": {
        "id": "DHA3hbjj8HJl"
      },
      "source": [
        "### Configure Training Run"
      ]
    },
    {
      "cell_type": "code",
      "execution_count": 12,
      "metadata": {
        "colab": {
          "base_uri": "https://localhost:8080/",
          "height": 359
        },
        "id": "k8Dx19aKnMgi",
        "outputId": "2caaa041-8df6-4efb-eb8e-0072328c65f3"
      },
      "outputs": [
        {
          "data": {
            "image/png": "[encoded data removed]",
            "text/plain": [
              "<Figure size 300x200 with 1 Axes>"
            ]
          },
          "metadata": {},
          "output_type": "display_data"
        },
        {
          "name": "stdout",
          "output_type": "stream",
          "text": [
            "tokens/batch: 32,768\n",
            "block size: 1024\n",
            "sub-batch size: 2\n",
            "no. gradient accumulation steps: 2\n",
            "effective batch size per device:  4\n",
            "effective batch size: 32\n",
            "max steps: 20,000\n"
          ]
        }
      ],
      "source": [
        "import dataclasses\n",
        "from functools import partial\n",
        "\n",
        "import matplotlib.pyplot as plt\n",
        "\n",
        "import optax\n",
        "\n",
        "\n",
        "############################\n",
        "# Nvidia A100 (x 8) Config #\n",
        "############################\n",
        "\n",
        "@dataclasses.dataclass\n",
        "class TrainerConfig:\n",
        "  num_tokens_per_batch: int = 2**15\n",
        "  mB: int = 2\n",
        "  T: int = 1024\n",
        "  max_steps: int = 20_000\n",
        "  max_lr: float = 1e-2\n",
        "  max_grad_norm: float = 1.0  # Clip gradients to this norm\n",
        "  warmup_steps: int = 10_000\n",
        "  print_interval: int = 20\n",
        "  eval_interval: int = 1000\n",
        "  checkpoint_interval: int = 1000\n",
        "  grad_accumulation_steps: int = num_tokens_per_batch // (mB * T * num_devices) # Number of steps over which to average the gradient\n",
        "\n",
        "\n",
        "##############\n",
        "# CPU Config #\n",
        "##############\n",
        "\n",
        "trconf = TrainerConfig()\n",
        "'''\n",
        "trconf = TrainerConfig(\n",
        "  num_tokens_per_batch=2**9,\n",
        "  mB=2**4,\n",
        "  T=2**5,\n",
        "  max_steps=9*48, # 6 epoch(s)\n",
        "  max_lr=6e-4,\n",
        "  min_lr=6e-5,\n",
        "  max_grad_norm=1.0,\n",
        "  warmup_steps=10,\n",
        "  print_interval=1,\n",
        "  eval_interval=50,\n",
        "  checkpoint_interval=0,\n",
        "\n",
        ")\n",
        "trconf.grad_accumulation_steps =  trconf.num_tokens_per_batch // (trconf.mB * trconf.T * num_devices) # Number of steps over which to average the gradient\n",
        "'''\n",
        "\n",
        "def inverse_sqrt_decay_schedule(warmup_steps, max_lr, step):\n",
        "  return jnp.where(step+1 < warmup_steps,\n",
        "                    max_lr,\n",
        "                    max_lr * (step+1 - warmup_steps) ** -0.5)\n",
        "\n",
        "lr_schedule = partial(inverse_sqrt_decay_schedule,\n",
        "                      trconf.warmup_steps,\n",
        "                      trconf.max_lr)\n",
        "\n",
        "steps = range(0, trconf.max_steps, 100)\n",
        "total_schedule = [ lr_schedule(step) for step in steps ]\n",
        "\n",
        "plt.figure(figsize=(3,2))\n",
        "plt.plot(steps, total_schedule)\n",
        "plt.title(\"LR Schedule\")\n",
        "plt.show()\n",
        "\n",
        "# Generate a weight decay mask\n",
        "# First split the model into params and variables\n",
        "graphdef, params, variables = nnx.split(m, nnx.Param, nnx.Variable)\n",
        "\n",
        "tx = optax.chain(\n",
        "    optax.clip_by_global_norm(trconf.max_grad_norm),\n",
        "    optax.adafactor(lr_schedule,\n",
        "    decay_rate=0.8)\n",
        ")\n",
        "optimizer = nnx.Optimizer(m, tx)\n",
        "\n",
        "# count the number of weight decay params\n",
        "def f(x, y):\n",
        "    if x:\n",
        "        return y.size\n",
        "    return 0\n",
        "\n",
        "\n",
        "print(f\"tokens/batch: {trconf.num_tokens_per_batch:,}\")\n",
        "print(f\"block size: {trconf.T}\")\n",
        "print(f\"sub-batch size: {trconf.mB}\")\n",
        "print(f\"no. gradient accumulation steps: {trconf.grad_accumulation_steps}\")\n",
        "print(f\"effective batch size per device: \", trconf.grad_accumulation_steps * trconf.mB)\n",
        "print(f\"effective batch size: {trconf.grad_accumulation_steps * trconf.mB * num_devices}\")\n",
        "print(f\"max steps: {trconf.max_steps:,}\")\n"
      ]
    },
    {
      "cell_type": "markdown",
      "metadata": {
        "id": "igoeEsgCsSbC"
      },
      "source": [
        "### DataLoader and Validation Setup\n",
        "\n"
      ]
    },
    {
      "cell_type": "code",
      "execution_count": 13,
      "metadata": {
        "colab": {
          "base_uri": "https://localhost:8080/",
          "height": 351,
          "referenced_widgets": [
            "ea49531572024e7c87c0e7e72b604771",
            "05da2b72f57643fca19944b7b4c1845b",
            "36ab1136601f4605a0156fad7d6cae87",
            "bbaa584783484776aff9c68eea2775d5",
            "f062ce44190c4396a81dcf697c261378",
            "7917ce4358054bac8fb9a0c76e1a19b6",
            "d0fa8585bd814cd281a005a7ef4bc183",
            "87ae59eacfe3455aa9567702f00724fd",
            "cd0be431873f4e8e9617207a99ebc695",
            "47c6dc86f77b436880e07eecc84472dc",
            "f38b45646346461eb8b634e13a175d3e",
            "7fd1f2218e924aadbfe6bb3927b7e26d",
            "deb87f9912ee418c80848da44e202b20",
            "f8061bfe8d8147ceba191c7bf68aba43",
            "929d441413ee4b749ee61744579d03ac",
            "3e78612062f94faab5cda097a58ed378",
            "973070bed1634619add769d547112042",
            "672daa39ac1f4fa3935e0b170e5413b2",
            "1e8a87be097b483fbf6a2d7081db9397",
            "607e1f800d4444fa9d4fdba5007550f8",
            "0268f0c3906048848a4caaf62526f403",
            "2800aab49b384ec7b5d28a8fe438554a",
            "ce7fb7a86eff466f887368127790d3f6",
            "5bf1bba68d96482d9297e1a2b5b65a3f",
            "4869647c8ca544da8313991b43fb9c6d",
            "307759e79c324000a213ef3abebf3c8d",
            "732a3ddaa4f3486abffff8816df4fbe1",
            "a41a67c0b14e4aada82b90e4ba74e5a8",
            "08b6bd24f3144b2580d4cb91d73789c8",
            "c058f81e44c9407ea36577dd42f368d4",
            "a16ff3b5eb984ac49d392c4051804c08",
            "63c5f9eded3a4ad9a5161727e553a2fe",
            "a7bd2abf2c9d4828bea3a69549137328",
            "f19ee0b32bb34782a71426e9c09b9404",
            "30d3d5178e6948de85c0441ad38fe135",
            "d76263c4d6f843f19fba87632a35b900",
            "fa13808e0c964099bb205ececafecbb0",
            "e4c4652c07dc4db6887b956d7e28e3fa",
            "363a34e175814ce7bcc7733a0abd263b",
            "3446a0d0702a4e028a748a7062745a42",
            "54cf33c3275341eca4a5f8dd46db2758",
            "95e39d3fb7334e7cb9965ebe24fbaa57",
            "6388b6d2e77d48118fc965e7b13c363d",
            "0f0d9648f8524166af3378744f8c4f9c",
            "0d504088102b400baa5cd9f35e8bd16f",
            "9eedac0ebb6740d7b690d8293ce9142e",
            "34364b6801314f66a50da4c1b1995116",
            "090216ec9b7c48eaa2d514a7665bc82b",
            "e8e8285ab8954a7689d98da4d80d43b3",
            "919a2450a7604bf39a06391062309b6e",
            "9050543c6e4d4412804032b205f8529e",
            "72021198818d45a69219a566e2955f6e",
            "84532a9b6f7d4f1ca6b1022b0ef98790",
            "294971734a4d4b84ac3b3ada4ee911b2",
            "9ab9ebd86993413aa8ea738c53d78257"
          ]
        },
        "id": "OW6iqjEukEfr",
        "outputId": "1cfbffbb-ca85-40f6-929d-58e06aabea9e"
      },
      "outputs": [
        {
          "name": "stdout",
          "output_type": "stream",
          "text": [
            "Initializing tokenizer HuggingFaceTB/SmolLM-135M\n"
          ]
        },
        {
          "data": {
            "application/vnd.jupyter.widget-view+json": {
              "model_id": "87d161cb493b43c9a26055dcd4493a28",
              "version_major": 2,
              "version_minor": 0
            },
            "text/plain": [
              "Resolving data files:   0%|          | 0/104 [00:00<?, ?it/s]"
            ]
          },
          "metadata": {},
          "output_type": "display_data"
        },
        {
          "data": {
            "application/vnd.jupyter.widget-view+json": {
              "model_id": "bd05c8b73285421fba4da6e29b30e554",
              "version_major": 2,
              "version_minor": 0
            },
            "text/plain": [
              "Resolving data files:   0%|          | 0/104 [00:00<?, ?it/s]"
            ]
          },
          "metadata": {},
          "output_type": "display_data"
        },
        {
          "data": {
            "application/vnd.jupyter.widget-view+json": {
              "model_id": "c8cb63d61e7e48cb8bdfa2994f786334",
              "version_major": 2,
              "version_minor": 0
            },
            "text/plain": [
              "Resolving data files:   0%|          | 0/104 [00:00<?, ?it/s]"
            ]
          },
          "metadata": {},
          "output_type": "display_data"
        },
        {
          "data": {
            "application/vnd.jupyter.widget-view+json": {
              "model_id": "f15cd8d900294a7e9412a854055c68c8",
              "version_major": 2,
              "version_minor": 0
            },
            "text/plain": [
              "Resolving data files:   0%|          | 0/104 [00:00<?, ?it/s]"
            ]
          },
          "metadata": {},
          "output_type": "display_data"
        },
        {
          "data": {
            "application/vnd.jupyter.widget-view+json": {
              "model_id": "ec123f8418f04da381c1a2a9aea4ceae",
              "version_major": 2,
              "version_minor": 0
            },
            "text/plain": [
              "Resolving data files:   0%|          | 0/234 [00:00<?, ?it/s]"
            ]
          },
          "metadata": {},
          "output_type": "display_data"
        },
        {
          "name": "stdout",
          "output_type": "stream",
          "text": [
            "HuggingfaceDataLoader initialized:\n",
            "------------------------\n",
            "label:          train\n",
            "shards:         0\n",
            "shard size:     299\n",
            "batch size:     2\n",
            "block size:     1024\n",
            "device rank:    1\n",
            "------------------------\n"
          ]
        }
      ],
      "source": [
        "import os\n",
        "\n",
        "from jaxpt.dataloaders import HuggingfaceDataLoader\n",
        "\n",
        "train_dl = HuggingfaceDataLoader(batch_size=trconf.mB,\n",
        "                                 block_size=trconf.T,\n",
        "                                 device_rank=1,\n",
        "                                 tokenizer=\"HuggingFaceTB/SmolLM-135M\",\n",
        "                                 dataset_paths=[\"HuggingFaceTB/smollm-corpus\",\n",
        "                                                \"HuggingFaceTB/smollm-corpus\",\n",
        "                                                \"HuggingFaceTB/smollm-corpus\"],\n",
        "                                 dataset_names=[\"cosmopedia-v2\",\n",
        "                                                \"python-edu\",\n",
        "                                                \"fineweb-edu-dedup\"],\n",
        "                                 probabilities=[0.111, 0.016 , 0.873],\n",
        "                                 label=\"train\",\n",
        "                                 random_seed=1337,\n",
        "                                 buffer_size=10_000,\n",
        "                                 streaming=True)\n",
        "\n"
      ]
    },
    {
      "cell_type": "code",
      "execution_count": 14,
      "metadata": {
        "colab": {
          "base_uri": "https://localhost:8080/"
        },
        "id": "Tmc3R2k_Ag-U",
        "outputId": "8c80df8c-417b-4e61-bf1c-43f33098382a"
      },
      "outputs": [
        {
          "name": "stdout",
          "output_type": "stream",
          "text": [
            "Log directory: /home/vikram/jaxpt/alpha_training_runs/GLaM/logs\n"
          ]
        }
      ],
      "source": [
        "from jaxpt.utils import append_to_csv\n",
        "\n",
        "# Create log dir\n",
        "log_dir = output_dir / m.config.name / \"logs\"\n",
        "log_dir.mkdir(parents=True, exist_ok=True)\n",
        "print(f\"Log directory: {log_dir}\")\n",
        "\n",
        "train_losses = []\n",
        "append_to_csv(log_dir / f\"{run_dirname}_train.csv\", [\"step\", \"lr\", \"loss\", \"time\", \"tokens_processed\", \"tokens_per_sec\"])\n",
        "step = 0"
      ]
    },
    {
      "cell_type": "code",
      "execution_count": 15,
      "metadata": {
        "colab": {
          "base_uri": "https://localhost:8080/",
          "height": 426
        },
        "id": "UwtmfUotuLMU",
        "outputId": "86b8b01f-ff7b-42e8-c173-cf23e3026c6f",
        "scrolled": true
      },
      "outputs": [
        {
          "name": "stdout",
          "output_type": "stream",
          "text": [
            "Received KeyboardInterrupt. Exiting...\n"
          ]
        },
        {
          "data": {
            "image/png": "[encoded data removed]",
            "text/plain": [
              "<Figure size 500x300 with 1 Axes>"
            ]
          },
          "metadata": {},
          "output_type": "display_data"
        }
      ],
      "source": [
        "%matplotlib inline\n",
        "\n",
        "import time\n",
        "\n",
        "import matplotlib.pyplot as plt\n",
        "\n",
        "from jaxpt.train import train_step\n",
        "\n",
        "data_sharding = NamedSharding(mesh, PartitionSpec(\"data\", None))\n",
        "\n",
        "with mesh:\n",
        "  m.train()\n",
        "  try:\n",
        "    while step < trconf.max_steps:\n",
        "      start = time.time()\n",
        "      batch, target = train_dl()\n",
        "      batch = jax.device_put(batch.squeeze(), data_sharding)\n",
        "      target = jax.device_put(target.squeeze(), data_sharding)\n",
        "      avg_loss, avg_grads = train_step(m, optimizer, batch, target)\n",
        "      avg_loss.block_until_ready()\n",
        "      # compute stats\n",
        "      avg_loss = jax.device_get(avg_loss)\n",
        "      avg_loss = jnp.float32(avg_loss)\n",
        "      lr = lr_schedule(step)\n",
        "      iter_time = time.time() - start\n",
        "      sub_step_time = iter_time / trconf.grad_accumulation_steps\n",
        "      tokens_per_sec = num_devices * trconf.mB * trconf.T * trconf.grad_accumulation_steps / iter_time\n",
        "      tokens_processed = (step+1) * num_devices * trconf.grad_accumulation_steps * trconf.mB * trconf.T\n",
        "\n",
        "      if step % trconf.print_interval == 0:\n",
        "        train_losses.append((step, avg_loss))\n",
        "        append_to_csv(log_dir / f\"{run_dirname}_train.csv\", [step, lr, avg_loss, iter_time*1000, tokens_processed, tokens_per_sec])\n",
        "        print(f\"{step} | lr: {lr} | \"\n",
        "              f\"loss: {avg_loss:0.4f} | \"\n",
        "              f\"time: {iter_time*1000:0.2f}ms | \"\n",
        "              f\"tokens processed: {tokens_processed:,} | \"\n",
        "              f\"tok/sec: {tokens_per_sec:,.2f}\", end=\"\\r\")\n",
        "      if step % trconf.eval_interval == 0:\n",
        "        print(\"Evaluation TBD\")\n",
        "        # save_checkpoint(m, run_dirname, step)\n",
        "      step += 1\n",
        "\n",
        "  except KeyboardInterrupt:\n",
        "      print(\"Received KeyboardInterrupt. Exiting...\")\n",
        "\n",
        "  plt.figure(figsize=(5, 3))\n",
        "  plt.plot([x[0] for x in train_losses], [x[1] for x in train_losses], label=\"train loss\")\n",
        "  plt.legend()\n",
        "  plt.savefig(log_dir / f\"{run_dirname}.png\", dpi=300, bbox_inches=\"tight\", transparent=True)\n",
        "  plt.show()\n"
      ]
    },
    {
      "cell_type": "code",
      "execution_count": 10,
      "metadata": {
        "id": "SlXnYGmw4_76"
      },
      "outputs": [
        {
          "name": "stderr",
          "output_type": "stream",
          "text": [
            "WARNING:absl:Please add `.wait_until_finished()` in the main thread before your program finishes because there is a possibility of losing errors raised if the this class is deleted before writing is completed.\n"
          ]
        }
      ],
      "source": [
        "save_checkpoint(m, output_dir, run_dirname, step)"
      ]
    },
    {
      "cell_type": "code",
      "execution_count": 17,
      "metadata": {
        "colab": {
          "base_uri": "https://localhost:8080/"
        },
        "id": "52KPj5E1rCB6",
        "outputId": "17f97617-8109-4974-c7a9-2bd339574ade"
      },
      "outputs": [
        {
          "name": "stdout",
          "output_type": "stream",
          "text": [
            "Model: "
          ]
        },
        {
          "name": "stdout",
          "output_type": "stream",
          "text": [
            "-year\n",
            "\n",
            "\n"
          ]
        },
        {
          "data": {
            "text/plain": [
              "Array([[    1,  9690,   198,  2683,   359,   253,  5356, 11173,    30,\n",
              "            2,   198,     1,  4093,   198,  1780,   314,   260,  3575,\n",
              "          282,   260,  3530,  1215,   282, 40982,    47,     2,   198,\n",
              "            1,   520,  9531,   198,    29,  3610,   198]], dtype=int32)"
            ]
          },
          "execution_count": 17,
          "metadata": {},
          "output_type": "execute_result"
        }
      ],
      "source": [
        "import logging\n",
        "\n",
        "from jaxpt.infer import generate_chat\n",
        "\n",
        "logger = logging.getLogger(__name__)\n",
        "logger.setLevel(logging.INFO)\n",
        "\n",
        "# Prevent logs from being propagated to the root logger\n",
        "logger.propagate = False\n",
        "# Remove all existing handlers\n",
        "logger.handlers.clear()\n",
        "# Create a console handler\n",
        "console_handler = logging.StreamHandler()\n",
        "formatter = logging.Formatter('%(asctime)s - %(levelname)s - %(message)s')\n",
        "console_handler.setFormatter(formatter)\n",
        "if not logger.handlers:\n",
        "    logger.addHandler(console_handler)\n",
        "\n",
        "question = \"What is the capital of the Indian state of Maharashtra?\"\n",
        "\n",
        "m.eval()\n",
        "generate_chat(m, enc=tokenizer, format=\"chatml\", question=question, logger=logger)"
      ]
    }
  ],
  "metadata": {
    "accelerator": "TPU",
    "colab": {
      "gpuType": "V28",
      "machine_shape": "hm",
      "provenance": []
    },
    "kernelspec": {
      "display_name": ".venv",
      "language": "python",
      "name": "python3"
    },
    "language_info": {
      "codemirror_mode": {
        "name": "ipython",
        "version": 3
      },
      "file_extension": ".py",
      "mimetype": "text/x-python",
      "name": "python",
      "nbconvert_exporter": "python",
      "pygments_lexer": "ipython3",
      "version": "3.12.8"
    },
    "widgets": {
      "application/vnd.jupyter.widget-state+json": {
        "0268f0c3906048848a4caaf62526f403": {
          "model_module": "@jupyter-widgets/base",
          "model_module_version": "1.2.0",
          "model_name": "LayoutModel",
          "state": {
            "_model_module": "@jupyter-widgets/base",
            "_model_module_version": "1.2.0",
            "_model_name": "LayoutModel",
            "_view_count": null,
            "_view_module": "@jupyter-widgets/base",
            "_view_module_version": "1.2.0",
            "_view_name": "LayoutView",
            "align_content": null,
            "align_items": null,
            "align_self": null,
            "border": null,
            "bottom": null,
            "display": null,
            "flex": null,
            "flex_flow": null,
            "grid_area": null,
            "grid_auto_columns": null,
            "grid_auto_flow": null,
            "grid_auto_rows": null,
            "grid_column": null,
            "grid_gap": null,
            "grid_row": null,
            "grid_template_areas": null,
            "grid_template_columns": null,
            "grid_template_rows": null,
            "height": null,
            "justify_content": null,
            "justify_items": null,
            "left": null,
            "margin": null,
            "max_height": null,
            "max_width": null,
            "min_height": null,
            "min_width": null,
            "object_fit": null,
            "object_position": null,
            "order": null,
            "overflow": null,
            "overflow_x": null,
            "overflow_y": null,
            "padding": null,
            "right": null,
            "top": null,
            "visibility": null,
            "width": null
          }
        },
        "05da2b72f57643fca19944b7b4c1845b": {
          "model_module": "@jupyter-widgets/controls",
          "model_module_version": "1.5.0",
          "model_name": "HTMLModel",
          "state": {
            "_dom_classes": [],
            "_model_module": "@jupyter-widgets/controls",
            "_model_module_version": "1.5.0",
            "_model_name": "HTMLModel",
            "_view_count": null,
            "_view_module": "@jupyter-widgets/controls",
            "_view_module_version": "1.5.0",
            "_view_name": "HTMLView",
            "description": "",
            "description_tooltip": null,
            "layout": "IPY_MODEL_7917ce4358054bac8fb9a0c76e1a19b6",
            "placeholder": "​",
            "style": "IPY_MODEL_d0fa8585bd814cd281a005a7ef4bc183",
            "value": "Resolving data files: 100%"
          }
        },
        "08b6bd24f3144b2580d4cb91d73789c8": {
          "model_module": "@jupyter-widgets/controls",
          "model_module_version": "1.5.0",
          "model_name": "DescriptionStyleModel",
          "state": {
            "_model_module": "@jupyter-widgets/controls",
            "_model_module_version": "1.5.0",
            "_model_name": "DescriptionStyleModel",
            "_view_count": null,
            "_view_module": "@jupyter-widgets/base",
            "_view_module_version": "1.2.0",
            "_view_name": "StyleView",
            "description_width": ""
          }
        },
        "090216ec9b7c48eaa2d514a7665bc82b": {
          "model_module": "@jupyter-widgets/controls",
          "model_module_version": "1.5.0",
          "model_name": "HTMLModel",
          "state": {
            "_dom_classes": [],
            "_model_module": "@jupyter-widgets/controls",
            "_model_module_version": "1.5.0",
            "_model_name": "HTMLModel",
            "_view_count": null,
            "_view_module": "@jupyter-widgets/controls",
            "_view_module_version": "1.5.0",
            "_view_name": "HTMLView",
            "description": "",
            "description_tooltip": null,
            "layout": "IPY_MODEL_294971734a4d4b84ac3b3ada4ee911b2",
            "placeholder": "​",
            "style": "IPY_MODEL_9ab9ebd86993413aa8ea738c53d78257",
            "value": " 234/234 [00:00&lt;00:00, 18211.06it/s]"
          }
        },
        "0d504088102b400baa5cd9f35e8bd16f": {
          "model_module": "@jupyter-widgets/controls",
          "model_module_version": "1.5.0",
          "model_name": "HBoxModel",
          "state": {
            "_dom_classes": [],
            "_model_module": "@jupyter-widgets/controls",
            "_model_module_version": "1.5.0",
            "_model_name": "HBoxModel",
            "_view_count": null,
            "_view_module": "@jupyter-widgets/controls",
            "_view_module_version": "1.5.0",
            "_view_name": "HBoxView",
            "box_style": "",
            "children": [
              "IPY_MODEL_9eedac0ebb6740d7b690d8293ce9142e",
              "IPY_MODEL_34364b6801314f66a50da4c1b1995116",
              "IPY_MODEL_090216ec9b7c48eaa2d514a7665bc82b"
            ],
            "layout": "IPY_MODEL_e8e8285ab8954a7689d98da4d80d43b3"
          }
        },
        "0f0d9648f8524166af3378744f8c4f9c": {
          "model_module": "@jupyter-widgets/controls",
          "model_module_version": "1.5.0",
          "model_name": "DescriptionStyleModel",
          "state": {
            "_model_module": "@jupyter-widgets/controls",
            "_model_module_version": "1.5.0",
            "_model_name": "DescriptionStyleModel",
            "_view_count": null,
            "_view_module": "@jupyter-widgets/base",
            "_view_module_version": "1.2.0",
            "_view_name": "StyleView",
            "description_width": ""
          }
        },
        "1e8a87be097b483fbf6a2d7081db9397": {
          "model_module": "@jupyter-widgets/base",
          "model_module_version": "1.2.0",
          "model_name": "LayoutModel",
          "state": {
            "_model_module": "@jupyter-widgets/base",
            "_model_module_version": "1.2.0",
            "_model_name": "LayoutModel",
            "_view_count": null,
            "_view_module": "@jupyter-widgets/base",
            "_view_module_version": "1.2.0",
            "_view_name": "LayoutView",
            "align_content": null,
            "align_items": null,
            "align_self": null,
            "border": null,
            "bottom": null,
            "display": null,
            "flex": null,
            "flex_flow": null,
            "grid_area": null,
            "grid_auto_columns": null,
            "grid_auto_flow": null,
            "grid_auto_rows": null,
            "grid_column": null,
            "grid_gap": null,
            "grid_row": null,
            "grid_template_areas": null,
            "grid_template_columns": null,
            "grid_template_rows": null,
            "height": null,
            "justify_content": null,
            "justify_items": null,
            "left": null,
            "margin": null,
            "max_height": null,
            "max_width": null,
            "min_height": null,
            "min_width": null,
            "object_fit": null,
            "object_position": null,
            "order": null,
            "overflow": null,
            "overflow_x": null,
            "overflow_y": null,
            "padding": null,
            "right": null,
            "top": null,
            "visibility": null,
            "width": null
          }
        },
        "2800aab49b384ec7b5d28a8fe438554a": {
          "model_module": "@jupyter-widgets/controls",
          "model_module_version": "1.5.0",
          "model_name": "DescriptionStyleModel",
          "state": {
            "_model_module": "@jupyter-widgets/controls",
            "_model_module_version": "1.5.0",
            "_model_name": "DescriptionStyleModel",
            "_view_count": null,
            "_view_module": "@jupyter-widgets/base",
            "_view_module_version": "1.2.0",
            "_view_name": "StyleView",
            "description_width": ""
          }
        },
        "294971734a4d4b84ac3b3ada4ee911b2": {
          "model_module": "@jupyter-widgets/base",
          "model_module_version": "1.2.0",
          "model_name": "LayoutModel",
          "state": {
            "_model_module": "@jupyter-widgets/base",
            "_model_module_version": "1.2.0",
            "_model_name": "LayoutModel",
            "_view_count": null,
            "_view_module": "@jupyter-widgets/base",
            "_view_module_version": "1.2.0",
            "_view_name": "LayoutView",
            "align_content": null,
            "align_items": null,
            "align_self": null,
            "border": null,
            "bottom": null,
            "display": null,
            "flex": null,
            "flex_flow": null,
            "grid_area": null,
            "grid_auto_columns": null,
            "grid_auto_flow": null,
            "grid_auto_rows": null,
            "grid_column": null,
            "grid_gap": null,
            "grid_row": null,
            "grid_template_areas": null,
            "grid_template_columns": null,
            "grid_template_rows": null,
            "height": null,
            "justify_content": null,
            "justify_items": null,
            "left": null,
            "margin": null,
            "max_height": null,
            "max_width": null,
            "min_height": null,
            "min_width": null,
            "object_fit": null,
            "object_position": null,
            "order": null,
            "overflow": null,
            "overflow_x": null,
            "overflow_y": null,
            "padding": null,
            "right": null,
            "top": null,
            "visibility": null,
            "width": null
          }
        },
        "307759e79c324000a213ef3abebf3c8d": {
          "model_module": "@jupyter-widgets/controls",
          "model_module_version": "1.5.0",
          "model_name": "HTMLModel",
          "state": {
            "_dom_classes": [],
            "_model_module": "@jupyter-widgets/controls",
            "_model_module_version": "1.5.0",
            "_model_name": "HTMLModel",
            "_view_count": null,
            "_view_module": "@jupyter-widgets/controls",
            "_view_module_version": "1.5.0",
            "_view_name": "HTMLView",
            "description": "",
            "description_tooltip": null,
            "layout": "IPY_MODEL_63c5f9eded3a4ad9a5161727e553a2fe",
            "placeholder": "​",
            "style": "IPY_MODEL_a7bd2abf2c9d4828bea3a69549137328",
            "value": " 104/104 [00:00&lt;00:00, 1059.93it/s]"
          }
        },
        "30d3d5178e6948de85c0441ad38fe135": {
          "model_module": "@jupyter-widgets/controls",
          "model_module_version": "1.5.0",
          "model_name": "HTMLModel",
          "state": {
            "_dom_classes": [],
            "_model_module": "@jupyter-widgets/controls",
            "_model_module_version": "1.5.0",
            "_model_name": "HTMLModel",
            "_view_count": null,
            "_view_module": "@jupyter-widgets/controls",
            "_view_module_version": "1.5.0",
            "_view_name": "HTMLView",
            "description": "",
            "description_tooltip": null,
            "layout": "IPY_MODEL_363a34e175814ce7bcc7733a0abd263b",
            "placeholder": "​",
            "style": "IPY_MODEL_3446a0d0702a4e028a748a7062745a42",
            "value": "Resolving data files: 100%"
          }
        },
        "34364b6801314f66a50da4c1b1995116": {
          "model_module": "@jupyter-widgets/controls",
          "model_module_version": "1.5.0",
          "model_name": "FloatProgressModel",
          "state": {
            "_dom_classes": [],
            "_model_module": "@jupyter-widgets/controls",
            "_model_module_version": "1.5.0",
            "_model_name": "FloatProgressModel",
            "_view_count": null,
            "_view_module": "@jupyter-widgets/controls",
            "_view_module_version": "1.5.0",
            "_view_name": "ProgressView",
            "bar_style": "success",
            "description": "",
            "description_tooltip": null,
            "layout": "IPY_MODEL_72021198818d45a69219a566e2955f6e",
            "max": 234,
            "min": 0,
            "orientation": "horizontal",
            "style": "IPY_MODEL_84532a9b6f7d4f1ca6b1022b0ef98790",
            "value": 234
          }
        },
        "3446a0d0702a4e028a748a7062745a42": {
          "model_module": "@jupyter-widgets/controls",
          "model_module_version": "1.5.0",
          "model_name": "DescriptionStyleModel",
          "state": {
            "_model_module": "@jupyter-widgets/controls",
            "_model_module_version": "1.5.0",
            "_model_name": "DescriptionStyleModel",
            "_view_count": null,
            "_view_module": "@jupyter-widgets/base",
            "_view_module_version": "1.2.0",
            "_view_name": "StyleView",
            "description_width": ""
          }
        },
        "363a34e175814ce7bcc7733a0abd263b": {
          "model_module": "@jupyter-widgets/base",
          "model_module_version": "1.2.0",
          "model_name": "LayoutModel",
          "state": {
            "_model_module": "@jupyter-widgets/base",
            "_model_module_version": "1.2.0",
            "_model_name": "LayoutModel",
            "_view_count": null,
            "_view_module": "@jupyter-widgets/base",
            "_view_module_version": "1.2.0",
            "_view_name": "LayoutView",
            "align_content": null,
            "align_items": null,
            "align_self": null,
            "border": null,
            "bottom": null,
            "display": null,
            "flex": null,
            "flex_flow": null,
            "grid_area": null,
            "grid_auto_columns": null,
            "grid_auto_flow": null,
            "grid_auto_rows": null,
            "grid_column": null,
            "grid_gap": null,
            "grid_row": null,
            "grid_template_areas": null,
            "grid_template_columns": null,
            "grid_template_rows": null,
            "height": null,
            "justify_content": null,
            "justify_items": null,
            "left": null,
            "margin": null,
            "max_height": null,
            "max_width": null,
            "min_height": null,
            "min_width": null,
            "object_fit": null,
            "object_position": null,
            "order": null,
            "overflow": null,
            "overflow_x": null,
            "overflow_y": null,
            "padding": null,
            "right": null,
            "top": null,
            "visibility": null,
            "width": null
          }
        },
        "36ab1136601f4605a0156fad7d6cae87": {
          "model_module": "@jupyter-widgets/controls",
          "model_module_version": "1.5.0",
          "model_name": "FloatProgressModel",
          "state": {
            "_dom_classes": [],
            "_model_module": "@jupyter-widgets/controls",
            "_model_module_version": "1.5.0",
            "_model_name": "FloatProgressModel",
            "_view_count": null,
            "_view_module": "@jupyter-widgets/controls",
            "_view_module_version": "1.5.0",
            "_view_name": "ProgressView",
            "bar_style": "success",
            "description": "",
            "description_tooltip": null,
            "layout": "IPY_MODEL_87ae59eacfe3455aa9567702f00724fd",
            "max": 104,
            "min": 0,
            "orientation": "horizontal",
            "style": "IPY_MODEL_cd0be431873f4e8e9617207a99ebc695",
            "value": 104
          }
        },
        "3e78612062f94faab5cda097a58ed378": {
          "model_module": "@jupyter-widgets/base",
          "model_module_version": "1.2.0",
          "model_name": "LayoutModel",
          "state": {
            "_model_module": "@jupyter-widgets/base",
            "_model_module_version": "1.2.0",
            "_model_name": "LayoutModel",
            "_view_count": null,
            "_view_module": "@jupyter-widgets/base",
            "_view_module_version": "1.2.0",
            "_view_name": "LayoutView",
            "align_content": null,
            "align_items": null,
            "align_self": null,
            "border": null,
            "bottom": null,
            "display": null,
            "flex": null,
            "flex_flow": null,
            "grid_area": null,
            "grid_auto_columns": null,
            "grid_auto_flow": null,
            "grid_auto_rows": null,
            "grid_column": null,
            "grid_gap": null,
            "grid_row": null,
            "grid_template_areas": null,
            "grid_template_columns": null,
            "grid_template_rows": null,
            "height": null,
            "justify_content": null,
            "justify_items": null,
            "left": null,
            "margin": null,
            "max_height": null,
            "max_width": null,
            "min_height": null,
            "min_width": null,
            "object_fit": null,
            "object_position": null,
            "order": null,
            "overflow": null,
            "overflow_x": null,
            "overflow_y": null,
            "padding": null,
            "right": null,
            "top": null,
            "visibility": null,
            "width": null
          }
        },
        "47c6dc86f77b436880e07eecc84472dc": {
          "model_module": "@jupyter-widgets/base",
          "model_module_version": "1.2.0",
          "model_name": "LayoutModel",
          "state": {
            "_model_module": "@jupyter-widgets/base",
            "_model_module_version": "1.2.0",
            "_model_name": "LayoutModel",
            "_view_count": null,
            "_view_module": "@jupyter-widgets/base",
            "_view_module_version": "1.2.0",
            "_view_name": "LayoutView",
            "align_content": null,
            "align_items": null,
            "align_self": null,
            "border": null,
            "bottom": null,
            "display": null,
            "flex": null,
            "flex_flow": null,
            "grid_area": null,
            "grid_auto_columns": null,
            "grid_auto_flow": null,
            "grid_auto_rows": null,
            "grid_column": null,
            "grid_gap": null,
            "grid_row": null,
            "grid_template_areas": null,
            "grid_template_columns": null,
            "grid_template_rows": null,
            "height": null,
            "justify_content": null,
            "justify_items": null,
            "left": null,
            "margin": null,
            "max_height": null,
            "max_width": null,
            "min_height": null,
            "min_width": null,
            "object_fit": null,
            "object_position": null,
            "order": null,
            "overflow": null,
            "overflow_x": null,
            "overflow_y": null,
            "padding": null,
            "right": null,
            "top": null,
            "visibility": null,
            "width": null
          }
        },
        "4869647c8ca544da8313991b43fb9c6d": {
          "model_module": "@jupyter-widgets/controls",
          "model_module_version": "1.5.0",
          "model_name": "FloatProgressModel",
          "state": {
            "_dom_classes": [],
            "_model_module": "@jupyter-widgets/controls",
            "_model_module_version": "1.5.0",
            "_model_name": "FloatProgressModel",
            "_view_count": null,
            "_view_module": "@jupyter-widgets/controls",
            "_view_module_version": "1.5.0",
            "_view_name": "ProgressView",
            "bar_style": "success",
            "description": "",
            "description_tooltip": null,
            "layout": "IPY_MODEL_c058f81e44c9407ea36577dd42f368d4",
            "max": 104,
            "min": 0,
            "orientation": "horizontal",
            "style": "IPY_MODEL_a16ff3b5eb984ac49d392c4051804c08",
            "value": 104
          }
        },
        "54cf33c3275341eca4a5f8dd46db2758": {
          "model_module": "@jupyter-widgets/base",
          "model_module_version": "1.2.0",
          "model_name": "LayoutModel",
          "state": {
            "_model_module": "@jupyter-widgets/base",
            "_model_module_version": "1.2.0",
            "_model_name": "LayoutModel",
            "_view_count": null,
            "_view_module": "@jupyter-widgets/base",
            "_view_module_version": "1.2.0",
            "_view_name": "LayoutView",
            "align_content": null,
            "align_items": null,
            "align_self": null,
            "border": null,
            "bottom": null,
            "display": null,
            "flex": null,
            "flex_flow": null,
            "grid_area": null,
            "grid_auto_columns": null,
            "grid_auto_flow": null,
            "grid_auto_rows": null,
            "grid_column": null,
            "grid_gap": null,
            "grid_row": null,
            "grid_template_areas": null,
            "grid_template_columns": null,
            "grid_template_rows": null,
            "height": null,
            "justify_content": null,
            "justify_items": null,
            "left": null,
            "margin": null,
            "max_height": null,
            "max_width": null,
            "min_height": null,
            "min_width": null,
            "object_fit": null,
            "object_position": null,
            "order": null,
            "overflow": null,
            "overflow_x": null,
            "overflow_y": null,
            "padding": null,
            "right": null,
            "top": null,
            "visibility": null,
            "width": null
          }
        },
        "5bf1bba68d96482d9297e1a2b5b65a3f": {
          "model_module": "@jupyter-widgets/controls",
          "model_module_version": "1.5.0",
          "model_name": "HTMLModel",
          "state": {
            "_dom_classes": [],
            "_model_module": "@jupyter-widgets/controls",
            "_model_module_version": "1.5.0",
            "_model_name": "HTMLModel",
            "_view_count": null,
            "_view_module": "@jupyter-widgets/controls",
            "_view_module_version": "1.5.0",
            "_view_name": "HTMLView",
            "description": "",
            "description_tooltip": null,
            "layout": "IPY_MODEL_a41a67c0b14e4aada82b90e4ba74e5a8",
            "placeholder": "​",
            "style": "IPY_MODEL_08b6bd24f3144b2580d4cb91d73789c8",
            "value": "Resolving data files: 100%"
          }
        },
        "607e1f800d4444fa9d4fdba5007550f8": {
          "model_module": "@jupyter-widgets/controls",
          "model_module_version": "1.5.0",
          "model_name": "ProgressStyleModel",
          "state": {
            "_model_module": "@jupyter-widgets/controls",
            "_model_module_version": "1.5.0",
            "_model_name": "ProgressStyleModel",
            "_view_count": null,
            "_view_module": "@jupyter-widgets/base",
            "_view_module_version": "1.2.0",
            "_view_name": "StyleView",
            "bar_color": null,
            "description_width": ""
          }
        },
        "6388b6d2e77d48118fc965e7b13c363d": {
          "model_module": "@jupyter-widgets/base",
          "model_module_version": "1.2.0",
          "model_name": "LayoutModel",
          "state": {
            "_model_module": "@jupyter-widgets/base",
            "_model_module_version": "1.2.0",
            "_model_name": "LayoutModel",
            "_view_count": null,
            "_view_module": "@jupyter-widgets/base",
            "_view_module_version": "1.2.0",
            "_view_name": "LayoutView",
            "align_content": null,
            "align_items": null,
            "align_self": null,
            "border": null,
            "bottom": null,
            "display": null,
            "flex": null,
            "flex_flow": null,
            "grid_area": null,
            "grid_auto_columns": null,
            "grid_auto_flow": null,
            "grid_auto_rows": null,
            "grid_column": null,
            "grid_gap": null,
            "grid_row": null,
            "grid_template_areas": null,
            "grid_template_columns": null,
            "grid_template_rows": null,
            "height": null,
            "justify_content": null,
            "justify_items": null,
            "left": null,
            "margin": null,
            "max_height": null,
            "max_width": null,
            "min_height": null,
            "min_width": null,
            "object_fit": null,
            "object_position": null,
            "order": null,
            "overflow": null,
            "overflow_x": null,
            "overflow_y": null,
            "padding": null,
            "right": null,
            "top": null,
            "visibility": null,
            "width": null
          }
        },
        "63c5f9eded3a4ad9a5161727e553a2fe": {
          "model_module": "@jupyter-widgets/base",
          "model_module_version": "1.2.0",
          "model_name": "LayoutModel",
          "state": {
            "_model_module": "@jupyter-widgets/base",
            "_model_module_version": "1.2.0",
            "_model_name": "LayoutModel",
            "_view_count": null,
            "_view_module": "@jupyter-widgets/base",
            "_view_module_version": "1.2.0",
            "_view_name": "LayoutView",
            "align_content": null,
            "align_items": null,
            "align_self": null,
            "border": null,
            "bottom": null,
            "display": null,
            "flex": null,
            "flex_flow": null,
            "grid_area": null,
            "grid_auto_columns": null,
            "grid_auto_flow": null,
            "grid_auto_rows": null,
            "grid_column": null,
            "grid_gap": null,
            "grid_row": null,
            "grid_template_areas": null,
            "grid_template_columns": null,
            "grid_template_rows": null,
            "height": null,
            "justify_content": null,
            "justify_items": null,
            "left": null,
            "margin": null,
            "max_height": null,
            "max_width": null,
            "min_height": null,
            "min_width": null,
            "object_fit": null,
            "object_position": null,
            "order": null,
            "overflow": null,
            "overflow_x": null,
            "overflow_y": null,
            "padding": null,
            "right": null,
            "top": null,
            "visibility": null,
            "width": null
          }
        },
        "672daa39ac1f4fa3935e0b170e5413b2": {
          "model_module": "@jupyter-widgets/controls",
          "model_module_version": "1.5.0",
          "model_name": "DescriptionStyleModel",
          "state": {
            "_model_module": "@jupyter-widgets/controls",
            "_model_module_version": "1.5.0",
            "_model_name": "DescriptionStyleModel",
            "_view_count": null,
            "_view_module": "@jupyter-widgets/base",
            "_view_module_version": "1.2.0",
            "_view_name": "StyleView",
            "description_width": ""
          }
        },
        "72021198818d45a69219a566e2955f6e": {
          "model_module": "@jupyter-widgets/base",
          "model_module_version": "1.2.0",
          "model_name": "LayoutModel",
          "state": {
            "_model_module": "@jupyter-widgets/base",
            "_model_module_version": "1.2.0",
            "_model_name": "LayoutModel",
            "_view_count": null,
            "_view_module": "@jupyter-widgets/base",
            "_view_module_version": "1.2.0",
            "_view_name": "LayoutView",
            "align_content": null,
            "align_items": null,
            "align_self": null,
            "border": null,
            "bottom": null,
            "display": null,
            "flex": null,
            "flex_flow": null,
            "grid_area": null,
            "grid_auto_columns": null,
            "grid_auto_flow": null,
            "grid_auto_rows": null,
            "grid_column": null,
            "grid_gap": null,
            "grid_row": null,
            "grid_template_areas": null,
            "grid_template_columns": null,
            "grid_template_rows": null,
            "height": null,
            "justify_content": null,
            "justify_items": null,
            "left": null,
            "margin": null,
            "max_height": null,
            "max_width": null,
            "min_height": null,
            "min_width": null,
            "object_fit": null,
            "object_position": null,
            "order": null,
            "overflow": null,
            "overflow_x": null,
            "overflow_y": null,
            "padding": null,
            "right": null,
            "top": null,
            "visibility": null,
            "width": null
          }
        },
        "732a3ddaa4f3486abffff8816df4fbe1": {
          "model_module": "@jupyter-widgets/base",
          "model_module_version": "1.2.0",
          "model_name": "LayoutModel",
          "state": {
            "_model_module": "@jupyter-widgets/base",
            "_model_module_version": "1.2.0",
            "_model_name": "LayoutModel",
            "_view_count": null,
            "_view_module": "@jupyter-widgets/base",
            "_view_module_version": "1.2.0",
            "_view_name": "LayoutView",
            "align_content": null,
            "align_items": null,
            "align_self": null,
            "border": null,
            "bottom": null,
            "display": null,
            "flex": null,
            "flex_flow": null,
            "grid_area": null,
            "grid_auto_columns": null,
            "grid_auto_flow": null,
            "grid_auto_rows": null,
            "grid_column": null,
            "grid_gap": null,
            "grid_row": null,
            "grid_template_areas": null,
            "grid_template_columns": null,
            "grid_template_rows": null,
            "height": null,
            "justify_content": null,
            "justify_items": null,
            "left": null,
            "margin": null,
            "max_height": null,
            "max_width": null,
            "min_height": null,
            "min_width": null,
            "object_fit": null,
            "object_position": null,
            "order": null,
            "overflow": null,
            "overflow_x": null,
            "overflow_y": null,
            "padding": null,
            "right": null,
            "top": null,
            "visibility": null,
            "width": null
          }
        },
        "7917ce4358054bac8fb9a0c76e1a19b6": {
          "model_module": "@jupyter-widgets/base",
          "model_module_version": "1.2.0",
          "model_name": "LayoutModel",
          "state": {
            "_model_module": "@jupyter-widgets/base",
            "_model_module_version": "1.2.0",
            "_model_name": "LayoutModel",
            "_view_count": null,
            "_view_module": "@jupyter-widgets/base",
            "_view_module_version": "1.2.0",
            "_view_name": "LayoutView",
            "align_content": null,
            "align_items": null,
            "align_self": null,
            "border": null,
            "bottom": null,
            "display": null,
            "flex": null,
            "flex_flow": null,
            "grid_area": null,
            "grid_auto_columns": null,
            "grid_auto_flow": null,
            "grid_auto_rows": null,
            "grid_column": null,
            "grid_gap": null,
            "grid_row": null,
            "grid_template_areas": null,
            "grid_template_columns": null,
            "grid_template_rows": null,
            "height": null,
            "justify_content": null,
            "justify_items": null,
            "left": null,
            "margin": null,
            "max_height": null,
            "max_width": null,
            "min_height": null,
            "min_width": null,
            "object_fit": null,
            "object_position": null,
            "order": null,
            "overflow": null,
            "overflow_x": null,
            "overflow_y": null,
            "padding": null,
            "right": null,
            "top": null,
            "visibility": null,
            "width": null
          }
        },
        "7fd1f2218e924aadbfe6bb3927b7e26d": {
          "model_module": "@jupyter-widgets/controls",
          "model_module_version": "1.5.0",
          "model_name": "HBoxModel",
          "state": {
            "_dom_classes": [],
            "_model_module": "@jupyter-widgets/controls",
            "_model_module_version": "1.5.0",
            "_model_name": "HBoxModel",
            "_view_count": null,
            "_view_module": "@jupyter-widgets/controls",
            "_view_module_version": "1.5.0",
            "_view_name": "HBoxView",
            "box_style": "",
            "children": [
              "IPY_MODEL_deb87f9912ee418c80848da44e202b20",
              "IPY_MODEL_f8061bfe8d8147ceba191c7bf68aba43",
              "IPY_MODEL_929d441413ee4b749ee61744579d03ac"
            ],
            "layout": "IPY_MODEL_3e78612062f94faab5cda097a58ed378"
          }
        },
        "84532a9b6f7d4f1ca6b1022b0ef98790": {
          "model_module": "@jupyter-widgets/controls",
          "model_module_version": "1.5.0",
          "model_name": "ProgressStyleModel",
          "state": {
            "_model_module": "@jupyter-widgets/controls",
            "_model_module_version": "1.5.0",
            "_model_name": "ProgressStyleModel",
            "_view_count": null,
            "_view_module": "@jupyter-widgets/base",
            "_view_module_version": "1.2.0",
            "_view_name": "StyleView",
            "bar_color": null,
            "description_width": ""
          }
        },
        "87ae59eacfe3455aa9567702f00724fd": {
          "model_module": "@jupyter-widgets/base",
          "model_module_version": "1.2.0",
          "model_name": "LayoutModel",
          "state": {
            "_model_module": "@jupyter-widgets/base",
            "_model_module_version": "1.2.0",
            "_model_name": "LayoutModel",
            "_view_count": null,
            "_view_module": "@jupyter-widgets/base",
            "_view_module_version": "1.2.0",
            "_view_name": "LayoutView",
            "align_content": null,
            "align_items": null,
            "align_self": null,
            "border": null,
            "bottom": null,
            "display": null,
            "flex": null,
            "flex_flow": null,
            "grid_area": null,
            "grid_auto_columns": null,
            "grid_auto_flow": null,
            "grid_auto_rows": null,
            "grid_column": null,
            "grid_gap": null,
            "grid_row": null,
            "grid_template_areas": null,
            "grid_template_columns": null,
            "grid_template_rows": null,
            "height": null,
            "justify_content": null,
            "justify_items": null,
            "left": null,
            "margin": null,
            "max_height": null,
            "max_width": null,
            "min_height": null,
            "min_width": null,
            "object_fit": null,
            "object_position": null,
            "order": null,
            "overflow": null,
            "overflow_x": null,
            "overflow_y": null,
            "padding": null,
            "right": null,
            "top": null,
            "visibility": null,
            "width": null
          }
        },
        "9050543c6e4d4412804032b205f8529e": {
          "model_module": "@jupyter-widgets/controls",
          "model_module_version": "1.5.0",
          "model_name": "DescriptionStyleModel",
          "state": {
            "_model_module": "@jupyter-widgets/controls",
            "_model_module_version": "1.5.0",
            "_model_name": "DescriptionStyleModel",
            "_view_count": null,
            "_view_module": "@jupyter-widgets/base",
            "_view_module_version": "1.2.0",
            "_view_name": "StyleView",
            "description_width": ""
          }
        },
        "919a2450a7604bf39a06391062309b6e": {
          "model_module": "@jupyter-widgets/base",
          "model_module_version": "1.2.0",
          "model_name": "LayoutModel",
          "state": {
            "_model_module": "@jupyter-widgets/base",
            "_model_module_version": "1.2.0",
            "_model_name": "LayoutModel",
            "_view_count": null,
            "_view_module": "@jupyter-widgets/base",
            "_view_module_version": "1.2.0",
            "_view_name": "LayoutView",
            "align_content": null,
            "align_items": null,
            "align_self": null,
            "border": null,
            "bottom": null,
            "display": null,
            "flex": null,
            "flex_flow": null,
            "grid_area": null,
            "grid_auto_columns": null,
            "grid_auto_flow": null,
            "grid_auto_rows": null,
            "grid_column": null,
            "grid_gap": null,
            "grid_row": null,
            "grid_template_areas": null,
            "grid_template_columns": null,
            "grid_template_rows": null,
            "height": null,
            "justify_content": null,
            "justify_items": null,
            "left": null,
            "margin": null,
            "max_height": null,
            "max_width": null,
            "min_height": null,
            "min_width": null,
            "object_fit": null,
            "object_position": null,
            "order": null,
            "overflow": null,
            "overflow_x": null,
            "overflow_y": null,
            "padding": null,
            "right": null,
            "top": null,
            "visibility": null,
            "width": null
          }
        },
        "929d441413ee4b749ee61744579d03ac": {
          "model_module": "@jupyter-widgets/controls",
          "model_module_version": "1.5.0",
          "model_name": "HTMLModel",
          "state": {
            "_dom_classes": [],
            "_model_module": "@jupyter-widgets/controls",
            "_model_module_version": "1.5.0",
            "_model_name": "HTMLModel",
            "_view_count": null,
            "_view_module": "@jupyter-widgets/controls",
            "_view_module_version": "1.5.0",
            "_view_name": "HTMLView",
            "description": "",
            "description_tooltip": null,
            "layout": "IPY_MODEL_0268f0c3906048848a4caaf62526f403",
            "placeholder": "​",
            "style": "IPY_MODEL_2800aab49b384ec7b5d28a8fe438554a",
            "value": " 104/104 [00:00&lt;00:00, 13212.81it/s]"
          }
        },
        "95e39d3fb7334e7cb9965ebe24fbaa57": {
          "model_module": "@jupyter-widgets/controls",
          "model_module_version": "1.5.0",
          "model_name": "ProgressStyleModel",
          "state": {
            "_model_module": "@jupyter-widgets/controls",
            "_model_module_version": "1.5.0",
            "_model_name": "ProgressStyleModel",
            "_view_count": null,
            "_view_module": "@jupyter-widgets/base",
            "_view_module_version": "1.2.0",
            "_view_name": "StyleView",
            "bar_color": null,
            "description_width": ""
          }
        },
        "973070bed1634619add769d547112042": {
          "model_module": "@jupyter-widgets/base",
          "model_module_version": "1.2.0",
          "model_name": "LayoutModel",
          "state": {
            "_model_module": "@jupyter-widgets/base",
            "_model_module_version": "1.2.0",
            "_model_name": "LayoutModel",
            "_view_count": null,
            "_view_module": "@jupyter-widgets/base",
            "_view_module_version": "1.2.0",
            "_view_name": "LayoutView",
            "align_content": null,
            "align_items": null,
            "align_self": null,
            "border": null,
            "bottom": null,
            "display": null,
            "flex": null,
            "flex_flow": null,
            "grid_area": null,
            "grid_auto_columns": null,
            "grid_auto_flow": null,
            "grid_auto_rows": null,
            "grid_column": null,
            "grid_gap": null,
            "grid_row": null,
            "grid_template_areas": null,
            "grid_template_columns": null,
            "grid_template_rows": null,
            "height": null,
            "justify_content": null,
            "justify_items": null,
            "left": null,
            "margin": null,
            "max_height": null,
            "max_width": null,
            "min_height": null,
            "min_width": null,
            "object_fit": null,
            "object_position": null,
            "order": null,
            "overflow": null,
            "overflow_x": null,
            "overflow_y": null,
            "padding": null,
            "right": null,
            "top": null,
            "visibility": null,
            "width": null
          }
        },
        "9ab9ebd86993413aa8ea738c53d78257": {
          "model_module": "@jupyter-widgets/controls",
          "model_module_version": "1.5.0",
          "model_name": "DescriptionStyleModel",
          "state": {
            "_model_module": "@jupyter-widgets/controls",
            "_model_module_version": "1.5.0",
            "_model_name": "DescriptionStyleModel",
            "_view_count": null,
            "_view_module": "@jupyter-widgets/base",
            "_view_module_version": "1.2.0",
            "_view_name": "StyleView",
            "description_width": ""
          }
        },
        "9eedac0ebb6740d7b690d8293ce9142e": {
          "model_module": "@jupyter-widgets/controls",
          "model_module_version": "1.5.0",
          "model_name": "HTMLModel",
          "state": {
            "_dom_classes": [],
            "_model_module": "@jupyter-widgets/controls",
            "_model_module_version": "1.5.0",
            "_model_name": "HTMLModel",
            "_view_count": null,
            "_view_module": "@jupyter-widgets/controls",
            "_view_module_version": "1.5.0",
            "_view_name": "HTMLView",
            "description": "",
            "description_tooltip": null,
            "layout": "IPY_MODEL_919a2450a7604bf39a06391062309b6e",
            "placeholder": "​",
            "style": "IPY_MODEL_9050543c6e4d4412804032b205f8529e",
            "value": "Resolving data files: 100%"
          }
        },
        "a16ff3b5eb984ac49d392c4051804c08": {
          "model_module": "@jupyter-widgets/controls",
          "model_module_version": "1.5.0",
          "model_name": "ProgressStyleModel",
          "state": {
            "_model_module": "@jupyter-widgets/controls",
            "_model_module_version": "1.5.0",
            "_model_name": "ProgressStyleModel",
            "_view_count": null,
            "_view_module": "@jupyter-widgets/base",
            "_view_module_version": "1.2.0",
            "_view_name": "StyleView",
            "bar_color": null,
            "description_width": ""
          }
        },
        "a41a67c0b14e4aada82b90e4ba74e5a8": {
          "model_module": "@jupyter-widgets/base",
          "model_module_version": "1.2.0",
          "model_name": "LayoutModel",
          "state": {
            "_model_module": "@jupyter-widgets/base",
            "_model_module_version": "1.2.0",
            "_model_name": "LayoutModel",
            "_view_count": null,
            "_view_module": "@jupyter-widgets/base",
            "_view_module_version": "1.2.0",
            "_view_name": "LayoutView",
            "align_content": null,
            "align_items": null,
            "align_self": null,
            "border": null,
            "bottom": null,
            "display": null,
            "flex": null,
            "flex_flow": null,
            "grid_area": null,
            "grid_auto_columns": null,
            "grid_auto_flow": null,
            "grid_auto_rows": null,
            "grid_column": null,
            "grid_gap": null,
            "grid_row": null,
            "grid_template_areas": null,
            "grid_template_columns": null,
            "grid_template_rows": null,
            "height": null,
            "justify_content": null,
            "justify_items": null,
            "left": null,
            "margin": null,
            "max_height": null,
            "max_width": null,
            "min_height": null,
            "min_width": null,
            "object_fit": null,
            "object_position": null,
            "order": null,
            "overflow": null,
            "overflow_x": null,
            "overflow_y": null,
            "padding": null,
            "right": null,
            "top": null,
            "visibility": null,
            "width": null
          }
        },
        "a7bd2abf2c9d4828bea3a69549137328": {
          "model_module": "@jupyter-widgets/controls",
          "model_module_version": "1.5.0",
          "model_name": "DescriptionStyleModel",
          "state": {
            "_model_module": "@jupyter-widgets/controls",
            "_model_module_version": "1.5.0",
            "_model_name": "DescriptionStyleModel",
            "_view_count": null,
            "_view_module": "@jupyter-widgets/base",
            "_view_module_version": "1.2.0",
            "_view_name": "StyleView",
            "description_width": ""
          }
        },
        "bbaa584783484776aff9c68eea2775d5": {
          "model_module": "@jupyter-widgets/controls",
          "model_module_version": "1.5.0",
          "model_name": "HTMLModel",
          "state": {
            "_dom_classes": [],
            "_model_module": "@jupyter-widgets/controls",
            "_model_module_version": "1.5.0",
            "_model_name": "HTMLModel",
            "_view_count": null,
            "_view_module": "@jupyter-widgets/controls",
            "_view_module_version": "1.5.0",
            "_view_name": "HTMLView",
            "description": "",
            "description_tooltip": null,
            "layout": "IPY_MODEL_47c6dc86f77b436880e07eecc84472dc",
            "placeholder": "​",
            "style": "IPY_MODEL_f38b45646346461eb8b634e13a175d3e",
            "value": " 104/104 [00:00&lt;00:00, 25.98it/s]"
          }
        },
        "c058f81e44c9407ea36577dd42f368d4": {
          "model_module": "@jupyter-widgets/base",
          "model_module_version": "1.2.0",
          "model_name": "LayoutModel",
          "state": {
            "_model_module": "@jupyter-widgets/base",
            "_model_module_version": "1.2.0",
            "_model_name": "LayoutModel",
            "_view_count": null,
            "_view_module": "@jupyter-widgets/base",
            "_view_module_version": "1.2.0",
            "_view_name": "LayoutView",
            "align_content": null,
            "align_items": null,
            "align_self": null,
            "border": null,
            "bottom": null,
            "display": null,
            "flex": null,
            "flex_flow": null,
            "grid_area": null,
            "grid_auto_columns": null,
            "grid_auto_flow": null,
            "grid_auto_rows": null,
            "grid_column": null,
            "grid_gap": null,
            "grid_row": null,
            "grid_template_areas": null,
            "grid_template_columns": null,
            "grid_template_rows": null,
            "height": null,
            "justify_content": null,
            "justify_items": null,
            "left": null,
            "margin": null,
            "max_height": null,
            "max_width": null,
            "min_height": null,
            "min_width": null,
            "object_fit": null,
            "object_position": null,
            "order": null,
            "overflow": null,
            "overflow_x": null,
            "overflow_y": null,
            "padding": null,
            "right": null,
            "top": null,
            "visibility": null,
            "width": null
          }
        },
        "cd0be431873f4e8e9617207a99ebc695": {
          "model_module": "@jupyter-widgets/controls",
          "model_module_version": "1.5.0",
          "model_name": "ProgressStyleModel",
          "state": {
            "_model_module": "@jupyter-widgets/controls",
            "_model_module_version": "1.5.0",
            "_model_name": "ProgressStyleModel",
            "_view_count": null,
            "_view_module": "@jupyter-widgets/base",
            "_view_module_version": "1.2.0",
            "_view_name": "StyleView",
            "bar_color": null,
            "description_width": ""
          }
        },
        "ce7fb7a86eff466f887368127790d3f6": {
          "model_module": "@jupyter-widgets/controls",
          "model_module_version": "1.5.0",
          "model_name": "HBoxModel",
          "state": {
            "_dom_classes": [],
            "_model_module": "@jupyter-widgets/controls",
            "_model_module_version": "1.5.0",
            "_model_name": "HBoxModel",
            "_view_count": null,
            "_view_module": "@jupyter-widgets/controls",
            "_view_module_version": "1.5.0",
            "_view_name": "HBoxView",
            "box_style": "",
            "children": [
              "IPY_MODEL_5bf1bba68d96482d9297e1a2b5b65a3f",
              "IPY_MODEL_4869647c8ca544da8313991b43fb9c6d",
              "IPY_MODEL_307759e79c324000a213ef3abebf3c8d"
            ],
            "layout": "IPY_MODEL_732a3ddaa4f3486abffff8816df4fbe1"
          }
        },
        "d0fa8585bd814cd281a005a7ef4bc183": {
          "model_module": "@jupyter-widgets/controls",
          "model_module_version": "1.5.0",
          "model_name": "DescriptionStyleModel",
          "state": {
            "_model_module": "@jupyter-widgets/controls",
            "_model_module_version": "1.5.0",
            "_model_name": "DescriptionStyleModel",
            "_view_count": null,
            "_view_module": "@jupyter-widgets/base",
            "_view_module_version": "1.2.0",
            "_view_name": "StyleView",
            "description_width": ""
          }
        },
        "d76263c4d6f843f19fba87632a35b900": {
          "model_module": "@jupyter-widgets/controls",
          "model_module_version": "1.5.0",
          "model_name": "FloatProgressModel",
          "state": {
            "_dom_classes": [],
            "_model_module": "@jupyter-widgets/controls",
            "_model_module_version": "1.5.0",
            "_model_name": "FloatProgressModel",
            "_view_count": null,
            "_view_module": "@jupyter-widgets/controls",
            "_view_module_version": "1.5.0",
            "_view_name": "ProgressView",
            "bar_style": "success",
            "description": "",
            "description_tooltip": null,
            "layout": "IPY_MODEL_54cf33c3275341eca4a5f8dd46db2758",
            "max": 104,
            "min": 0,
            "orientation": "horizontal",
            "style": "IPY_MODEL_95e39d3fb7334e7cb9965ebe24fbaa57",
            "value": 104
          }
        },
        "deb87f9912ee418c80848da44e202b20": {
          "model_module": "@jupyter-widgets/controls",
          "model_module_version": "1.5.0",
          "model_name": "HTMLModel",
          "state": {
            "_dom_classes": [],
            "_model_module": "@jupyter-widgets/controls",
            "_model_module_version": "1.5.0",
            "_model_name": "HTMLModel",
            "_view_count": null,
            "_view_module": "@jupyter-widgets/controls",
            "_view_module_version": "1.5.0",
            "_view_name": "HTMLView",
            "description": "",
            "description_tooltip": null,
            "layout": "IPY_MODEL_973070bed1634619add769d547112042",
            "placeholder": "​",
            "style": "IPY_MODEL_672daa39ac1f4fa3935e0b170e5413b2",
            "value": "Resolving data files: 100%"
          }
        },
        "e4c4652c07dc4db6887b956d7e28e3fa": {
          "model_module": "@jupyter-widgets/base",
          "model_module_version": "1.2.0",
          "model_name": "LayoutModel",
          "state": {
            "_model_module": "@jupyter-widgets/base",
            "_model_module_version": "1.2.0",
            "_model_name": "LayoutModel",
            "_view_count": null,
            "_view_module": "@jupyter-widgets/base",
            "_view_module_version": "1.2.0",
            "_view_name": "LayoutView",
            "align_content": null,
            "align_items": null,
            "align_self": null,
            "border": null,
            "bottom": null,
            "display": null,
            "flex": null,
            "flex_flow": null,
            "grid_area": null,
            "grid_auto_columns": null,
            "grid_auto_flow": null,
            "grid_auto_rows": null,
            "grid_column": null,
            "grid_gap": null,
            "grid_row": null,
            "grid_template_areas": null,
            "grid_template_columns": null,
            "grid_template_rows": null,
            "height": null,
            "justify_content": null,
            "justify_items": null,
            "left": null,
            "margin": null,
            "max_height": null,
            "max_width": null,
            "min_height": null,
            "min_width": null,
            "object_fit": null,
            "object_position": null,
            "order": null,
            "overflow": null,
            "overflow_x": null,
            "overflow_y": null,
            "padding": null,
            "right": null,
            "top": null,
            "visibility": null,
            "width": null
          }
        },
        "e8e8285ab8954a7689d98da4d80d43b3": {
          "model_module": "@jupyter-widgets/base",
          "model_module_version": "1.2.0",
          "model_name": "LayoutModel",
          "state": {
            "_model_module": "@jupyter-widgets/base",
            "_model_module_version": "1.2.0",
            "_model_name": "LayoutModel",
            "_view_count": null,
            "_view_module": "@jupyter-widgets/base",
            "_view_module_version": "1.2.0",
            "_view_name": "LayoutView",
            "align_content": null,
            "align_items": null,
            "align_self": null,
            "border": null,
            "bottom": null,
            "display": null,
            "flex": null,
            "flex_flow": null,
            "grid_area": null,
            "grid_auto_columns": null,
            "grid_auto_flow": null,
            "grid_auto_rows": null,
            "grid_column": null,
            "grid_gap": null,
            "grid_row": null,
            "grid_template_areas": null,
            "grid_template_columns": null,
            "grid_template_rows": null,
            "height": null,
            "justify_content": null,
            "justify_items": null,
            "left": null,
            "margin": null,
            "max_height": null,
            "max_width": null,
            "min_height": null,
            "min_width": null,
            "object_fit": null,
            "object_position": null,
            "order": null,
            "overflow": null,
            "overflow_x": null,
            "overflow_y": null,
            "padding": null,
            "right": null,
            "top": null,
            "visibility": null,
            "width": null
          }
        },
        "ea49531572024e7c87c0e7e72b604771": {
          "model_module": "@jupyter-widgets/controls",
          "model_module_version": "1.5.0",
          "model_name": "HBoxModel",
          "state": {
            "_dom_classes": [],
            "_model_module": "@jupyter-widgets/controls",
            "_model_module_version": "1.5.0",
            "_model_name": "HBoxModel",
            "_view_count": null,
            "_view_module": "@jupyter-widgets/controls",
            "_view_module_version": "1.5.0",
            "_view_name": "HBoxView",
            "box_style": "",
            "children": [
              "IPY_MODEL_05da2b72f57643fca19944b7b4c1845b",
              "IPY_MODEL_36ab1136601f4605a0156fad7d6cae87",
              "IPY_MODEL_bbaa584783484776aff9c68eea2775d5"
            ],
            "layout": "IPY_MODEL_f062ce44190c4396a81dcf697c261378"
          }
        },
        "f062ce44190c4396a81dcf697c261378": {
          "model_module": "@jupyter-widgets/base",
          "model_module_version": "1.2.0",
          "model_name": "LayoutModel",
          "state": {
            "_model_module": "@jupyter-widgets/base",
            "_model_module_version": "1.2.0",
            "_model_name": "LayoutModel",
            "_view_count": null,
            "_view_module": "@jupyter-widgets/base",
            "_view_module_version": "1.2.0",
            "_view_name": "LayoutView",
            "align_content": null,
            "align_items": null,
            "align_self": null,
            "border": null,
            "bottom": null,
            "display": null,
            "flex": null,
            "flex_flow": null,
            "grid_area": null,
            "grid_auto_columns": null,
            "grid_auto_flow": null,
            "grid_auto_rows": null,
            "grid_column": null,
            "grid_gap": null,
            "grid_row": null,
            "grid_template_areas": null,
            "grid_template_columns": null,
            "grid_template_rows": null,
            "height": null,
            "justify_content": null,
            "justify_items": null,
            "left": null,
            "margin": null,
            "max_height": null,
            "max_width": null,
            "min_height": null,
            "min_width": null,
            "object_fit": null,
            "object_position": null,
            "order": null,
            "overflow": null,
            "overflow_x": null,
            "overflow_y": null,
            "padding": null,
            "right": null,
            "top": null,
            "visibility": null,
            "width": null
          }
        },
        "f19ee0b32bb34782a71426e9c09b9404": {
          "model_module": "@jupyter-widgets/controls",
          "model_module_version": "1.5.0",
          "model_name": "HBoxModel",
          "state": {
            "_dom_classes": [],
            "_model_module": "@jupyter-widgets/controls",
            "_model_module_version": "1.5.0",
            "_model_name": "HBoxModel",
            "_view_count": null,
            "_view_module": "@jupyter-widgets/controls",
            "_view_module_version": "1.5.0",
            "_view_name": "HBoxView",
            "box_style": "",
            "children": [
              "IPY_MODEL_30d3d5178e6948de85c0441ad38fe135",
              "IPY_MODEL_d76263c4d6f843f19fba87632a35b900",
              "IPY_MODEL_fa13808e0c964099bb205ececafecbb0"
            ],
            "layout": "IPY_MODEL_e4c4652c07dc4db6887b956d7e28e3fa"
          }
        },
        "f38b45646346461eb8b634e13a175d3e": {
          "model_module": "@jupyter-widgets/controls",
          "model_module_version": "1.5.0",
          "model_name": "DescriptionStyleModel",
          "state": {
            "_model_module": "@jupyter-widgets/controls",
            "_model_module_version": "1.5.0",
            "_model_name": "DescriptionStyleModel",
            "_view_count": null,
            "_view_module": "@jupyter-widgets/base",
            "_view_module_version": "1.2.0",
            "_view_name": "StyleView",
            "description_width": ""
          }
        },
        "f8061bfe8d8147ceba191c7bf68aba43": {
          "model_module": "@jupyter-widgets/controls",
          "model_module_version": "1.5.0",
          "model_name": "FloatProgressModel",
          "state": {
            "_dom_classes": [],
            "_model_module": "@jupyter-widgets/controls",
            "_model_module_version": "1.5.0",
            "_model_name": "FloatProgressModel",
            "_view_count": null,
            "_view_module": "@jupyter-widgets/controls",
            "_view_module_version": "1.5.0",
            "_view_name": "ProgressView",
            "bar_style": "success",
            "description": "",
            "description_tooltip": null,
            "layout": "IPY_MODEL_1e8a87be097b483fbf6a2d7081db9397",
            "max": 104,
            "min": 0,
            "orientation": "horizontal",
            "style": "IPY_MODEL_607e1f800d4444fa9d4fdba5007550f8",
            "value": 104
          }
        },
        "fa13808e0c964099bb205ececafecbb0": {
          "model_module": "@jupyter-widgets/controls",
          "model_module_version": "1.5.0",
          "model_name": "HTMLModel",
          "state": {
            "_dom_classes": [],
            "_model_module": "@jupyter-widgets/controls",
            "_model_module_version": "1.5.0",
            "_model_name": "HTMLModel",
            "_view_count": null,
            "_view_module": "@jupyter-widgets/controls",
            "_view_module_version": "1.5.0",
            "_view_name": "HTMLView",
            "description": "",
            "description_tooltip": null,
            "layout": "IPY_MODEL_6388b6d2e77d48118fc965e7b13c363d",
            "placeholder": "​",
            "style": "IPY_MODEL_0f0d9648f8524166af3378744f8c4f9c",
            "value": " 104/104 [00:00&lt;00:00, 12304.87it/s]"
          }
        }
      }
    }
  },
  "nbformat": 4,
  "nbformat_minor": 0
}
