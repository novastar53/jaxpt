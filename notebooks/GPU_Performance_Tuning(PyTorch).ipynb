{
  "cells": [
    {
      "cell_type": "markdown",
      "metadata": {
        "id": "tB7REckzACpa"
      },
      "source": [
        "# GPU Performance Tuning (PyTorch)"
      ]
    },
    {
      "cell_type": "code",
      "execution_count": 8,
      "metadata": {
        "id": "02XRYM8rACpb"
      },
      "outputs": [],
      "source": [
        "import torch\n",
        "import torch.nn as nn\n",
        "import torch.nn.functional as F\n",
        "import numpy as np"
      ]
    },
    {
      "cell_type": "code",
      "execution_count": 9,
      "metadata": {
        "colab": {
          "base_uri": "https://localhost:8080/"
        },
        "id": "HdK398p6ACpb",
        "outputId": "e5293961-e7b0-4e83-c26c-69e1045bb8b7"
      },
      "outputs": [
        {
          "output_type": "stream",
          "name": "stdout",
          "text": [
            "PyTorch version: 2.5.1+cu124\n",
            "CUDA available: True\n",
            "GPU device: NVIDIA A100-SXM4-40GB\n",
            "Using device: cuda\n",
            "53.2 ms ± 167 µs per loop (mean ± std. dev. of 7 runs, 10 loops each)\n"
          ]
        }
      ],
      "source": [
        "import os\n",
        "\n",
        "# Hardware setup\n",
        "print(\"PyTorch version:\", torch.__version__)\n",
        "print(\"CUDA available:\", torch.cuda.is_available())\n",
        "if torch.cuda.is_available():\n",
        "    print(\"GPU device:\", torch.cuda.get_device_name(0))\n",
        "\n",
        "# Set default device\n",
        "device = torch.device('cuda' if torch.cuda.is_available() else 'cpu')\n",
        "print(\"Using device:\", device)\n",
        "\n",
        "# Enable TF32 for better performance on Ampere GPUs\n",
        "torch.backends.cuda.matmul.allow_tf32 = True\n",
        "torch.backends.cudnn.allow_tf32 = True\n",
        "\n",
        "# Test matrix multiplication performance\n",
        "A = torch.randn(4096, 4096, device=device, dtype=torch.float32)\n",
        "\n",
        "%timeit (A @ A).cpu()"
      ]
    },
    {
      "cell_type": "code",
      "execution_count": 10,
      "metadata": {
        "id": "3rmuQ8tRACpb"
      },
      "outputs": [],
      "source": [
        "n_features = 4096\n",
        "\n",
        "class Net(nn.Module):\n",
        "    def __init__(self, dtype=torch.float32):\n",
        "        super().__init__()\n",
        "        self.layer1 = nn.Linear(n_features, n_features, dtype=dtype)\n",
        "        self.layer2 = nn.Linear(n_features, n_features, dtype=dtype)\n",
        "        self.layer3 = nn.Linear(n_features, n_features, dtype=dtype)\n",
        "        self.out = nn.Linear(n_features, 2, dtype=dtype)\n",
        "\n",
        "    def forward(self, x):\n",
        "        x = F.gelu(self.layer1(x), approximate='tanh')\n",
        "        x = F.gelu(self.layer2(x), approximate='tanh')\n",
        "        x = F.gelu(self.layer3(x), approximate='tanh')\n",
        "        return self.out(x)"
      ]
    },
    {
      "cell_type": "code",
      "execution_count": 11,
      "metadata": {
        "id": "j6VGPn_SACpc"
      },
      "outputs": [],
      "source": [
        "# Initialize model\n",
        "model = Net(dtype=torch.float32).to(device)\n",
        "model = torch.compile(model)\n",
        "optimizer = torch.optim.AdamW(model.parameters(), lr=3e-4)"
      ]
    },
    {
      "cell_type": "code",
      "execution_count": 12,
      "metadata": {
        "colab": {
          "base_uri": "https://localhost:8080/"
        },
        "id": "DVdyMEccACpc",
        "outputId": "33de86d4-6a3b-4f7c-f06f-17d242817347"
      },
      "outputs": [
        {
          "output_type": "stream",
          "name": "stdout",
          "text": [
            "torch.Size([10000, 32, 4096]) torch.Size([10000, 32, 1])\n",
            "-0.809410035610199 [[0]\n",
            " [1]\n",
            " [1]\n",
            " [0]\n",
            " [0]]\n"
          ]
        }
      ],
      "source": [
        "# Generate synthetic data\n",
        "B = 32\n",
        "N = B * 10000\n",
        "\n",
        "X = torch.randn(N // B, B, n_features, device=device, dtype=torch.float32)\n",
        "Y = torch.randint(0, 2, (N // B, B, 1), device=device, dtype=torch.long)\n",
        "print(X.shape, Y.shape)\n",
        "print(X[0,0,0].item(), Y[0,:5,:].cpu().numpy())"
      ]
    },
    {
      "cell_type": "code",
      "execution_count": 13,
      "metadata": {
        "id": "kYb8iqqVACpc"
      },
      "outputs": [],
      "source": [
        "@torch.compile\n",
        "def train_step(model, optimizer, batch, targets):\n",
        "    model.train()\n",
        "    optimizer.zero_grad()\n",
        "\n",
        "    logits = model(batch)\n",
        "    loss = F.cross_entropy(logits.view(-1, 2), targets.view(-1))\n",
        "\n",
        "    loss.backward()\n",
        "    optimizer.step()\n",
        "\n",
        "    return loss.item()"
      ]
    },
    {
      "cell_type": "code",
      "execution_count": 14,
      "metadata": {
        "colab": {
          "base_uri": "https://localhost:8080/"
        },
        "id": "ePdGh52KACpc",
        "outputId": "ac653df3-a6ba-4bbe-bb52-451e5f29d80e"
      },
      "outputs": [
        {
          "output_type": "stream",
          "name": "stdout",
          "text": [
            "Epoch: 0, Iter: 9999, Loss: 0.6919, Iter time: 3.4271 ms\n"
          ]
        }
      ],
      "source": [
        "import time\n",
        "from IPython.display import clear_output\n",
        "\n",
        "num_epochs = 1\n",
        "torch.cuda.synchronize()  # Ensure GPU is synchronized before timing\n",
        "\n",
        "avg_iter_time = -1\n",
        "for e in range(num_epochs):\n",
        "    for i in range(N // B):\n",
        "        start = time.time()\n",
        "        x, y = X[i], Y[i]\n",
        "\n",
        "        loss = train_step(model, optimizer, x, y)\n",
        "        torch.cuda.synchronize()  # Ensure computation is complete before timing\n",
        "\n",
        "        if avg_iter_time == -1:\n",
        "            avg_iter_time = (time.time() - start) * 1000\n",
        "        else:\n",
        "            avg_iter_time = (avg_iter_time * i + (time.time() - start) * 1000) / (i + 1)\n",
        "\n",
        "        print(f\"Epoch: {e}, Iter: {i}, Loss: {loss:.4f}, Iter time: {avg_iter_time:.4f} ms\")\n",
        "        clear_output(wait=True)"
      ]
    }
  ],
  "metadata": {
    "kernelspec": {
      "display_name": "project",
      "language": "python",
      "name": "project"
    },
    "language_info": {
      "codemirror_mode": {
        "name": "ipython",
        "version": 3
      },
      "file_extension": ".py",
      "mimetype": "text/x-python",
      "name": "python",
      "nbconvert_exporter": "python",
      "pygments_lexer": "ipython3",
      "version": "3.13.1"
    },
    "colab": {
      "provenance": [],
      "machine_shape": "hm",
      "gpuType": "A100"
    },
    "accelerator": "GPU"
  },
  "nbformat": 4,
  "nbformat_minor": 0
}