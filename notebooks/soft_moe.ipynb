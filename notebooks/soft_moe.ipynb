{
 "cells": [
  {
   "cell_type": "markdown",
   "id": "caabad99",
   "metadata": {},
   "source": [
    "### "
   ]
  },
  {
   "cell_type": "markdown",
   "id": "a08731b0",
   "metadata": {},
   "source": [
    "## Soft Mixture of Experts"
   ]
  },
  {
   "cell_type": "code",
   "execution_count": 2,
   "id": "e6a698a2",
   "metadata": {},
   "outputs": [],
   "source": [
    "import jax\n",
    "import jax.numpy as jnp\n",
    "import flax.nnx as nnx"
   ]
  },
  {
   "cell_type": "code",
   "execution_count": 7,
   "id": "1317ce97",
   "metadata": {},
   "outputs": [],
   "source": [
    "class SoftMoE(nnx.Module):\n",
    "    def __init__(self, n_experts, capacity, n_dim, rngs):\n",
    "        init = nnx.initializers.normal(stddev=0.02)\n",
    "        self.gate = nnx.Param(\n",
    "            init(rngs.default(), (n_dim, n_experts * capacity))\n",
    "        )\n",
    "        self.experts = nnx.Param(\n",
    "            init(rngs.default(), (n_experts, n_dim, n_dim))\n",
    "        )\n",
    "\n",
    "    def _dispatch(self, x, dw):\n",
    "        T, E = x.shape\n",
    "        y = jnp.einsum('td,ts->ds', x, dw)\n",
    "        return y\n",
    "\n",
    "    def _combine(self, eo, cw):\n",
    "        E, S = eo.shape\n",
    "        y = jnp.einsum('ds,ts->td', eo, cw)\n",
    "        return y\n",
    "\n",
    "    def __call__(self, x):\n",
    "        B, T, C = x.shape\n",
    "        g = jnp.einsum('btd,ds->bts', x, self.gate) # B, T, E * capacity\n",
    "        dw = jax.nn.softmax(g, axis=1)\n",
    "        cw = jax.nn.softmax(g, axis=2)\n",
    "\n",
    "        eo = jax.vmap(lambda x, w: self._dispatch(x, w))(x, dw) # B, E, S\n",
    "        y = jax.vmap(lambda o, w: self._combine(o, w))(eo, cw) # B, T, C\n",
    "\n",
    "        return y"
   ]
  },
  {
   "cell_type": "code",
   "execution_count": 9,
   "id": "e3e22242",
   "metadata": {},
   "outputs": [
    {
     "name": "stdout",
     "output_type": "stream",
     "text": [
      "48\n"
     ]
    }
   ],
   "source": [
    "B, T, C = 16, 24, 3\n",
    "n_experts = 8\n",
    "capacity = B * T // n_experts\n",
    "print(capacity)\n",
    "rngs = nnx.Rngs(default=0)\n",
    "m = SoftMoE(n_experts, capacity, C, rngs)\n",
    "x = jax.random.normal(rngs.default(), (B, T, C))\n",
    "y = m(x)\n",
    "y.shape\n",
    "assert(x.shape==y.shape)"
   ]
  },
  {
   "cell_type": "code",
   "execution_count": null,
   "id": "f4baa6e7",
   "metadata": {},
   "outputs": [],
   "source": []
  }
 ],
 "metadata": {
  "kernelspec": {
   "display_name": "jaxpt",
   "language": "python",
   "name": "python3"
  },
  "language_info": {
   "codemirror_mode": {
    "name": "ipython",
    "version": 3
   },
   "file_extension": ".py",
   "mimetype": "text/x-python",
   "name": "python",
   "nbconvert_exporter": "python",
   "pygments_lexer": "ipython3",
   "version": "3.12.8"
  }
 },
 "nbformat": 4,
 "nbformat_minor": 5
}
