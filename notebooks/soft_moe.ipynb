{
 "cells": [
  {
   "cell_type": "markdown",
   "id": "caabad99",
   "metadata": {},
   "source": [
    "### "
   ]
  },
  {
   "cell_type": "markdown",
   "id": "a08731b0",
   "metadata": {},
   "source": [
    "## Soft Mixture of Experts"
   ]
  },
  {
   "cell_type": "code",
   "execution_count": 2,
   "id": "e6a698a2",
   "metadata": {},
   "outputs": [],
   "source": [
    "import jax\n",
    "import jax.numpy as jnp\n",
    "import flax.nnx as nnx"
   ]
  },
  {
   "cell_type": "code",
   "execution_count": null,
   "id": "1317ce97",
   "metadata": {},
   "outputs": [],
   "source": [
    "class SoftMoE(nnx.Module):\n",
    "    def __init__(self, n_experts, capacity, n_dim, rngs):\n",
    "        init = nnx.initializers.normal(stddev=0.02)\n",
    "        self.gate = nnx.Param(\n",
    "            init(rngs.default(), (n_experts, n_dim, capacity))\n",
    "        )\n",
    "        self.experts = nnx.Param(\n",
    "            init(rngs.default(), (n_experts, n_dim, n_dim))\n",
    "        )\n",
    "    \n",
    "    def _dispatch(self, x):\n",
    "    \n",
    "    def __call__(self, x):\n",
    "        B, T, C = x.shape\n",
    "        x = x.reshape(-1, C)\n",
    "        gate_output = jnp.einsum('bc,ecm->bem', x, self.gate) # B, E, capacity\n",
    "\n",
    "        expert_inputs = jnp.einsum('')\n",
    "\n",
    "        \n",
    "\n",
    "        return gate_probs"
   ]
  },
  {
   "cell_type": "code",
   "execution_count": 19,
   "id": "e3e22242",
   "metadata": {},
   "outputs": [
    {
     "name": "stdout",
     "output_type": "stream",
     "text": [
      "48\n"
     ]
    },
    {
     "data": {
      "text/plain": [
       "(8, 48, 384)"
      ]
     },
     "execution_count": 19,
     "metadata": {},
     "output_type": "execute_result"
    }
   ],
   "source": [
    "B, T, C = 16, 24, 3\n",
    "n_experts = 8\n",
    "capacity = B * T // n_experts\n",
    "print(capacity)\n",
    "rngs = nnx.Rngs(default=0)\n",
    "m = SoftMoE(n_experts, capacity, C, rngs)\n",
    "x = jax.random.normal(rngs.default(), (B, T, C))\n",
    "y = m(x)\n",
    "y.shape\n"
   ]
  }
 ],
 "metadata": {
  "kernelspec": {
   "display_name": "jaxpt",
   "language": "python",
   "name": "python3"
  },
  "language_info": {
   "codemirror_mode": {
    "name": "ipython",
    "version": 3
   },
   "file_extension": ".py",
   "mimetype": "text/x-python",
   "name": "python",
   "nbconvert_exporter": "python",
   "pygments_lexer": "ipython3",
   "version": "3.12.8"
  }
 },
 "nbformat": 4,
 "nbformat_minor": 5
}
