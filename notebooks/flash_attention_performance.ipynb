{
  "cells": [
    {
      "cell_type": "code",
      "execution_count": 4,
      "metadata": {
        "id": "Rimj9gIhA6eP"
      },
      "outputs": [],
      "source": [
        "import dataclasses\n",
        "\n",
        "import jax\n",
        "import jax.numpy as jnp\n"
      ]
    },
    {
      "cell_type": "markdown",
      "source": [
        "### Jax Pallas Experimental Flash Attention\n",
        "\n",
        "Github: https://github.com/jax-ml/jax/blob/922935a916dbcf599226f1ce3081feb6481328c3/jax/experimental/pallas/ops/gpu/attention.py"
      ],
      "metadata": {
        "id": "2oopQDeP1BrG"
      }
    },
    {
      "cell_type": "code",
      "execution_count": 25,
      "metadata": {
        "id": "svLxillxA6eQ"
      },
      "outputs": [],
      "source": [
        "rng = jax.random.PRNGKey(0)\n",
        "\n",
        "max_seq_len = 64\n",
        "B, T, nH, C = 32, 15, 8, 128\n",
        "\n",
        "q = jax.random.normal(rng, (B, T, nH, C), dtype=jnp.bfloat16)\n",
        "k = jax.random.normal(rng, (B, T, nH, C), dtype=jnp.bfloat16)\n",
        "v = jax.random.normal(rng, (B, T, nH, C), dtype=jnp.bfloat16)"
      ]
    },
    {
      "cell_type": "code",
      "source": [
        "from jax.experimental.pallas.ops.gpu.attention import mha\n",
        "\n",
        "@dataclasses.dataclass(frozen=True, slots=True)\n",
        "class BlockSizes:\n",
        "  block_q: int\n",
        "  block_k: int\n",
        "\n",
        "pad_width = ((0, 0),  # no padding on the first dimension\n",
        "             (0, max_seq_len-15),\n",
        "             (0, 0),\n",
        "             (0, 0))  # pad two zeros on the right side of the second dimension\n",
        "\n",
        "q = jnp.pad(q, pad_width, mode='constant', constant_values=0)\n",
        "k = jnp.pad(k, pad_width, mode='constant', constant_values=0)\n",
        "v = jnp.pad(v, pad_width, mode='constant', constant_values=0)\n",
        "\n",
        "block_sizes = BlockSizes(block_q=T, block_k=T)\n",
        "\n",
        "y = mha(q, k, v, block_sizes=block_sizes, segment_ids=None, causal=True)"
      ],
      "metadata": {
        "id": "gRYpO2Rsz-F7",
        "outputId": "fe0d291c-5143-41f7-9b81-38ec560e2f6b",
        "colab": {
          "base_uri": "https://localhost:8080/",
          "height": 356
        }
      },
      "execution_count": 15,
      "outputs": [
        {
          "output_type": "error",
          "ename": "TypeError",
          "evalue": "got an unexpected keyword argument 'block_sizes'",
          "traceback": [
            "\u001b[0;31m---------------------------------------------------------------------------\u001b[0m",
            "\u001b[0;31mTypeError\u001b[0m                                 Traceback (most recent call last)",
            "\u001b[0;32m<ipython-input-15-53cb17dde392>\u001b[0m in \u001b[0;36m<cell line: 0>\u001b[0;34m()\u001b[0m\n\u001b[1;32m     17\u001b[0m \u001b[0mblock_sizes\u001b[0m \u001b[0;34m=\u001b[0m \u001b[0mBlockSizes\u001b[0m\u001b[0;34m(\u001b[0m\u001b[0mblock_q\u001b[0m\u001b[0;34m=\u001b[0m\u001b[0mT\u001b[0m\u001b[0;34m,\u001b[0m \u001b[0mblock_k\u001b[0m\u001b[0;34m=\u001b[0m\u001b[0mT\u001b[0m\u001b[0;34m)\u001b[0m\u001b[0;34m\u001b[0m\u001b[0;34m\u001b[0m\u001b[0m\n\u001b[1;32m     18\u001b[0m \u001b[0;34m\u001b[0m\u001b[0m\n\u001b[0;32m---> 19\u001b[0;31m \u001b[0my\u001b[0m \u001b[0;34m=\u001b[0m \u001b[0mmha\u001b[0m\u001b[0;34m(\u001b[0m\u001b[0mq\u001b[0m\u001b[0;34m,\u001b[0m \u001b[0mk\u001b[0m\u001b[0;34m,\u001b[0m \u001b[0mv\u001b[0m\u001b[0;34m,\u001b[0m \u001b[0mblock_sizes\u001b[0m\u001b[0;34m=\u001b[0m\u001b[0mblock_sizes\u001b[0m\u001b[0;34m,\u001b[0m \u001b[0msegment_ids\u001b[0m\u001b[0;34m=\u001b[0m\u001b[0;32mNone\u001b[0m\u001b[0;34m,\u001b[0m \u001b[0mcausal\u001b[0m\u001b[0;34m=\u001b[0m\u001b[0;32mTrue\u001b[0m\u001b[0;34m)\u001b[0m\u001b[0;34m\u001b[0m\u001b[0;34m\u001b[0m\u001b[0m\n\u001b[0m",
            "    \u001b[0;31m[... skipping hidden 3 frame]\u001b[0m\n",
            "\u001b[0;32m/usr/lib/python3.11/inspect.py\u001b[0m in \u001b[0;36mbind\u001b[0;34m(self, *args, **kwargs)\u001b[0m\n\u001b[1;32m   3193\u001b[0m         \u001b[0;32mif\u001b[0m \u001b[0mthe\u001b[0m \u001b[0mpassed\u001b[0m \u001b[0marguments\u001b[0m \u001b[0mcan\u001b[0m \u001b[0;32mnot\u001b[0m \u001b[0mbe\u001b[0m \u001b[0mbound\u001b[0m\u001b[0;34m.\u001b[0m\u001b[0;34m\u001b[0m\u001b[0;34m\u001b[0m\u001b[0m\n\u001b[1;32m   3194\u001b[0m         \"\"\"\n\u001b[0;32m-> 3195\u001b[0;31m         \u001b[0;32mreturn\u001b[0m \u001b[0mself\u001b[0m\u001b[0;34m.\u001b[0m\u001b[0m_bind\u001b[0m\u001b[0;34m(\u001b[0m\u001b[0margs\u001b[0m\u001b[0;34m,\u001b[0m \u001b[0mkwargs\u001b[0m\u001b[0;34m)\u001b[0m\u001b[0;34m\u001b[0m\u001b[0;34m\u001b[0m\u001b[0m\n\u001b[0m\u001b[1;32m   3196\u001b[0m \u001b[0;34m\u001b[0m\u001b[0m\n\u001b[1;32m   3197\u001b[0m     \u001b[0;32mdef\u001b[0m \u001b[0mbind_partial\u001b[0m\u001b[0;34m(\u001b[0m\u001b[0mself\u001b[0m\u001b[0;34m,\u001b[0m \u001b[0;34m/\u001b[0m\u001b[0;34m,\u001b[0m \u001b[0;34m*\u001b[0m\u001b[0margs\u001b[0m\u001b[0;34m,\u001b[0m \u001b[0;34m**\u001b[0m\u001b[0mkwargs\u001b[0m\u001b[0;34m)\u001b[0m\u001b[0;34m:\u001b[0m\u001b[0;34m\u001b[0m\u001b[0;34m\u001b[0m\u001b[0m\n",
            "\u001b[0;32m/usr/lib/python3.11/inspect.py\u001b[0m in \u001b[0;36m_bind\u001b[0;34m(self, args, kwargs, partial)\u001b[0m\n\u001b[1;32m   3182\u001b[0m                 \u001b[0marguments\u001b[0m\u001b[0;34m[\u001b[0m\u001b[0mkwargs_param\u001b[0m\u001b[0;34m.\u001b[0m\u001b[0mname\u001b[0m\u001b[0;34m]\u001b[0m \u001b[0;34m=\u001b[0m \u001b[0mkwargs\u001b[0m\u001b[0;34m\u001b[0m\u001b[0;34m\u001b[0m\u001b[0m\n\u001b[1;32m   3183\u001b[0m             \u001b[0;32melse\u001b[0m\u001b[0;34m:\u001b[0m\u001b[0;34m\u001b[0m\u001b[0;34m\u001b[0m\u001b[0m\n\u001b[0;32m-> 3184\u001b[0;31m                 raise TypeError(\n\u001b[0m\u001b[1;32m   3185\u001b[0m                     'got an unexpected keyword argument {arg!r}'.format(\n\u001b[1;32m   3186\u001b[0m                         arg=next(iter(kwargs))))\n",
            "\u001b[0;31mTypeError\u001b[0m: got an unexpected keyword argument 'block_sizes'"
          ]
        }
      ]
    },
    {
      "cell_type": "markdown",
      "source": [
        "### FlashAttention Jax\n",
        "\n",
        "Github: https://github.com/nshepperd/flash_attn_jax"
      ],
      "metadata": {
        "id": "gNAUZqCs039P"
      }
    },
    {
      "cell_type": "code",
      "execution_count": 1,
      "metadata": {
        "id": "PxmyhcWHA6eQ",
        "outputId": "4c84b6e4-fe76-45d9-c89a-af2c8172ac8a",
        "colab": {
          "base_uri": "https://localhost:8080/"
        }
      },
      "outputs": [
        {
          "output_type": "stream",
          "name": "stdout",
          "text": [
            "Collecting flash-attn-jax\n",
            "  Downloading flash_attn_jax-0.2.2-cp311-cp311-manylinux_2_17_x86_64.manylinux2014_x86_64.whl.metadata (4.6 kB)\n",
            "Requirement already satisfied: einops in /usr/local/lib/python3.11/dist-packages (from flash-attn-jax) (0.8.1)\n",
            "Downloading flash_attn_jax-0.2.2-cp311-cp311-manylinux_2_17_x86_64.manylinux2014_x86_64.whl (75.4 MB)\n",
            "\u001b[2K   \u001b[90m━━━━━━━━━━━━━━━━━━━━━━━━━━━━━━━━━━━━━━━━\u001b[0m \u001b[32m75.4/75.4 MB\u001b[0m \u001b[31m29.2 MB/s\u001b[0m eta \u001b[36m0:00:00\u001b[0m\n",
            "\u001b[?25hInstalling collected packages: flash-attn-jax\n",
            "Successfully installed flash-attn-jax-0.2.2\n"
          ]
        }
      ],
      "source": [
        "!pip install flash-attn-jax"
      ]
    },
    {
      "cell_type": "code",
      "source": [
        "from flash_attn_jax import flash_mha\n",
        "\n",
        "# flash_mha : [n, l, h, d] x [n, lk, hk, d] x [n, lk, hk, d] -> [n, l, h, d]\n",
        "%timeit flash_mha(q,k,v,softmax_scale=None, is_causal=True, window_size=(-1,-1))"
      ],
      "metadata": {
        "id": "lZyYugo5zrtM",
        "outputId": "ed3ca7a8-415e-4789-bfaf-99b0694bc586",
        "colab": {
          "base_uri": "https://localhost:8080/"
        }
      },
      "execution_count": 30,
      "outputs": [
        {
          "output_type": "stream",
          "name": "stdout",
          "text": [
            "393 µs ± 2.29 µs per loop (mean ± std. dev. of 7 runs, 1000 loops each)\n"
          ]
        }
      ]
    },
    {
      "cell_type": "markdown",
      "source": [
        "### Flash Attention - Jax\n",
        "Github: https://github.com/lucidrains/flash-attention-jax"
      ],
      "metadata": {
        "id": "EE6QbGxF1ZqU"
      }
    },
    {
      "cell_type": "code",
      "source": [
        "!pip install flash-attention-jax"
      ],
      "metadata": {
        "id": "xDaFGTJMz5ap",
        "outputId": "1dbf4f8b-0f50-4591-bd9b-ecd63e0394d0",
        "colab": {
          "base_uri": "https://localhost:8080/"
        }
      },
      "execution_count": 18,
      "outputs": [
        {
          "output_type": "stream",
          "name": "stdout",
          "text": [
            "Collecting flash-attention-jax\n",
            "  Downloading flash_attention_jax-0.3.1-py3-none-any.whl.metadata (683 bytes)\n",
            "Requirement already satisfied: einops in /usr/local/lib/python3.11/dist-packages (from flash-attention-jax) (0.8.1)\n",
            "Requirement already satisfied: jax>=0.2.20 in /usr/local/lib/python3.11/dist-packages (from flash-attention-jax) (0.4.33)\n",
            "Requirement already satisfied: jaxlib<=0.4.33,>=0.4.33 in /usr/local/lib/python3.11/dist-packages (from jax>=0.2.20->flash-attention-jax) (0.4.33)\n",
            "Requirement already satisfied: ml-dtypes>=0.2.0 in /usr/local/lib/python3.11/dist-packages (from jax>=0.2.20->flash-attention-jax) (0.4.1)\n",
            "Requirement already satisfied: numpy>=1.24 in /usr/local/lib/python3.11/dist-packages (from jax>=0.2.20->flash-attention-jax) (1.26.4)\n",
            "Requirement already satisfied: opt-einsum in /usr/local/lib/python3.11/dist-packages (from jax>=0.2.20->flash-attention-jax) (3.4.0)\n",
            "Requirement already satisfied: scipy>=1.10 in /usr/local/lib/python3.11/dist-packages (from jax>=0.2.20->flash-attention-jax) (1.13.1)\n",
            "Downloading flash_attention_jax-0.3.1-py3-none-any.whl (10 kB)\n",
            "Installing collected packages: flash-attention-jax\n",
            "Successfully installed flash-attention-jax-0.3.1\n"
          ]
        }
      ]
    },
    {
      "cell_type": "code",
      "source": [
        "from flash_attention_jax import causal_flash_attention\n",
        "\n",
        "rng_key = jax.random.PRNGKey(42)\n",
        "\n",
        "%timeit causal_flash_attention(q, k, v)"
      ],
      "metadata": {
        "id": "W-XcdGXE1fPG",
        "outputId": "2693316b-7287-4cce-ae90-38198ea23852",
        "colab": {
          "base_uri": "https://localhost:8080/"
        }
      },
      "execution_count": 31,
      "outputs": [
        {
          "output_type": "stream",
          "name": "stdout",
          "text": [
            "262 µs ± 15.8 µs per loop (mean ± std. dev. of 7 runs, 1000 loops each)\n"
          ]
        }
      ]
    },
    {
      "cell_type": "markdown",
      "source": [
        "### Kvax\n",
        "\n",
        "Github: https://github.com/nebius/kvax"
      ],
      "metadata": {
        "id": "-NcHgqJz27Xe"
      }
    },
    {
      "cell_type": "code",
      "source": [
        "!pip install kvax"
      ],
      "metadata": {
        "id": "i1JVllNH1ut1",
        "outputId": "3052a780-1474-4cd3-a92d-d23abdcae568",
        "colab": {
          "base_uri": "https://localhost:8080/",
          "height": 739
        }
      },
      "execution_count": 32,
      "outputs": [
        {
          "output_type": "stream",
          "name": "stdout",
          "text": [
            "Collecting kvax\n",
            "  Downloading kvax-0.1.0-py3-none-any.whl.metadata (31 kB)\n",
            "Requirement already satisfied: chex>=0.1.85 in /usr/local/lib/python3.11/dist-packages (from kvax) (0.1.89)\n",
            "Collecting jax>=0.4.34 (from kvax)\n",
            "  Downloading jax-0.5.2-py3-none-any.whl.metadata (22 kB)\n",
            "Collecting jax-triton>=0.2.0 (from kvax)\n",
            "  Downloading jax_triton-0.2.0-py3-none-any.whl.metadata (3.0 kB)\n",
            "Requirement already satisfied: triton>=3.1 in /usr/local/lib/python3.11/dist-packages (from kvax) (3.1.0)\n",
            "Requirement already satisfied: absl-py>=0.9.0 in /usr/local/lib/python3.11/dist-packages (from chex>=0.1.85->kvax) (1.4.0)\n",
            "Requirement already satisfied: typing_extensions>=4.2.0 in /usr/local/lib/python3.11/dist-packages (from chex>=0.1.85->kvax) (4.12.2)\n",
            "Requirement already satisfied: jaxlib>=0.4.27 in /usr/local/lib/python3.11/dist-packages (from chex>=0.1.85->kvax) (0.4.33)\n",
            "Requirement already satisfied: numpy>=1.24.1 in /usr/local/lib/python3.11/dist-packages (from chex>=0.1.85->kvax) (1.26.4)\n",
            "Requirement already satisfied: toolz>=0.9.0 in /usr/local/lib/python3.11/dist-packages (from chex>=0.1.85->kvax) (0.12.1)\n",
            "Collecting jaxlib>=0.4.27 (from chex>=0.1.85->kvax)\n",
            "  Downloading jaxlib-0.5.1-cp311-cp311-manylinux2014_x86_64.whl.metadata (978 bytes)\n",
            "Requirement already satisfied: ml_dtypes>=0.4.0 in /usr/local/lib/python3.11/dist-packages (from jax>=0.4.34->kvax) (0.4.1)\n",
            "Requirement already satisfied: opt_einsum in /usr/local/lib/python3.11/dist-packages (from jax>=0.4.34->kvax) (3.4.0)\n",
            "Requirement already satisfied: scipy>=1.11.1 in /usr/local/lib/python3.11/dist-packages (from jax>=0.4.34->kvax) (1.13.1)\n",
            "Requirement already satisfied: filelock in /usr/local/lib/python3.11/dist-packages (from triton>=3.1->kvax) (3.17.0)\n",
            "Downloading kvax-0.1.0-py3-none-any.whl (41 kB)\n",
            "\u001b[2K   \u001b[90m━━━━━━━━━━━━━━━━━━━━━━━━━━━━━━━━━━━━━━━━\u001b[0m \u001b[32m42.0/42.0 kB\u001b[0m \u001b[31m3.8 MB/s\u001b[0m eta \u001b[36m0:00:00\u001b[0m\n",
            "\u001b[?25hDownloading jax-0.5.2-py3-none-any.whl (2.4 MB)\n",
            "\u001b[2K   \u001b[90m━━━━━━━━━━━━━━━━━━━━━━━━━━━━━━━━━━━━━━━━\u001b[0m \u001b[32m2.4/2.4 MB\u001b[0m \u001b[31m88.0 MB/s\u001b[0m eta \u001b[36m0:00:00\u001b[0m\n",
            "\u001b[?25hDownloading jax_triton-0.2.0-py3-none-any.whl (27 kB)\n",
            "Downloading jaxlib-0.5.1-cp311-cp311-manylinux2014_x86_64.whl (105.1 MB)\n",
            "\u001b[2K   \u001b[90m━━━━━━━━━━━━━━━━━━━━━━━━━━━━━━━━━━━━━━━━\u001b[0m \u001b[32m105.1/105.1 MB\u001b[0m \u001b[31m21.7 MB/s\u001b[0m eta \u001b[36m0:00:00\u001b[0m\n",
            "\u001b[?25hInstalling collected packages: jaxlib, jax, jax-triton, kvax\n",
            "  Attempting uninstall: jaxlib\n",
            "    Found existing installation: jaxlib 0.4.33\n",
            "    Uninstalling jaxlib-0.4.33:\n",
            "      Successfully uninstalled jaxlib-0.4.33\n",
            "  Attempting uninstall: jax\n",
            "    Found existing installation: jax 0.4.33\n",
            "    Uninstalling jax-0.4.33:\n",
            "      Successfully uninstalled jax-0.4.33\n",
            "Successfully installed jax-0.5.2 jax-triton-0.2.0 jaxlib-0.5.1 kvax-0.1.0\n"
          ]
        },
        {
          "output_type": "display_data",
          "data": {
            "application/vnd.colab-display-data+json": {
              "pip_warning": {
                "packages": [
                  "jax",
                  "jaxlib"
                ]
              },
              "id": "09f28c9b370a4b5da7f972b1ddbd8b91"
            }
          },
          "metadata": {}
        }
      ]
    },
    {
      "cell_type": "code",
      "source": [],
      "metadata": {
        "id": "cUNuqQS63D-_"
      },
      "execution_count": null,
      "outputs": []
    }
  ],
  "metadata": {
    "kernelspec": {
      "display_name": "Python 3",
      "name": "python3"
    },
    "language_info": {
      "codemirror_mode": {
        "name": "ipython",
        "version": 3
      },
      "file_extension": ".py",
      "mimetype": "text/x-python",
      "name": "python",
      "nbconvert_exporter": "python",
      "pygments_lexer": "ipython3",
      "version": "3.13.1"
    },
    "colab": {
      "provenance": [],
      "machine_shape": "hm",
      "gpuType": "A100"
    },
    "accelerator": "GPU"
  },
  "nbformat": 4,
  "nbformat_minor": 0
}