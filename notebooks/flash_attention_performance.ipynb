{
 "cells": [
  {
   "cell_type": "code",
   "execution_count": 5,
   "metadata": {},
   "outputs": [],
   "source": [
    "import jax \n",
    "import jax.numpy as jnp\n",
    "\n",
    "import jax.experimental.pallas.ops.gpu.attention as pallas_attn"
   ]
  },
  {
   "cell_type": "code",
   "execution_count": 9,
   "metadata": {},
   "outputs": [
    {
     "ename": "ValueError",
     "evalue": "Only interpret mode is supported on CPU backend.",
     "output_type": "error",
     "traceback": [
      "\u001b[31m---------------------------------------------------------------------------\u001b[39m",
      "\u001b[31mJaxStackTraceBeforeTransformation\u001b[39m         Traceback (most recent call last)",
      "\u001b[36mFile \u001b[39m\u001b[32m<frozen runpy>:198\u001b[39m, in \u001b[36m_run_module_as_main\u001b[39m\u001b[34m()\u001b[39m\n",
      "\u001b[36mFile \u001b[39m\u001b[32m<frozen runpy>:88\u001b[39m, in \u001b[36m_run_code\u001b[39m\u001b[34m()\u001b[39m\n",
      "\u001b[36mFile \u001b[39m\u001b[32m~/dev/jaxpt/.venv/lib/python3.13/site-packages/ipykernel_launcher.py:18\u001b[39m\n\u001b[32m     16\u001b[39m \u001b[38;5;28;01mfrom\u001b[39;00m\u001b[38;5;250m \u001b[39m\u001b[34;01mipykernel\u001b[39;00m\u001b[38;5;250m \u001b[39m\u001b[38;5;28;01mimport\u001b[39;00m kernelapp \u001b[38;5;28;01mas\u001b[39;00m app\n\u001b[32m---> \u001b[39m\u001b[32m18\u001b[39m app.launch_new_instance()\n",
      "\u001b[36mFile \u001b[39m\u001b[32m~/dev/jaxpt/.venv/lib/python3.13/site-packages/traitlets/config/application.py:1075\u001b[39m, in \u001b[36mlaunch_instance\u001b[39m\u001b[34m()\u001b[39m\n\u001b[32m   1074\u001b[39m app.initialize(argv)\n\u001b[32m-> \u001b[39m\u001b[32m1075\u001b[39m app.start()\n",
      "\u001b[36mFile \u001b[39m\u001b[32m~/dev/jaxpt/.venv/lib/python3.13/site-packages/ipykernel/kernelapp.py:739\u001b[39m, in \u001b[36mstart\u001b[39m\u001b[34m()\u001b[39m\n\u001b[32m    738\u001b[39m \u001b[38;5;28;01mtry\u001b[39;00m:\n\u001b[32m--> \u001b[39m\u001b[32m739\u001b[39m     \u001b[38;5;28mself\u001b[39m.io_loop.start()\n\u001b[32m    740\u001b[39m \u001b[38;5;28;01mexcept\u001b[39;00m \u001b[38;5;167;01mKeyboardInterrupt\u001b[39;00m:\n",
      "\u001b[36mFile \u001b[39m\u001b[32m~/dev/jaxpt/.venv/lib/python3.13/site-packages/tornado/platform/asyncio.py:205\u001b[39m, in \u001b[36mstart\u001b[39m\u001b[34m()\u001b[39m\n\u001b[32m    204\u001b[39m \u001b[38;5;28;01mdef\u001b[39;00m\u001b[38;5;250m \u001b[39m\u001b[34mstart\u001b[39m(\u001b[38;5;28mself\u001b[39m) -> \u001b[38;5;28;01mNone\u001b[39;00m:\n\u001b[32m--> \u001b[39m\u001b[32m205\u001b[39m     \u001b[38;5;28mself\u001b[39m.asyncio_loop.run_forever()\n",
      "\u001b[36mFile \u001b[39m\u001b[32m/opt/homebrew/Cellar/python@3.13/3.13.1/Frameworks/Python.framework/Versions/3.13/lib/python3.13/asyncio/base_events.py:678\u001b[39m, in \u001b[36mrun_forever\u001b[39m\u001b[34m()\u001b[39m\n\u001b[32m    677\u001b[39m \u001b[38;5;28;01mwhile\u001b[39;00m \u001b[38;5;28;01mTrue\u001b[39;00m:\n\u001b[32m--> \u001b[39m\u001b[32m678\u001b[39m     \u001b[38;5;28mself\u001b[39m._run_once()\n\u001b[32m    679\u001b[39m     \u001b[38;5;28;01mif\u001b[39;00m \u001b[38;5;28mself\u001b[39m._stopping:\n",
      "\u001b[36mFile \u001b[39m\u001b[32m/opt/homebrew/Cellar/python@3.13/3.13.1/Frameworks/Python.framework/Versions/3.13/lib/python3.13/asyncio/base_events.py:2033\u001b[39m, in \u001b[36m_run_once\u001b[39m\u001b[34m()\u001b[39m\n\u001b[32m   2032\u001b[39m     \u001b[38;5;28;01melse\u001b[39;00m:\n\u001b[32m-> \u001b[39m\u001b[32m2033\u001b[39m         handle._run()\n\u001b[32m   2034\u001b[39m handle = \u001b[38;5;28;01mNone\u001b[39;00m\n",
      "\u001b[36mFile \u001b[39m\u001b[32m/opt/homebrew/Cellar/python@3.13/3.13.1/Frameworks/Python.framework/Versions/3.13/lib/python3.13/asyncio/events.py:89\u001b[39m, in \u001b[36m_run\u001b[39m\u001b[34m()\u001b[39m\n\u001b[32m     88\u001b[39m \u001b[38;5;28;01mtry\u001b[39;00m:\n\u001b[32m---> \u001b[39m\u001b[32m89\u001b[39m     \u001b[38;5;28mself\u001b[39m._context.run(\u001b[38;5;28mself\u001b[39m._callback, *\u001b[38;5;28mself\u001b[39m._args)\n\u001b[32m     90\u001b[39m \u001b[38;5;28;01mexcept\u001b[39;00m (\u001b[38;5;167;01mSystemExit\u001b[39;00m, \u001b[38;5;167;01mKeyboardInterrupt\u001b[39;00m):\n",
      "\u001b[36mFile \u001b[39m\u001b[32m~/dev/jaxpt/.venv/lib/python3.13/site-packages/ipykernel/kernelbase.py:545\u001b[39m, in \u001b[36mdispatch_queue\u001b[39m\u001b[34m()\u001b[39m\n\u001b[32m    544\u001b[39m \u001b[38;5;28;01mtry\u001b[39;00m:\n\u001b[32m--> \u001b[39m\u001b[32m545\u001b[39m     \u001b[38;5;28;01mawait\u001b[39;00m \u001b[38;5;28mself\u001b[39m.process_one()\n\u001b[32m    546\u001b[39m \u001b[38;5;28;01mexcept\u001b[39;00m \u001b[38;5;167;01mException\u001b[39;00m:\n",
      "\u001b[36mFile \u001b[39m\u001b[32m~/dev/jaxpt/.venv/lib/python3.13/site-packages/ipykernel/kernelbase.py:534\u001b[39m, in \u001b[36mprocess_one\u001b[39m\u001b[34m()\u001b[39m\n\u001b[32m    533\u001b[39m         \u001b[38;5;28;01mreturn\u001b[39;00m\n\u001b[32m--> \u001b[39m\u001b[32m534\u001b[39m \u001b[38;5;28;01mawait\u001b[39;00m dispatch(*args)\n",
      "\u001b[36mFile \u001b[39m\u001b[32m~/dev/jaxpt/.venv/lib/python3.13/site-packages/ipykernel/kernelbase.py:437\u001b[39m, in \u001b[36mdispatch_shell\u001b[39m\u001b[34m()\u001b[39m\n\u001b[32m    436\u001b[39m     \u001b[38;5;28;01mif\u001b[39;00m inspect.isawaitable(result):\n\u001b[32m--> \u001b[39m\u001b[32m437\u001b[39m         \u001b[38;5;28;01mawait\u001b[39;00m result\n\u001b[32m    438\u001b[39m \u001b[38;5;28;01mexcept\u001b[39;00m \u001b[38;5;167;01mException\u001b[39;00m:\n",
      "\u001b[36mFile \u001b[39m\u001b[32m~/dev/jaxpt/.venv/lib/python3.13/site-packages/ipykernel/ipkernel.py:362\u001b[39m, in \u001b[36mexecute_request\u001b[39m\u001b[34m()\u001b[39m\n\u001b[32m    361\u001b[39m \u001b[38;5;28mself\u001b[39m._associate_new_top_level_threads_with(parent_header)\n\u001b[32m--> \u001b[39m\u001b[32m362\u001b[39m \u001b[38;5;28;01mawait\u001b[39;00m \u001b[38;5;28msuper\u001b[39m().execute_request(stream, ident, parent)\n",
      "\u001b[36mFile \u001b[39m\u001b[32m~/dev/jaxpt/.venv/lib/python3.13/site-packages/ipykernel/kernelbase.py:778\u001b[39m, in \u001b[36mexecute_request\u001b[39m\u001b[34m()\u001b[39m\n\u001b[32m    777\u001b[39m \u001b[38;5;28;01mif\u001b[39;00m inspect.isawaitable(reply_content):\n\u001b[32m--> \u001b[39m\u001b[32m778\u001b[39m     reply_content = \u001b[38;5;28;01mawait\u001b[39;00m reply_content\n\u001b[32m    780\u001b[39m \u001b[38;5;66;03m# Flush output before sending the reply.\u001b[39;00m\n",
      "\u001b[36mFile \u001b[39m\u001b[32m~/dev/jaxpt/.venv/lib/python3.13/site-packages/ipykernel/ipkernel.py:449\u001b[39m, in \u001b[36mdo_execute\u001b[39m\u001b[34m()\u001b[39m\n\u001b[32m    448\u001b[39m \u001b[38;5;28;01mif\u001b[39;00m accepts_params[\u001b[33m\"\u001b[39m\u001b[33mcell_id\u001b[39m\u001b[33m\"\u001b[39m]:\n\u001b[32m--> \u001b[39m\u001b[32m449\u001b[39m     res = shell.run_cell(\n\u001b[32m    450\u001b[39m         code,\n\u001b[32m    451\u001b[39m         store_history=store_history,\n\u001b[32m    452\u001b[39m         silent=silent,\n\u001b[32m    453\u001b[39m         cell_id=cell_id,\n\u001b[32m    454\u001b[39m     )\n\u001b[32m    455\u001b[39m \u001b[38;5;28;01melse\u001b[39;00m:\n",
      "\u001b[36mFile \u001b[39m\u001b[32m~/dev/jaxpt/.venv/lib/python3.13/site-packages/ipykernel/zmqshell.py:549\u001b[39m, in \u001b[36mrun_cell\u001b[39m\u001b[34m()\u001b[39m\n\u001b[32m    548\u001b[39m \u001b[38;5;28mself\u001b[39m._last_traceback = \u001b[38;5;28;01mNone\u001b[39;00m\n\u001b[32m--> \u001b[39m\u001b[32m549\u001b[39m \u001b[38;5;28;01mreturn\u001b[39;00m \u001b[38;5;28msuper\u001b[39m().run_cell(*args, **kwargs)\n",
      "\u001b[36mFile \u001b[39m\u001b[32m~/dev/jaxpt/.venv/lib/python3.13/site-packages/IPython/core/interactiveshell.py:3044\u001b[39m, in \u001b[36mrun_cell\u001b[39m\u001b[34m()\u001b[39m\n\u001b[32m   3043\u001b[39m \u001b[38;5;28;01mtry\u001b[39;00m:\n\u001b[32m-> \u001b[39m\u001b[32m3044\u001b[39m     result = \u001b[38;5;28mself\u001b[39m._run_cell(\n\u001b[32m   3045\u001b[39m         raw_cell, store_history, silent, shell_futures, cell_id\n\u001b[32m   3046\u001b[39m     )\n\u001b[32m   3047\u001b[39m \u001b[38;5;28;01mfinally\u001b[39;00m:\n",
      "\u001b[36mFile \u001b[39m\u001b[32m~/dev/jaxpt/.venv/lib/python3.13/site-packages/IPython/core/interactiveshell.py:3099\u001b[39m, in \u001b[36m_run_cell\u001b[39m\u001b[34m()\u001b[39m\n\u001b[32m   3098\u001b[39m \u001b[38;5;28;01mtry\u001b[39;00m:\n\u001b[32m-> \u001b[39m\u001b[32m3099\u001b[39m     result = runner(coro)\n\u001b[32m   3100\u001b[39m \u001b[38;5;28;01mexcept\u001b[39;00m \u001b[38;5;167;01mBaseException\u001b[39;00m \u001b[38;5;28;01mas\u001b[39;00m e:\n",
      "\u001b[36mFile \u001b[39m\u001b[32m~/dev/jaxpt/.venv/lib/python3.13/site-packages/IPython/core/async_helpers.py:128\u001b[39m, in \u001b[36m_pseudo_sync_runner\u001b[39m\u001b[34m()\u001b[39m\n\u001b[32m    127\u001b[39m \u001b[38;5;28;01mtry\u001b[39;00m:\n\u001b[32m--> \u001b[39m\u001b[32m128\u001b[39m     coro.send(\u001b[38;5;28;01mNone\u001b[39;00m)\n\u001b[32m    129\u001b[39m \u001b[38;5;28;01mexcept\u001b[39;00m \u001b[38;5;167;01mStopIteration\u001b[39;00m \u001b[38;5;28;01mas\u001b[39;00m exc:\n",
      "\u001b[36mFile \u001b[39m\u001b[32m~/dev/jaxpt/.venv/lib/python3.13/site-packages/IPython/core/interactiveshell.py:3303\u001b[39m, in \u001b[36mrun_cell_async\u001b[39m\u001b[34m()\u001b[39m\n\u001b[32m   3300\u001b[39m interactivity = \u001b[33m\"\u001b[39m\u001b[33mnone\u001b[39m\u001b[33m\"\u001b[39m \u001b[38;5;28;01mif\u001b[39;00m silent \u001b[38;5;28;01melse\u001b[39;00m \u001b[38;5;28mself\u001b[39m.ast_node_interactivity\n\u001b[32m-> \u001b[39m\u001b[32m3303\u001b[39m has_raised = \u001b[38;5;28;01mawait\u001b[39;00m \u001b[38;5;28mself\u001b[39m.run_ast_nodes(code_ast.body, cell_name,\n\u001b[32m   3304\u001b[39m        interactivity=interactivity, compiler=compiler, result=result)\n\u001b[32m   3306\u001b[39m \u001b[38;5;28mself\u001b[39m.last_execution_succeeded = \u001b[38;5;129;01mnot\u001b[39;00m has_raised\n",
      "\u001b[36mFile \u001b[39m\u001b[32m~/dev/jaxpt/.venv/lib/python3.13/site-packages/IPython/core/interactiveshell.py:3486\u001b[39m, in \u001b[36mrun_ast_nodes\u001b[39m\u001b[34m()\u001b[39m\n\u001b[32m   3485\u001b[39m     asy = compare(code)\n\u001b[32m-> \u001b[39m\u001b[32m3486\u001b[39m \u001b[38;5;28;01mif\u001b[39;00m \u001b[38;5;28;01mawait\u001b[39;00m \u001b[38;5;28mself\u001b[39m.run_code(code, result, async_=asy):\n\u001b[32m   3487\u001b[39m     \u001b[38;5;28;01mreturn\u001b[39;00m \u001b[38;5;28;01mTrue\u001b[39;00m\n",
      "\u001b[36mFile \u001b[39m\u001b[32m~/dev/jaxpt/.venv/lib/python3.13/site-packages/IPython/core/interactiveshell.py:3546\u001b[39m, in \u001b[36mrun_code\u001b[39m\u001b[34m()\u001b[39m\n\u001b[32m   3545\u001b[39m     \u001b[38;5;28;01melse\u001b[39;00m:\n\u001b[32m-> \u001b[39m\u001b[32m3546\u001b[39m         exec(code_obj, \u001b[38;5;28mself\u001b[39m.user_global_ns, \u001b[38;5;28mself\u001b[39m.user_ns)\n\u001b[32m   3547\u001b[39m \u001b[38;5;28;01mfinally\u001b[39;00m:\n\u001b[32m   3548\u001b[39m     \u001b[38;5;66;03m# Reset our crash handler in place\u001b[39;00m\n",
      "\u001b[36mCell\u001b[39m\u001b[36m \u001b[39m\u001b[32mIn[9]\u001b[39m\u001b[32m, line 7\u001b[39m\n\u001b[32m      5\u001b[39m v = jax.random.normal(rng, (\u001b[32m32\u001b[39m, \u001b[32m16\u001b[39m, \u001b[32m8\u001b[39m, \u001b[32m128\u001b[39m))\n\u001b[32m----> \u001b[39m\u001b[32m7\u001b[39m pallas_attn.mha(q, k, v, segment_ids=\u001b[38;5;28;01mNone\u001b[39;00m, causal=\u001b[38;5;28;01mTrue\u001b[39;00m)\n",
      "\u001b[36mFile \u001b[39m\u001b[32m~/dev/jaxpt/.venv/lib/python3.13/site-packages/jax/experimental/pallas/ops/gpu/attention.py:268\u001b[39m, in \u001b[36mmha\u001b[39m\u001b[34m()\u001b[39m\n\u001b[32m    267\u001b[39m out_shape = jax.ShapeDtypeStruct(shape=q.shape, dtype=q.dtype)\n\u001b[32m--> \u001b[39m\u001b[32m268\u001b[39m \u001b[38;5;28;01mreturn\u001b[39;00m pl.pallas_call(\n\u001b[32m    269\u001b[39m     kernel,\n\u001b[32m    270\u001b[39m     grid=grid_,\n\u001b[32m    271\u001b[39m     in_specs=in_specs,\n\u001b[32m    272\u001b[39m     out_specs=pl.BlockSpec(\n\u001b[32m    273\u001b[39m         (\u001b[38;5;28;01mNone\u001b[39;00m, block_q, \u001b[38;5;28;01mNone\u001b[39;00m, head_dim), \u001b[38;5;28;01mlambda\u001b[39;00m i, j, k: (j, i, k, \u001b[32m0\u001b[39m)\n\u001b[32m    274\u001b[39m     ),\n\u001b[32m    275\u001b[39m     compiler_params=plgpu.TritonCompilerParams(\n\u001b[32m    276\u001b[39m         num_warps=num_warps_, num_stages=num_stages),\n\u001b[32m    277\u001b[39m     out_shape=out_shape,\n\u001b[32m    278\u001b[39m     debug=debug,\n\u001b[32m    279\u001b[39m     interpret=interpret,\n\u001b[32m    280\u001b[39m     name=\u001b[33m\"\u001b[39m\u001b[33mmha_forward\u001b[39m\u001b[33m\"\u001b[39m,\n\u001b[32m    281\u001b[39m )(q, k, v, segment_ids)\n",
      "\u001b[31mJaxStackTraceBeforeTransformation\u001b[39m: ValueError: Only interpret mode is supported on CPU backend.\n\nThe preceding stack trace is the source of the JAX operation that, once transformed by JAX, triggered the following exception.\n\n--------------------",
      "\nThe above exception was the direct cause of the following exception:\n",
      "\u001b[31mValueError\u001b[39m                                Traceback (most recent call last)",
      "\u001b[36mCell\u001b[39m\u001b[36m \u001b[39m\u001b[32mIn[9]\u001b[39m\u001b[32m, line 7\u001b[39m\n\u001b[32m      4\u001b[39m k = jax.random.normal(rng, (\u001b[32m32\u001b[39m, \u001b[32m16\u001b[39m, \u001b[32m8\u001b[39m, \u001b[32m128\u001b[39m))\n\u001b[32m      5\u001b[39m v = jax.random.normal(rng, (\u001b[32m32\u001b[39m, \u001b[32m16\u001b[39m, \u001b[32m8\u001b[39m, \u001b[32m128\u001b[39m))\n\u001b[32m----> \u001b[39m\u001b[32m7\u001b[39m \u001b[43mpallas_attn\u001b[49m\u001b[43m.\u001b[49m\u001b[43mmha\u001b[49m\u001b[43m(\u001b[49m\u001b[43mq\u001b[49m\u001b[43m,\u001b[49m\u001b[43m \u001b[49m\u001b[43mk\u001b[49m\u001b[43m,\u001b[49m\u001b[43m \u001b[49m\u001b[43mv\u001b[49m\u001b[43m,\u001b[49m\u001b[43m \u001b[49m\u001b[43msegment_ids\u001b[49m\u001b[43m=\u001b[49m\u001b[38;5;28;43;01mNone\u001b[39;49;00m\u001b[43m,\u001b[49m\u001b[43m \u001b[49m\u001b[43mcausal\u001b[49m\u001b[43m=\u001b[49m\u001b[38;5;28;43;01mTrue\u001b[39;49;00m\u001b[43m)\u001b[49m\n",
      "    \u001b[31m[... skipping hidden 23 frame]\u001b[39m\n",
      "\u001b[36mFile \u001b[39m\u001b[32m~/dev/jaxpt/.venv/lib/python3.13/site-packages/jax/_src/pallas/pallas_call.py:1300\u001b[39m, in \u001b[36m_pallas_call_lowering\u001b[39m\u001b[34m(ctx, interpret, backend, *in_nodes, **params)\u001b[39m\n\u001b[32m   1294\u001b[39m     \u001b[38;5;28;01mraise\u001b[39;00m _unsupported_lowering_error(\u001b[33m\"\u001b[39m\u001b[33mgpu\u001b[39m\u001b[33m\"\u001b[39m)\n\u001b[32m   1296\u001b[39m   \u001b[38;5;28;01mreturn\u001b[39;00m pallas_call_registration.pallas_call_lowering(\n\u001b[32m   1297\u001b[39m       ctx, *in_nodes, **params\n\u001b[32m   1298\u001b[39m   )\n\u001b[32m-> \u001b[39m\u001b[32m1300\u001b[39m \u001b[38;5;28;01mreturn\u001b[39;00m \u001b[43mmlir\u001b[49m\u001b[43m.\u001b[49m\u001b[43mlower_per_platform\u001b[49m\u001b[43m(\u001b[49m\u001b[43mctx\u001b[49m\u001b[43m,\u001b[49m\u001b[43m \u001b[49m\u001b[33;43m\"\u001b[39;49m\u001b[33;43mpallas_call\u001b[39;49m\u001b[33;43m\"\u001b[39;49m\u001b[43m,\u001b[49m\n\u001b[32m   1301\u001b[39m \u001b[43m                               \u001b[49m\u001b[38;5;28;43mdict\u001b[39;49m\u001b[43m(\u001b[49m\u001b[43mcpu\u001b[49m\u001b[43m=\u001b[49m\u001b[43mcpu_lowering\u001b[49m\u001b[43m,\u001b[49m\n\u001b[32m   1302\u001b[39m \u001b[43m                                    \u001b[49m\u001b[43mtpu\u001b[49m\u001b[43m=\u001b[49m\u001b[43mtpu_lowering\u001b[49m\u001b[43m,\u001b[49m\n\u001b[32m   1303\u001b[39m \u001b[43m                                    \u001b[49m\u001b[43mcuda\u001b[49m\u001b[43m=\u001b[49m\u001b[43mgpu_lowering\u001b[49m\u001b[43m,\u001b[49m\n\u001b[32m   1304\u001b[39m \u001b[43m                                    \u001b[49m\u001b[43mrocm\u001b[49m\u001b[43m=\u001b[49m\u001b[43mgpu_lowering\u001b[49m\u001b[43m)\u001b[49m\u001b[43m,\u001b[49m\n\u001b[32m   1305\u001b[39m \u001b[43m                               \u001b[49m\u001b[38;5;28;43;01mNone\u001b[39;49;00m\u001b[43m,\u001b[49m\u001b[43m  \u001b[49m\u001b[38;5;66;43;03m# default_rule\u001b[39;49;00m\n\u001b[32m   1306\u001b[39m \u001b[43m                               \u001b[49m\u001b[43meffects\u001b[49m\u001b[43m.\u001b[49m\u001b[43mno_effects\u001b[49m\u001b[43m,\u001b[49m\n\u001b[32m   1307\u001b[39m \u001b[43m                               \u001b[49m\u001b[43m*\u001b[49m\u001b[43min_nodes\u001b[49m\u001b[43m,\u001b[49m\n\u001b[32m   1308\u001b[39m \u001b[43m                               \u001b[49m\u001b[43minterpret\u001b[49m\u001b[43m=\u001b[49m\u001b[43minterpret\u001b[49m\u001b[43m,\u001b[49m\n\u001b[32m   1309\u001b[39m \u001b[43m                               \u001b[49m\u001b[43m*\u001b[49m\u001b[43m*\u001b[49m\u001b[43mparams\u001b[49m\u001b[43m)\u001b[49m\n",
      "    \u001b[31m[... skipping hidden 1 frame]\u001b[39m\n",
      "\u001b[36mFile \u001b[39m\u001b[32m~/dev/jaxpt/.venv/lib/python3.13/site-packages/jax/_src/pallas/pallas_call.py:1264\u001b[39m, in \u001b[36m_pallas_call_lowering.<locals>.cpu_lowering\u001b[39m\u001b[34m(ctx, *in_nodes, **params)\u001b[39m\n\u001b[32m   1261\u001b[39m \u001b[38;5;28;01mdef\u001b[39;00m\u001b[38;5;250m \u001b[39m\u001b[34mcpu_lowering\u001b[39m(ctx: mlir.LoweringRuleContext,\n\u001b[32m   1262\u001b[39m                  *in_nodes: mlir.ir.Value | Sequence[mlir.ir.Value],\n\u001b[32m   1263\u001b[39m                  **params):\n\u001b[32m-> \u001b[39m\u001b[32m1264\u001b[39m   \u001b[38;5;28;01mraise\u001b[39;00m \u001b[38;5;167;01mValueError\u001b[39;00m(\u001b[33m\"\u001b[39m\u001b[33mOnly interpret mode is supported on CPU backend.\u001b[39m\u001b[33m\"\u001b[39m)\n",
      "\u001b[31mValueError\u001b[39m: Only interpret mode is supported on CPU backend."
     ]
    }
   ],
   "source": [
    "rng = jax.random.PRNGKey(0)\n",
    "\n",
    "q = jax.random.normal(rng, (32, 16, 8, 128))\n",
    "k = jax.random.normal(rng, (32, 16, 8, 128))\n",
    "v = jax.random.normal(rng, (32, 16, 8, 128))\n",
    "\n",
    "pallas_attn.mha(q, k, v, segment_ids=None, causal=True)"
   ]
  },
  {
   "cell_type": "code",
   "execution_count": null,
   "metadata": {},
   "outputs": [],
   "source": []
  },
  {
   "cell_type": "code",
   "execution_count": null,
   "metadata": {},
   "outputs": [],
   "source": []
  }
 ],
 "metadata": {
  "kernelspec": {
   "display_name": ".venv",
   "language": "python",
   "name": "python3"
  },
  "language_info": {
   "codemirror_mode": {
    "name": "ipython",
    "version": 3
   },
   "file_extension": ".py",
   "mimetype": "text/x-python",
   "name": "python",
   "nbconvert_exporter": "python",
   "pygments_lexer": "ipython3",
   "version": "3.13.1"
  }
 },
 "nbformat": 4,
 "nbformat_minor": 2
}
