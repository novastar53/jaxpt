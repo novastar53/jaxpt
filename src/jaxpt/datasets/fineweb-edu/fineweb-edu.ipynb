{
 "cells": [
  {
   "cell_type": "code",
   "execution_count": 9,
   "id": "0ce15e81-6f0d-4942-9ef9-e74a36361a2a",
   "metadata": {},
   "outputs": [
    {
     "data": {
      "application/vnd.jupyter.widget-view+json": {
       "model_id": "ad8f66c024924d0792a2ab5cbe080517",
       "version_major": 2,
       "version_minor": 0
      },
      "text/plain": [
       "README.md:   0%|          | 0.00/25.5k [00:00<?, ?B/s]"
      ]
     },
     "metadata": {},
     "output_type": "display_data"
    },
    {
     "data": {
      "application/vnd.jupyter.widget-view+json": {
       "model_id": "59ee58234aaa40bfb769b2b382128672",
       "version_major": 2,
       "version_minor": 0
      },
      "text/plain": [
       "Resolving data files:   0%|          | 0/2110 [00:00<?, ?it/s]"
      ]
     },
     "metadata": {},
     "output_type": "display_data"
    },
    {
     "data": {
      "application/vnd.jupyter.widget-view+json": {
       "model_id": "f1363b738a5640d79078a4435cd5cc32",
       "version_major": 2,
       "version_minor": 0
      },
      "text/plain": [
       "Loading dataset shards:   0%|          | 0/98 [00:00<?, ?it/s]"
      ]
     },
     "metadata": {},
     "output_type": "display_data"
    }
   ],
   "source": [
    "import os\n",
    "from pathlib import Path\n",
    "from datasets import load_dataset\n",
    "\n",
    "\n",
    "local_dir =  \"data\" \n",
    "DATA_CACHE_DIR = os.path.join(Path(), local_dir)\n",
    "os.makedirs(DATA_CACHE_DIR, exist_ok=True)\n",
    "\n",
    "# download the dataset\n",
    "dataset = load_dataset(\"HuggingFaceFW/fineweb-edu\", \"sample-10BT\", split=\"train\", cache_dir=DATA_CACHE_DIR)\n",
    "\n",
    "# tokenize the dataset\n",
    "tokenizer = tiktoken.get_encoding(\"gpt2\")\n",
    "\n",
    "enc = tiktoken.get_encoding(\"gpt2\")\n",
    "eot = enc._special_tokens['<|endoftext|>']"
   ]
  },
  {
   "cell_type": "code",
   "execution_count": 29,
   "id": "2a1e561d-9042-4e0a-9525-fc2ba6ff79ee",
   "metadata": {},
   "outputs": [
    {
     "data": {
      "text/plain": [
       "2"
      ]
     },
     "execution_count": 29,
     "metadata": {},
     "output_type": "execute_result"
    }
   ],
   "source": [
    "len(list(enumerate(dataset[0:2]['text'])))"
   ]
  },
  {
   "cell_type": "code",
   "execution_count": 80,
   "id": "6f9802fa-cb02-4f92-a39c-0a0d0cadd11f",
   "metadata": {},
   "outputs": [
    {
     "data": {
      "application/vnd.jupyter.widget-view+json": {
       "model_id": "8448d1ea380042ceb883ff1a5a26c9a3",
       "version_major": 2,
       "version_minor": 0
      },
      "text/plain": [
       "Resolving data files:   0%|          | 0/2110 [00:00<?, ?it/s]"
      ]
     },
     "metadata": {},
     "output_type": "display_data"
    },
    {
     "data": {
      "application/vnd.jupyter.widget-view+json": {
       "model_id": "8cf729a31b6544f2b968ed9e4265291c",
       "version_major": 2,
       "version_minor": 0
      },
      "text/plain": [
       "Loading dataset shards:   0%|          | 0/98 [00:00<?, ?it/s]"
      ]
     },
     "metadata": {},
     "output_type": "display_data"
    },
    {
     "data": {
      "text/plain": [
       "(array([277581], dtype=uint32), 300)"
      ]
     },
     "execution_count": 80,
     "metadata": {},
     "output_type": "execute_result"
    }
   ],
   "source": [
    "SHARD_SIZE = 10e8\n",
    "output_dir = \"shards\"\n",
    "\n",
    "\n",
    "def tokenize(docs_per_cpu, n):\n",
    "    import os\n",
    "    from pathlib import Path\n",
    "    from datasets import load_dataset\n",
    "    import tiktoken\n",
    "    \n",
    "    # set up tokenizer\n",
    "    enc = tiktoken.get_encoding(\"gpt2\")\n",
    "    eot = enc._special_tokens['<|endoftext|>']\n",
    "    tokenizer = tiktoken.get_encoding(\"gpt2\")\n",
    "    \n",
    "    # load the dataset\n",
    "    dataset = load_dataset(\"HuggingFaceFW/fineweb-edu\", \"sample-10BT\", split=\"train\", cache_dir=os.path.join(Path(), \"data\"))\n",
    "\n",
    "    tokens = [eot]\n",
    "    docs_processed = 0\n",
    "    start = n*docs_per_cpu\n",
    "    if len(dataset) - (n*docs_per_cpu) < docs_per_cpu:\n",
    "        end = len(dataset)\n",
    "    else:\n",
    "        end = start + docs_per_cpu\n",
    "    for idx, d in enumerate(dataset[start:end]['text']):\n",
    "        #print(f\"{idx:,}\", end=\"\\r\")\n",
    "        tokens.extend(enc.encode_ordinary(d))\n",
    "        docs_processed += 1\n",
    "    return np.array([len(tokens)], dtype=np.uint32), docs_processed\n",
    "\n",
    "tokenize(300, 0)\n"
   ]
  },
  {
   "cell_type": "code",
   "execution_count": 82,
   "id": "fad3ed75-c2ed-4544-b2e9-0ec28799af4e",
   "metadata": {},
   "outputs": [
    {
     "name": "stdout",
     "output_type": "stream",
     "text": [
      "\n",
      "dataset statistics\n",
      "------------------\n",
      "documents: 9,672,101\n",
      "docs_per_cpu: 322404\n",
      "[(array([9449], dtype=uint32), 10), (array([6019], dtype=uint32), 10), (array([7444], dtype=uint32), 10), (array([9343], dtype=uint32), 10), (array([8439], dtype=uint32), 10), (array([6340], dtype=uint32), 10), (array([9240], dtype=uint32), 10), (array([7958], dtype=uint32), 10), (array([7276], dtype=uint32), 10), (array([8285], dtype=uint32), 10), (array([5532], dtype=uint32), 10), (array([9341], dtype=uint32), 10), (array([4791], dtype=uint32), 10), (array([6091], dtype=uint32), 10), (array([9425], dtype=uint32), 10), (array([6381], dtype=uint32), 10), (array([7728], dtype=uint32), 10), (array([7410], dtype=uint32), 10), (array([7965], dtype=uint32), 10), (array([23120], dtype=uint32), 10), (array([7757], dtype=uint32), 10), (array([29517], dtype=uint32), 10), (array([10627], dtype=uint32), 10), (array([8823], dtype=uint32), 10), (array([5791], dtype=uint32), 10), (array([14111], dtype=uint32), 10), (array([5461], dtype=uint32), 10), (array([5879], dtype=uint32), 10), (array([11747], dtype=uint32), 10), (array([10320], dtype=uint32), 10)]\n",
      "Processed documents in 25.960551023483276 seconds\n"
     ]
    },
    {
     "ename": "AssertionError",
     "evalue": "",
     "output_type": "error",
     "traceback": [
      "\u001b[31m---------------------------------------------------------------------------\u001b[39m",
      "\u001b[31mAssertionError\u001b[39m                            Traceback (most recent call last)",
      "\u001b[36mCell\u001b[39m\u001b[36m \u001b[39m\u001b[32mIn[82]\u001b[39m\u001b[32m, line 41\u001b[39m\n\u001b[32m     39\u001b[39m \u001b[38;5;28mprint\u001b[39m(results)\n\u001b[32m     40\u001b[39m \u001b[38;5;28mprint\u001b[39m(\u001b[33mf\u001b[39m\u001b[33m\"\u001b[39m\u001b[33mProcessed documents in \u001b[39m\u001b[38;5;132;01m{\u001b[39;00mtime.time()-start\u001b[38;5;132;01m}\u001b[39;00m\u001b[33m seconds\u001b[39m\u001b[33m\"\u001b[39m)\n\u001b[32m---> \u001b[39m\u001b[32m41\u001b[39m \u001b[38;5;28;01massert\u001b[39;00m(\u001b[38;5;28msum\u001b[39m([r[\u001b[32m1\u001b[39m] \u001b[38;5;28;01mfor\u001b[39;00m r \u001b[38;5;129;01min\u001b[39;00m results]) == total_docs)\n\u001b[32m     44\u001b[39m avg_doc_len = \u001b[38;5;28msum\u001b[39m([r[\u001b[32m0\u001b[39m] \u001b[38;5;28;01mfor\u001b[39;00m r \u001b[38;5;129;01min\u001b[39;00m results]) / total_docs\n\u001b[32m     45\u001b[39m \u001b[38;5;28mprint\u001b[39m(\u001b[33mf\u001b[39m\u001b[33m\"\u001b[39m\u001b[33mavg doc length: \u001b[39m\u001b[38;5;132;01m{\u001b[39;00mavg_doc_len\u001b[38;5;132;01m:\u001b[39;00m\u001b[33m,\u001b[39m\u001b[38;5;132;01m}\u001b[39;00m\u001b[33m characters\u001b[39m\u001b[33m\"\u001b[39m)\n",
      "\u001b[31mAssertionError\u001b[39m: "
     ]
    }
   ],
   "source": [
    "import time\n",
    "import math\n",
    "from functools import partial\n",
    "\n",
    "import multiprocessing\n",
    "#multiprocessing.set_start_method('fork')   \n",
    "import concurrent.futures as cf\n",
    "\n",
    "num_cpus = os.cpu_count()\n",
    "total_docs = len(dataset)\n",
    "docs_per_cpu = math.ceil(total_docs/num_cpus)\n",
    "print(f\"\"\"\n",
    "dataset statistics\n",
    "------------------\n",
    "documents: {total_docs:,}\n",
    "docs_per_cpu: {docs_per_cpu}\"\"\")\n",
    "\n",
    "\n",
    "def count_tokens(dataset, docs_per_cpu, n):\n",
    "    total_length = 0\n",
    "    docs_processed = 0\n",
    "    start = n*docs_per_cpu\n",
    "    if len(dataset) - (n*docs_per_cpu) < docs_per_cpu:\n",
    "        end = len(dataset)\n",
    "    else:\n",
    "        end = start + docs_per_cpu\n",
    "    for idx, d in enumerate(dataset[start:end]['text']):\n",
    "        #print(f\"{idx:,}\", end=\"\\r\")\n",
    "        total_length += len(d)\n",
    "        docs_processed += 1\n",
    "    return total_length, docs_processed\n",
    "\n",
    "f = partial(count_tokens, dataset, docs_per_cpu)\n",
    "t = partial(tokenize, 10)\n",
    "\n",
    "start = time.time()\n",
    "with cf.ProcessPoolExecutor(max_workers = num_cpus) as ex:\n",
    "    results = list(ex.map(t, range(num_cpus)))\n",
    "print(results)\n",
    "print(f\"Processed documents in {time.time()-start} seconds\")\n",
    "assert(sum([r[1] for r in results]) == total_docs)\n",
    "\n",
    "    \n",
    "avg_doc_len = sum([r[0] for r in results]) / total_docs\n",
    "print(f\"avg doc length: {avg_doc_len:,} characters\")\n",
    "\n"
   ]
  }
 ],
 "metadata": {
  "kernelspec": {
   "display_name": "Python 3.13 (jaxpt)",
   "language": "python",
   "name": "jaxpt"
  },
  "language_info": {
   "codemirror_mode": {
    "name": "ipython",
    "version": 3
   },
   "file_extension": ".py",
   "mimetype": "text/x-python",
   "name": "python",
   "nbconvert_exporter": "python",
   "pygments_lexer": "ipython3",
   "version": "3.13.2"
  }
 },
 "nbformat": 4,
 "nbformat_minor": 5
}
