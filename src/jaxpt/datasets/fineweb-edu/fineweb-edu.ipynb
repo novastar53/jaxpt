{
 "cells": [
  {
   "cell_type": "code",
   "execution_count": 3,
   "id": "0ce15e81-6f0d-4942-9ef9-e74a36361a2a",
   "metadata": {},
   "outputs": [
    {
     "data": {
      "application/vnd.jupyter.widget-view+json": {
       "model_id": "1df2099a424944399d534371bdb390d3",
       "version_major": 2,
       "version_minor": 0
      },
      "text/plain": [
       "Resolving data files:   0%|          | 0/2110 [00:00<?, ?it/s]"
      ]
     },
     "metadata": {},
     "output_type": "display_data"
    },
    {
     "data": {
      "application/vnd.jupyter.widget-view+json": {
       "model_id": "ebeb381bf2334acd95f9e0cd1724455f",
       "version_major": 2,
       "version_minor": 0
      },
      "text/plain": [
       "Loading dataset shards:   0%|          | 0/98 [00:00<?, ?it/s]"
      ]
     },
     "metadata": {},
     "output_type": "display_data"
    }
   ],
   "source": [
    "import os\n",
    "from pathlib import Path\n",
    "from datasets import load_dataset\n",
    "\n",
    "\n",
    "local_dir =  \"data\" \n",
    "DATA_CACHE_DIR = os.path.join(Path(), local_dir)\n",
    "os.makedirs(DATA_CACHE_DIR, exist_ok=True)\n",
    "\n",
    "# download the dataset\n",
    "dataset = load_dataset(\"HuggingFaceFW/fineweb-edu\", \"sample-10BT\", split=\"train\", cache_dir=DATA_CACHE_DIR)\n"
   ]
  },
  {
   "cell_type": "code",
   "execution_count": 62,
   "id": "fad3ed75-c2ed-4544-b2e9-0ec28799af4e",
   "metadata": {},
   "outputs": [
    {
     "name": "stdout",
     "output_type": "stream",
     "text": [
      "\n",
      "dataset statistics\n",
      "------------------\n",
      "documents: 9,672,101\n",
      "docs_per_cpu: 322404\n"
     ]
    }
   ],
   "source": [
    "import time\n",
    "import math\n",
    "from functools import partial\n",
    "\n",
    "import multiprocessing\n",
    "#multiprocessing.set_start_method('fork')   \n",
    "import concurrent.futures as cf\n",
    "import numpy as np\n",
    "\n",
    "\n",
    "num_cpus = os.cpu_count()\n",
    "total_docs = len(dataset)\n",
    "docs_per_cpu = int(math.ceil(total_docs/num_cpus))\n",
    "print(f\"\"\"\n",
    "dataset statistics\n",
    "------------------\n",
    "documents: {total_docs:,}\n",
    "docs_per_cpu: {docs_per_cpu}\"\"\")\n",
    "\n",
    "def count_tokens(dataset, docs_per_cpu, n):\n",
    "\n",
    "    import tiktoken\n",
    "    \n",
    "    # set up tokenizer\n",
    "    enc = tiktoken.get_encoding(\"gpt2\")\n",
    "    \n",
    "    total_length = 0\n",
    "    docs_processed = 0\n",
    "    start = n*docs_per_cpu\n",
    "    if len(dataset) - (n*docs_per_cpu) < docs_per_cpu:\n",
    "        end = len(dataset)\n",
    "    else:\n",
    "        end = start + docs_per_cpu\n",
    "    for idx, d in enumerate(dataset[start:end]['text']):\n",
    "        total_length += len(enc.encode_ordinary(d))\n",
    "        docs_processed += 1\n",
    "    return total_length, docs_processed\n",
    "\n",
    "f = partial(count_tokens, dataset, docs_per_cpu)\n",
    "\n",
    "start = time.time()\n",
    "with cf.ProcessPoolExecutor(max_workers = num_cpus) as ex:\n",
    "    results = list(ex.map(f, range(num_cpus)))"
   ]
  },
  {
   "cell_type": "code",
   "execution_count": 63,
   "id": "bd224521-166e-43d2-806a-40890e4e9262",
   "metadata": {},
   "outputs": [
    {
     "name": "stdout",
     "output_type": "stream",
     "text": [
      "Processed documents in 165.16 seconds\n",
      "Total tokens: 9,944,317,243\n",
      "Total documents: 9,672,101\n"
     ]
    }
   ],
   "source": [
    "print(f\"Processed documents in {time.time()-start:0.2f} seconds\")\n",
    "print(f\"Total tokens: {sum([r[0] for r in results]):,}\")\n",
    "print(f\"Total documents: {sum([r[1] for r in results]):,}\")"
   ]
  },
  {
   "cell_type": "code",
   "execution_count": 64,
   "id": "6f9802fa-cb02-4f92-a39c-0a0d0cadd11f",
   "metadata": {},
   "outputs": [
    {
     "name": "stderr",
     "output_type": "stream",
     "text": [
      "Using the latest cached version of the dataset since HuggingFaceFW/fineweb-edu couldn't be found on the Hugging Face Hub\n",
      "Found the latest cached dataset configuration 'sample-10BT' at data/HuggingFaceFW___fineweb-edu/sample-10BT/0.0.0/4863ab07d7520451e6f73e2912ad8bfee7d97c11 (last modified on Mon Mar  3 20:24:57 2025).\n",
      "Using the latest cached version of the dataset since HuggingFaceFW/fineweb-edu couldn't be found on the Hugging Face Hub\n",
      "Found the latest cached dataset configuration 'sample-10BT' at data/HuggingFaceFW___fineweb-edu/sample-10BT/0.0.0/4863ab07d7520451e6f73e2912ad8bfee7d97c11 (last modified on Mon Mar  3 20:24:57 2025).\n"
     ]
    },
    {
     "data": {
      "application/vnd.jupyter.widget-view+json": {
       "model_id": "686e9cf61fdc4be097a30d1d3a545f9f",
       "version_major": 2,
       "version_minor": 0
      },
      "text/plain": [
       "Loading dataset shards:   0%|          | 0/98 [00:00<?, ?it/s]"
      ]
     },
     "metadata": {},
     "output_type": "display_data"
    },
    {
     "data": {
      "application/vnd.jupyter.widget-view+json": {
       "model_id": "06a7b8bf57f04d119ab222e9b75f6705",
       "version_major": 2,
       "version_minor": 0
      },
      "text/plain": [
       "Loading dataset shards:   0%|          | 0/98 [00:00<?, ?it/s]"
      ]
     },
     "metadata": {},
     "output_type": "display_data"
    },
    {
     "name": "stdout",
     "output_type": "stream",
     "text": [
      "[(322404, 3, 330967344), (322404, 3, 336233239), (322404, 3, 330429730), (322404, 3, 332577826), (322404, 3, 334436000), (322404, 3, 331046095), (322404, 3, 333893381), (322404, 3, 327421391), (322404, 3, 330047401), (322404, 3, 324200848), (322404, 3, 323097647), (322404, 3, 323135816), (322404, 3, 328331221), (322404, 3, 330057048), (322404, 3, 332079638), (322404, 3, 330523595), (322404, 3, 329566197), (322404, 3, 337826108), (322404, 3, 334898498), (322404, 3, 332973900), (322404, 3, 338259167), (322404, 3, 342887738), (322404, 3, 335663348), (322404, 3, 331463361), (322404, 3, 331103321), (322404, 3, 328913342), (322404, 3, 327942477), (322404, 3, 329962145), (322404, 3, 331341726), (322385, 3, 333037695)]\n",
      "Processed documents in 188.69353890419006 seconds\n",
      "total shards written: 90\n",
      "total tokens: 9,944,317,243\n"
     ]
    }
   ],
   "source": [
    "\n",
    "SHARD_SIZE = int(1e8)\n",
    "output_dir = \"shards\"\n",
    "\n",
    "def tokenize(docs_per_cpu, shard_size, n):\n",
    "    #print(shard_size, n)\n",
    "    import os\n",
    "    import gc\n",
    "    \n",
    "    from pathlib import Path\n",
    "    from datasets import load_dataset\n",
    "    import tiktoken\n",
    "    \n",
    "    # set up tokenizer\n",
    "    enc = tiktoken.get_encoding(\"gpt2\")\n",
    "    eot = enc._special_tokens['<|endoftext|>']\n",
    "    \n",
    "    # load the dataset\n",
    "    dataset = load_dataset(\"HuggingFaceFW/fineweb-edu\", \"sample-10BT\", split=\"train\", cache_dir=os.path.join(Path(), \"data\"))\n",
    "\n",
    "    # create the np array\n",
    "    shard = np.array([eot]*shard_size)\n",
    "    shard_idx = 1\n",
    "\n",
    "    docs_processed = 0\n",
    "    shards = 0\n",
    "    tokens = 0\n",
    "    start = n*docs_per_cpu\n",
    "    if len(dataset) - (n*docs_per_cpu) < docs_per_cpu:\n",
    "        end = len(dataset)\n",
    "    else:\n",
    "        end = start + docs_per_cpu\n",
    "    #print(start, end)\n",
    "    for idx, d in enumerate(dataset[start:end]['text']):\n",
    "        #print(f\"{idx:,}\", end=\"\\r\")\n",
    "        new_tokens = enc.encode_ordinary(d)\n",
    "        tokens += len(new_tokens)\n",
    "        if shard_idx + len(new_tokens) > shard_size:\n",
    "            np.savez(os.path.join(Path(), \"shards\", f\"fineweb_{n}_{shards}.npz\"), shard)\n",
    "            shard_idx = 1\n",
    "            shards += 1\n",
    "        else:\n",
    "            shard_idx += len(new_tokens)\n",
    "            shard[idx:idx+len(new_tokens)] = new_tokens\n",
    "        docs_processed += 1\n",
    "    return docs_processed, shards, tokens\n",
    "\n",
    "t = partial(tokenize, docs_per_cpu, SHARD_SIZE)\n",
    "\n",
    "start = time.time()\n",
    "with cf.ProcessPoolExecutor(max_workers = num_cpus) as ex:\n",
    "    results = list(ex.map(t, range(num_cpus)))\n",
    "print(results)"
   ]
  },
  {
   "cell_type": "code",
   "execution_count": 65,
   "id": "a25e5ace-e816-4395-9921-1fe82270e1d6",
   "metadata": {},
   "outputs": [
    {
     "name": "stdout",
     "output_type": "stream",
     "text": [
      "Processed documents in 252.66 seconds\n",
      "total shards written: 90\n",
      "total tokens: 9,944,317,243\n"
     ]
    }
   ],
   "source": [
    "print(f\"Processed documents in {time.time()-start:.2f} seconds\")\n",
    "assert(sum([r[0] for r in results]) == total_docs)\n",
    "total_shards = sum([r[1] for r in results])\n",
    "print(f\"total shards written: {total_shards:,}\")\n",
    "total_tokens = sum([r[2] for r in results])\n",
    "print(f\"total tokens: {total_tokens:,}\")"
   ]
  }
 ],
 "metadata": {
  "kernelspec": {
   "display_name": "Python 3.13 (jaxpt)",
   "language": "python",
   "name": "jaxpt"
  },
  "language_info": {
   "codemirror_mode": {
    "name": "ipython",
    "version": 3
   },
   "file_extension": ".py",
   "mimetype": "text/x-python",
   "name": "python",
   "nbconvert_exporter": "python",
   "pygments_lexer": "ipython3",
   "version": "3.13.2"
  }
 },
 "nbformat": 4,
 "nbformat_minor": 5
}
