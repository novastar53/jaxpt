{
  "nbformat": 4,
  "nbformat_minor": 0,
  "metadata": {
    "colab": {
      "provenance": [],
      "machine_shape": "hm",
      "gpuType": "A100",
      "authorship_tag": "ABX9TyNZKI/J3BpWzNK1bzh498vk"
    },
    "kernelspec": {
      "name": "python3",
      "display_name": "Python 3"
    },
    "language_info": {
      "name": "python"
    },
    "accelerator": "GPU"
  },
  "cells": [
    {
      "cell_type": "code",
      "execution_count": 17,
      "metadata": {
        "colab": {
          "base_uri": "https://localhost:8080/"
        },
        "id": "uLqqRYPMUXKl",
        "outputId": "2e0cf7b6-c4ab-4b5e-c3ef-248d2e2906ad"
      },
      "outputs": [
        {
          "output_type": "stream",
          "name": "stdout",
          "text": [
            "tensor(1.9950, device='cuda:0')\n",
            "time: 843.2209\n",
            "tensor(126.4425, device='cuda:0')\n",
            "time: 626.4899\n"
          ]
        }
      ],
      "source": [
        "import time\n",
        "import torch\n",
        "import triton\n",
        "import triton.language as tl\n",
        "\n",
        "@triton.jit\n",
        "def matmul_kernel(A, B, C, M, N, K, BLOCK_SIZE: tl.constexpr):\n",
        "    row = tl.program_id(0)\n",
        "    col = tl.program_id(1)\n",
        "\n",
        "    a = tl.load(A + row * K + tl.arange(0, BLOCK_SIZE))  # Load A tile\n",
        "    b = tl.load(B + tl.arange(0, BLOCK_SIZE) * N + col)  # Load B tile\n",
        "\n",
        "    c = tl.sum(a * b, axis=0)  # Compute partial sum\n",
        "    tl.store(C + row * N + col, c)  # Store result\n",
        "\n",
        "def matmul_triton(A, B):\n",
        "    M, K = A.shape\n",
        "    K, N = B.shape\n",
        "    C = torch.empty((M, N), device=A.device, dtype=A.dtype)\n",
        "    grid = (M, N)\n",
        "    matmul_kernel[grid](A, B, C, M, N, K, BLOCK_SIZE=16)\n",
        "    return C\n",
        "\n",
        "D = 1024*2**5\n",
        "\n",
        "A = torch.randn(D, D, device=\"cuda\", dtype=torch.float32)\n",
        "B = torch.randn(D, D, device=\"cuda\", dtype=torch.float32)\n",
        "\n",
        "start = time.time()\n",
        "C = matmul_triton(A, B)\n",
        "print(C[0,0])\n",
        "print(f\"time: {(time.time() - start)*1000:0.4f}\")\n",
        "\n",
        "torch.set_float32_matmul_precision('high')\n",
        "@torch.compile\n",
        "def torch_matmul(A, B):\n",
        "  return A @ B\n",
        "\n",
        "start = time.time()\n",
        "C = torch_matmul(A, B)\n",
        "print(C[0,0])\n",
        "print(f\"time: {(time.time() - start)*1000:0.4f}\")"
      ]
    },
    {
      "cell_type": "code",
      "source": [],
      "metadata": {
        "id": "mFhY_bpfUek4"
      },
      "execution_count": null,
      "outputs": []
    }
  ]
}