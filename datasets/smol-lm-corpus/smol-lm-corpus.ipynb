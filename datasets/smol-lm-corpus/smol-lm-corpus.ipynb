{
 "cells": [
  {
   "cell_type": "markdown",
   "id": "1952d75f",
   "metadata": {},
   "source": [
    "# Preprocess the SmolLM Dataset\n"
   ]
  },
  {
   "cell_type": "markdown",
   "id": "581df3eb",
   "metadata": {},
   "source": [
    "## Load the Dataset\n"
   ]
  },
  {
   "cell_type": "code",
   "execution_count": null,
   "id": "0ce15e81-6f0d-4942-9ef9-e74a36361a2a",
   "metadata": {
    "scrolled": true
   },
   "outputs": [],
   "source": [
    "import os\n",
    "from datasets import load_dataset, interleave_datasets\n",
    "\n",
    "dataset_paths=[\"HuggingFaceTB/smollm-corpus\",\n",
    "                \"HuggingFaceTB/smollm-corpus\"]\n",
    "dataset_names=[\"cosmopedia-v2\",\n",
    "                \"fineweb-edu-dedup\"]\n",
    "#probabilities=[0.111, 0.016 , 0.873]\n",
    "\n",
    "local_dir =  \"train-gpt2-data\" \n",
    "DATA_CACHE_DIR = os.path.join(\"/lambda/nfs\", local_dir)\n",
    "os.makedirs(DATA_CACHE_DIR, exist_ok=True)\n",
    "\n",
    "dataset_objs = []\n",
    "for ds_path, ds_name in zip(dataset_paths, dataset_names, strict=False):\n",
    "    dataset_objs.append(\n",
    "        load_dataset(ds_path, ds_name, split=\"train\", cache_dir=DATA_CACHE_DIR)\n",
    "    )\n",
    "#ds = interleave_datasets(\n",
    "#    dataset_objs, probabilities=probabilities, seed=1337)\n"
   ]
  },
  {
   "cell_type": "code",
   "execution_count": null,
   "id": "26ffc11d",
   "metadata": {},
   "outputs": [],
   "source": [
    "import boto3\n",
    "import gzip\n",
    "from datasets import load_dataset\n",
    "from botocore.exceptions import ClientError\n",
    "\n",
    "session = boto3.Session(\n",
    "    aws_access_key_id=\"\",\n",
    "    aws_secret_access_key=\"\")\n",
    "s3 = session.client(\"s3\")\n",
    "num_proc = 16\n",
    "bucket_name = \"softwareheritage\"\n",
    "\n",
    "def download_contents(blob_id):\n",
    "    key = f\"content/{blob_id}\"\n",
    "    try:\n",
    "        obj = s3.get_object(Bucket=bucket_name, Key=key)\n",
    "        with gzip.GzipFile(fileobj=obj['Body']) as fin:\n",
    "            content = fin.read().decode(\"utf-8\", errors=\"ignore\")\n",
    "        return {\"text\": content, \"download_success\": True}\n",
    "    except ClientError as e:\n",
    "        if e.response['Error']['Code'] == 'NoSuchKey':\n",
    "            print(f\"File not found: {key}\")\n",
    "            return {\"text\": \"\", \"download_success\": False}\n",
    "        else:\n",
    "            raise\n",
    "\n",
    "ds = load_dataset(\"HuggingFaceTB/smollm-corpus\", \"python-edu\", split=\"train\", num_proc=num_proc, cache_dir=CACHE_DIR)\n",
    "ds = ds.map(download_contents, input_columns=\"blob_id\", num_proc=num_proc)\n",
    "\n",
    "# Filter out failed downloads\n",
    "ds = ds.filter(lambda x: x['download_success'])\n",
    "\n",
    "# Optionally, print the first example to verify the data\n",
    "print(ds[0])\n",
    "\n",
    "dataset_objs.append(ds)"
   ]
  },
  {
   "cell_type": "markdown",
   "id": "6a7822d0",
   "metadata": {},
   "source": [
    "## Setup\n"
   ]
  },
  {
   "cell_type": "code",
   "execution_count": null,
   "id": "fad3ed75-c2ed-4544-b2e9-0ec28799af4e",
   "metadata": {},
   "outputs": [],
   "source": [
    "import time\n",
    "import math\n",
    "from functools import partial\n",
    "import concurrent.futures as cf\n",
    "\n",
    "import numpy as np\n",
    "from transformers import AutoTokenizer\n",
    "\n",
    "#import tiktoken\n",
    "#enc = tiktoken.get_encoding(\"gpt2\")\n",
    "tokenizer = AutoTokenizer.from_pretrained(\"HuggingFaceTB/SmolLM-360M\")\n",
    "\n",
    "num_cpus = os.cpu_count()\n",
    "print(f\"\"\"\n",
    "sytem statistics:\n",
    "-----------------\n",
    "cpu count: {num_cpus}\"\"\")\n",
    "total_docs = sum([len(dataset) for datasset in dataset_objs])\n",
    "docs_per_cpu = int(math.ceil(total_docs/num_cpus))\n",
    "print(f\"\"\"\n",
    "dataset statistics\n",
    "------------------\n",
    "documents: {total_docs:,}\n",
    "docs_per_cpu: {docs_per_cpu:,}\"\"\")\n"
   ]
  },
  {
   "cell_type": "markdown",
   "id": "841c20d4",
   "metadata": {},
   "source": [
    "## Dummy Preprocessing Operation"
   ]
  },
  {
   "cell_type": "code",
   "execution_count": null,
   "id": "caa2a0c4-85d4-445a-856b-3abce9a13653",
   "metadata": {},
   "outputs": [],
   "source": [
    "def count_tokens(dataset, _tokenizer, idx):\n",
    "    tokens = _tokenizer.encode(dataset[idx]['text'])\n",
    "    return len(tokens)\n",
    "\n",
    "\n",
    "with cf.ProcessPoolExecutor(max_workers = num_cpus) as ex:\n",
    "    start = time.time()\n",
    "    documents = 0\n",
    "    tokens = 0\n",
    "\n",
    "    for dataset in dataset_objs: \n",
    "        f = partial(count_tokens, dataset, tokenizer)\n",
    "        for result in ex.map(f, range(len(dataset)), chunksize=docs_per_cpu//100):\n",
    "            documents += 1\n",
    "            tokens += result\n",
    "            documents % 1e3 == 0 and print(f\"processed {documents:,}\", end=\"\\r\")\n",
    "            \n",
    "    print(f\"processed documents in {time.time()-start:0.2f} seconds\")\n",
    "    print(f\"total tokens: {tokens:,}\")\n",
    "    print(f\"total documents: {documents:,}\")   \n",
    "    assert(documents == total_docs)"
   ]
  },
  {
   "cell_type": "markdown",
   "id": "ebfd2e88",
   "metadata": {},
   "source": [
    "## Actual Preprocessing Operation"
   ]
  },
  {
   "cell_type": "code",
   "execution_count": null,
   "id": "6f9802fa-cb02-4f92-a39c-0a0d0cadd11f",
   "metadata": {},
   "outputs": [],
   "source": [
    "SHARD_SIZE = int(1e8)\n",
    "output_dir = \"processed\"\n",
    "os.makedirs(os.path.join(DATA_CACHE_DIR, output_dir), exist_ok=True)\n",
    "\n",
    "def write_shard(shard, shard_idx):\n",
    "    if shard_idx % 100 == 0:\n",
    "        split = \"valid\"\n",
    "    else:\n",
    "        split = \"train\"\n",
    "    \n",
    "    \n",
    "    f_path = os.path.join(DATA_CACHE_DIR, output_dir, f\"smol_lm_corpus_{split}_{shard_idx}\")\n",
    "    np.savez(f_path, shard)\n",
    "\n",
    "def tokenize(dataset, encoder, idx):\n",
    "    eot = encoder._special_tokens['<|endoftext|>']\n",
    "    tokens = [eot] + encoder.encode(dataset[idx]['text'])\n",
    "    return tokens\n",
    "\n",
    "f = partial(tokenize, dataset, enc)\n",
    "\n",
    "with cf.ProcessPoolExecutor(max_workers = num_cpus) as ex:\n",
    "    start = time.time()\n",
    "    \n",
    "    docs_processed = 0\n",
    "    shards_written = 0\n",
    "    tokens_generated = 0\n",
    "    shard_token_count = 0\n",
    "\n",
    "    shard = np.empty((SHARD_SIZE,), dtype=np.uint16)\n",
    "    \n",
    "    for tokens in ex.map(f, range(len(dataset)), chunksize=docs_per_cpu//100):\n",
    "        docs_processed += 1\n",
    "        tokens_generated += len(tokens)\n",
    "\n",
    "        if docs_processed % 1e4 == 0:\n",
    "            print(f\"processed {docs_processed:,} documents | generated {tokens_generated:,} tokens | wrote {shards_written} shards\", end=\"\\r\")\n",
    "\n",
    "        if shard_token_count + len(tokens) < SHARD_SIZE:\n",
    "            shard[shard_token_count:shard_token_count + len(tokens)] = tokens \n",
    "            shard_token_count += len(tokens)\n",
    "        else:\n",
    "            remainder = SHARD_SIZE - shard_token_count\n",
    "            shard[shard_token_count:shard_token_count + remainder] = tokens[:remainder]\n",
    "            write_shard(shard, shards_written)\n",
    "            shards_written += 1\n",
    "            \n",
    "            shard[:len(tokens) - remainder] = tokens[remainder:]\n",
    "            shard_token_count = len(tokens) - remainder\n",
    "    \n",
    "    write_shard(shard, shards_written) #write the final shard\n",
    "    shards_written += 1\n",
    "    print(f\"processed {docs_processed:,} documents | generated {tokens_generated:,} tokens | wrote {shards_written} shards\", end=\"\\r\")        \n",
    "    print(f\"finished in {time.time()-start:.2f} seconds\")\n",
    "    assert(docs_processed == total_docs)\n",
    "    print(f\"total shards written: {shards_written:,}\")\n",
    "    print(f\"total tokens: {tokens_generated:,}\")"
   ]
  }
 ],
 "metadata": {
  "kernelspec": {
   "display_name": ".venv",
   "language": "python",
   "name": "python3"
  },
  "language_info": {
   "codemirror_mode": {
    "name": "ipython",
    "version": 3
   },
   "file_extension": ".py",
   "mimetype": "text/x-python",
   "name": "python",
   "nbconvert_exporter": "python",
   "pygments_lexer": "ipython3",
   "version": "3.12.8"
  }
 },
 "nbformat": 4,
 "nbformat_minor": 5
}
