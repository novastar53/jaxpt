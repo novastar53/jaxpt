{
 "cells": [
  {
   "cell_type": "markdown",
   "id": "1952d75f",
   "metadata": {},
   "source": [
    "# Preprocess the Fineweb-Edu Dataset\n"
   ]
  },
  {
   "cell_type": "markdown",
   "id": "581df3eb",
   "metadata": {},
   "source": [
    "## Load the Dataset\n"
   ]
  },
  {
   "cell_type": "code",
   "execution_count": 1,
   "id": "0ce15e81-6f0d-4942-9ef9-e74a36361a2a",
   "metadata": {
    "scrolled": true
   },
   "outputs": [
    {
     "data": {
      "application/vnd.jupyter.widget-view+json": {
       "model_id": "39b48227476d4e6da33589dcb6740e3c",
       "version_major": 2,
       "version_minor": 0
      },
      "text/plain": [
       "README.md:   0%|          | 0.00/25.5k [00:00<?, ?B/s]"
      ]
     },
     "metadata": {},
     "output_type": "display_data"
    },
    {
     "data": {
      "application/vnd.jupyter.widget-view+json": {
       "model_id": "6548728e407043648c7b72a909925911",
       "version_major": 2,
       "version_minor": 0
      },
      "text/plain": [
       "Resolving data files:   0%|          | 0/2110 [00:00<?, ?it/s]"
      ]
     },
     "metadata": {},
     "output_type": "display_data"
    },
    {
     "data": {
      "application/vnd.jupyter.widget-view+json": {
       "model_id": "dcd9700da04d42a0974edf5d053c8433",
       "version_major": 2,
       "version_minor": 0
      },
      "text/plain": [
       "Resolving data files:   0%|          | 0/140 [00:00<?, ?it/s]"
      ]
     },
     "metadata": {},
     "output_type": "display_data"
    },
    {
     "data": {
      "application/vnd.jupyter.widget-view+json": {
       "model_id": "5f0e85dfa9464f0b84f1c44a4eecc8e7",
       "version_major": 2,
       "version_minor": 0
      },
      "text/plain": [
       "Downloading data:   0%|          | 0/140 [00:00<?, ?files/s]"
      ]
     },
     "metadata": {},
     "output_type": "display_data"
    },
    {
     "data": {
      "application/vnd.jupyter.widget-view+json": {
       "model_id": "303d8c8ce7e947c3a14abfd8a8a31e72",
       "version_major": 2,
       "version_minor": 0
      },
      "text/plain": [
       "000_00000.parquet:   0%|          | 0.00/2.15G [00:00<?, ?B/s]"
      ]
     },
     "metadata": {},
     "output_type": "display_data"
    },
    {
     "data": {
      "application/vnd.jupyter.widget-view+json": {
       "model_id": "995929f7d01f42679513150b7b5ee221",
       "version_major": 2,
       "version_minor": 0
      },
      "text/plain": [
       "000_00001.parquet:   0%|          | 0.00/2.15G [00:00<?, ?B/s]"
      ]
     },
     "metadata": {},
     "output_type": "display_data"
    },
    {
     "data": {
      "application/vnd.jupyter.widget-view+json": {
       "model_id": "a3fb36f249b24a4593ac5e7be79f8ba6",
       "version_major": 2,
       "version_minor": 0
      },
      "text/plain": [
       "000_00002.parquet:   0%|          | 0.00/2.15G [00:00<?, ?B/s]"
      ]
     },
     "metadata": {},
     "output_type": "display_data"
    },
    {
     "data": {
      "application/vnd.jupyter.widget-view+json": {
       "model_id": "d3d9b16fddc54e4182b21d86d47da5fb",
       "version_major": 2,
       "version_minor": 0
      },
      "text/plain": [
       "000_00003.parquet:   0%|          | 0.00/2.15G [00:00<?, ?B/s]"
      ]
     },
     "metadata": {},
     "output_type": "display_data"
    },
    {
     "data": {
      "application/vnd.jupyter.widget-view+json": {
       "model_id": "e91fd586f9b442eaa34d0e1e7a0f4cf5",
       "version_major": 2,
       "version_minor": 0
      },
      "text/plain": [
       "000_00004.parquet:   0%|          | 0.00/2.15G [00:00<?, ?B/s]"
      ]
     },
     "metadata": {},
     "output_type": "display_data"
    },
    {
     "data": {
      "application/vnd.jupyter.widget-view+json": {
       "model_id": "9f444b47232d4b7fa7f76193e1baa242",
       "version_major": 2,
       "version_minor": 0
      },
      "text/plain": [
       "000_00005.parquet:   0%|          | 0.00/2.15G [00:00<?, ?B/s]"
      ]
     },
     "metadata": {},
     "output_type": "display_data"
    },
    {
     "data": {
      "application/vnd.jupyter.widget-view+json": {
       "model_id": "4b816f9416af4b7f958df97bd6ce18b6",
       "version_major": 2,
       "version_minor": 0
      },
      "text/plain": [
       "000_00006.parquet:   0%|          | 0.00/2.15G [00:00<?, ?B/s]"
      ]
     },
     "metadata": {},
     "output_type": "display_data"
    },
    {
     "data": {
      "application/vnd.jupyter.widget-view+json": {
       "model_id": "e0b828f846784ee59190f2295840d499",
       "version_major": 2,
       "version_minor": 0
      },
      "text/plain": [
       "000_00007.parquet:   0%|          | 0.00/2.15G [00:00<?, ?B/s]"
      ]
     },
     "metadata": {},
     "output_type": "display_data"
    },
    {
     "data": {
      "application/vnd.jupyter.widget-view+json": {
       "model_id": "75777a6ce9ae45ca96a8f3b4821e4577",
       "version_major": 2,
       "version_minor": 0
      },
      "text/plain": [
       "000_00008.parquet:   0%|          | 0.00/2.15G [00:00<?, ?B/s]"
      ]
     },
     "metadata": {},
     "output_type": "display_data"
    },
    {
     "data": {
      "application/vnd.jupyter.widget-view+json": {
       "model_id": "4f6918e5f9014c37a561d940b99c66e6",
       "version_major": 2,
       "version_minor": 0
      },
      "text/plain": [
       "000_00009.parquet:   0%|          | 0.00/2.15G [00:00<?, ?B/s]"
      ]
     },
     "metadata": {},
     "output_type": "display_data"
    },
    {
     "data": {
      "application/vnd.jupyter.widget-view+json": {
       "model_id": "c818951ba2db45919707c81dd22bbd1f",
       "version_major": 2,
       "version_minor": 0
      },
      "text/plain": [
       "001_00000.parquet:   0%|          | 0.00/2.15G [00:00<?, ?B/s]"
      ]
     },
     "metadata": {},
     "output_type": "display_data"
    },
    {
     "data": {
      "application/vnd.jupyter.widget-view+json": {
       "model_id": "78b0640da09541ab90daa515f8b8291b",
       "version_major": 2,
       "version_minor": 0
      },
      "text/plain": [
       "001_00001.parquet:   0%|          | 0.00/2.15G [00:00<?, ?B/s]"
      ]
     },
     "metadata": {},
     "output_type": "display_data"
    },
    {
     "data": {
      "application/vnd.jupyter.widget-view+json": {
       "model_id": "f2e738943ff143f68905fbdf320606a2",
       "version_major": 2,
       "version_minor": 0
      },
      "text/plain": [
       "001_00002.parquet:   0%|          | 0.00/2.15G [00:00<?, ?B/s]"
      ]
     },
     "metadata": {},
     "output_type": "display_data"
    },
    {
     "data": {
      "application/vnd.jupyter.widget-view+json": {
       "model_id": "202cac86408943fa9dc7850508221b28",
       "version_major": 2,
       "version_minor": 0
      },
      "text/plain": [
       "001_00003.parquet:   0%|          | 0.00/2.15G [00:00<?, ?B/s]"
      ]
     },
     "metadata": {},
     "output_type": "display_data"
    },
    {
     "data": {
      "application/vnd.jupyter.widget-view+json": {
       "model_id": "66183eeee58e43078e76bd5b863c3ef4",
       "version_major": 2,
       "version_minor": 0
      },
      "text/plain": [
       "001_00004.parquet:   0%|          | 0.00/2.15G [00:00<?, ?B/s]"
      ]
     },
     "metadata": {},
     "output_type": "display_data"
    },
    {
     "data": {
      "application/vnd.jupyter.widget-view+json": {
       "model_id": "11dc53cfa3c944d481dc7c3122ef08f7",
       "version_major": 2,
       "version_minor": 0
      },
      "text/plain": [
       "001_00005.parquet:   0%|          | 0.00/2.15G [00:00<?, ?B/s]"
      ]
     },
     "metadata": {},
     "output_type": "display_data"
    },
    {
     "data": {
      "application/vnd.jupyter.widget-view+json": {
       "model_id": "974a5cab47764f98bccaba4cb7b07888",
       "version_major": 2,
       "version_minor": 0
      },
      "text/plain": [
       "001_00006.parquet:   0%|          | 0.00/2.15G [00:00<?, ?B/s]"
      ]
     },
     "metadata": {},
     "output_type": "display_data"
    },
    {
     "data": {
      "application/vnd.jupyter.widget-view+json": {
       "model_id": "f595d9a551134cadbfd0e7fa099c20f9",
       "version_major": 2,
       "version_minor": 0
      },
      "text/plain": [
       "001_00007.parquet:   0%|          | 0.00/2.15G [00:00<?, ?B/s]"
      ]
     },
     "metadata": {},
     "output_type": "display_data"
    },
    {
     "data": {
      "application/vnd.jupyter.widget-view+json": {
       "model_id": "70bae63c73a74cc38fe15b0c02c921c7",
       "version_major": 2,
       "version_minor": 0
      },
      "text/plain": [
       "001_00008.parquet:   0%|          | 0.00/2.15G [00:00<?, ?B/s]"
      ]
     },
     "metadata": {},
     "output_type": "display_data"
    },
    {
     "data": {
      "application/vnd.jupyter.widget-view+json": {
       "model_id": "92baf25cc8fb4548809b5f6bcec77f69",
       "version_major": 2,
       "version_minor": 0
      },
      "text/plain": [
       "001_00009.parquet:   0%|          | 0.00/2.15G [00:00<?, ?B/s]"
      ]
     },
     "metadata": {},
     "output_type": "display_data"
    },
    {
     "data": {
      "application/vnd.jupyter.widget-view+json": {
       "model_id": "f173a714183446128b9024500e5cf31c",
       "version_major": 2,
       "version_minor": 0
      },
      "text/plain": [
       "002_00000.parquet:   0%|          | 0.00/2.15G [00:00<?, ?B/s]"
      ]
     },
     "metadata": {},
     "output_type": "display_data"
    },
    {
     "data": {
      "application/vnd.jupyter.widget-view+json": {
       "model_id": "bbb54ecce4264c64b18d12234896d7f2",
       "version_major": 2,
       "version_minor": 0
      },
      "text/plain": [
       "002_00001.parquet:   0%|          | 0.00/2.15G [00:00<?, ?B/s]"
      ]
     },
     "metadata": {},
     "output_type": "display_data"
    },
    {
     "data": {
      "application/vnd.jupyter.widget-view+json": {
       "model_id": "30b292b81c7f4547900e054f3a527bc7",
       "version_major": 2,
       "version_minor": 0
      },
      "text/plain": [
       "002_00002.parquet:   0%|          | 0.00/2.15G [00:00<?, ?B/s]"
      ]
     },
     "metadata": {},
     "output_type": "display_data"
    },
    {
     "data": {
      "application/vnd.jupyter.widget-view+json": {
       "model_id": "20fd95e9a2124a538379b300efd65832",
       "version_major": 2,
       "version_minor": 0
      },
      "text/plain": [
       "002_00003.parquet:   0%|          | 0.00/2.15G [00:00<?, ?B/s]"
      ]
     },
     "metadata": {},
     "output_type": "display_data"
    },
    {
     "data": {
      "application/vnd.jupyter.widget-view+json": {
       "model_id": "452480ce7ec64f269b72c486e044452f",
       "version_major": 2,
       "version_minor": 0
      },
      "text/plain": [
       "002_00004.parquet:   0%|          | 0.00/2.15G [00:00<?, ?B/s]"
      ]
     },
     "metadata": {},
     "output_type": "display_data"
    },
    {
     "data": {
      "application/vnd.jupyter.widget-view+json": {
       "model_id": "7c2a5629c48c4bfba6faa81f815bbc56",
       "version_major": 2,
       "version_minor": 0
      },
      "text/plain": [
       "002_00005.parquet:   0%|          | 0.00/2.15G [00:00<?, ?B/s]"
      ]
     },
     "metadata": {},
     "output_type": "display_data"
    },
    {
     "data": {
      "application/vnd.jupyter.widget-view+json": {
       "model_id": "99d3b0f1a19c483ea587dd4570b3fdb3",
       "version_major": 2,
       "version_minor": 0
      },
      "text/plain": [
       "002_00006.parquet:   0%|          | 0.00/2.15G [00:00<?, ?B/s]"
      ]
     },
     "metadata": {},
     "output_type": "display_data"
    },
    {
     "data": {
      "application/vnd.jupyter.widget-view+json": {
       "model_id": "f8e3b1e71e564983b027c3e315542214",
       "version_major": 2,
       "version_minor": 0
      },
      "text/plain": [
       "002_00007.parquet:   0%|          | 0.00/2.15G [00:00<?, ?B/s]"
      ]
     },
     "metadata": {},
     "output_type": "display_data"
    },
    {
     "data": {
      "application/vnd.jupyter.widget-view+json": {
       "model_id": "2ea2ab4b7d71484aa033c5eaf5d16efa",
       "version_major": 2,
       "version_minor": 0
      },
      "text/plain": [
       "002_00008.parquet:   0%|          | 0.00/2.15G [00:00<?, ?B/s]"
      ]
     },
     "metadata": {},
     "output_type": "display_data"
    },
    {
     "data": {
      "application/vnd.jupyter.widget-view+json": {
       "model_id": "3c7a2455782d4cfda7ce20ccad427edb",
       "version_major": 2,
       "version_minor": 0
      },
      "text/plain": [
       "002_00009.parquet:   0%|          | 0.00/2.15G [00:00<?, ?B/s]"
      ]
     },
     "metadata": {},
     "output_type": "display_data"
    },
    {
     "data": {
      "application/vnd.jupyter.widget-view+json": {
       "model_id": "708c019093ac49be8ada0ffc502ad7bc",
       "version_major": 2,
       "version_minor": 0
      },
      "text/plain": [
       "003_00000.parquet:   0%|          | 0.00/2.15G [00:00<?, ?B/s]"
      ]
     },
     "metadata": {},
     "output_type": "display_data"
    },
    {
     "data": {
      "application/vnd.jupyter.widget-view+json": {
       "model_id": "5c8534a8b57e478d8b61a4c5a9ce5d65",
       "version_major": 2,
       "version_minor": 0
      },
      "text/plain": [
       "003_00001.parquet:   0%|          | 0.00/2.15G [00:00<?, ?B/s]"
      ]
     },
     "metadata": {},
     "output_type": "display_data"
    },
    {
     "data": {
      "application/vnd.jupyter.widget-view+json": {
       "model_id": "0f97d90325f846f3b254bb30df66831b",
       "version_major": 2,
       "version_minor": 0
      },
      "text/plain": [
       "003_00002.parquet:   0%|          | 0.00/2.15G [00:00<?, ?B/s]"
      ]
     },
     "metadata": {},
     "output_type": "display_data"
    },
    {
     "data": {
      "application/vnd.jupyter.widget-view+json": {
       "model_id": "c442eccf895c40aba0bbc1c11917f336",
       "version_major": 2,
       "version_minor": 0
      },
      "text/plain": [
       "003_00003.parquet:   0%|          | 0.00/2.15G [00:00<?, ?B/s]"
      ]
     },
     "metadata": {},
     "output_type": "display_data"
    },
    {
     "data": {
      "application/vnd.jupyter.widget-view+json": {
       "model_id": "7c6da39c511b42bf92f88aa7beac67aa",
       "version_major": 2,
       "version_minor": 0
      },
      "text/plain": [
       "003_00004.parquet:   0%|          | 0.00/2.15G [00:00<?, ?B/s]"
      ]
     },
     "metadata": {},
     "output_type": "display_data"
    },
    {
     "data": {
      "application/vnd.jupyter.widget-view+json": {
       "model_id": "4138f62fe43c4f5ca908ced8dee49a14",
       "version_major": 2,
       "version_minor": 0
      },
      "text/plain": [
       "003_00005.parquet:   0%|          | 0.00/2.15G [00:00<?, ?B/s]"
      ]
     },
     "metadata": {},
     "output_type": "display_data"
    },
    {
     "data": {
      "application/vnd.jupyter.widget-view+json": {
       "model_id": "9f7feeffc10a4396879a6b1c79ab8667",
       "version_major": 2,
       "version_minor": 0
      },
      "text/plain": [
       "003_00006.parquet:   0%|          | 0.00/2.15G [00:00<?, ?B/s]"
      ]
     },
     "metadata": {},
     "output_type": "display_data"
    },
    {
     "data": {
      "application/vnd.jupyter.widget-view+json": {
       "model_id": "365508ca00b74464b1ce76b88bb89ff2",
       "version_major": 2,
       "version_minor": 0
      },
      "text/plain": [
       "003_00007.parquet:   0%|          | 0.00/2.15G [00:00<?, ?B/s]"
      ]
     },
     "metadata": {},
     "output_type": "display_data"
    },
    {
     "data": {
      "application/vnd.jupyter.widget-view+json": {
       "model_id": "e2ce941903b74122bf039cef85fe675f",
       "version_major": 2,
       "version_minor": 0
      },
      "text/plain": [
       "003_00008.parquet:   0%|          | 0.00/2.15G [00:00<?, ?B/s]"
      ]
     },
     "metadata": {},
     "output_type": "display_data"
    },
    {
     "data": {
      "application/vnd.jupyter.widget-view+json": {
       "model_id": "4561d5edd39c4c7f8723902683e0f448",
       "version_major": 2,
       "version_minor": 0
      },
      "text/plain": [
       "003_00009.parquet:   0%|          | 0.00/2.15G [00:00<?, ?B/s]"
      ]
     },
     "metadata": {},
     "output_type": "display_data"
    },
    {
     "data": {
      "application/vnd.jupyter.widget-view+json": {
       "model_id": "0da855c15b67405686045f71551281e8",
       "version_major": 2,
       "version_minor": 0
      },
      "text/plain": [
       "004_00000.parquet:   0%|          | 0.00/2.15G [00:00<?, ?B/s]"
      ]
     },
     "metadata": {},
     "output_type": "display_data"
    },
    {
     "data": {
      "application/vnd.jupyter.widget-view+json": {
       "model_id": "1add0abedb174ed593eb0cee75557f8d",
       "version_major": 2,
       "version_minor": 0
      },
      "text/plain": [
       "004_00001.parquet:   0%|          | 0.00/2.15G [00:00<?, ?B/s]"
      ]
     },
     "metadata": {},
     "output_type": "display_data"
    },
    {
     "data": {
      "application/vnd.jupyter.widget-view+json": {
       "model_id": "999ee09f334543498584caf32bf54894",
       "version_major": 2,
       "version_minor": 0
      },
      "text/plain": [
       "004_00002.parquet:   0%|          | 0.00/2.15G [00:00<?, ?B/s]"
      ]
     },
     "metadata": {},
     "output_type": "display_data"
    },
    {
     "data": {
      "application/vnd.jupyter.widget-view+json": {
       "model_id": "318985c8567f43b8b30c230818ab1ab4",
       "version_major": 2,
       "version_minor": 0
      },
      "text/plain": [
       "004_00003.parquet:   0%|          | 0.00/2.15G [00:00<?, ?B/s]"
      ]
     },
     "metadata": {},
     "output_type": "display_data"
    },
    {
     "data": {
      "application/vnd.jupyter.widget-view+json": {
       "model_id": "42c3bf77d08f4b9bb65dfffbcc0663d9",
       "version_major": 2,
       "version_minor": 0
      },
      "text/plain": [
       "004_00004.parquet:   0%|          | 0.00/2.15G [00:00<?, ?B/s]"
      ]
     },
     "metadata": {},
     "output_type": "display_data"
    },
    {
     "data": {
      "application/vnd.jupyter.widget-view+json": {
       "model_id": "bd88ca724ff74c879b5d13464d13171e",
       "version_major": 2,
       "version_minor": 0
      },
      "text/plain": [
       "004_00005.parquet:   0%|          | 0.00/2.15G [00:00<?, ?B/s]"
      ]
     },
     "metadata": {},
     "output_type": "display_data"
    },
    {
     "data": {
      "application/vnd.jupyter.widget-view+json": {
       "model_id": "2a6ed31dbb5546cfa192090b6d157176",
       "version_major": 2,
       "version_minor": 0
      },
      "text/plain": [
       "004_00006.parquet:   0%|          | 0.00/2.15G [00:00<?, ?B/s]"
      ]
     },
     "metadata": {},
     "output_type": "display_data"
    },
    {
     "data": {
      "application/vnd.jupyter.widget-view+json": {
       "model_id": "8c1eae05cbce482e84ecdf233c7168fe",
       "version_major": 2,
       "version_minor": 0
      },
      "text/plain": [
       "004_00007.parquet:   0%|          | 0.00/2.15G [00:00<?, ?B/s]"
      ]
     },
     "metadata": {},
     "output_type": "display_data"
    },
    {
     "data": {
      "application/vnd.jupyter.widget-view+json": {
       "model_id": "8aa3091d274a4687a7274d138d081caa",
       "version_major": 2,
       "version_minor": 0
      },
      "text/plain": [
       "004_00008.parquet:   0%|          | 0.00/2.15G [00:00<?, ?B/s]"
      ]
     },
     "metadata": {},
     "output_type": "display_data"
    },
    {
     "data": {
      "application/vnd.jupyter.widget-view+json": {
       "model_id": "089b4fd6d6d44b27a44ed980d82b84b7",
       "version_major": 2,
       "version_minor": 0
      },
      "text/plain": [
       "004_00009.parquet:   0%|          | 0.00/2.15G [00:00<?, ?B/s]"
      ]
     },
     "metadata": {},
     "output_type": "display_data"
    },
    {
     "data": {
      "application/vnd.jupyter.widget-view+json": {
       "model_id": "7702cc0a66ed4e858fa2f9c13a9f6ba0",
       "version_major": 2,
       "version_minor": 0
      },
      "text/plain": [
       "005_00000.parquet:   0%|          | 0.00/2.15G [00:00<?, ?B/s]"
      ]
     },
     "metadata": {},
     "output_type": "display_data"
    },
    {
     "data": {
      "application/vnd.jupyter.widget-view+json": {
       "model_id": "28c9bbdf6bb04563bb89abff4581fccc",
       "version_major": 2,
       "version_minor": 0
      },
      "text/plain": [
       "005_00001.parquet:   0%|          | 0.00/2.15G [00:00<?, ?B/s]"
      ]
     },
     "metadata": {},
     "output_type": "display_data"
    },
    {
     "data": {
      "application/vnd.jupyter.widget-view+json": {
       "model_id": "eb6d9331e36943bdb3b01e3c8fc060b8",
       "version_major": 2,
       "version_minor": 0
      },
      "text/plain": [
       "005_00002.parquet:   0%|          | 0.00/2.15G [00:00<?, ?B/s]"
      ]
     },
     "metadata": {},
     "output_type": "display_data"
    },
    {
     "data": {
      "application/vnd.jupyter.widget-view+json": {
       "model_id": "2a32b61b569d4ad1a22cc89a628dfaf9",
       "version_major": 2,
       "version_minor": 0
      },
      "text/plain": [
       "005_00003.parquet:   0%|          | 0.00/2.15G [00:00<?, ?B/s]"
      ]
     },
     "metadata": {},
     "output_type": "display_data"
    },
    {
     "data": {
      "application/vnd.jupyter.widget-view+json": {
       "model_id": "4179493dca364293adfc878faa338ad9",
       "version_major": 2,
       "version_minor": 0
      },
      "text/plain": [
       "005_00004.parquet:   0%|          | 0.00/2.15G [00:00<?, ?B/s]"
      ]
     },
     "metadata": {},
     "output_type": "display_data"
    },
    {
     "data": {
      "application/vnd.jupyter.widget-view+json": {
       "model_id": "cf2e76d797984da49fc0e49983046d7f",
       "version_major": 2,
       "version_minor": 0
      },
      "text/plain": [
       "005_00005.parquet:   0%|          | 0.00/2.15G [00:00<?, ?B/s]"
      ]
     },
     "metadata": {},
     "output_type": "display_data"
    },
    {
     "data": {
      "application/vnd.jupyter.widget-view+json": {
       "model_id": "72eb8e38a8df435ebb5f944bf7a80ff1",
       "version_major": 2,
       "version_minor": 0
      },
      "text/plain": [
       "005_00006.parquet:   0%|          | 0.00/2.15G [00:00<?, ?B/s]"
      ]
     },
     "metadata": {},
     "output_type": "display_data"
    },
    {
     "data": {
      "application/vnd.jupyter.widget-view+json": {
       "model_id": "3f3f5064394c473bb8684cbf73e71c55",
       "version_major": 2,
       "version_minor": 0
      },
      "text/plain": [
       "005_00007.parquet:   0%|          | 0.00/2.15G [00:00<?, ?B/s]"
      ]
     },
     "metadata": {},
     "output_type": "display_data"
    },
    {
     "data": {
      "application/vnd.jupyter.widget-view+json": {
       "model_id": "ec246c5798a3474d8e9b2575672c47ad",
       "version_major": 2,
       "version_minor": 0
      },
      "text/plain": [
       "005_00008.parquet:   0%|          | 0.00/2.15G [00:00<?, ?B/s]"
      ]
     },
     "metadata": {},
     "output_type": "display_data"
    },
    {
     "data": {
      "application/vnd.jupyter.widget-view+json": {
       "model_id": "319378367c044d2c903a3ba319fed1af",
       "version_major": 2,
       "version_minor": 0
      },
      "text/plain": [
       "005_00009.parquet:   0%|          | 0.00/2.15G [00:00<?, ?B/s]"
      ]
     },
     "metadata": {},
     "output_type": "display_data"
    },
    {
     "data": {
      "application/vnd.jupyter.widget-view+json": {
       "model_id": "d4ee3d9d97154d48a5dcc496793f13f3",
       "version_major": 2,
       "version_minor": 0
      },
      "text/plain": [
       "006_00000.parquet:   0%|          | 0.00/2.15G [00:00<?, ?B/s]"
      ]
     },
     "metadata": {},
     "output_type": "display_data"
    },
    {
     "data": {
      "application/vnd.jupyter.widget-view+json": {
       "model_id": "33d8cf1cd44249f18175673844f30c4e",
       "version_major": 2,
       "version_minor": 0
      },
      "text/plain": [
       "006_00001.parquet:   0%|          | 0.00/2.15G [00:00<?, ?B/s]"
      ]
     },
     "metadata": {},
     "output_type": "display_data"
    },
    {
     "data": {
      "application/vnd.jupyter.widget-view+json": {
       "model_id": "a0df19b645fe495aaa1b78ac2ba683ba",
       "version_major": 2,
       "version_minor": 0
      },
      "text/plain": [
       "006_00002.parquet:   0%|          | 0.00/2.15G [00:00<?, ?B/s]"
      ]
     },
     "metadata": {},
     "output_type": "display_data"
    },
    {
     "data": {
      "application/vnd.jupyter.widget-view+json": {
       "model_id": "0508a6e99f4e4ccd9fa79292344216c3",
       "version_major": 2,
       "version_minor": 0
      },
      "text/plain": [
       "006_00003.parquet:   0%|          | 0.00/2.15G [00:00<?, ?B/s]"
      ]
     },
     "metadata": {},
     "output_type": "display_data"
    },
    {
     "data": {
      "application/vnd.jupyter.widget-view+json": {
       "model_id": "c50a657bcc40448bb26cb63886bf0495",
       "version_major": 2,
       "version_minor": 0
      },
      "text/plain": [
       "006_00004.parquet:   0%|          | 0.00/2.15G [00:00<?, ?B/s]"
      ]
     },
     "metadata": {},
     "output_type": "display_data"
    },
    {
     "data": {
      "application/vnd.jupyter.widget-view+json": {
       "model_id": "a17871e8f5514157b62fe0c038c85f28",
       "version_major": 2,
       "version_minor": 0
      },
      "text/plain": [
       "006_00005.parquet:   0%|          | 0.00/2.15G [00:00<?, ?B/s]"
      ]
     },
     "metadata": {},
     "output_type": "display_data"
    },
    {
     "data": {
      "application/vnd.jupyter.widget-view+json": {
       "model_id": "cde6b91bed2a4219b1f64c3619c85268",
       "version_major": 2,
       "version_minor": 0
      },
      "text/plain": [
       "006_00006.parquet:   0%|          | 0.00/2.15G [00:00<?, ?B/s]"
      ]
     },
     "metadata": {},
     "output_type": "display_data"
    },
    {
     "data": {
      "application/vnd.jupyter.widget-view+json": {
       "model_id": "6982e71063134908a3db37ea1988057a",
       "version_major": 2,
       "version_minor": 0
      },
      "text/plain": [
       "006_00007.parquet:   0%|          | 0.00/2.15G [00:00<?, ?B/s]"
      ]
     },
     "metadata": {},
     "output_type": "display_data"
    },
    {
     "data": {
      "application/vnd.jupyter.widget-view+json": {
       "model_id": "b8aef2c7be76474988df5d9931fd891c",
       "version_major": 2,
       "version_minor": 0
      },
      "text/plain": [
       "006_00008.parquet:   0%|          | 0.00/2.15G [00:00<?, ?B/s]"
      ]
     },
     "metadata": {},
     "output_type": "display_data"
    },
    {
     "data": {
      "application/vnd.jupyter.widget-view+json": {
       "model_id": "bb8327e99f7341bc819f3ff71a87166e",
       "version_major": 2,
       "version_minor": 0
      },
      "text/plain": [
       "006_00009.parquet:   0%|          | 0.00/2.15G [00:00<?, ?B/s]"
      ]
     },
     "metadata": {},
     "output_type": "display_data"
    },
    {
     "data": {
      "application/vnd.jupyter.widget-view+json": {
       "model_id": "f35b5cff733d4339ab3bdfa24f720137",
       "version_major": 2,
       "version_minor": 0
      },
      "text/plain": [
       "007_00000.parquet:   0%|          | 0.00/2.15G [00:00<?, ?B/s]"
      ]
     },
     "metadata": {},
     "output_type": "display_data"
    },
    {
     "data": {
      "application/vnd.jupyter.widget-view+json": {
       "model_id": "cee7d7d35c3145709df266ae17521c07",
       "version_major": 2,
       "version_minor": 0
      },
      "text/plain": [
       "007_00001.parquet:   0%|          | 0.00/2.15G [00:00<?, ?B/s]"
      ]
     },
     "metadata": {},
     "output_type": "display_data"
    },
    {
     "data": {
      "application/vnd.jupyter.widget-view+json": {
       "model_id": "423dc6612baf4da6a7a7af32d3e28d43",
       "version_major": 2,
       "version_minor": 0
      },
      "text/plain": [
       "007_00002.parquet:   0%|          | 0.00/2.15G [00:00<?, ?B/s]"
      ]
     },
     "metadata": {},
     "output_type": "display_data"
    },
    {
     "data": {
      "application/vnd.jupyter.widget-view+json": {
       "model_id": "799c55a3df344de18184882e2b60dd06",
       "version_major": 2,
       "version_minor": 0
      },
      "text/plain": [
       "007_00003.parquet:   0%|          | 0.00/2.15G [00:00<?, ?B/s]"
      ]
     },
     "metadata": {},
     "output_type": "display_data"
    },
    {
     "data": {
      "application/vnd.jupyter.widget-view+json": {
       "model_id": "d6607669e6524dcf810c6732af42773b",
       "version_major": 2,
       "version_minor": 0
      },
      "text/plain": [
       "007_00004.parquet:   0%|          | 0.00/2.15G [00:00<?, ?B/s]"
      ]
     },
     "metadata": {},
     "output_type": "display_data"
    },
    {
     "data": {
      "application/vnd.jupyter.widget-view+json": {
       "model_id": "9499361d6a574632a7481ccf0569d5d5",
       "version_major": 2,
       "version_minor": 0
      },
      "text/plain": [
       "007_00005.parquet:   0%|          | 0.00/2.15G [00:00<?, ?B/s]"
      ]
     },
     "metadata": {},
     "output_type": "display_data"
    },
    {
     "data": {
      "application/vnd.jupyter.widget-view+json": {
       "model_id": "2382d72aa39e4cd8a1acef0cf9d7890e",
       "version_major": 2,
       "version_minor": 0
      },
      "text/plain": [
       "007_00006.parquet:   0%|          | 0.00/2.15G [00:00<?, ?B/s]"
      ]
     },
     "metadata": {},
     "output_type": "display_data"
    },
    {
     "data": {
      "application/vnd.jupyter.widget-view+json": {
       "model_id": "c96be2dfdb0a4477a8ee7be2f06da805",
       "version_major": 2,
       "version_minor": 0
      },
      "text/plain": [
       "007_00007.parquet:   0%|          | 0.00/2.15G [00:00<?, ?B/s]"
      ]
     },
     "metadata": {},
     "output_type": "display_data"
    },
    {
     "data": {
      "application/vnd.jupyter.widget-view+json": {
       "model_id": "a85e29a3818146598300921447e277ac",
       "version_major": 2,
       "version_minor": 0
      },
      "text/plain": [
       "007_00008.parquet:   0%|          | 0.00/2.15G [00:00<?, ?B/s]"
      ]
     },
     "metadata": {},
     "output_type": "display_data"
    },
    {
     "data": {
      "application/vnd.jupyter.widget-view+json": {
       "model_id": "f1cf0d3e3d1b4b0c9c77e693ed1e7c87",
       "version_major": 2,
       "version_minor": 0
      },
      "text/plain": [
       "007_00009.parquet:   0%|          | 0.00/2.15G [00:00<?, ?B/s]"
      ]
     },
     "metadata": {},
     "output_type": "display_data"
    },
    {
     "data": {
      "application/vnd.jupyter.widget-view+json": {
       "model_id": "c5726bc939044d62a87ddf9d01ab63be",
       "version_major": 2,
       "version_minor": 0
      },
      "text/plain": [
       "008_00000.parquet:   0%|          | 0.00/2.15G [00:00<?, ?B/s]"
      ]
     },
     "metadata": {},
     "output_type": "display_data"
    },
    {
     "data": {
      "application/vnd.jupyter.widget-view+json": {
       "model_id": "1c92056a32f54c06bc121a13bce1ed4a",
       "version_major": 2,
       "version_minor": 0
      },
      "text/plain": [
       "008_00001.parquet:   0%|          | 0.00/2.15G [00:00<?, ?B/s]"
      ]
     },
     "metadata": {},
     "output_type": "display_data"
    },
    {
     "data": {
      "application/vnd.jupyter.widget-view+json": {
       "model_id": "c6abf0ad69174a9d9d83ea55756a88f8",
       "version_major": 2,
       "version_minor": 0
      },
      "text/plain": [
       "008_00002.parquet:   0%|          | 0.00/2.15G [00:00<?, ?B/s]"
      ]
     },
     "metadata": {},
     "output_type": "display_data"
    },
    {
     "data": {
      "application/vnd.jupyter.widget-view+json": {
       "model_id": "52091201002142d9a61d683481f9ecbe",
       "version_major": 2,
       "version_minor": 0
      },
      "text/plain": [
       "008_00003.parquet:   0%|          | 0.00/2.15G [00:00<?, ?B/s]"
      ]
     },
     "metadata": {},
     "output_type": "display_data"
    },
    {
     "data": {
      "application/vnd.jupyter.widget-view+json": {
       "model_id": "7c212aac7fb941dab85e6081df07b16e",
       "version_major": 2,
       "version_minor": 0
      },
      "text/plain": [
       "008_00004.parquet:   0%|          | 0.00/2.15G [00:00<?, ?B/s]"
      ]
     },
     "metadata": {},
     "output_type": "display_data"
    },
    {
     "data": {
      "application/vnd.jupyter.widget-view+json": {
       "model_id": "fd97ffff5e5b438bb4e7c519d8e92573",
       "version_major": 2,
       "version_minor": 0
      },
      "text/plain": [
       "008_00005.parquet:   0%|          | 0.00/2.15G [00:00<?, ?B/s]"
      ]
     },
     "metadata": {},
     "output_type": "display_data"
    },
    {
     "data": {
      "application/vnd.jupyter.widget-view+json": {
       "model_id": "81878efc7b9d48f1924121121d3b7304",
       "version_major": 2,
       "version_minor": 0
      },
      "text/plain": [
       "008_00006.parquet:   0%|          | 0.00/2.15G [00:00<?, ?B/s]"
      ]
     },
     "metadata": {},
     "output_type": "display_data"
    },
    {
     "data": {
      "application/vnd.jupyter.widget-view+json": {
       "model_id": "f22ab92fdc594671842dd53920d2cb05",
       "version_major": 2,
       "version_minor": 0
      },
      "text/plain": [
       "008_00007.parquet:   0%|          | 0.00/2.15G [00:00<?, ?B/s]"
      ]
     },
     "metadata": {},
     "output_type": "display_data"
    },
    {
     "data": {
      "application/vnd.jupyter.widget-view+json": {
       "model_id": "432bb622200c48dba7470b5a4097b6ed",
       "version_major": 2,
       "version_minor": 0
      },
      "text/plain": [
       "008_00008.parquet:   0%|          | 0.00/2.15G [00:00<?, ?B/s]"
      ]
     },
     "metadata": {},
     "output_type": "display_data"
    },
    {
     "data": {
      "application/vnd.jupyter.widget-view+json": {
       "model_id": "a31243e8eed447a98a2c6c8bacd9e93b",
       "version_major": 2,
       "version_minor": 0
      },
      "text/plain": [
       "008_00009.parquet:   0%|          | 0.00/2.15G [00:00<?, ?B/s]"
      ]
     },
     "metadata": {},
     "output_type": "display_data"
    },
    {
     "data": {
      "application/vnd.jupyter.widget-view+json": {
       "model_id": "50b79d953d6245ff88bb8e543869449b",
       "version_major": 2,
       "version_minor": 0
      },
      "text/plain": [
       "009_00000.parquet:   0%|          | 0.00/2.15G [00:00<?, ?B/s]"
      ]
     },
     "metadata": {},
     "output_type": "display_data"
    },
    {
     "data": {
      "application/vnd.jupyter.widget-view+json": {
       "model_id": "07c7cbf8cdc8452788bdbb20f9522a74",
       "version_major": 2,
       "version_minor": 0
      },
      "text/plain": [
       "009_00001.parquet:   0%|          | 0.00/2.15G [00:00<?, ?B/s]"
      ]
     },
     "metadata": {},
     "output_type": "display_data"
    },
    {
     "data": {
      "application/vnd.jupyter.widget-view+json": {
       "model_id": "6c38749fda9f4211bdf19b7fdc27ec16",
       "version_major": 2,
       "version_minor": 0
      },
      "text/plain": [
       "009_00002.parquet:   0%|          | 0.00/2.15G [00:00<?, ?B/s]"
      ]
     },
     "metadata": {},
     "output_type": "display_data"
    },
    {
     "data": {
      "application/vnd.jupyter.widget-view+json": {
       "model_id": "80b5fad3b54f4e5e8f71038a1859f18c",
       "version_major": 2,
       "version_minor": 0
      },
      "text/plain": [
       "009_00003.parquet:   0%|          | 0.00/2.15G [00:00<?, ?B/s]"
      ]
     },
     "metadata": {},
     "output_type": "display_data"
    },
    {
     "data": {
      "application/vnd.jupyter.widget-view+json": {
       "model_id": "d088f6b52e354f36be5275ce7b27bb3e",
       "version_major": 2,
       "version_minor": 0
      },
      "text/plain": [
       "009_00004.parquet:   0%|          | 0.00/2.15G [00:00<?, ?B/s]"
      ]
     },
     "metadata": {},
     "output_type": "display_data"
    },
    {
     "data": {
      "application/vnd.jupyter.widget-view+json": {
       "model_id": "847185eb4fa7487e9a3eb48e7f2ac346",
       "version_major": 2,
       "version_minor": 0
      },
      "text/plain": [
       "009_00005.parquet:   0%|          | 0.00/2.15G [00:00<?, ?B/s]"
      ]
     },
     "metadata": {},
     "output_type": "display_data"
    },
    {
     "data": {
      "application/vnd.jupyter.widget-view+json": {
       "model_id": "615cd55ae40040c7a457c9d34d1f21d1",
       "version_major": 2,
       "version_minor": 0
      },
      "text/plain": [
       "009_00006.parquet:   0%|          | 0.00/2.15G [00:00<?, ?B/s]"
      ]
     },
     "metadata": {},
     "output_type": "display_data"
    },
    {
     "data": {
      "application/vnd.jupyter.widget-view+json": {
       "model_id": "9aa625154fbc478787e6acd9cdaee402",
       "version_major": 2,
       "version_minor": 0
      },
      "text/plain": [
       "009_00007.parquet:   0%|          | 0.00/2.15G [00:00<?, ?B/s]"
      ]
     },
     "metadata": {},
     "output_type": "display_data"
    },
    {
     "data": {
      "application/vnd.jupyter.widget-view+json": {
       "model_id": "03e8cdeef0754264b64ed603f0a530fe",
       "version_major": 2,
       "version_minor": 0
      },
      "text/plain": [
       "009_00008.parquet:   0%|          | 0.00/2.15G [00:00<?, ?B/s]"
      ]
     },
     "metadata": {},
     "output_type": "display_data"
    },
    {
     "data": {
      "application/vnd.jupyter.widget-view+json": {
       "model_id": "5016436ea29842e49f930bd0e52f6bcc",
       "version_major": 2,
       "version_minor": 0
      },
      "text/plain": [
       "009_00009.parquet:   0%|          | 0.00/2.15G [00:00<?, ?B/s]"
      ]
     },
     "metadata": {},
     "output_type": "display_data"
    },
    {
     "data": {
      "application/vnd.jupyter.widget-view+json": {
       "model_id": "00e64596333242deadc4fb95cd5e98aa",
       "version_major": 2,
       "version_minor": 0
      },
      "text/plain": [
       "010_00000.parquet:   0%|          | 0.00/2.15G [00:00<?, ?B/s]"
      ]
     },
     "metadata": {},
     "output_type": "display_data"
    },
    {
     "data": {
      "application/vnd.jupyter.widget-view+json": {
       "model_id": "08de1ac912154c76a21a968b283cd39c",
       "version_major": 2,
       "version_minor": 0
      },
      "text/plain": [
       "010_00001.parquet:   0%|          | 0.00/2.15G [00:00<?, ?B/s]"
      ]
     },
     "metadata": {},
     "output_type": "display_data"
    },
    {
     "data": {
      "application/vnd.jupyter.widget-view+json": {
       "model_id": "6cdcdba361f34fd08f71845e998445d4",
       "version_major": 2,
       "version_minor": 0
      },
      "text/plain": [
       "010_00002.parquet:   0%|          | 0.00/2.15G [00:00<?, ?B/s]"
      ]
     },
     "metadata": {},
     "output_type": "display_data"
    },
    {
     "data": {
      "application/vnd.jupyter.widget-view+json": {
       "model_id": "43d3042b579e404788d6eb0ea87b3d1b",
       "version_major": 2,
       "version_minor": 0
      },
      "text/plain": [
       "010_00003.parquet:   0%|          | 0.00/2.15G [00:00<?, ?B/s]"
      ]
     },
     "metadata": {},
     "output_type": "display_data"
    },
    {
     "data": {
      "application/vnd.jupyter.widget-view+json": {
       "model_id": "9ea3c5b4739b4645baa284453f585cfa",
       "version_major": 2,
       "version_minor": 0
      },
      "text/plain": [
       "010_00004.parquet:   0%|          | 0.00/2.15G [00:00<?, ?B/s]"
      ]
     },
     "metadata": {},
     "output_type": "display_data"
    },
    {
     "data": {
      "application/vnd.jupyter.widget-view+json": {
       "model_id": "f6ec99cd788b43ac818a28ce5fc66583",
       "version_major": 2,
       "version_minor": 0
      },
      "text/plain": [
       "010_00005.parquet:   0%|          | 0.00/2.15G [00:00<?, ?B/s]"
      ]
     },
     "metadata": {},
     "output_type": "display_data"
    },
    {
     "data": {
      "application/vnd.jupyter.widget-view+json": {
       "model_id": "782eba46a5be40ec8fd2a84c3e6313bd",
       "version_major": 2,
       "version_minor": 0
      },
      "text/plain": [
       "010_00006.parquet:   0%|          | 0.00/2.15G [00:00<?, ?B/s]"
      ]
     },
     "metadata": {},
     "output_type": "display_data"
    },
    {
     "data": {
      "application/vnd.jupyter.widget-view+json": {
       "model_id": "844645803f6947589a182d71e5face85",
       "version_major": 2,
       "version_minor": 0
      },
      "text/plain": [
       "010_00007.parquet:   0%|          | 0.00/2.15G [00:00<?, ?B/s]"
      ]
     },
     "metadata": {},
     "output_type": "display_data"
    },
    {
     "data": {
      "application/vnd.jupyter.widget-view+json": {
       "model_id": "d022872bcc894b19b3f589a582c4325b",
       "version_major": 2,
       "version_minor": 0
      },
      "text/plain": [
       "010_00008.parquet:   0%|          | 0.00/2.15G [00:00<?, ?B/s]"
      ]
     },
     "metadata": {},
     "output_type": "display_data"
    },
    {
     "data": {
      "application/vnd.jupyter.widget-view+json": {
       "model_id": "008b86ab9aff4ad78485de2990369b17",
       "version_major": 2,
       "version_minor": 0
      },
      "text/plain": [
       "010_00009.parquet:   0%|          | 0.00/2.15G [00:00<?, ?B/s]"
      ]
     },
     "metadata": {},
     "output_type": "display_data"
    },
    {
     "data": {
      "application/vnd.jupyter.widget-view+json": {
       "model_id": "70f85f5bf7464b4abdb40a343c819dc4",
       "version_major": 2,
       "version_minor": 0
      },
      "text/plain": [
       "011_00000.parquet:   0%|          | 0.00/2.15G [00:00<?, ?B/s]"
      ]
     },
     "metadata": {},
     "output_type": "display_data"
    },
    {
     "data": {
      "application/vnd.jupyter.widget-view+json": {
       "model_id": "7068c2c759c447b9acda11e9ff0100cc",
       "version_major": 2,
       "version_minor": 0
      },
      "text/plain": [
       "011_00001.parquet:   0%|          | 0.00/2.15G [00:00<?, ?B/s]"
      ]
     },
     "metadata": {},
     "output_type": "display_data"
    },
    {
     "data": {
      "application/vnd.jupyter.widget-view+json": {
       "model_id": "606182011d4d403bb752c8d509534792",
       "version_major": 2,
       "version_minor": 0
      },
      "text/plain": [
       "011_00002.parquet:   0%|          | 0.00/2.15G [00:00<?, ?B/s]"
      ]
     },
     "metadata": {},
     "output_type": "display_data"
    },
    {
     "data": {
      "application/vnd.jupyter.widget-view+json": {
       "model_id": "44e545cc88ec4e478a2df21498f649dd",
       "version_major": 2,
       "version_minor": 0
      },
      "text/plain": [
       "011_00003.parquet:   0%|          | 0.00/2.15G [00:00<?, ?B/s]"
      ]
     },
     "metadata": {},
     "output_type": "display_data"
    },
    {
     "data": {
      "application/vnd.jupyter.widget-view+json": {
       "model_id": "b4ee804a65094308900992afe6ac6b4e",
       "version_major": 2,
       "version_minor": 0
      },
      "text/plain": [
       "011_00004.parquet:   0%|          | 0.00/2.15G [00:00<?, ?B/s]"
      ]
     },
     "metadata": {},
     "output_type": "display_data"
    },
    {
     "data": {
      "application/vnd.jupyter.widget-view+json": {
       "model_id": "ef479ca9750848b3a3697b5ea0cb4822",
       "version_major": 2,
       "version_minor": 0
      },
      "text/plain": [
       "011_00005.parquet:   0%|          | 0.00/2.15G [00:00<?, ?B/s]"
      ]
     },
     "metadata": {},
     "output_type": "display_data"
    },
    {
     "data": {
      "application/vnd.jupyter.widget-view+json": {
       "model_id": "5bc390cb629a42ff9ac1fbfa079332a0",
       "version_major": 2,
       "version_minor": 0
      },
      "text/plain": [
       "011_00006.parquet:   0%|          | 0.00/2.15G [00:00<?, ?B/s]"
      ]
     },
     "metadata": {},
     "output_type": "display_data"
    },
    {
     "data": {
      "application/vnd.jupyter.widget-view+json": {
       "model_id": "493db7fc5df24927991a9547501252ce",
       "version_major": 2,
       "version_minor": 0
      },
      "text/plain": [
       "011_00007.parquet:   0%|          | 0.00/2.15G [00:00<?, ?B/s]"
      ]
     },
     "metadata": {},
     "output_type": "display_data"
    },
    {
     "data": {
      "application/vnd.jupyter.widget-view+json": {
       "model_id": "1135a1c8edb546588cda546f457b3453",
       "version_major": 2,
       "version_minor": 0
      },
      "text/plain": [
       "011_00008.parquet:   0%|          | 0.00/2.15G [00:00<?, ?B/s]"
      ]
     },
     "metadata": {},
     "output_type": "display_data"
    },
    {
     "data": {
      "application/vnd.jupyter.widget-view+json": {
       "model_id": "6aca5c04994044cf8586e1bcbf8ac037",
       "version_major": 2,
       "version_minor": 0
      },
      "text/plain": [
       "011_00009.parquet:   0%|          | 0.00/2.15G [00:00<?, ?B/s]"
      ]
     },
     "metadata": {},
     "output_type": "display_data"
    },
    {
     "data": {
      "application/vnd.jupyter.widget-view+json": {
       "model_id": "07df6ddef64142f2b4904fa6ce0c3724",
       "version_major": 2,
       "version_minor": 0
      },
      "text/plain": [
       "012_00000.parquet:   0%|          | 0.00/2.15G [00:00<?, ?B/s]"
      ]
     },
     "metadata": {},
     "output_type": "display_data"
    },
    {
     "data": {
      "application/vnd.jupyter.widget-view+json": {
       "model_id": "96ec60107dc8428fb6b6f6901de4e729",
       "version_major": 2,
       "version_minor": 0
      },
      "text/plain": [
       "012_00001.parquet:   0%|          | 0.00/2.15G [00:00<?, ?B/s]"
      ]
     },
     "metadata": {},
     "output_type": "display_data"
    },
    {
     "data": {
      "application/vnd.jupyter.widget-view+json": {
       "model_id": "9bc30e6638424a2e9cf8ea35e138b6db",
       "version_major": 2,
       "version_minor": 0
      },
      "text/plain": [
       "012_00002.parquet:   0%|          | 0.00/2.15G [00:00<?, ?B/s]"
      ]
     },
     "metadata": {},
     "output_type": "display_data"
    },
    {
     "data": {
      "application/vnd.jupyter.widget-view+json": {
       "model_id": "873e59bd409d492fb00df952e9f34284",
       "version_major": 2,
       "version_minor": 0
      },
      "text/plain": [
       "012_00003.parquet:   0%|          | 0.00/2.15G [00:00<?, ?B/s]"
      ]
     },
     "metadata": {},
     "output_type": "display_data"
    },
    {
     "data": {
      "application/vnd.jupyter.widget-view+json": {
       "model_id": "2084e39499a440b99d09fc4c9e872395",
       "version_major": 2,
       "version_minor": 0
      },
      "text/plain": [
       "012_00004.parquet:   0%|          | 0.00/2.15G [00:00<?, ?B/s]"
      ]
     },
     "metadata": {},
     "output_type": "display_data"
    },
    {
     "data": {
      "application/vnd.jupyter.widget-view+json": {
       "model_id": "adf5b2e3b02c4083a7e74d855917090b",
       "version_major": 2,
       "version_minor": 0
      },
      "text/plain": [
       "012_00005.parquet:   0%|          | 0.00/2.15G [00:00<?, ?B/s]"
      ]
     },
     "metadata": {},
     "output_type": "display_data"
    },
    {
     "data": {
      "application/vnd.jupyter.widget-view+json": {
       "model_id": "af05da6d2f5e4d6a9275a6e141524a3b",
       "version_major": 2,
       "version_minor": 0
      },
      "text/plain": [
       "012_00006.parquet:   0%|          | 0.00/2.15G [00:00<?, ?B/s]"
      ]
     },
     "metadata": {},
     "output_type": "display_data"
    },
    {
     "data": {
      "application/vnd.jupyter.widget-view+json": {
       "model_id": "ecfda7755a394e89a84135d8101a306b",
       "version_major": 2,
       "version_minor": 0
      },
      "text/plain": [
       "012_00007.parquet:   0%|          | 0.00/2.15G [00:00<?, ?B/s]"
      ]
     },
     "metadata": {},
     "output_type": "display_data"
    },
    {
     "data": {
      "application/vnd.jupyter.widget-view+json": {
       "model_id": "a34bdaf59d72496591695018e0b61074",
       "version_major": 2,
       "version_minor": 0
      },
      "text/plain": [
       "012_00008.parquet:   0%|          | 0.00/2.15G [00:00<?, ?B/s]"
      ]
     },
     "metadata": {},
     "output_type": "display_data"
    },
    {
     "data": {
      "application/vnd.jupyter.widget-view+json": {
       "model_id": "c051ef17feec466585b9721571ba66b8",
       "version_major": 2,
       "version_minor": 0
      },
      "text/plain": [
       "012_00009.parquet:   0%|          | 0.00/2.15G [00:00<?, ?B/s]"
      ]
     },
     "metadata": {},
     "output_type": "display_data"
    },
    {
     "data": {
      "application/vnd.jupyter.widget-view+json": {
       "model_id": "35f65d5476884acf86edf312fe22dc4a",
       "version_major": 2,
       "version_minor": 0
      },
      "text/plain": [
       "013_00000.parquet:   0%|          | 0.00/730M [00:00<?, ?B/s]"
      ]
     },
     "metadata": {},
     "output_type": "display_data"
    },
    {
     "data": {
      "application/vnd.jupyter.widget-view+json": {
       "model_id": "651f455557ac47d6a5b076bb55b61e65",
       "version_major": 2,
       "version_minor": 0
      },
      "text/plain": [
       "013_00001.parquet:   0%|          | 0.00/743M [00:00<?, ?B/s]"
      ]
     },
     "metadata": {},
     "output_type": "display_data"
    },
    {
     "data": {
      "application/vnd.jupyter.widget-view+json": {
       "model_id": "82cd196410d64e21bdbb12061d071e97",
       "version_major": 2,
       "version_minor": 0
      },
      "text/plain": [
       "013_00002.parquet:   0%|          | 0.00/720M [00:00<?, ?B/s]"
      ]
     },
     "metadata": {},
     "output_type": "display_data"
    },
    {
     "data": {
      "application/vnd.jupyter.widget-view+json": {
       "model_id": "501f10c15cac4e438a8ab25807e78d31",
       "version_major": 2,
       "version_minor": 0
      },
      "text/plain": [
       "013_00003.parquet:   0%|          | 0.00/702M [00:00<?, ?B/s]"
      ]
     },
     "metadata": {},
     "output_type": "display_data"
    },
    {
     "data": {
      "application/vnd.jupyter.widget-view+json": {
       "model_id": "87d7a072b9c14b07b378e1f2311c4399",
       "version_major": 2,
       "version_minor": 0
      },
      "text/plain": [
       "013_00004.parquet:   0%|          | 0.00/706M [00:00<?, ?B/s]"
      ]
     },
     "metadata": {},
     "output_type": "display_data"
    },
    {
     "data": {
      "application/vnd.jupyter.widget-view+json": {
       "model_id": "4580514d42264320830da55c847bec9b",
       "version_major": 2,
       "version_minor": 0
      },
      "text/plain": [
       "013_00005.parquet:   0%|          | 0.00/693M [00:00<?, ?B/s]"
      ]
     },
     "metadata": {},
     "output_type": "display_data"
    },
    {
     "data": {
      "application/vnd.jupyter.widget-view+json": {
       "model_id": "680065d2fc8b4a9e9c52694f915fe328",
       "version_major": 2,
       "version_minor": 0
      },
      "text/plain": [
       "013_00006.parquet:   0%|          | 0.00/758M [00:00<?, ?B/s]"
      ]
     },
     "metadata": {},
     "output_type": "display_data"
    },
    {
     "data": {
      "application/vnd.jupyter.widget-view+json": {
       "model_id": "1e6c9330bc4c438cbe2f67e591ec9940",
       "version_major": 2,
       "version_minor": 0
      },
      "text/plain": [
       "013_00007.parquet:   0%|          | 0.00/209M [00:00<?, ?B/s]"
      ]
     },
     "metadata": {},
     "output_type": "display_data"
    },
    {
     "data": {
      "application/vnd.jupyter.widget-view+json": {
       "model_id": "e42930930ea44900acd04f4acc4b0ac5",
       "version_major": 2,
       "version_minor": 0
      },
      "text/plain": [
       "013_00008.parquet:   0%|          | 0.00/673M [00:00<?, ?B/s]"
      ]
     },
     "metadata": {},
     "output_type": "display_data"
    },
    {
     "data": {
      "application/vnd.jupyter.widget-view+json": {
       "model_id": "ebe73a86dbdd42c0b51d9778f78df199",
       "version_major": 2,
       "version_minor": 0
      },
      "text/plain": [
       "013_00009.parquet:   0%|          | 0.00/711M [00:00<?, ?B/s]"
      ]
     },
     "metadata": {},
     "output_type": "display_data"
    },
    {
     "data": {
      "application/vnd.jupyter.widget-view+json": {
       "model_id": "ecea2c280a4847bfa02ab60b1013550e",
       "version_major": 2,
       "version_minor": 0
      },
      "text/plain": [
       "Generating train split:   0%|          | 0/97270686 [00:00<?, ? examples/s]"
      ]
     },
     "metadata": {},
     "output_type": "display_data"
    },
    {
     "data": {
      "application/vnd.jupyter.widget-view+json": {
       "model_id": "e0d5c72a28d743968a5c4e9f10d1e697",
       "version_major": 2,
       "version_minor": 0
      },
      "text/plain": [
       "Loading dataset shards:   0%|          | 0/984 [00:00<?, ?it/s]"
      ]
     },
     "metadata": {},
     "output_type": "display_data"
    }
   ],
   "source": [
    "import os\n",
    "from datasets import load_dataset\n",
    "\n",
    "\n",
    "local_dir =  \"data\" \n",
    "DATA_CACHE_DIR = os.path.join(\"/home/ubuntu/gpt-3-train\", local_dir)\n",
    "os.makedirs(DATA_CACHE_DIR, exist_ok=True)\n",
    "\n",
    "# download the dataset\n",
    "dataset = load_dataset(\"HuggingFaceFW/fineweb-edu\", \"sample-100BT\", split=\"train\", cache_dir=DATA_CACHE_DIR)\n"
   ]
  },
  {
   "cell_type": "markdown",
   "id": "6a7822d0",
   "metadata": {},
   "source": [
    "## Setup\n"
   ]
  },
  {
   "cell_type": "code",
   "execution_count": 10,
   "id": "fad3ed75-c2ed-4544-b2e9-0ec28799af4e",
   "metadata": {},
   "outputs": [
    {
     "name": "stdout",
     "output_type": "stream",
     "text": [
      "\n",
      "sytem statistics:\n",
      "-----------------\n",
      "cpu count: 64\n",
      "\n",
      "dataset statistics\n",
      "------------------\n",
      "documents: 97,270,686\n",
      "docs_per_cpu: 1,519,855\n"
     ]
    }
   ],
   "source": [
    "import time\n",
    "import math\n",
    "from functools import partial\n",
    "import concurrent.futures as cf\n",
    "\n",
    "import numpy as np\n",
    "\n",
    "import tiktoken\n",
    "\n",
    "num_cpus = os.cpu_count()\n",
    "print(f\"\"\"\n",
    "sytem statistics:\n",
    "-----------------\n",
    "cpu count: {num_cpus}\"\"\")\n",
    "total_docs = len(dataset)\n",
    "docs_per_cpu = int(math.ceil(total_docs/num_cpus))\n",
    "print(f\"\"\"\n",
    "dataset statistics\n",
    "------------------\n",
    "documents: {total_docs:,}\n",
    "docs_per_cpu: {docs_per_cpu:,}\"\"\")\n",
    "\n",
    "enc = tiktoken.get_encoding(\"gpt2\")"
   ]
  },
  {
   "cell_type": "markdown",
   "id": "841c20d4",
   "metadata": {},
   "source": [
    "## Dummy Preprocessing Operation"
   ]
  },
  {
   "cell_type": "code",
   "execution_count": 14,
   "id": "caa2a0c4-85d4-445a-856b-3abce9a13653",
   "metadata": {},
   "outputs": [
    {
     "name": "stdout",
     "output_type": "stream",
     "text": [
      "processed documents in 987.50 seconds\n",
      "total tokens: 100,069,194,385\n",
      "total documents: 97,270,686\n"
     ]
    }
   ],
   "source": [
    "def count_tokens(dataset, enc, idx):\n",
    "    tokens = enc.encode_ordinary(dataset[idx]['text'])\n",
    "    return len(tokens)\n",
    "\n",
    "f = partial(count_tokens, dataset, enc)\n",
    "\n",
    "with cf.ProcessPoolExecutor(max_workers = num_cpus) as ex:\n",
    "    start = time.time()\n",
    "    documents = 0\n",
    "    tokens = 0\n",
    "    \n",
    "    for result in ex.map(f, range(len(dataset)), chunksize=docs_per_cpu//10):\n",
    "        documents += 1\n",
    "        tokens += result\n",
    "        documents % 1e4 == 0 and print(f\"processed {documents:,}\", end=\"\\r\")\n",
    "        \n",
    "    print(f\"processed documents in {time.time()-start:0.2f} seconds\")\n",
    "    print(f\"total tokens: {tokens:,}\")\n",
    "    print(f\"total documents: {documents:,}\")   \n",
    "    assert(documents == total_docs)"
   ]
  },
  {
   "cell_type": "markdown",
   "id": "ebfd2e88",
   "metadata": {},
   "source": [
    "## Actual Preprocessing Operation"
   ]
  },
  {
   "cell_type": "code",
   "execution_count": null,
   "id": "6f9802fa-cb02-4f92-a39c-0a0d0cadd11f",
   "metadata": {},
   "outputs": [],
   "source": [
    "SHARD_SIZE = int(1e8)\n",
    "output_dir = \"processed\"\n",
    "os.makedirs(os.path.join(DATA_CACHE_DIR, output_dir), exist_ok=True)\n",
    "\n",
    "def write_shard(shard, shard_idx):\n",
    "    if shard_idx % 100 == 0:\n",
    "        split = \"valid\"\n",
    "    else:\n",
    "        split = \"train\"\n",
    "    \n",
    "    \n",
    "    f_path = os.path.join(DATA_CACHE_DIR, output_dir, f\"fineweb_edu_{split}_{shard_idx}\")\n",
    "    np.savez(f_path, shard)\n",
    "\n",
    "def tokenize(dataset, encoder, idx):\n",
    "    eot = encoder._special_tokens['<|endoftext|>']\n",
    "    tokens = [eot] + encoder.encode_ordinary(dataset[idx]['text'])\n",
    "    return tokens\n",
    "\n",
    "f = partial(tokenize, dataset, enc)\n",
    "\n",
    "with cf.ProcessPoolExecutor(max_workers = num_cpus) as ex:\n",
    "    start = time.time()\n",
    "    \n",
    "    docs_processed = 0\n",
    "    shards_written = 0\n",
    "    tokens_generated = 0\n",
    "    shard_token_count = 0\n",
    "\n",
    "    shard = np.empty((SHARD_SIZE,), dtype=np.uint16)\n",
    "    \n",
    "    for tokens in ex.map(f, range(len(dataset)), chunksize=docs_per_cpu//10):\n",
    "        docs_processed += 1\n",
    "        tokens_generated += len(tokens)\n",
    "\n",
    "        if docs_processed % 1e4 == 0:\n",
    "            print(f\"processed {docs_processed:,} documents | generated {tokens_generated:,} tokens | wrote {shards_written} shards\", end=\"\\r\")\n",
    "\n",
    "        if shard_token_count + len(tokens) < SHARD_SIZE:\n",
    "            shard[shard_token_count:shard_token_count + len(tokens)] = tokens \n",
    "            shard_token_count += len(tokens)\n",
    "        else:\n",
    "            remainder = SHARD_SIZE - shard_token_count\n",
    "            shard[shard_token_count:shard_token_count + remainder] = tokens[:remainder]\n",
    "            write_shard(shard, shards_written)\n",
    "            shards_written += 1\n",
    "            \n",
    "            shard[:len(tokens) - remainder] = tokens[remainder:]\n",
    "            shard_token_count = len(tokens) - remainder\n",
    "    \n",
    "    write_shard(shard, shards_written) #write the final shard\n",
    "    shards_written += 1\n",
    "    print(f\"processed {docs_processed:,} documents | generated {tokens_generated:,} tokens | wrote {shards_written} shards\", end=\"\\r\")        \n",
    "    print(f\"finished in {time.time()-start:.2f} seconds\")\n",
    "    assert(docs_processed == total_docs)\n",
    "    print(f\"total shards written: {shards_written:,}\")\n",
    "    print(f\"total tokens: {tokens_generated:,}\")"
   ]
  },
  {
   "cell_type": "code",
   "execution_count": null,
   "id": "51859d6c-9ad0-4203-9bb3-acf87b9c185f",
   "metadata": {},
   "outputs": [],
   "source": []
  }
 ],
 "metadata": {
  "kernelspec": {
   "display_name": "Python 3.12.8 (jaxpt)",
   "language": "python",
   "name": "jaxpt"
  },
  "language_info": {
   "codemirror_mode": {
    "name": "ipython",
    "version": 3
   },
   "file_extension": ".py",
   "mimetype": "text/x-python",
   "name": "python",
   "nbconvert_exporter": "python",
   "pygments_lexer": "ipython3",
   "version": "3.12.8"
  }
 },
 "nbformat": 4,
 "nbformat_minor": 5
}
